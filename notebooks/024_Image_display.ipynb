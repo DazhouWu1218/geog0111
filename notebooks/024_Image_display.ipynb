{
 "cells": [
  {
   "cell_type": "markdown",
   "metadata": {},
   "source": [
    "<img alt='UCL' src=\"images/ucl_logo.png\" align='center'>\n",
    "\n",
    "\n",
    "[<img src=\"images/noun_post_2109127.svg\" width=\"50\" align='right'>](016_Python_for.ipynb)\n",
    "[<img src=\"images/noun_pre_2109128.svg\" width=\"50\" align='right'>](018_Python_xxx.ipynb)\n",
    "\n"
   ]
  },
  {
   "cell_type": "markdown",
   "metadata": {},
   "source": [
    "#  Viewing Images"
   ]
  },
  {
   "cell_type": "markdown",
   "metadata": {},
   "source": [
    "\n",
    "### Purpose\n",
    "\n",
    "We have seen from [021 Streams](021_Streams.ipynb) and [022 Read write files](022_Read_write_files.ipynb) how to access both text and binary datasets, either from the local file system or from a URL and in [023 Plotting](023_Plotting.ipynb) how to use [`matplotlib`](https://matplotlib.org) for plotting graphs. \n",
    "\n",
    "In this section, we will learn how to view images using [`matplotlib`](https://matplotlib.org/3.3.1/tutorials/introductory/images.html).\n",
    "\n",
    "You might follow these notes up by looking at the Python package [`folium`](https://python-visualization.github.io/folium/) for interactive displays.\n",
    "\n",
    "### Prerequisites\n",
    "\n",
    "You will need some understanding of the following:\n",
    "\n",
    "\n",
    "* [001 Using Notebooks](001_Notebook_use.ipynb)\n",
    "* [002 Unix](002_Unix.ipynb) with a good familiarity with the UNIX commands we have been through.\n",
    "* [003 Getting help](003_Help.ipynb)\n",
    "* [010 Variables, comments and print()](010_Python_Introduction.ipynb)\n",
    "* [011 Data types](011_Python_data_types.ipynb) \n",
    "* [012 String formatting](012_Python_strings.ipynb)\n",
    "* [013_Python_string_methods](013_Python_string_methods.ipynb)\n",
    "* [020_Python_files](020_Python_files.ipynb)\n",
    "* [021 Streams](021_Streams.ipynb)\n",
    "* [022 Read write files](022_Read_write_files.ipynb)\n",
    "* [023 Plotting](023_Plotting.ipynb)\n"
   ]
  },
  {
   "cell_type": "markdown",
   "metadata": {},
   "source": [
    "## Read and plot a dataset\n",
    "\n",
    "\n",
    "### MODIS\n",
    "\n",
    "We have seen in [022 Read write files](022_Read_write_files.ipynb#read-and-write-binary-data) how we can access a MODIS dataset. "
   ]
  },
  {
   "cell_type": "code",
   "execution_count": 1,
   "metadata": {
    "code_folding": [],
    "scrolled": false
   },
   "outputs": [],
   "source": [
    "from  geog0111.modis import Modis\n",
    "\n",
    "kwargs = {\n",
    "    'product'    : 'MCD15A3H',\n",
    "    'tile'       : 'h17v03',\n",
    "}\n",
    "\n",
    "modis = Modis(**kwargs)\n",
    "url = modis.get_url(year=\"2020\",month=\"01\",day=\"01\")[0]\n",
    "data = modis.get_data(2020,1)\n"
   ]
  },
  {
   "cell_type": "code",
   "execution_count": null,
   "metadata": {
    "scrolled": false
   },
   "outputs": [],
   "source": [
    "from  geog0111.modis import Modis\n",
    "\n",
    "kwargs = {\n",
    "    'sds'        : ['Sur_refl4','Sur_refl3','Sur_refl2'],\n",
    "    'product'    : 'MCD19A1',\n",
    "    'tile'       : 'h17v03',\n",
    "}\n",
    "\n",
    "modis = Modis(**kwargs)\n",
    "#url = modis.get_url(year=\"2020\",month=\"01\",day=\"01\")[0]\n",
    "data = modis.get_data(2020,150)\n"
   ]
  },
  {
   "cell_type": "code",
   "execution_count": null,
   "metadata": {
    "scrolled": false
   },
   "outputs": [],
   "source": [
    "import numpy as np\n",
    "d = np.array([data.items()])"
   ]
  },
  {
   "cell_type": "code",
   "execution_count": null,
   "metadata": {},
   "outputs": [],
   "source": [
    "data['Sur_refl4'][0]"
   ]
  },
  {
   "cell_type": "code",
   "execution_count": null,
   "metadata": {},
   "outputs": [],
   "source": [
    "import pylab as plt\n",
    "i = 4\n",
    "plt.imshow(np.array([data['Sur_refl4'][i],data['Sur_refl3'][i],data['Sur_refl2'][i]]).T)"
   ]
  },
  {
   "cell_type": "markdown",
   "metadata": {},
   "source": [
    "We can similarly use `modis.get_data(year,doy)` to return the interpreted dataset for a given year and day of year (`doy`) in a similar manner to [Exercise 3 in 022 Read write files](022_Read_write_files.ipynb#Exercise-3):"
   ]
  },
  {
   "cell_type": "code",
   "execution_count": null,
   "metadata": {},
   "outputs": [],
   "source": [
    "from  geog0111.modis import Modis\n",
    "\n",
    "kwargs = {\n",
    "    'product'    : 'MCD15A3H',\n",
    "    'tile'       : 'h17v03',\n",
    "}\n",
    "\n",
    "modis = Modis(**kwargs)\n",
    "data = modis.get_data(2019,1+30*4)\n",
    "\n",
    "# loop over dictionary items\n",
    "for k,v in data.items():\n",
    "    # do some neat formatting on k\n",
    "    print(f'{k:<20s}: {v.shape}')"
   ]
  },
  {
   "cell_type": "markdown",
   "metadata": {},
   "source": [
    "So any of these datasets, `data[Fpar_500m]`, `data[Lai_500m]` are two dimensional datasets (`(2400, 2400)`) that we might display as images. For example `data[Lai_500m]`.\n",
    "\n",
    "We follow much the same recipe as for [plotting line graphs](023_Plotting.ipynb), but instead of using `axs.plot()` we use `axs.imshow()`. Further, we can set the subplot title with `axs.set_title(k)` as before. We can usefully include a colour wedge with the plot with `fig.colorbar(im, ax=axs)`.\n",
    "\n",
    "You should generally use `interpolation=None` when plotting an image dataset as a measurement (e.g. a remote sensing dataset), otherwise it may be interpolated."
   ]
  },
  {
   "cell_type": "code",
   "execution_count": null,
   "metadata": {},
   "outputs": [],
   "source": [
    "import matplotlib.pyplot as plt\n",
    "\n",
    "k = 'Lai_500m'\n",
    "name = f'{kwargs[\"product\"]}'\n",
    "\n",
    "# plot size \n",
    "x_size,y_size = 8,6\n",
    "\n",
    "fig, axs = plt.subplots(1,1,figsize=(x_size,y_size))\n",
    "# set the figure title\n",
    "fig.suptitle(name)\n",
    "\n",
    "# plot image data\n",
    "im = axs.imshow(data[k],interpolation=None)\n",
    "axs.set_title(k)\n",
    "fig.colorbar(im, ax=axs)"
   ]
  },
  {
   "cell_type": "markdown",
   "metadata": {
    "solution2": "shown",
    "solution2_first": true
   },
   "source": [
    "#### Exercise 1\n",
    "\n",
    "* Plots the 4 datasets `data[Lai_500m]`, `data[LaiStdDev_500m]`, `data[Fpar_500m]`, `data[FparStdDev_500m]` as subplots in a 2 x 2 shape.\n",
    "\n",
    "Hint: Use a loop for the keys. Set up the 2 x 2 subplots with:\n",
    "\n",
    "    fig, axs = plt.subplots(2,2,figsize=(x_size,y_size))\n",
    "    axs = axs.flatten()\n",
    "    \n",
    "then you can refer to the subplot axes as `ax[0]`, `ax[1]`, `ax[2]` and `ax[3]` when you loop over the keys. Don't forget to increase `x_size,y_size` appropriately."
   ]
  },
  {
   "cell_type": "code",
   "execution_count": null,
   "metadata": {
    "solution2": "shown"
   },
   "outputs": [],
   "source": [
    "# ANSWER \n",
    "from  geog0111.modis import Modis\n",
    "import matplotlib.pyplot as plt\n",
    "\n",
    "kwargs = {\n",
    "    'product'    : 'MCD15A3H',\n",
    "    'tile'       : 'h17v03',\n",
    "}\n",
    "\n",
    "modis = Modis(**kwargs)\n",
    "data = modis.get_data(2019,1+30*4)\n",
    "\n",
    "# this is mnost neatly done with a \n",
    "# loop over the keys we want\n",
    "klist = ['Lai_500m','LaiStdDev_500m','Fpar_500m','FparStdDev_500m']\n",
    "\n",
    "name = f'{kwargs[\"product\"]}'\n",
    "# plot size \n",
    "x_size,y_size = 16,12\n",
    "\n",
    "fig, axs = plt.subplots(2,2,figsize=(x_size,y_size))\n",
    "axs = axs.flatten()\n",
    "# set the figure title\n",
    "fig.suptitle(name)\n",
    "\n",
    "# the loop\n",
    "for i,k in enumerate(klist):\n",
    "    # plot image data\n",
    "    im = axs[i].imshow(data[k],interpolation=None)\n",
    "    axs[i].set_title(k)\n",
    "    fig.colorbar(im, ax=axs[i])"
   ]
  },
  {
   "cell_type": "markdown",
   "metadata": {},
   "source": [
    "## Colour images\n",
    "\n",
    "The datasets we displayed above are a single channel of spatial information. But sometimes we want to display colour from three bands of data."
   ]
  },
  {
   "cell_type": "markdown",
   "metadata": {},
   "source": [
    "## Colourmaps\n",
    "\n",
    "As you would expect, you can customise your plots. We illustrate this by changing the colourmap used here in a pseudocolour display of the data. For some others, [please see the matplotlib tutorial](https://matplotlib.org/tutorials/introductory/images.html).\n",
    "\n",
    "There are various ways to set the colour map, but when working with sub-images, trhe easiest is of the form:\n",
    "\n",
    "    im = ax.imshow(data)\n",
    "    im.set_cmap(c)\n",
    "\n",
    "where `c` here is some colourmap.\n",
    "\n",
    "For further discussions on colourmaps and options see the [relevant tutorial]( \n",
    "https://matplotlib.org/3.1.1/tutorials/colors/colormaps.html) and the [colour map reference](\n",
    "https://matplotlib.org/3.1.1/gallery/color/colormap_reference.html)."
   ]
  },
  {
   "cell_type": "code",
   "execution_count": null,
   "metadata": {},
   "outputs": [],
   "source": [
    "import matplotlib.pyplot as plt\n",
    "\n",
    "k = 'Lai_500m'\n",
    "name = f'{kwargs[\"product\"]}'\n",
    "\n",
    "# plot size \n",
    "x_size,y_size = 16,12\n",
    "\n",
    "fig, axs = plt.subplots(2,2,figsize=(x_size,y_size))\n",
    "axs = axs.flatten()\n",
    "\n",
    "# set the figure title\n",
    "fig.suptitle(name)\n",
    "\n",
    "cmaps = ['Greys','gray','rainbow','seismic']\n",
    "\n",
    "for i,c in enumerate(cmaps):\n",
    "    # plot image data\n",
    "    im = axs[i].imshow(data[k],interpolation=None)\n",
    "    im.set_cmap(c)\n",
    "    axs[i].set_title(c)\n",
    "    fig.colorbar(im, ax=axs[i])"
   ]
  },
  {
   "cell_type": "markdown",
   "metadata": {},
   "source": [
    "## Summary\n",
    "\n",
    "In this section, we have learned how to plot graphs from datasets we have read in or downloaded from the web. We have concentrated in simple line graphs, with possibly multiple sub-plots here, although there are many other types of graph you may consider. \n",
    "\n",
    "The [`matplotlib` gallery](https://matplotlib.org/3.3.1/gallery/index.html) provides a useful starting point for other types of plot. You might also consider the Python packages [`bokeh`](https://bokeh.org/) and [`seaborn`](https://seaborn.pydata.org/) for improved visualisation and interaction."
   ]
  },
  {
   "cell_type": "code",
   "execution_count": null,
   "metadata": {
    "scrolled": true,
    "solution2": "hidden"
   },
   "outputs": [],
   "source": [
    "# ANSWER 3\n",
    "# Plot the pulsar samples in a series of 80 sub-plots.\n",
    "import matplotlib.pyplot as plt\n",
    "\n",
    "# need to play with this to get it right\n",
    "x_size,y_size = 15,20\n",
    "\n",
    "# get the m onth names from columns\n",
    "samples = df.columns\n",
    "fig,axs = plt.subplots(len(df.columns),1,figsize=(x_size,y_size))\n",
    "\n",
    "# use enumerate in the loop, to get the index\n",
    "for i,m in enumerate(samples):\n",
    "    axs[i].plot(df[m],'k')\n",
    "    axs[i].axis('off')"
   ]
  },
  {
   "cell_type": "markdown",
   "metadata": {},
   "source": [
    "\n",
    "[<img src=\"images/noun_post_2109127.svg\" width=\"50\" align='right'>](016_Python_for.ipynb)\n",
    "[<img src=\"images/noun_pre_2109128.svg\" width=\"50\" align='right'>](014_Python_groups.ipynb)\n"
   ]
  }
 ],
 "metadata": {
  "kernelspec": {
   "display_name": "Python 3",
   "language": "python",
   "name": "python3"
  },
  "language_info": {
   "codemirror_mode": {
    "name": "ipython",
    "version": 3
   },
   "file_extension": ".py",
   "mimetype": "text/x-python",
   "name": "python",
   "nbconvert_exporter": "python",
   "pygments_lexer": "ipython3",
   "version": "3.7.8"
  }
 },
 "nbformat": 4,
 "nbformat_minor": 4
}
