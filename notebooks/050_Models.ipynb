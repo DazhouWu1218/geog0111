{
 "cells": [
  {
   "cell_type": "markdown",
   "metadata": {},
   "source": [
    "\n",
    "<img alt='UCL' src=\"images/ucl_logo.png\" align='center'>\n",
    "\n",
    "\n",
    "\n",
    "\n",
    "[<img src=\"images/noun_post_2109127.svg\" width=\"50\" align='right'>](051_Model_Fitting.ipynb)\n",
    "[<img src=\"images/noun_pre_2109128.svg\" width=\"50\" align='right'>](043_Weighted_interpolation.ipynb)\n",
    "\n"
   ]
  },
  {
   "cell_type": "markdown",
   "metadata": {},
   "source": [
    "# 050 Models\n"
   ]
  },
  {
   "cell_type": "markdown",
   "metadata": {},
   "source": [
    "## Introduction\n",
    "\n",
    "In this session, we will consider the idea of a model in (Environmental) Science and discuss some examples. The material in this section brings together a lot of the techniques we have dealt with in previous sessions, so you should make sure you are up to speed with concepts like array processing, graph plotting and writing Python functions and scripts before attempting this.\n",
    "\n",
    "You will need to understand the material in this section to be able to complete the second half of the submitted coursework.\n",
    "\n",
    "## Prerequisites\n",
    "\n",
    "You will need a good understanding of previous topics involving [`np/mgrid`](031_Numpy.ipynb#np.linspace,-np.arange,-np.mgrid) and [`np.newaxis`](032_More_numpy.ipynb#Reconciling-arrays:-np.newaxis). You should by know be familiar with other more basic material. \n"
   ]
  },
  {
   "cell_type": "markdown",
   "metadata": {},
   "source": [
    "## Models \n",
    "\n",
    "We can think of a model as a 'process' box encapsulating our understanding, or a proposal for our understanding, of some process. Two examples we will cover later are:\n",
    "\n",
    "* a descriptive model of vegetation phenology\n",
    "* a model of snow-melt\n",
    "\n",
    "Such models make an *output prediction* will be some variable, or set of variables. For our two example models, these will be:\n",
    "\n",
    "* LAI as a function of time\n",
    "* river flow resulting from snow-melt\n",
    "\n",
    "The **outputs** depend on the mechanics of our model and:\n",
    "\n",
    "* some set of **driving data** (in our two models this will be simply time, and time and temperature, respectively) \n",
    "* some model parameters\n",
    "\n",
    "The model parameters control the operation of the model. These could be related to the type of vegetation for a phenology model, or terms such as the thickness of snowpack in the case of a snow-melt model. Most often, the parameters will describe *states* and *rates*, for example, the current amount of water in a snowpack (state) or the rate at which water is released from the snowpack into runoff (rate)."
   ]
  },
  {
   "cell_type": "markdown",
   "metadata": {},
   "source": [
    "![model](images/parameters1.png)"
   ]
  },
  {
   "cell_type": "markdown",
   "metadata": {},
   "source": [
    "We will generally have access to the driving data for our model, and we will have some set of measurements that correspond to the output, but we may not know the values of the parameters to use."
   ]
  },
  {
   "cell_type": "markdown",
   "metadata": {},
   "source": [
    "![model](images/parameters2.png)"
   ]
  },
  {
   "cell_type": "markdown",
   "metadata": {},
   "source": [
    "How can we use this to provide an estimate of the model parameters? We could make some educated guesses, based on previous experience with the model in different situations ('expert opinion'), and we might also be able to provide reasonable bounds for the parameters, again either based on previous experience with the model or sometimes simply from physical limits (e.g. some parameters cannot be negative). \n",
    "\n",
    "What we really want is a more objective way of estimating the parameters. This involves parameter optimisation, which is a whole field of science. We cannot cover that in this course, but we can introduce some of the main ideas to use in our codes.\n",
    "\n",
    "Before moving on to more 'realistic' models, let's build a simple example model `model` we can learn from. \n",
    "\n",
    "This has two parameters `p[0]` and `p[0]` and a driver that represents time:"
   ]
  },
  {
   "cell_type": "code",
   "execution_count": 1,
   "metadata": {},
   "outputs": [],
   "source": [
    "# simple model \n",
    "def model(driver,param):\n",
    "    '''2-parameter quadratic model with noise'''\n",
    "    return param[0] + param[1] * driver * driver"
   ]
  },
  {
   "cell_type": "markdown",
   "metadata": {},
   "source": [
    "We will generate a dataset `measure` at time samples `tmdriver` to represent our measurements, We generate them with the model with a set of parameters and some additive noise. We will also generate a set of weights for the observations, which we will use to indicate their reliability:"
   ]
  },
  {
   "cell_type": "code",
   "execution_count": 2,
   "metadata": {},
   "outputs": [],
   "source": [
    "import numpy as np\n",
    "\n",
    "# time driver every 4 days for measurement\n",
    "tmdriver = np.arange(0,365,4,dtype=np.int)\n",
    "# generate a pseudo-measurement\n",
    "p0 = np.array([0.4,0.0002])\n",
    "measure = model(tmdriver,p0) + 5*(np.random.random(tmdriver.shape)-0.5)\n",
    "# just make up some weights for this exercise\n",
    "measure_weight = (2 + np.random.random(tmdriver.shape))/4\n",
    "# convert to std for plotting as previously\n",
    "std = 1./np.sqrt(measure_weight) * 1.96"
   ]
  },
  {
   "cell_type": "markdown",
   "metadata": {},
   "source": [
    "Now we forget that we know the parameters, make a guess that they are `[0.3,0.0001]`, and use the model to make a prediction `output`. Note that `output` exists every day, whereas the measurements are only every 4 days."
   ]
  },
  {
   "cell_type": "code",
   "execution_count": 3,
   "metadata": {
    "scrolled": false
   },
   "outputs": [
    {
     "name": "stdout",
     "output_type": "stream",
     "text": [
      "measurements: tmdriver shape (92,)\n",
      "model output: tdriver shape  (365,)\n"
     ]
    },
    {
     "data": {
      "image/png": "[encoded data removed]",
      "text/plain": [
       "<Figure size 720x216 with 1 Axes>"
      ]
     },
     "metadata": {
      "needs_background": "light"
     },
     "output_type": "display_data"
    }
   ],
   "source": [
    "import matplotlib.pyplot as plt\n",
    "\n",
    "# time driver every day\n",
    "tdriver = np.arange(0,365,1,dtype=np.int)\n",
    "# guess parameters\n",
    "p = np.array([0.3,0.0001])\n",
    "output  = model(tdriver,p)\n",
    "\n",
    "\n",
    "# plot\n",
    "fig, axs = plt.subplots(1,1,figsize=(10,3))\n",
    "axs.set_xlim(0,365)\n",
    "axs.plot(tdriver,output,'k',label='modelled values')\n",
    "axs.errorbar(tmdriver,measure,yerr=std,ls='none')\n",
    "axs.plot(tmdriver,measure,'r+',label='measured values')\n",
    "# set legend now\n",
    "axs.legend(loc='best')\n",
    "axs.set_xlabel(f'time / days')\n",
    "\n",
    "print(f'measurements: tmdriver shape {tmdriver.shape}')\n",
    "print(f'model output: tdriver shape  {tdriver.shape}')"
   ]
  },
  {
   "cell_type": "markdown",
   "metadata": {},
   "source": [
    "We can see right away that there is a mis-match between the model outputs and the measurements."
   ]
  },
  {
   "cell_type": "markdown",
   "metadata": {},
   "source": [
    "### discrepancy and optimisation\n",
    "\n",
    "We have a set of *observations* that correspond to the model outputs at some time samples. \n",
    "\n",
    "A simple operation we can do is to compare these then. We might suppose that a set of parameters that provides a lower discrepancy between observations and modelled values (we will often call this error) is *objectively better* than one with a poorer match. In that sense, what we would need to do would be to search for a set of parameters that which has the minimum error. Our search for parameters will be guided by any bounds we set. Then all we need to do is write some computer code that considers different values of the parameters and reports on the best (the optimal) match.\n"
   ]
  },
  {
   "cell_type": "markdown",
   "metadata": {},
   "source": [
    "![model](images/parameters3.png)"
   ]
  },
  {
   "cell_type": "markdown",
   "metadata": {},
   "source": [
    "That is a reasonable approach, and one we will take in these notes. We should be aware that when we do Science however, we need to take into account uncertainty, and also that there might be other constraints we want to put on the problem.\n",
    "\n",
    "Uncertainty manifests itself at all stages of modelling and optimisation: the model itself will be uncertain, because of its nature as an abstraction of some process; the drivers will often be uncertain in their ability to the conditions at the actual place and time we are doing the modelling; and the measurements will be uncertain. We have treated uncertainty in other sections of these notes by applying a weight to observations, and we can take the same approach here. When we calculate error, for instance as the root mean square error between model predictions (output) and measurement, we can weight this to give a weighted error."
   ]
  },
  {
   "cell_type": "markdown",
   "metadata": {},
   "source": [
    "Before we can calculate the (weighted) error, we need to treat the outputs so that they match the time samples of the measurements. We can either match the observations to the measurements, or the measurements to the observations. The best approach with depend on circumstances, but it is often easiest to match the measurements to the observations:"
   ]
  },
  {
   "cell_type": "code",
   "execution_count": 4,
   "metadata": {},
   "outputs": [],
   "source": [
    "# tmdriver time locations for measurements\n",
    "# tdriver time locations for model outputs\n",
    "\n",
    "# reconcile the model outputs \n",
    "# and measurements into same shape\n",
    "# find the indices of the measurements\n",
    "location_array = np.zeros_like(measure,dtype=np.int)\n",
    "# populate location_array with indices of where measurement is\n",
    "for i,t in enumerate(tmdriver):\n",
    "    location = np.where(tdriver == t)\n",
    "    if len(location[0]):\n",
    "        location_array[i] = location[0][0]"
   ]
  },
  {
   "cell_type": "code",
   "execution_count": 5,
   "metadata": {},
   "outputs": [],
   "source": [
    "# now mapping output to sample_output is easy\n",
    "sample_output = output[location_array]"
   ]
  },
  {
   "cell_type": "code",
   "execution_count": 6,
   "metadata": {},
   "outputs": [
    {
     "name": "stdout",
     "output_type": "stream",
     "text": [
      "RMSE: 3.8529648592701515 for parameters [3.e-01 1.e-04]\n"
     ]
    }
   ],
   "source": [
    "# now we can calculate the weighted discrepency \n",
    "error = (sample_output - measure)*measure_weight\n",
    "error2 = error**2\n",
    "rmse = np.sqrt(np.mean(error2))\n",
    "print(f'RMSE: {rmse} for parameters {p}')"
   ]
  },
  {
   "cell_type": "code",
   "execution_count": 7,
   "metadata": {},
   "outputs": [
    {
     "name": "stdout",
     "output_type": "stream",
     "text": [
      "measurements: measure shape (92,)\n",
      "model output: output shape  (365,)\n",
      "sample_output shape          (92,)\n"
     ]
    },
    {
     "data": {
      "image/png": "[encoded data removed]",
      "text/plain": [
       "<Figure size 720x216 with 1 Axes>"
      ]
     },
     "metadata": {
      "needs_background": "light"
     },
     "output_type": "display_data"
    }
   ],
   "source": [
    "# plot\n",
    "fig, axs = plt.subplots(1,1,figsize=(10,3))\n",
    "axs.set_xlim(0,365)\n",
    "axs.plot(tmdriver,sample_output,'r+',label='sampled modelled values')\n",
    "axs.plot(tmdriver,measure,'r+',label='measured values')\n",
    "# plot the discrepencies in orange\n",
    "axs.errorbar(tmdriver,measure,\\\n",
    "             yerr=[measure-measure,sample_output-measure],ls='none',\\\n",
    "             label='error')\n",
    "\n",
    "# set legend now\n",
    "axs.legend(loc='best')\n",
    "axs.set_xlabel(f'time / days')\n",
    "\n",
    "print(f'measurements: measure shape {measure.shape}')\n",
    "print(f'model output: output shape  {output.shape}')\n",
    "print(f'sample_output shape          {sample_output.shape}')"
   ]
  },
  {
   "cell_type": "code",
   "execution_count": 8,
   "metadata": {},
   "outputs": [
    {
     "data": {
      "text/plain": [
       "[<matplotlib.lines.Line2D at 0x7fafe047e790>]"
      ]
     },
     "execution_count": 8,
     "metadata": {},
     "output_type": "execute_result"
    },
    {
     "data": {
      "image/png": "[encoded data removed]",
      "text/plain": [
       "<Figure size 360x360 with 1 Axes>"
      ]
     },
     "metadata": {
      "needs_background": "light"
     },
     "output_type": "display_data"
    }
   ],
   "source": [
    "# scatter plot\n",
    "fig, axs = plt.subplots(1,1,figsize=(5,5))\n",
    "# max value over all\n",
    "maxvalue = np.array([measure,sample_output]).max()\n",
    "axs.set_xlim(0,maxvalue)\n",
    "axs.set_ylim(0,maxvalue)\n",
    "\n",
    "axs.plot(measure,sample_output,'r+')\n",
    "axs.errorbar(measure,sample_output,yerr=std,ls='none')\n",
    "\n",
    "axs.set_ylabel(f'model output')\n",
    "axs.set_xlabel(f'measurement')\n",
    "# 1:1 line\n",
    "axs.plot([0,maxvalue],[0,maxvalue],'k')"
   ]
  },
  {
   "cell_type": "markdown",
   "metadata": {},
   "source": [
    "### Varying the parameters\n",
    "\n",
    "We have seen how, once we have aligned the model outputs and observations, we can calculate a weighted measure if error, RMSE here. So, so some given set of measurements, a model, and a set of model parameters, we can calculate the error:"
   ]
  },
  {
   "cell_type": "markdown",
   "metadata": {},
   "source": [
    "![model](images/parameters4.png)\n",
    "\n",
    "Re-generate the set of measurements:"
   ]
  },
  {
   "cell_type": "code",
   "execution_count": 6,
   "metadata": {},
   "outputs": [],
   "source": [
    "import numpy as np\n",
    "\n",
    "# simple model \n",
    "def model(driver,param):\n",
    "    '''2-parameter quadratic model with noise'''\n",
    "    return param[0] + param[1] * driver * driver\n",
    "\n",
    "# time driver every 4 days for measurement\n",
    "tmdriver = np.arange(0,365,4,dtype=np.int)\n",
    "# generate a pseudo-measurement\n",
    "p0 = np.array([0.4,0.0002])\n",
    "# np.random.random(tmdriver.shape)-0.5 -> zero mean noise\n",
    "measure = model(tmdriver,p0) + 5*(np.random.random(tmdriver.shape)-0.5)\n",
    "# just make up some weights for this exercise\n",
    "measure_weight = (2 + np.random.random(tmdriver.shape))/4\n",
    "# convert to std for plotting as previously\n",
    "std = 1./np.sqrt(measure_weight) * 1.96"
   ]
  },
  {
   "cell_type": "markdown",
   "metadata": {},
   "source": [
    "Recap on the core components so far, but setting the parameters to `numpy` arrays:"
   ]
  },
  {
   "cell_type": "code",
   "execution_count": 7,
   "metadata": {},
   "outputs": [
    {
     "name": "stdout",
     "output_type": "stream",
     "text": [
      "p0 shape:    (1,)\n",
      "p1 shape:    (1,)\n",
      "tdriver shape: (365,)\n",
      "output shape:  (365,)\n"
     ]
    }
   ],
   "source": [
    "\n",
    "p0,p1 = np.array([0.1]),np.array([0.2])\n",
    "tdriver = np.arange(0,365,1,dtype=np.int)\n",
    "output  = model(tdriver,[p0,p1])\n",
    "\n",
    "\n",
    "print(f'p0 shape:    {p0.shape}')\n",
    "print(f'p1 shape:    {p1.shape}')\n",
    "print(f'tdriver shape: {tdriver.shape}')\n",
    "print(f'output shape:  {output.shape}')"
   ]
  },
  {
   "cell_type": "markdown",
   "metadata": {},
   "source": [
    "We will now build a Look-up table (LUT) in parameter space to examine how the RMSE varies as we vary the model parameters."
   ]
  },
  {
   "cell_type": "code",
   "execution_count": 8,
   "metadata": {},
   "outputs": [],
   "source": [
    "import numpy as np\n",
    "\n",
    "# Use mgrid as previously to define a 2D grid of parameters\n",
    "p0min,p0max,p0step = 0.0,10.0,1\n",
    "p1min,p1max,p1step = 0.0,0.001,0.0001\n",
    "p0,p1 = np.mgrid[p0min:p0max+p0step:p0step,\\\n",
    "                 p1min:p1max+p1step:p1step]"
   ]
  },
  {
   "cell_type": "code",
   "execution_count": 30,
   "metadata": {},
   "outputs": [
    {
     "name": "stdout",
     "output_type": "stream",
     "text": [
      "2d parameter grid\n"
     ]
    },
    {
     "data": {
      "image/png": "[encoded data removed]",
      "text/plain": [
       "<Figure size 360x360 with 1 Axes>"
      ]
     },
     "metadata": {
      "needs_background": "light"
     },
     "output_type": "display_data"
    }
   ],
   "source": [
    "import matplotlib.pyplot as plt\n",
    "fig, axs = plt.subplots(1,1,figsize=(5,5))\n",
    "axs.plot(p0,p1,'+')\n",
    "axs.set_xlabel('p0')\n",
    "axs.set_ylabel('p1')\n",
    "\n",
    "print('2d parameter grid')"
   ]
  },
  {
   "cell_type": "markdown",
   "metadata": {},
   "source": [
    "Recall from [032 `reshape`](032_More_numpy.ipynb#Changing-shape:-flatten,-ravel-and-reshape) that although the LUT is 2-D, we will mostly want to operate on a 1D ravelled version. So let's generate that from the outset:\n",
    "\n"
   ]
  },
  {
   "cell_type": "code",
   "execution_count": 31,
   "metadata": {},
   "outputs": [
    {
     "name": "stdout",
     "output_type": "stream",
     "text": [
      "shape of p0 : (11, 11)\n",
      "shape of p0_ : (121,)\n"
     ]
    }
   ],
   "source": [
    "p0_ = np.ravel(p0)\n",
    "p1_ = np.ravel(p1)\n",
    "print(f'shape of p0 : {p0.shape}')\n",
    "print(f'shape of p0_ : {p0_.shape}')"
   ]
  },
  {
   "cell_type": "markdown",
   "metadata": {},
   "source": [
    "\n",
    "\n",
    "In [032 `np.newaxis`](032_More_numpy.ipynb#Reconciling-arrays:-np.newaxis) we saw how to use `np.newaxis` to reconcile two arrays for element-wise processing. Here, have the 1D arrays `tdriver` and the `p0_` and `p1_` and we want to be able to describe all parameters for all time locations;"
   ]
  },
  {
   "cell_type": "code",
   "execution_count": 32,
   "metadata": {},
   "outputs": [
    {
     "name": "stdout",
     "output_type": "stream",
     "text": [
      "p0_ext shape:      (1, 121)\n",
      "p1_ext shape:      (1, 121)\n",
      "tdriver_ext shape: (365, 1)\n",
      "output shape:      (365, 121)\n"
     ]
    }
   ],
   "source": [
    "p0_ext      = p0_[np.newaxis,:]\n",
    "p1_ext      = p1_[np.newaxis,:]\n",
    "tdriver_ext = tdriver[:,np.newaxis]\n",
    "\n",
    "print(f'p0_ext shape:      {p0_ext.shape}')\n",
    "print(f'p1_ext shape:      {p1_ext.shape}')\n",
    "print(f'tdriver_ext shape: {tdriver_ext.shape}')\n",
    "\n",
    "# we can now call the model with extended arrays\n",
    "output  = model(tdriver_ext,[p0_ext,p1_ext])\n",
    "print(f'output shape:      {output.shape}')"
   ]
  },
  {
   "cell_type": "markdown",
   "metadata": {},
   "source": [
    "To make a comparison with a measurement array, we have to first select time periods in `output` corresponding to the measurements. We have done this above, creating a mask `location_array` of the same dimensions as the measurements:"
   ]
  },
  {
   "cell_type": "code",
   "execution_count": 33,
   "metadata": {},
   "outputs": [
    {
     "name": "stdout",
     "output_type": "stream",
     "text": [
      "location_array shape: (92,)\n",
      "measure shape:        (92,)\n",
      "measure_weight shape: (92,)\n"
     ]
    }
   ],
   "source": [
    "# get measurement mask\n",
    "location_array = np.zeros_like(measure,dtype=np.int)\n",
    "# populate location_array with indices of where measurement is\n",
    "for i,t in enumerate(tmdriver):\n",
    "    location = np.where(tdriver == t)\n",
    "    if len(location[0]):\n",
    "        location_array[i] = location[0][0]\n",
    "        \n",
    "print(f'location_array shape: {location_array.shape}')\n",
    "print(f'measure shape:        {measure.shape}')\n",
    "print(f'measure_weight shape: {measure_weight.shape}')"
   ]
  },
  {
   "cell_type": "markdown",
   "metadata": {},
   "source": [
    "Next, select the outputs (along time axis 0) from the modelling that correspond to the measurements:"
   ]
  },
  {
   "cell_type": "code",
   "execution_count": 34,
   "metadata": {},
   "outputs": [
    {
     "name": "stdout",
     "output_type": "stream",
     "text": [
      "output shape:        (365, 121)\n",
      "sample_output shape: (92, 121)\n"
     ]
    }
   ],
   "source": [
    "# now mapping output to sample_output is easy\n",
    "sample_output = output[location_array,:]\n",
    "print(f'output shape:        {output.shape}')\n",
    "print(f'sample_output shape: {sample_output.shape}')"
   ]
  },
  {
   "cell_type": "markdown",
   "metadata": {},
   "source": [
    "We need to be able to compare `sample_output` with `measure` and `measure_weight`, so lets do that to align with the parameter grid:"
   ]
  },
  {
   "cell_type": "code",
   "execution_count": 35,
   "metadata": {},
   "outputs": [
    {
     "name": "stdout",
     "output_type": "stream",
     "text": [
      "measure_shape_ext:        (92, 1)\n",
      "measure_weight_ext shape: (92, 1)\n"
     ]
    }
   ],
   "source": [
    "measure_ext        = measure[:,np.newaxis]\n",
    "measure_weight_ext = measure_weight[:,np.newaxis]\n",
    "\n",
    "print(f'measure_shape_ext:        {measure_ext.shape}')\n",
    "print(f'measure_weight_ext shape: {measure_weight_ext.shape}')"
   ]
  },
  {
   "cell_type": "markdown",
   "metadata": {},
   "source": [
    "We can now perform element-wise operations involving `measure_ext`, `measure_weight_ext` and `sample_output`:"
   ]
  },
  {
   "cell_type": "code",
   "execution_count": 36,
   "metadata": {},
   "outputs": [
    {
     "name": "stdout",
     "output_type": "stream",
     "text": [
      "error_ext shape: (92, 121)\n"
     ]
    }
   ],
   "source": [
    "error_ext = (sample_output - measure_ext)*measure_weight_ext\n",
    "error_ext = error_ext*error_ext\n",
    "print(f'error_ext shape: {error_ext.shape}')"
   ]
  },
  {
   "cell_type": "markdown",
   "metadata": {},
   "source": [
    "We now want the square root of the mean of this squared error term `error_ext` over time samples (axis 0):"
   ]
  },
  {
   "cell_type": "code",
   "execution_count": 37,
   "metadata": {},
   "outputs": [
    {
     "name": "stdout",
     "output_type": "stream",
     "text": [
      "rmse shape (121,)\n",
      "-> rmse\n",
      "[ 7.88759922  4.16944574  1.00601817  3.61906146  7.32399328 11.07437979\n",
      " 14.83578904 18.60153552 22.3694289  26.13854077 29.90841046  7.42277466\n",
      "  3.7184251   1.00673999  4.08143407  7.79489712 11.54644867 15.30811128\n",
      " 19.07390373 22.84178352 26.61086402 30.38069835  6.98549378  3.32945497\n",
      "  1.35320209  4.58636893  8.28831361 12.03392053 15.79215257 19.55573217\n",
      " 23.32207061 27.09001721 30.8589829   6.58124918  3.02655467  1.8614414\n",
      "  5.12129217  8.80045688 12.53499851 16.2868681  20.04633872 23.80981012\n",
      " 27.57564429 31.3429896   6.21648903  2.83742377  2.43206701  5.67773412\n",
      "  9.32824303 13.04811518 16.79131442 20.54509452 24.3045534  28.06740924\n",
      " 31.83245743  5.89854292  2.78533513  3.03003522  6.24994989  9.86916269\n",
      " 13.57190515 17.30464056 21.05142036 24.80588139 28.56499506 32.32713833\n",
      "  5.63534019  2.87774001  3.64190261  6.83397835 10.42117096 14.10517943\n",
      " 17.82607943 21.56478303 25.31340288 29.06810282 32.82679662  5.43484012\n",
      "  3.10175129  4.26168669  7.42703335 10.98259595 14.64690212 18.35493961\n",
      " 22.08469182 25.82675272 29.57645074 33.33120848  5.30415808  3.43169232\n",
      "  4.88637596  8.02711444 11.5520648  15.19616973 18.89059782 22.61069518\n",
      " 26.34559024 30.08977322 33.84016132  5.24851182  3.84035689  5.5143036\n",
      "  8.63275656 12.1284445  15.75219301 19.43249191 23.14237752 26.86959753\n",
      " 30.60781998 34.35345332  5.27027869  4.30538587  6.14447687  9.24286661\n",
      " 12.71079496 16.31428125 19.98011449 23.67935633 27.39847798 31.13035518\n",
      " 34.87089288]\n",
      "min rmse\n",
      "1.0060181744216554\n"
     ]
    }
   ],
   "source": [
    "rmse = np.sqrt(np.mean(error_ext,axis=0))\n",
    "print(f'rmse shape {rmse.shape}')\n",
    "print(f'-> rmse\\n{rmse}')\n",
    "min_rmse = rmse.min()\n",
    "print(f'min rmse\\n{min_rmse}')"
   ]
  },
  {
   "cell_type": "markdown",
   "metadata": {},
   "source": [
    "Following the material in [032](032_More_numpy.ipynb#Simplifying-shape:-flatten,-ravel,-reshape-and-unravel_index) we use `argmin` to find the parameter index of minimum RMSE:"
   ]
  },
  {
   "cell_type": "code",
   "execution_count": 41,
   "metadata": {},
   "outputs": [
    {
     "name": "stdout",
     "output_type": "stream",
     "text": [
      "1D index of minimum  : 2\n",
      "parameter at minimum : 0.0,0.0002\n"
     ]
    }
   ],
   "source": [
    "# use np.argmin to find the minimum\n",
    "imin = np.argmin(rmse)\n",
    "p0min,p1min = p0_[imin],p1_[imin]\n",
    "print(f'1D index of minimum  : {imin}')\n",
    "print(f'parameter at minimum : {p0min},{p1min}')"
   ]
  },
  {
   "cell_type": "markdown",
   "metadata": {},
   "source": [
    "To convert the index back to the unflattened array, we can use [`np.unravel_index`](032_More_numpy.ipynb#Simplifying-shape:-flatten,-ravel,-reshape-and-unravel_index) as before:"
   ]
  },
  {
   "cell_type": "code",
   "execution_count": 42,
   "metadata": {},
   "outputs": [
    {
     "name": "stdout",
     "output_type": "stream",
     "text": [
      "2D index of minimum point: 0, 2\n",
      "parameter at minimum : 0.0,0.0002\n"
     ]
    }
   ],
   "source": [
    "ip0min,ip1min = np.unravel_index(imin,p0.shape)\n",
    "\n",
    "print(f'2D index of minimum point: {ip0min}, {ip1min}')\n",
    "p0min = p0[ip0min,ip1min]\n",
    "p1min = p1[ip0min,ip1min]\n",
    "print(f'parameter at minimum : {p0min},{p1min}')"
   ]
  },
  {
   "cell_type": "markdown",
   "metadata": {},
   "source": [
    "Of the 11 x 11  combinations of parameters we examined, the parameters `[0.0,0.0002]` provide the best fit to the data. We had generated the 'measurements' with:\n",
    "\n",
    "    p0 = np.array([0.4,0.0002])\n",
    "\n",
    "We can find it useful to visualise the RMSE 'error surface' and then plot the measurements and forward model. Since we have a flattened version, we will need to apply `reshape` before loading it. We reshape it to the same shape as `p0`:\n",
    "\n",
    "    rmse.reshape(p0.shape)"
   ]
  },
  {
   "cell_type": "code",
   "execution_count": 48,
   "metadata": {},
   "outputs": [
    {
     "data": {
      "text/plain": [
       "<matplotlib.legend.Legend at 0x7f21ced12150>"
      ]
     },
     "execution_count": 48,
     "metadata": {},
     "output_type": "execute_result"
    },
    {
     "data": {
      "image/png": "[encoded data removed]",
      "text/plain": [
       "<Figure size 360x288 with 2 Axes>"
      ]
     },
     "metadata": {
      "needs_background": "light"
     },
     "output_type": "display_data"
    }
   ],
   "source": [
    "import matplotlib.pyplot as plt\n",
    "# Plot the RMSE values returned from this as an image\n",
    "\n",
    "# plot it\n",
    "fig, axs = plt.subplots(1,1,figsize=(5,4))\n",
    "# plot reshaped rmse\n",
    "im = axs.imshow(rmse.reshape(p0.shape),\\\n",
    "                interpolation=\"nearest\",\\\n",
    "                vmax=10,cmap=plt.cm.inferno_r)\n",
    "fig.colorbar(im, ax=axs)\n",
    "axs.set_xlabel('p1')\n",
    "axs.set_ylabel('p2')\n",
    "plt.plot([ip1min],[ip0min],'r+',label=\"minimum RMSE\")\n",
    "axs.legend(loc='best')"
   ]
  },
  {
   "cell_type": "code",
   "execution_count": 49,
   "metadata": {},
   "outputs": [
    {
     "name": "stdout",
     "output_type": "stream",
     "text": [
      "[0.     0.0002]\n",
      "measurements: tmdriver shape (92,)\n",
      "model output: tdriver shape  (365,)\n"
     ]
    },
    {
     "data": {
      "image/png": "[encoded data removed]",
      "text/plain": [
       "<Figure size 720x216 with 1 Axes>"
      ]
     },
     "metadata": {
      "needs_background": "light"
     },
     "output_type": "display_data"
    }
   ],
   "source": [
    "import matplotlib.pyplot as plt\n",
    "\n",
    "# time driver every day\n",
    "tdriver = np.arange(0,365,1,dtype=np.int)\n",
    "\n",
    "# get the parameters we siolved for\n",
    "p = np.array([p0min,p1min])\n",
    "print(p)\n",
    "output  = model(tdriver,p)\n",
    "\n",
    "# plot\n",
    "fig, axs = plt.subplots(1,1,figsize=(10,3))\n",
    "axs.set_xlim(0,365)\n",
    "axs.plot(tdriver,output,'k',label='modelled values')\n",
    "axs.errorbar(tmdriver,measure,yerr=std,ls='none')\n",
    "axs.plot(tmdriver,measure,'r+',label='measured values')\n",
    "# set legend now\n",
    "axs.legend(loc='best')\n",
    "axs.set_xlabel(f'time / days')\n",
    "\n",
    "print(f'measurements: tmdriver shape {tmdriver.shape}')\n",
    "print(f'model output: tdriver shape  {tdriver.shape}')"
   ]
  },
  {
   "cell_type": "markdown",
   "metadata": {},
   "source": [
    "The parameter estimation code is effective and quite fast in this case. \n",
    "We are using quite a sparse LUT (121 points) in 2-D, but the model is able to mimic the (pseudo) observations very well, even with rather a quantised LUT. \n",
    "\n",
    "When we plot the RMSE as a function of the model parameters, we confirm \n",
    "the solution found by searching the LUT for the minimum. We notice however that\n",
    "the second of the model parameters can depart considerably from that used originally\n",
    "to generate the pseudo observation. The reason for this is apparent in the RMSE plots:\n",
    "the 'error surface' has a long-narrow valley in this dimension, indicating a high\n",
    "parameter uncertainty.\n",
    "\n",
    "When we forward model using the parameters we solved for, we see that the solution \n",
    "found gives a good fit to the observations, within their error bars. This further informs us\n",
    "that the sensitivity to the second model parameter is quite low. "
   ]
  },
  {
   "cell_type": "markdown",
   "metadata": {},
   "source": [
    "### LUT inversion\n",
    "\n",
    "This approach is called a Look-up table (LUT) inversion. It has the advantage of being quite fast if the total number of samples in the LUT can be kept down in number. This means that the limits to the problem need to be carefully considered: if your LUT inversion produces a supposed optimum parameter value that is on the bounds of the parameter space, then this can often be quite suspect: it may be that you just haven't sampled over a large-enough parameter space. The result is quantised to the LUT spacing if you use the simple approach here, but that will be fine for many applications. This is really only an appropriate method if you have a small number of parameters that you are solving for: i.e. a 1-, 2- or perhaps 3-Dimensional problem. If your model has more parameters, you may have to adopt a multi-pass strategy for parameter searching, or use a method other than LUT inversion."
   ]
  },
  {
   "cell_type": "markdown",
   "metadata": {
    "solution2": "hidden",
    "solution2_first": true
   },
   "source": [
    "#### Exercise 1\n",
    "\n",
    "In a file `lut_RMSE.py` do the following:\n",
    "\n",
    "        import numpy as np\n",
    "        # define the min and max and step for the grid we want\n",
    "        p0min,p0max,p0step = 0.0,10.0,0.05\n",
    "        p1min,p1max,p1step = 0.0,0.001,0.000005\n",
    "\n",
    "        gridp0,gridp1 = np.mgrid[p0min:p0max+p0step:p0step,\\\n",
    "                                 p1min:p1max+p1step:p1step]\n",
    "\n",
    "\n",
    "* Write a function `gen_lut` to return a 2D parameter (Look up table -- LUT) grid using `np.mgrid` as above as `param = [gridp0,gridp1]`\n",
    "\n",
    "        # simple model \n",
    "        def model(driver,param):\n",
    "            '''2-parameter quadratic model with noise'''\n",
    "            return param[0] + param[1] * driver * driver\n",
    "          \n",
    "* Write a function `model` to describe the model we will be using from the code above\n",
    " \n",
    "        location_array = np.zeros_like(measure,dtype=np.int)\n",
    "        # populate location_array with indices of where measurement is\n",
    "        for i,t in enumerate(tmdriver):\n",
    "            location = np.where(tdriver == t)\n",
    "            if len(location[0]):\n",
    "                location_array[i] = location[0][0]\n",
    "\n",
    " * A function `get_location_array` that takes as input:\n",
    " \n",
    "        * tdriver:        array of (Nt,) floats of the day of year on which to do modelling\n",
    "        * measure:        array of (Nm,) floats of measurements over sampled days of the year     \n",
    "        * tmdriver:       array of (Nm,) integers: the days on which the measurements occur \n",
    "         \n",
    "   and returns `location_array` array (Nm,) integers of the days of the measurements\n",
    "            \n",
    "        # code to use\n",
    "        # time driver every 4 days for measurement    \n",
    "        tmdriver = np.arange(0,365,4,dtype=np.int)\n",
    "        # generate a pseudo-measurement\n",
    "        p0 = np.array([0.4,0.0002])\n",
    "        measure = model(tmdriver,p0) + 5*(np.random.random(tmdriver.shape)-0.5)\n",
    "        # just make up some weights for this exercise\n",
    "        measure_weight = (2 + np.random.random(tmdriver.shape))/4\n",
    "        \n",
    "        \n",
    "* Write a function `gen_meas` to generate a pseudo-measurement based on the model and some noise. It should print the value of the parameters used in the model, and return `tmdriver, measure, measure_weight` corresponding to:\n",
    "\n",
    "        * tdriver:        array of (Nt,) floats of the day of year on which to do modelling\n",
    "        * measure:        array of (Nm,) floats of measurements over sampled days of the year\n",
    "        * measure_weight: array of (Nm,) floats of the weights associated with the measurements\n",
    "\n",
    "* Write a function `lut_RMSE` that takes as inputs:\n",
    "\n",
    "        * `param`:          list of `[p0,p1]` with `p0` and `p1` being arrays of shape `(Np0,Np1)` representing a the LUT grid over parameter space\n",
    "        * `tdriver`:         array of (Nt,) floats of the day of year on which to do modelling\n",
    "        * `measure:`        array of (Nm,) floats of measurements over sampled days of the year\n",
    "        * `measure_weight`: array of (Nm,) floats of the weights associated with the measurements\n",
    "        * `tmdriver`:       array of (Nm,) integers: the days on which the measurements occur \n",
    "    \n",
    " That runs the model `model(tdriver,param)`, uses `get_location_array` to sample the model outputs coirresponding to the measurements, and calculates the weighted RMSE between the measurements and the modelled values for each parameter pair, and returns a grid of shape `(Np0,Np1)` values of RMSE associated with each parameter pair.\n",
    " \n",
    " * Write a function `runner()` that \n",
    "    * generates tdriver, the array of (365,) floats of the day of year on which to do modelling\n",
    "    * gets a LUT `param` from `gen_lut`\n",
    "    * gets a pseudo-measurement from `gen_meas`\n",
    "    * gets a 2-D array of RMSE corresponding to the parameter grid\n",
    "    * calculated and prints the value of the parameters corresponding to the minimum RMSE,\n",
    "    * returns the RMSE array, the LUT, and the measurements\n",
    " \n",
    "* Run `runner()` in a notebook\n",
    "* Plot the RMSE values returned from this as an image\n",
    "* Verify that you have identified the minimum RMSE\n",
    "* Set different parameters in `gen_meas` to generate a different pseudo-measurement and repeat the process.\n",
    "* Comment on the results"
   ]
  },
  {
   "cell_type": "code",
   "execution_count": 52,
   "metadata": {
    "solution2": "hidden"
   },
   "outputs": [
    {
     "name": "stdout",
     "output_type": "stream",
     "text": [
      "original parameters: [0.4, 0.0002]\n",
      "min rmse\n",
      "2.3218509330769157\n",
      "index: 442: 0.1,0.0002\n",
      "parameters: 0.1 0.0002\n"
     ]
    }
   ],
   "source": [
    "# ANSWER\n",
    "# run your own script \n",
    "!geog0111/lut_RMSE.py"
   ]
  },
  {
   "cell_type": "code",
   "execution_count": 61,
   "metadata": {
    "solution2": "hidden"
   },
   "outputs": [
    {
     "name": "stdout",
     "output_type": "stream",
     "text": [
      "original parameters: [0.4, 0.0002]\n",
      "min rmse\n",
      "2.4185110553195575\n",
      "index: 1849: 0.45,0.0002\n",
      "parameters: 0.45 0.0002\n"
     ]
    }
   ],
   "source": [
    "# ANSWER\n",
    "import numpy as np\n",
    "# Run runner() in a notebook\n",
    "from geog0111.lut_RMSE import runner, model, gen_lut\n",
    "RMSE,tdriver,(measure,measure_weight,tmdriver) = runner()"
   ]
  },
  {
   "cell_type": "code",
   "execution_count": 59,
   "metadata": {
    "solution2": "hidden"
   },
   "outputs": [
    {
     "name": "stdout",
     "output_type": "stream",
     "text": [
      "index: 1046: 0.25,0.00020500000000000002\n",
      "parameters: 0.25 0.00020500000000000002\n"
     ]
    }
   ],
   "source": [
    "# confirm: same as in runner?\n",
    "# use argmin to find min, but need to flatten/reshape arrays first\n",
    "p0,p1 = gen_lut()\n",
    "p0_ = np.ravel(p0)\n",
    "p1_ = np.ravel(p1)\n",
    "# min over time axis\n",
    "imin = np.argmin(RMSE,axis=0)\n",
    "\n",
    "print(f'index: {imin}: {p0_[imin]},{p1_[imin]}')\n",
    "# back to 2D\n",
    "ip0min,ip1min = np.unravel_index(imin,p0.shape)\n",
    "p0min = p0[ip0min,ip1min]\n",
    "p1min = p1[ip0min,ip1min]\n",
    "\n",
    "p = np.array([p0min,p1min])\n",
    "print(f'parameters: {p[0]} {p[1]}')"
   ]
  },
  {
   "cell_type": "code",
   "execution_count": 60,
   "metadata": {
    "solution2": "hidden"
   },
   "outputs": [
    {
     "data": {
      "text/plain": [
       "<matplotlib.legend.Legend at 0x7f21cef11590>"
      ]
     },
     "execution_count": 60,
     "metadata": {},
     "output_type": "execute_result"
    },
    {
     "data": {
      "image/png": "[encoded data removed]",
      "text/plain": [
       "<Figure size 720x576 with 2 Axes>"
      ]
     },
     "metadata": {
      "needs_background": "light"
     },
     "output_type": "display_data"
    }
   ],
   "source": [
    "import matplotlib.pyplot as plt\n",
    "# Plot the reshaped RMSE values returned from this as an image\n",
    "\n",
    "# plot it\n",
    "fig, axs = plt.subplots(1,1,figsize=(10,8))\n",
    "im = axs.imshow(RMSE.reshape(p0.shape),interpolation=\"nearest\",\\\n",
    "                vmax=10,cmap=plt.cm.inferno_r)\n",
    "fig.colorbar(im, ax=axs)\n",
    "axs.set_xlabel('p1')\n",
    "axs.set_ylabel('p2')\n",
    "plt.plot([ip1min],[ip0min],'r+',label=\"minimum RMSE\")\n",
    "axs.legend(loc='best')"
   ]
  },
  {
   "cell_type": "code",
   "execution_count": 70,
   "metadata": {
    "solution2": "hidden"
   },
   "outputs": [
    {
     "name": "stdout",
     "output_type": "stream",
     "text": [
      "original parameters: [4.0, 0.0005]\n",
      "index: 18189: 4.5,0.000495\n",
      "parameters: 4.5 0.000495\n"
     ]
    },
    {
     "data": {
      "text/plain": [
       "<matplotlib.legend.Legend at 0x7f24383faa50>"
      ]
     },
     "execution_count": 70,
     "metadata": {},
     "output_type": "execute_result"
    },
    {
     "data": {
      "image/png": "[encoded data removed]",
      "text/plain": [
       "<Figure size 720x576 with 2 Axes>"
      ]
     },
     "metadata": {
      "needs_background": "light"
     },
     "output_type": "display_data"
    }
   ],
   "source": [
    "import numpy as np\n",
    "from geog0111.lut_RMSE import gen_meas,model,lut_RMSE\n",
    "\n",
    "# change the original parameters \n",
    "\n",
    "tdriver = np.arange(0,365,1,dtype=np.int)\n",
    "param = gen_lut()\n",
    "tmdriver,measure,measure_weight = gen_meas(p0=[4.0,0.0005])\n",
    "std = 1./np.sqrt(measure_weight) * 1.96\n",
    "RMSE = lut_RMSE(param,tdriver,measure,measure_weight,tmdriver)\n",
    "\n",
    "# confirm: same as in runner?\n",
    "# use argmin to find min, but need to flatten/reshape arrays first\n",
    "p0,p1 = gen_lut()\n",
    "p0_ = np.ravel(p0)\n",
    "p1_ = np.ravel(p1)\n",
    "# min over time axis\n",
    "imin = np.argmin(RMSE,axis=0)\n",
    "\n",
    "print(f'index: {imin}: {p0_[imin]},{p1_[imin]}')\n",
    "# back to 2D\n",
    "ip0min,ip1min = np.unravel_index(imin,p0.shape)\n",
    "p0min = p0[ip0min,ip1min]\n",
    "p1min = p1[ip0min,ip1min]\n",
    "\n",
    "p = np.array([p0min,p1min])\n",
    "print(f'parameters: {p[0]} {p[1]}')\n",
    "\n",
    "\n",
    "min_rmse = RMSE.min()\n",
    "\n",
    "fig, axs = plt.subplots(1,1,figsize=(10,8))\n",
    "im = axs.imshow(RMSE.reshape(p0.shape),interpolation=\"nearest\",\\\n",
    "                vmax=10,cmap=plt.cm.inferno_r)\n",
    "fig.colorbar(im, ax=axs)\n",
    "axs.set_xlabel('p1')\n",
    "axs.set_ylabel('p2')\n",
    "plt.plot([ip1min],[ip0min],'r+',label=\"minimum RMSE\")\n",
    "axs.legend(loc='best')"
   ]
  },
  {
   "cell_type": "code",
   "execution_count": 72,
   "metadata": {
    "solution2": "hidden"
   },
   "outputs": [
    {
     "name": "stdout",
     "output_type": "stream",
     "text": [
      "[4.50e+00 4.95e-04]\n",
      "measurements: tmdriver shape (92,)\n",
      "model output: tdriver shape  (365,)\n"
     ]
    },
    {
     "data": {
      "image/png": "[encoded data removed]",
      "text/plain": [
       "<Figure size 720x216 with 1 Axes>"
      ]
     },
     "metadata": {
      "needs_background": "light"
     },
     "output_type": "display_data"
    }
   ],
   "source": [
    "import matplotlib.pyplot as plt\n",
    "\n",
    "# time driver every day\n",
    "tdriver = np.arange(0,365,1,dtype=np.int)\n",
    "# get the parameters we siolved for\n",
    "p = np.array([p0min,p1min])\n",
    "print(p)\n",
    "output  = model(tdriver,p)\n",
    "\n",
    "# plot\n",
    "fig, axs = plt.subplots(1,1,figsize=(10,3))\n",
    "axs.set_xlim(0,365)\n",
    "axs.plot(tdriver,output,'k',label='modelled values')\n",
    "axs.errorbar(tmdriver,measure,yerr=std,ls='none')\n",
    "axs.plot(tmdriver,measure,'r+',label='measured values')\n",
    "# set legend now\n",
    "axs.legend(loc='best')\n",
    "axs.set_xlabel(f'time / days')\n",
    "\n",
    "print(f'measurements: tmdriver shape {tmdriver.shape}')\n",
    "print(f'model output: tdriver shape  {tdriver.shape}')"
   ]
  },
  {
   "cell_type": "code",
   "execution_count": 73,
   "metadata": {
    "scrolled": true,
    "solution2": "hidden"
   },
   "outputs": [
    {
     "name": "stdout",
     "output_type": "stream",
     "text": [
      "\n",
      "We confirm the findings above, but are now able to see the form of the error surface in much greater detail. \n",
      "\n"
     ]
    }
   ],
   "source": [
    "# Comment on the results\n",
    "\n",
    "msg = '''\n",
    "We confirm the findings above, but are now able to see the form of the error surface in much greater detail. \n",
    "'''\n",
    "print(msg)"
   ]
  },
  {
   "cell_type": "markdown",
   "metadata": {},
   "source": [
    "## Summary\n",
    "\n",
    "In this notebook, we have discussed some generic aspects of models. We note that they typically have some set of driving data (even if that is just time, as in the example here), and a set of parameters that control the model response. \n",
    "\n",
    "We have seen how we can apply the concepts we learned in the [`numpy`](032_More_numpy.ipynb#032-More-numpy) sessions to build a parameter LUT and rapidly calculate a goodness of fit measure between some set of observations and the model output. We have seen how to use this to provide an estimate of the model parameters. This is known as model calibration. \n",
    "\n",
    "Technically, we have seen how we need to reconcile the dimensions of the parameter LUT and the model outputs in `numpy` using `np.newaxis` so we can calculate the model outputs for all parameters in the LUT efficiently, all at once. We have seen that parameter estimation in this way can be effective, but may be limited to a relatively small-dimensional problem. If we have a larger number of parameters, we may need to devise other strategies for parameter estimation."
   ]
  },
  {
   "cell_type": "markdown",
   "metadata": {},
   "source": [
    "\n",
    "[<img src=\"images/noun_post_2109127.svg\" width=\"50\" align='right'>](051_Model_Fitting.ipynb)\n",
    "[<img src=\"images/noun_pre_2109128.svg\" width=\"50\" align='right'>](043_Weighted_interpolation.ipynb)\n",
    "\n"
   ]
  }
 ],
 "metadata": {
  "kernelspec": {
   "display_name": "Python [conda env:geog0111-geog0111]",
   "language": "python",
   "name": "conda-env-geog0111-geog0111-py"
  },
  "language_info": {
   "codemirror_mode": {
    "name": "ipython",
    "version": 3
   },
   "file_extension": ".py",
   "mimetype": "text/x-python",
   "name": "python",
   "nbconvert_exporter": "python",
   "pygments_lexer": "ipython3",
   "version": "3.7.8"
  }
 },
 "nbformat": 4,
 "nbformat_minor": 4
}
