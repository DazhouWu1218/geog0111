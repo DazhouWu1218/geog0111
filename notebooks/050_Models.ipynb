{
 "cells": [
  {
   "cell_type": "markdown",
   "metadata": {},
   "source": [
    "\n",
    "<img alt='UCL' src=\"images/ucl_logo.png\" align='center'>\n",
    "\n",
    "\n",
    "\n",
    "\n",
    "[<img src=\"images/noun_post_2109127.svg\" width=\"50\" align='right'>](051_Model_Fitting.ipynb)\n",
    "[<img src=\"images/noun_pre_2109128.svg\" width=\"50\" align='right'>](043_Weighted_interpolation.ipynb)\n",
    "\n"
   ]
  },
  {
   "cell_type": "markdown",
   "metadata": {},
   "source": [
    "# 036 Models\n"
   ]
  },
  {
   "cell_type": "markdown",
   "metadata": {},
   "source": [
    "## Introduction\n",
    "\n",
    "In this session, we will consider the idea of a model in (Environmental) Science and discuss  a few examples.\n",
    "\n",
    "## Prerequisites\n",
    "\n",
    "You will need a good understanding of previous topics involving [`np/mgrid`](031_Numpy.ipynb#np.linspace,-np.arange,-np.mgrid) and [`np.newaxis`](032_More_numpy.ipynb#Reconciling-arrays:-np.newaxis). You should by know be familiar with other more basic material.\n"
   ]
  },
  {
   "cell_type": "markdown",
   "metadata": {},
   "source": [
    "## Models \n",
    "\n",
    "We can think of a model as a 'process' box encapsulating our understanding, or a proposal for our understanding, of some process. Two examples we will cover later are:\n",
    "\n",
    "* a descriptive model of vegetation phenology\n",
    "* a model of snow-melt\n",
    "\n",
    "Such models make an *output prediction* will be some variable, or set of variables. For our two example models, these will be:\n",
    "\n",
    "* LAI as a function of time\n",
    "* river flow resulting from snow-melt\n",
    "\n",
    "The **outputs** depend on the mechanics of our model and:\n",
    "\n",
    "* some set of **driving data** (in our two models this will be simply time, and time and temperature, respectively) \n",
    "* some model parameters\n",
    "\n",
    "The model parameters control the operation of the model. These could be related to the type of vegetation for a phenology model, or terms such as the thickness of snowpack in the case of a snow-melt model. Most often, the parameters will describe *states* and *rates*, for example, the current amount of water in a snowpack (state) or the rate at which water is released from the snowpack into runoff (rate)."
   ]
  },
  {
   "cell_type": "markdown",
   "metadata": {},
   "source": [
    "![model](images/parameters1.png)"
   ]
  },
  {
   "cell_type": "markdown",
   "metadata": {},
   "source": [
    "We will generally have access to the driving data for our model, and we will have some set of measurements that correspond to the output, but we may not know the values of the parameters to use."
   ]
  },
  {
   "cell_type": "markdown",
   "metadata": {},
   "source": [
    "![model](images/parameters2.png)"
   ]
  },
  {
   "cell_type": "markdown",
   "metadata": {},
   "source": [
    "How can we use this to provide an estimate of the model parameters? We could make some educated guesses, based on previous experience with the model in different situations ('expert opinion'), and we might also be able to provide reasonable bounds for the parameters, again either based on previous experience with the model or sometimes simply from physical limits (e.g. some parameters cannot be negative). \n",
    "\n",
    "What we really want is a more objective way of estimating the parameters. This involves parameter optimisation, which is a whole field of science. We cannot cover that in this course, but we can introduce some of the main ideas to use in our codes.\n",
    "\n",
    "Before moving on to more 'realistic' models, let's build a simple example model `model` we can learn from. \n",
    "\n",
    "This has two parameters `p[0]` and `p[0]` and a driver that represents time:"
   ]
  },
  {
   "cell_type": "code",
   "execution_count": 7,
   "metadata": {},
   "outputs": [],
   "source": [
    "# simple model \n",
    "def model(driver,param):\n",
    "    '''2-parameter quadratic model with noise'''\n",
    "    return param[0] + param[1] * driver * driver"
   ]
  },
  {
   "cell_type": "markdown",
   "metadata": {},
   "source": [
    "We will generate a dataset `measure` at time samples `tmdriver` to represent our measurements, We generate them with the model with a set of parameters and some additive noise. We will also generate a set of weights for the observations, which we will use to indicate their reliability:"
   ]
  },
  {
   "cell_type": "code",
   "execution_count": 8,
   "metadata": {},
   "outputs": [],
   "source": [
    "import numpy as np\n",
    "\n",
    "# time driver every 4 days for measurement\n",
    "tmdriver = np.arange(0,365,4,dtype=np.int)\n",
    "# generate a pseudo-measurement\n",
    "p0 = np.array([0.4,0.0002])\n",
    "measure = model(tmdriver,p0) + 5*(np.random.random(tmdriver.shape)-0.5)\n",
    "# just make up some weights for this exercise\n",
    "measure_weight = (2 + np.random.random(tmdriver.shape))/4\n",
    "# convert to std for plotting as previously\n",
    "std = 1./np.sqrt(measure_weight) * 1.96"
   ]
  },
  {
   "cell_type": "markdown",
   "metadata": {},
   "source": [
    "Now we forget that we know the parameters, make a guess that they are `[0.3,0.0001]`, and use the model to make a prediction `output`. Note that `output` exists every day, whereas the measurements are only every 4 days."
   ]
  },
  {
   "cell_type": "code",
   "execution_count": 9,
   "metadata": {
    "scrolled": false
   },
   "outputs": [
    {
     "name": "stdout",
     "output_type": "stream",
     "text": [
      "measurements: tmdriver shape (92,)\n",
      "model output: tdriver shape  (365,)\n"
     ]
    },
    {
     "data": {
      "image/png": "[encoded data removed]",
      "text/plain": [
       "<Figure size 720x216 with 1 Axes>"
      ]
     },
     "metadata": {
      "needs_background": "light"
     },
     "output_type": "display_data"
    }
   ],
   "source": [
    "import matplotlib.pyplot as plt\n",
    "\n",
    "# time driver every day\n",
    "tdriver = np.arange(0,365,1,dtype=np.int)\n",
    "# guess parameters\n",
    "p = np.array([0.3,0.0001])\n",
    "output  = model(tdriver,p)\n",
    "\n",
    "\n",
    "# plot\n",
    "fig, axs = plt.subplots(1,1,figsize=(10,3))\n",
    "axs.set_xlim(0,365)\n",
    "axs.plot(tdriver,output,'k',label='modelled values')\n",
    "axs.errorbar(tmdriver,measure,yerr=std,ls='none')\n",
    "axs.plot(tmdriver,measure,'r+',label='measured values')\n",
    "# set legend now\n",
    "axs.legend(loc='best')\n",
    "axs.set_xlabel(f'time / days')\n",
    "\n",
    "print(f'measurements: tmdriver shape {tmdriver.shape}')\n",
    "print(f'model output: tdriver shape  {tdriver.shape}')"
   ]
  },
  {
   "cell_type": "markdown",
   "metadata": {},
   "source": [
    "We can see right away that there is a mis-match between the model outputs and the measurements."
   ]
  },
  {
   "cell_type": "markdown",
   "metadata": {},
   "source": [
    "### discrepancy and optimisation\n",
    "\n",
    "We have a set of *observations* that correspond to the model outputs at some time samples. \n",
    "\n",
    "A simple operation we can do is to compare these then. We might suppose that a set of parameters that provides a lower discrepancy between observations and modelled values (we will often call this error) is *objectively better* than one with a poorer match. In that sense, what we would need to do would be to search for a set of parameters that which has the minimum error. Our search for parameters will be guided by any bounds we set. Then all we need to do is write some computer code that considers different values of the parameters and reports on the best (the optimal) match.\n"
   ]
  },
  {
   "cell_type": "markdown",
   "metadata": {},
   "source": [
    "![model](images/parameters3.png)"
   ]
  },
  {
   "cell_type": "markdown",
   "metadata": {},
   "source": [
    "That is a reasonable approach, and one we will take in these notes. We should be aware that when we do Science however, we need to take into account uncertainty, and also that there might be other constraints we want to put on the problem.\n",
    "\n",
    "Uncertainty manifests itself at all stages of modelling and optimisation: the model itself will be uncertain, because of its nature as an abstraction of some process; the drivers will often be uncertain in their ability to the conditions at the actual place and time we are doing the modelling; and the measurements will be uncertain. We have treated uncertainty in other sections of these notes by applying a weight to observations, and we can take the same approach here. When we calculate error, for instance as the root mean square error between model predictions (output) and measurement, we can weight this to give a weighted error."
   ]
  },
  {
   "cell_type": "markdown",
   "metadata": {},
   "source": [
    "Before we can calculate the (weighted) error, we need to treat the outputs so that they match the time samples of the measurements. We can either match the observations to the measurements, or the measurements to the observations. The best approach with depend on circumstances, but it is often easiest to match the measurements to the observations:"
   ]
  },
  {
   "cell_type": "code",
   "execution_count": null,
   "metadata": {},
   "outputs": [],
   "source": [
    "# tmdriver time locations for measurements\n",
    "# tdriver time locations for model outputs\n",
    "\n",
    "# reconcile the model outputs \n",
    "# and measurements into same shape\n",
    "# find the indices of the measurements\n",
    "location_array = np.zeros_like(measure,dtype=np.int)\n",
    "# populate location_array with indices of where measurement is\n",
    "for i,t in enumerate(tmdriver):\n",
    "    location = np.where(tdriver == t)\n",
    "    if len(location[0]):\n",
    "        location_array[i] = location[0][0]"
   ]
  },
  {
   "cell_type": "code",
   "execution_count": null,
   "metadata": {},
   "outputs": [],
   "source": [
    "# now mapping output to sample_output is easy\n",
    "sample_output = output[location_array]"
   ]
  },
  {
   "cell_type": "code",
   "execution_count": null,
   "metadata": {},
   "outputs": [],
   "source": [
    "# now we can calculate the weighted discrepency \n",
    "error = (sample_output - measure)*measure_weight\n",
    "error2 = error**2\n",
    "rmse = np.sqrt(np.mean(error2))\n",
    "print(f'RMSE: {rmse} for parameters {p}')"
   ]
  },
  {
   "cell_type": "code",
   "execution_count": null,
   "metadata": {},
   "outputs": [],
   "source": [
    "# plot\n",
    "fig, axs = plt.subplots(1,1,figsize=(10,3))\n",
    "axs.set_xlim(0,365)\n",
    "axs.plot(tmdriver,sample_output,'r+',label='sampled modelled values')\n",
    "axs.plot(tmdriver,measure,'r+',label='measured values')\n",
    "# plot the discrepencies in orange\n",
    "axs.errorbar(tmdriver,measure,\\\n",
    "             yerr=[measure-measure,sample_output-measure],ls='none',\\\n",
    "             label='error')\n",
    "\n",
    "# set legend now\n",
    "axs.legend(loc='best')\n",
    "axs.set_xlabel(f'time / days')\n",
    "\n",
    "print(f'measurements: measure shape {measure.shape}')\n",
    "print(f'model output: output shape  {output.shape}')\n",
    "print(f'sample_output shape          {sample_output.shape}')"
   ]
  },
  {
   "cell_type": "code",
   "execution_count": null,
   "metadata": {},
   "outputs": [],
   "source": [
    "# scatter plot\n",
    "fig, axs = plt.subplots(1,1,figsize=(5,5))\n",
    "# max value over all\n",
    "maxvalue = np.array([measure,sample_output]).max()\n",
    "axs.set_xlim(0,maxvalue)\n",
    "axs.set_ylim(0,maxvalue)\n",
    "\n",
    "axs.plot(measure,sample_output,'r+')\n",
    "axs.errorbar(measure,sample_output,yerr=std,ls='none')\n",
    "\n",
    "axs.set_ylabel(f'model output')\n",
    "axs.set_xlabel(f'measurement')\n",
    "# 1:1 line\n",
    "axs.plot([0,maxvalue],[0,maxvalue],'k')"
   ]
  },
  {
   "cell_type": "markdown",
   "metadata": {},
   "source": [
    "### Varying the parameters\n",
    "\n",
    "We have seen how, once we have aligned the model outputs and observations, we can calculate a weighted measure if error, RMSE here. So, so some given set of measurements, a model, and a set of model parameters, we can calculate the error:"
   ]
  },
  {
   "cell_type": "markdown",
   "metadata": {},
   "source": [
    "![model](images/parameters4.png)\n",
    "\n",
    "Re-generate the set of measurements:"
   ]
  },
  {
   "cell_type": "code",
   "execution_count": 49,
   "metadata": {},
   "outputs": [],
   "source": [
    "import numpy as np\n",
    "\n",
    "# simple model \n",
    "def model(driver,param):\n",
    "    '''2-parameter quadratic model with noise'''\n",
    "    return param[0] + param[1] * driver * driver\n",
    "\n",
    "# time driver every 4 days for measurement\n",
    "tmdriver = np.arange(0,365,4,dtype=np.int)\n",
    "# generate a pseudo-measurement\n",
    "p0 = np.array([0.4,0.0002])\n",
    "# np.random.random(tmdriver.shape)-0.5 -> zero mean noise\n",
    "measure = model(tmdriver,p0) + 5*(np.random.random(tmdriver.shape)-0.5)\n",
    "# just make up some weights for this exercise\n",
    "measure_weight = (2 + np.random.random(tmdriver.shape))/4\n",
    "# convert to std for plotting as previously\n",
    "std = 1./np.sqrt(measure_weight) * 1.96"
   ]
  },
  {
   "cell_type": "markdown",
   "metadata": {},
   "source": [
    "Recap on the core components so far, but setting the parameters to `numpy` arrays:"
   ]
  },
  {
   "cell_type": "code",
   "execution_count": 50,
   "metadata": {},
   "outputs": [
    {
     "name": "stdout",
     "output_type": "stream",
     "text": [
      "p0 shape:    (1,)\n",
      "p1 shape:    (1,)\n",
      "tdriver shape: (365,)\n",
      "output shape:  (365,)\n"
     ]
    }
   ],
   "source": [
    "\n",
    "p0,p1 = np.array([0.1]),np.array([0.2])\n",
    "tdriver = np.arange(0,365,1,dtype=np.int)\n",
    "output  = model(tdriver,[p0,p1])\n",
    "\n",
    "\n",
    "print(f'p0 shape:    {p0.shape}')\n",
    "print(f'p1 shape:    {p1.shape}')\n",
    "print(f'tdriver shape: {tdriver.shape}')\n",
    "print(f'output shape:  {output.shape}')"
   ]
  },
  {
   "cell_type": "markdown",
   "metadata": {},
   "source": [
    "Recall the material we covered in [032_More_numpy](032_More_numpy.ipynb#Reconciling-arrays:-np.newaxis). If we want to use a 2-D grid of shaoe `(Nxp,Nyp)` for `p0` and `p1`, we will have to make the driver shape `(1,1,365)` and the parameter shapes `(Nxp,Nyp,1)`:"
   ]
  },
  {
   "cell_type": "code",
   "execution_count": 51,
   "metadata": {},
   "outputs": [
    {
     "name": "stdout",
     "output_type": "stream",
     "text": [
      "p0_ext shape:      (2, 2, 1)\n",
      "p1_ext shape:      (2, 2, 1)\n",
      "tdriver_ext shape: (1, 1, 365)\n",
      "output shape:      (2, 2, 365)\n"
     ]
    }
   ],
   "source": [
    "# make a dummy 2-D parameter array\n",
    "p0,p1 = np.array([[0.4,0.4],[0.3,0.3]]),np.array([[0.002,0.0001],[0.002,0.0001]])\n",
    "\n",
    "p0_ext      = p0[:,:,np.newaxis]\n",
    "p1_ext      = p1[:,:,np.newaxis]\n",
    "tdriver_ext = tdriver[np.newaxis,np.newaxis,:]\n",
    "\n",
    "print(f'p0_ext shape:      {p0_ext.shape}')\n",
    "print(f'p1_ext shape:      {p1_ext.shape}')\n",
    "print(f'tdriver_ext shape: {tdriver_ext.shape}')\n",
    "\n",
    "# we can now call the model with extended arrays\n",
    "output  = model(tdriver_ext,[p0_ext,p1_ext])\n",
    "print(f'output shape:      {output.shape}')"
   ]
  },
  {
   "cell_type": "markdown",
   "metadata": {},
   "source": [
    "To make a comparison with a measurement array, we have to first select time periods in `output` corresponding to the measurements. We have done this above, creating a mask `location_array` of the same dimensions as the measurements:"
   ]
  },
  {
   "cell_type": "code",
   "execution_count": 52,
   "metadata": {},
   "outputs": [
    {
     "name": "stdout",
     "output_type": "stream",
     "text": [
      "location_array shape: (92,)\n",
      "measure shape:        (92,)\n",
      "measure_weight shape: (92,)\n"
     ]
    }
   ],
   "source": [
    "# get measurement mask\n",
    "location_array = np.zeros_like(measure,dtype=np.int)\n",
    "# populate location_array with indices of where measurement is\n",
    "for i,t in enumerate(tmdriver):\n",
    "    location = np.where(tdriver == t)\n",
    "    if len(location[0]):\n",
    "        location_array[i] = location[0][0]\n",
    "        \n",
    "print(f'location_array shape: {location_array.shape}')\n",
    "print(f'measure shape:        {measure.shape}')\n",
    "print(f'measure_weight shape: {measure_weight.shape}')"
   ]
  },
  {
   "cell_type": "markdown",
   "metadata": {},
   "source": [
    "Next, select the outputs (along axis 2) from the modelling that correspond to the measurements:"
   ]
  },
  {
   "cell_type": "code",
   "execution_count": 53,
   "metadata": {},
   "outputs": [
    {
     "name": "stdout",
     "output_type": "stream",
     "text": [
      "output shape:        (2, 2, 365)\n",
      "sample_output shape: (2, 2, 92)\n"
     ]
    }
   ],
   "source": [
    "# now mapping output to sample_output is easy\n",
    "sample_output = output[:,:,location_array]\n",
    "print(f'output shape:        {output.shape}')\n",
    "print(f'sample_output shape: {sample_output.shape}')"
   ]
  },
  {
   "cell_type": "markdown",
   "metadata": {},
   "source": [
    "We need to be able to compare `We need to be able to compare `sample_output` with `measure` and `measure_weight`, so lets do that to align with the parameter grid:"
   ]
  },
  {
   "cell_type": "code",
   "execution_count": 54,
   "metadata": {},
   "outputs": [
    {
     "name": "stdout",
     "output_type": "stream",
     "text": [
      "measure_shape_ext:        (1, 1, 92)\n",
      "measure_weight_ext shape: (1, 1, 92)\n"
     ]
    }
   ],
   "source": [
    "measure_ext        = measure[np.newaxis,np.newaxis,:]\n",
    "measure_weight_ext = measure_weight[np.newaxis,np.newaxis,:]\n",
    "\n",
    "print(f'measure_shape_ext:        {measure_ext.shape}')\n",
    "print(f'measure_weight_ext shape: {measure_weight_ext.shape}')"
   ]
  },
  {
   "cell_type": "markdown",
   "metadata": {},
   "source": [
    "We can now perform element-wise operations involving `measure_ext`, `measure_weight_ext` and `sample_output`:"
   ]
  },
  {
   "cell_type": "code",
   "execution_count": 55,
   "metadata": {},
   "outputs": [
    {
     "name": "stdout",
     "output_type": "stream",
     "text": [
      "error_ext shape: (2, 2, 92)\n"
     ]
    }
   ],
   "source": [
    "error_ext = (sample_output - measure_ext)*measure_weight_ext\n",
    "error_ext = error_ext**2\n",
    "print(f'error_ext shape: {error_ext.shape}')"
   ]
  },
  {
   "cell_type": "markdown",
   "metadata": {},
   "source": [
    "We now want the square root of the mean of this squared error term `error_ext` over time samples (axis 2):"
   ]
  },
  {
   "cell_type": "code",
   "execution_count": 56,
   "metadata": {},
   "outputs": [
    {
     "name": "stdout",
     "output_type": "stream",
     "text": [
      "rmse shape (2, 2)\n",
      "parameters:\n",
      "[[0.4 0.4]\n",
      " [0.3 0.3]]\n",
      "[[0.002  0.0001]\n",
      " [0.002  0.0001]]\n",
      "-> rmse\n",
      "[[66.42002543  3.75544574]\n",
      " [66.37291744  3.80165273]]\n",
      "min rmse\n",
      "3.755445735240444\n",
      "[0] [1]\n"
     ]
    }
   ],
   "source": [
    "rmse = np.sqrt(np.mean(error_ext,axis=2))\n",
    "print(f'rmse shape {rmse.shape}')\n",
    "print(f'parameters:\\n{p0}\\n{p1}')\n",
    "print(f'-> rmse\\n{rmse}')\n",
    "min_rmse = rmse.min()\n",
    "print(f'min rmse\\n{min_rmse}')\n",
    "\n",
    "# use np.where to find the minimum\n",
    "ix,iy = np.where(rmse == min_rmse)\n",
    "print(ix,iy)"
   ]
  },
  {
   "cell_type": "code",
   "execution_count": 57,
   "metadata": {},
   "outputs": [
    {
     "name": "stdout",
     "output_type": "stream",
     "text": [
      "parameters: [0.4] [0.0001]\n"
     ]
    }
   ],
   "source": [
    "print(f'parameters: {p0[ix,iy]} {p1[ix,iy]}')"
   ]
  },
  {
   "cell_type": "markdown",
   "metadata": {},
   "source": [
    "Of the 4 combinations of parameters we examined, the parameters `[0.4,0.0001]` provide the best fit to the data. This makes sense, as we had generated the 'measurements' with:\n",
    "\n",
    "    p0 = np.array([0.4,0.0002])\n",
    "\n",
    "The RMSE for this set of parameters `3.80` is quite close to the RMSE for `[0.3,0.0001]`, so, from this set, we might consider both viable options.\n",
    "\n",
    "### LUT inversion\n",
    "\n",
    "This approach is called a Look-up table (LUT) inversion. It has the advantage of being quite fast if the total number of samples in the LUT can be kept down in number. This means that the limits to the problem need to be carefully considered: if your LUT inversion produces a supposed optimum parameter value that is on the bounds of the parameter space, then this can often be quite suspect: it may be that you just haven't sampled over a large-enough parameter space. The result is quantised to the LUT spacing if you use the simple approach here, but that will be fine for many applications. This is really only an appropriate method if you have a small number of parameters that you are solving for: i.e. a 1- or 2-Dimensional problem. If your model has more than 2 parameters, you may have to adopt a multi-pass strategy for parameter searching, or use a method other than LUT inversion."
   ]
  },
  {
   "cell_type": "markdown",
   "metadata": {},
   "source": [
    "#### Exercise 1\n",
    "\n",
    "In a file `lut_RMSE.py` do the following:\n",
    "\n",
    "        import numpy as np\n",
    "        # define the min and max and step for the grid we want\n",
    "        p0min,p0max,p0step = 0.0,10.0,0.05\n",
    "        p1min,p1max,p1step = 0.0,0.001,0.000005\n",
    "\n",
    "        gridp0,gridp1 = np.mgrid[p0min:p0max+p0step:p0step,\\\n",
    "                                 p1min:p1max+p1step:p1step]\n",
    "\n",
    "\n",
    "* Write a function `gen_lut` to return a 2D parameter (Look up table -- LUT) grid using `np.mgrid` as above as `param = [gridp0,gridp1]`\n",
    "\n",
    "        # simple model \n",
    "        def model(driver,param):\n",
    "            '''2-parameter quadratic model with noise'''\n",
    "            return param[0] + param[1] * driver * driver\n",
    "          \n",
    "* Write a function `model` to describe the model we will be using from the code above\n",
    " \n",
    "        location_array = np.zeros_like(measure,dtype=np.int)\n",
    "        # populate location_array with indices of where measurement is\n",
    "        for i,t in enumerate(tmdriver):\n",
    "            location = np.where(tdriver == t)\n",
    "            if len(location[0]):\n",
    "                location_array[i] = location[0][0]\n",
    "\n",
    " * A function `get_location_array` that takes as input:\n",
    " \n",
    "        * tdriver:        array of (Nt,) floats of the day of year on which to do modelling\n",
    "        * measure:        array of (Nm,) floats of measurements over sampled days of the year     \n",
    "        * tmdriver:       array of (Nm,) integers: the days on which the measurements occur \n",
    "         \n",
    "   and returns `location_array` array (Nm,) integers of the days of the measurements\n",
    "            \n",
    "        # code to use\n",
    "        # time driver every 4 days for measurement    \n",
    "        tmdriver = np.arange(0,365,4,dtype=np.int)\n",
    "        # generate a pseudo-measurement\n",
    "        p0 = np.array([0.4,0.0002])\n",
    "        measure = model(tmdriver,p0) + 5*(np.random.random(tmdriver.shape)-0.5)\n",
    "        # just make up some weights for this exercise\n",
    "        measure_weight = (2 + np.random.random(tmdriver.shape))/4\n",
    "        \n",
    "        \n",
    "* Write a function `gen_meas` to generate a pseudo-measurement based on the model and some noise. It should print the value of the parameters used in the model, and return `tmdriver, measure, measure_weight` corresponding to:\n",
    "\n",
    "        * tdriver:        array of (Nt,) floats of the day of year on which to do modelling\n",
    "        * measure:        array of (Nm,) floats of measurements over sampled days of the year\n",
    "        * measure_weight: array of (Nm,) floats of the weights associated with the measurements\n",
    "\n",
    "* Write a function `lut_RMSE` that takes as inputs:\n",
    "\n",
    "        * `param`:          list of `[p0,p1]` with `p0` and `p1` being arrays of shape `(Np0,Np1)` representing a the LUT grid over parameter space\n",
    "        * `tdriver`:         array of (Nt,) floats of the day of year on which to do modelling\n",
    "        * `measure:`        array of (Nm,) floats of measurements over sampled days of the year\n",
    "        * `measure_weight`: array of (Nm,) floats of the weights associated with the measurements\n",
    "        * `tmdriver`:       array of (Nm,) integers: the days on which the measurements occur \n",
    "    \n",
    " That runs the model `model(tdriver,param)`, uses `get_location_array` to sample the model outputs coirresponding to the measurements, and calculates the weighted RMSE between the measurements and the modelled values for each parameter pair, and returns a grid of shape `(Np0,Np1)` values of RMSE associated with each parameter pair.\n",
    " \n",
    " * Write a function `runner()` that \n",
    "    * generates tdriver, the array of (365,) floats of the day of year on which to do modelling\n",
    "    * gets a LUT `param` from `gen_lut`\n",
    "    * gets a pseudo-measurement from `gen_meas`\n",
    "    * gets a 2-D array of RMSE corresponding to the parameter grid\n",
    "    * calculated and prints the value of the parameters corresponding to the minimum RMSE,\n",
    "    * returns the RMSE array, the LUT, and the measurements\n",
    " \n",
    "* Run `runner()` in a notebook\n",
    "* Plot the RMSE values returned from this as an image\n",
    "* Verify that you have identified the minimum RMSE\n",
    "* Set different parameters in `gen_meas` to generate a different pseudo-measurement and repeat the process."
   ]
  },
  {
   "cell_type": "code",
   "execution_count": 1,
   "metadata": {},
   "outputs": [
    {
     "name": "stdout",
     "output_type": "stream",
     "text": [
      "original parameters: [0.4, 0.0002]\n",
      "min rmse\n",
      "2.4127966706577055\n",
      "parameters: [0.25] [0.000205]\n"
     ]
    }
   ],
   "source": [
    "# ANSWER\n",
    "!geog0111/lut_RMSE.py"
   ]
  },
  {
   "cell_type": "code",
   "execution_count": 2,
   "metadata": {},
   "outputs": [
    {
     "name": "stdout",
     "output_type": "stream",
     "text": [
      "original parameters: [0.4, 0.0002]\n",
      "min rmse\n",
      "2.2314671758949163\n",
      "parameters: [0.5] [0.0002]\n"
     ]
    }
   ],
   "source": [
    "# ANSWER\n",
    "import numpy as np\n",
    "# Run runner() in a notebook\n",
    "from geog0111.lut_RMSE import runner, model, gen_lut\n",
    "RMSE,tdriver,(measure,measure_weight,tmdriver) = runner()\n",
    "gridp0,gridp1 = gen_lut()"
   ]
  },
  {
   "cell_type": "code",
   "execution_count": 3,
   "metadata": {},
   "outputs": [
    {
     "data": {
      "text/plain": [
       "(array([0.5]), array([0.0002]), array([2.23146718]))"
      ]
     },
     "execution_count": 3,
     "metadata": {},
     "output_type": "execute_result"
    }
   ],
   "source": [
    "# confirm\n",
    "iy,ix = np.where(RMSE == RMSE.min())\n",
    "gridp0[iy,ix],gridp1[iy,ix],RMSE[iy,ix]"
   ]
  },
  {
   "cell_type": "code",
   "execution_count": 4,
   "metadata": {},
   "outputs": [
    {
     "data": {
      "text/plain": [
       "<matplotlib.legend.Legend at 0x7f7095a3e550>"
      ]
     },
     "execution_count": 4,
     "metadata": {},
     "output_type": "execute_result"
    },
    {
     "data": {
      "image/png": "[encoded data removed]",
      "text/plain": [
       "<Figure size 720x576 with 2 Axes>"
      ]
     },
     "metadata": {
      "needs_background": "light"
     },
     "output_type": "display_data"
    }
   ],
   "source": [
    "import matplotlib.pyplot as plt\n",
    "# Plot the RMSE values returned from this as an image\n",
    "\n",
    "# plot it\n",
    "fig, axs = plt.subplots(1,1,figsize=(10,8))\n",
    "im = axs.imshow(RMSE,interpolation=\"nearest\",\\\n",
    "                vmax=10,cmap=plt.cm.inferno_r)\n",
    "fig.colorbar(im, ax=axs)\n",
    "axs.set_xlabel('p1')\n",
    "axs.set_ylabel('p2')\n",
    "plt.plot([ix],[iy],'r+',label=\"minimum RMSE\")\n",
    "axs.legend(loc='best')"
   ]
  },
  {
   "cell_type": "code",
   "execution_count": 5,
   "metadata": {},
   "outputs": [
    {
     "name": "stdout",
     "output_type": "stream",
     "text": [
      "original parameters: [0.0, 0.0005]\n",
      "[0.25] [0.000495] [2.37015806]\n",
      "min rmse\n",
      "2.370158060903065\n"
     ]
    },
    {
     "data": {
      "text/plain": [
       "<matplotlib.legend.Legend at 0x7f70959dc7d0>"
      ]
     },
     "execution_count": 5,
     "metadata": {},
     "output_type": "execute_result"
    },
    {
     "data": {
      "image/png": "[encoded data removed]",
      "text/plain": [
       "<Figure size 720x576 with 2 Axes>"
      ]
     },
     "metadata": {
      "needs_background": "light"
     },
     "output_type": "display_data"
    }
   ],
   "source": [
    "import numpy as np\n",
    "from geog0111.lut_RMSE import gen_meas,model,lut_RMSE\n",
    "\n",
    "# change the original parameters \n",
    "\n",
    "tdriver = np.arange(0,365,1,dtype=np.int)\n",
    "param = gen_lut()\n",
    "tmdriver,measure,measure_weight = gen_meas(p0=[0.0,0.0005])\n",
    "RMSE = lut_RMSE(param,tdriver,measure,measure_weight,tmdriver)\n",
    "min_rmse = RMSE.min()\n",
    "iy,ix = np.where(RMSE == min_rmse)\n",
    "print(gridp0[iy,ix],gridp1[iy,ix],RMSE[iy,ix])\n",
    "print(f'min rmse\\n{min_rmse}')\n",
    "fig, axs = plt.subplots(1,1,figsize=(10,8))\n",
    "im = axs.imshow(RMSE,interpolation=\"nearest\",\\\n",
    "                vmax=10,cmap=plt.cm.inferno_r)\n",
    "fig.colorbar(im, ax=axs)\n",
    "axs.set_xlabel('p1')\n",
    "axs.set_ylabel('p2')\n",
    "plt.plot([ix],[iy],'r+',label=\"minimum RMSE\")\n",
    "axs.legend(loc='best')"
   ]
  },
  {
   "cell_type": "code",
   "execution_count": 4,
   "metadata": {},
   "outputs": [
    {
     "ename": "NameError",
     "evalue": "name 'model' is not defined",
     "output_type": "error",
     "traceback": [
      "\u001b[0;31m---------------------------------------------------------------------------\u001b[0m",
      "\u001b[0;31mNameError\u001b[0m                                 Traceback (most recent call last)",
      "\u001b[0;32m<ipython-input-4-f60967bfd0ed>\u001b[0m in \u001b[0;36m<module>\u001b[0;34m\u001b[0m\n\u001b[0;32m----> 1\u001b[0;31m \u001b[0;32mdef\u001b[0m \u001b[0mget_rmse\u001b[0m\u001b[0;34m(\u001b[0m\u001b[0mlocation_array\u001b[0m\u001b[0;34m,\u001b[0m\u001b[0mdriver\u001b[0m\u001b[0;34m,\u001b[0m\u001b[0mp\u001b[0m\u001b[0;34m,\u001b[0m\u001b[0mmeasure\u001b[0m\u001b[0;34m,\u001b[0m\u001b[0mweight\u001b[0m\u001b[0;34m,\u001b[0m\u001b[0mmod\u001b[0m\u001b[0;34m=\u001b[0m\u001b[0mmodel\u001b[0m\u001b[0;34m)\u001b[0m\u001b[0;34m:\u001b[0m\u001b[0;34m\u001b[0m\u001b[0;34m\u001b[0m\u001b[0m\n\u001b[0m\u001b[1;32m      2\u001b[0m     \u001b[0;34m''' get model-measurement error '''\u001b[0m\u001b[0;34m\u001b[0m\u001b[0;34m\u001b[0m\u001b[0m\n\u001b[1;32m      3\u001b[0m     \u001b[0;31m# time driver every day but sample only location_array\u001b[0m\u001b[0;34m\u001b[0m\u001b[0;34m\u001b[0m\u001b[0;34m\u001b[0m\u001b[0m\n\u001b[1;32m      4\u001b[0m     \u001b[0moutput\u001b[0m  \u001b[0;34m=\u001b[0m \u001b[0mmod\u001b[0m\u001b[0;34m(\u001b[0m\u001b[0mdriver\u001b[0m\u001b[0;34m,\u001b[0m\u001b[0mp\u001b[0m\u001b[0;34m)\u001b[0m\u001b[0;34m[\u001b[0m\u001b[0mlocation_array\u001b[0m\u001b[0;34m]\u001b[0m\u001b[0;34m\u001b[0m\u001b[0;34m\u001b[0m\u001b[0m\n\u001b[1;32m      5\u001b[0m     \u001b[0merror\u001b[0m \u001b[0;34m=\u001b[0m \u001b[0;34m(\u001b[0m\u001b[0msample_output\u001b[0m \u001b[0;34m-\u001b[0m \u001b[0mmeasure\u001b[0m\u001b[0;34m)\u001b[0m\u001b[0;34m*\u001b[0m\u001b[0mweight\u001b[0m\u001b[0;34m\u001b[0m\u001b[0;34m\u001b[0m\u001b[0m\n",
      "\u001b[0;31mNameError\u001b[0m: name 'model' is not defined"
     ]
    }
   ],
   "source": [
    "              \n",
    "def get_rmse(location_array,driver,p,measure,weight,mod=model):\n",
    "    ''' get model-measurement error '''\n",
    "    # time driver every day but sample only location_array\n",
    "    output  = mod(driver,p)[location_array]\n",
    "    error = (sample_output - measure)*weight\n",
    "    error2 = error**2\n",
    "    return np.sqrt(np.mean(error2))\n",
    "\n",
    "p = np.array([0.3,0.0001])\n",
    "tdriver = np.arange(0,365,1,dtype=np.int)\n",
    "rmse = get_rmse(location_array,tdriver,p,measure,measure_weight)\n",
    "\n",
    "print(f'RMSE: {rmse} for parameters {p}')"
   ]
  },
  {
   "cell_type": "markdown",
   "metadata": {},
   "source": [
    "Recalling what we did in  [031_Numpy](031_Numpy.ipynb#np.linspace,-np.arange,-np.mgrid), lets generate a 2-D grid that we will use to sample the parameters:"
   ]
  },
  {
   "cell_type": "code",
   "execution_count": null,
   "metadata": {},
   "outputs": [],
   "source": [
    "import matplotlib.pyplot as plt\n",
    "# define the min and max and step for the grid we want\n",
    "p0min,p0max,p0step = 0.0,0.5,0.05\n",
    "p1min,p1max,p1step = 0.0,0.001,0.0001\n",
    "\n",
    "\n",
    "gridp0,gridp1 = np.mgrid[p0min:p0max+p0step:p0step,\\\n",
    "                         p1min:p1max+p1step:p1step]\n",
    "\n",
    "# plot it\n",
    "fig, axs = plt.subplots(1,1,figsize=(5,5))\n",
    "axs.plot(gridp0,gridp1,'+')\n",
    "axs.set_xlabel('p1')\n",
    "axs.set_ylabel('p2')\n",
    "\n",
    "print(f'2d parameter grid: {gridp0.shape}')"
   ]
  },
  {
   "cell_type": "markdown",
   "metadata": {},
   "source": [
    "Next, following the material we covered in [032_More_numpy](032_More_numpy.ipynb#Reconciling-arrays:-np.newaxis), we reconcile the parameter grid and the driver array."
   ]
  },
  {
   "cell_type": "code",
   "execution_count": null,
   "metadata": {},
   "outputs": [],
   "source": [
    "print(f'gridp0 shape: {gridp0.shape}')\n",
    "print(f'gridp1 shape: {gridp1.shape}')\n",
    "\n",
    "# extend the grid to match number of dimensions\n",
    "gridp0ext = gridp0[:,:,np.newaxis]\n",
    "gridp1ext = gridp1[:,:,np.newaxis]\n",
    "\n",
    "location_arrayext = location_array[np.newaxis,np.newaxis,:]\n",
    "measureext        = measure[np.newaxis,np.newaxis,:]\n",
    "\n",
    "print(f'gridp0ext shape: {gridp0ext.shape}')\n",
    "print(f'gridp1ext shape: {gridp1ext.shape}')\n",
    "\n",
    "print(f'location_arrayext shape: {location_arrayext.shape}')\n",
    "print(f'measureext shape:        {measureext.shape}')\n",
    "\n",
    "c1 = gridp0ext + measureext \n",
    "print(f'c1 shape: {c1.shape}')"
   ]
  },
  {
   "cell_type": "markdown",
   "metadata": {},
   "source": [
    "Now, calculate the RMSE for each point on the grid:"
   ]
  },
  {
   "cell_type": "code",
   "execution_count": null,
   "metadata": {},
   "outputs": [],
   "source": [
    "model(np.expand_dims(tdriver, axis=(0,1)),np.expand_dims(np.array([p1,p2],axis=2)))"
   ]
  },
  {
   "cell_type": "code",
   "execution_count": null,
   "metadata": {},
   "outputs": [],
   "source": [
    "np.expand_dims(tdriver, axis=(0,1))"
   ]
  },
  {
   "cell_type": "code",
   "execution_count": null,
   "metadata": {},
   "outputs": [],
   "source": [
    "np.expand_dims(p2,axis=2).shape"
   ]
  },
  {
   "cell_type": "code",
   "execution_count": null,
   "metadata": {},
   "outputs": [],
   "source": [
    "(np.expand_dims(tdriver, axis=(0,1)) + np.expand_dims(p2,axis=2)).shape"
   ]
  },
  {
   "cell_type": "code",
   "execution_count": null,
   "metadata": {},
   "outputs": [],
   "source": []
  },
  {
   "cell_type": "markdown",
   "metadata": {},
   "source": [
    "# 036 Model Fitting \n",
    "\n",
    "We use many models in Science. Typical models in Environmental science will have \n",
    "\n",
    "\n",
    "### Test\n",
    "\n",
    "You should run a [NASA account test](004_Accounts.ipynb) if you have not already done so.\n",
    "\n",
    "Fit to LAI curves ...\n",
    "\n",
    "In the previous session, we looked at fitting linear models to observations. While this is a very common task, complex processes might require models which are non-linear.\n",
    "\n",
    "One non-linear model is modelling LAI as a function of time (or temperature). In the Nothern Hemisphere, and for temperate latitudes, there is a clear seasonal cycle in vegetation, particularly visible in leaf area index (LAI). LAI dynamics can possibly be depicted by a \"double logistic\" curve. Mathematically, the double logistic looks like this\n",
    "\n",
    "\n",
    "![A double logistic](https://camo.githubusercontent.com/7a664a29ec5bc190d71d8ba5ec391bcf98848df7/687474703a2f2f777777322e67656f672e75636c2e61632e756b2f7e706c657769732f67656f67673132342f5f696d616765732f7a68616e67312e706e67)\n",
    "\n",
    "Mathematically, the function predicts the e.g. LAI (or some vegetation index) as\n",
    "\n",
    "$$\n",
    "y = p_0 - p_1\\cdot\\left[\\frac{1}{1+\\exp\\left(p_2\\cdot(t-p_3)\\right)} + \\frac{1}{1+\\exp\\left(-p_4\\cdot(t-p_5)\\right)} - 1\\right].\n",
    "$$\n",
    "\n",
    "If we inspect this form, we can probably guess that $p_0$ and $p_1$ scale the vertical span of the function, whereas $p_3$ and $p_5$ are some sort of temporal shift, and the remaining parameters $p_2$ and $p_4$ control the slope of the two flanks. Something that will give rise to a self-respecting LAI curve might be\n",
    "\n",
    "* $p_0= 0.1$\n",
    "* $p_1= 2.5$\n",
    "* $p_2=0.19$\n",
    "* $p_3= 120$\n",
    "* $p_4= 0.13$\n",
    "* $p_5= 220$\n",
    "\n",
    "<div class=\"alert alert-danger\">\n",
    "<p>Write a function that produces the double logistic when passed an array of time steps (e.g. 1 to 365), and an array with six parameters.</p>\n",
    "<p>Do some plots and try to get some intuition on the model parameters!</p>\n",
    "</div>\n",
    "\n"
   ]
  },
  {
   "cell_type": "code",
   "execution_count": null,
   "metadata": {
    "ExecuteTime": {
     "end_time": "2018-11-14T19:27:31.922669Z",
     "start_time": "2018-11-14T19:27:31.125860Z"
    }
   },
   "outputs": [],
   "source": [
    "# All imports go here. Run me first!\n",
    "import datetime\n",
    "from pathlib import Path  # Checks for files and so on\n",
    "import numpy as np  # Numpy for arrays and so on\n",
    "import pandas as pd\n",
    "import sys\n",
    "import matplotlib.pyplot as plt  # Matplotlib for plotting\n",
    "# Ensure the plots are shown in the notebook\n",
    "%matplotlib inline\n",
    "\n",
    "import gdal\n",
    "import osr\n",
    "import numpy as np\n",
    "%matplotlib inline"
   ]
  },
  {
   "cell_type": "code",
   "execution_count": null,
   "metadata": {},
   "outputs": [],
   "source": []
  },
  {
   "cell_type": "markdown",
   "metadata": {},
   "source": [
    "## A synthetic experiment\n",
    "\n",
    "A first step is to do a synthetic experiment. This has the marked advantage of being a situation where we're in control of everything. "
   ]
  },
  {
   "cell_type": "code",
   "execution_count": null,
   "metadata": {
    "ExecuteTime": {
     "end_time": "2018-11-14T19:27:36.186520Z",
     "start_time": "2018-11-14T19:27:35.702036Z"
    }
   },
   "outputs": [],
   "source": [
    "\n",
    "t = np.arange(1, 366)\n",
    "p = np.array([0.1, 2.5, 0.19, 120, 0.13, 220])\n",
    "y = dbl_sigmoid_function(p, t)\n",
    "yn = y + np.random.randn(len(t))*0.6\n",
    "\n",
    "selector = np.random.rand(365)\n",
    "\n",
    "passer = np.where(selector > 0.9, True, False)\n",
    "\n",
    "tn = t[passer]\n",
    "yn = yn[passer]\n",
    "\n",
    "fig = plt.figure(figsize=(15, 4))\n",
    "_ = plt.plot(t, y, '-', label=\"Ground truth\")\n",
    "_ = plt.plot(tn, yn, 'o', label=\"Simulated observations\")\n",
    "plt.legend(loc=\"best\")\n",
    "plt.xlabel(\"DoY\")\n",
    "plt.ylabel(\"LAI\")\n",
    "\n"
   ]
  },
  {
   "cell_type": "markdown",
   "metadata": {},
   "source": [
    "We know that the \"true parameters\" are given by `p = np.array([0.1, 2.5, 0.19, 120, 0.13, 220])`, but we see that the data is quite noisy and has significant gaps. As per last session, we could try to modify the parameters \"by hand\", and see how far we get, but given that it's 6, with different ranges, it looks a bit daunting. Also, we'd need to assess how good the solution is for a particular set of parameters, in other words, select a metric to quantify the goodness of fit.\n",
    "\n",
    "It is useful to consider a model of the incomplete, noisy observations of LAI ($y_n$) and the true value of LAI, $y$. For overlapping time steps, the noisy data are just the \"true\" data plus some random Gaussian value with zero mean and a given variance $\\sigma_{obs}^2$ (in the experiment above, $\\sigma_{obs}=0.6$):\n",
    "\n",
    "$$\n",
    "y_n^{i} = y^{i} + \\mathcal{N}(0, \\sigma_{obs}^2).\n",
    "$$\n",
    "\n",
    "Rearranging things, we have that $y_n - y$ should be a zero mean Gaussian distribution with known variance. We have assumed that our model is $f(\\vec{p})=y$, so we can write the *likelihood function*, $l(\\vec{p})$\n",
    "\n",
    "$$\n",
    "l(\\vec{p}) = \\left[\\frac{1}{\\sqrt{2\\pi\\sigma_{obs}^2}}\\right]^{N}\\displaystyle{\\prod_{i=1}^{N} \\exp\\left[-\\frac{(y_n^{i}-f(\\vec{p})^{i})^2}{2\\sigma_{obs}^2}   \\right]}.\n",
    "$$\n",
    "\n",
    "It is convenient to take a logarithm of $l(\\vec{p})$, so that we have the **log-likelihood**:\n",
    "\n",
    "$$\n",
    "L(\\vec{p}) = -\\displaystyle{\\sum_{i=1}^{N} \\left[\\frac{(y_n^{i}-f(\\vec{p})^{i})^2}{2\\sigma_{obs}^2}   \\right]} + \\textrm{Const.}\n",
    "$$\n",
    "\n",
    "<div class=\"alert alert-success\">\n",
    "Think about the likelihood and log-likelihood... Think (and possibly plot) how a negative exponential curve looks like, and what conditions are for some interesting points.\n",
    "</div>"
   ]
  },
  {
   "cell_type": "code",
   "execution_count": null,
   "metadata": {},
   "outputs": [],
   "source": []
  },
  {
   "cell_type": "code",
   "execution_count": null,
   "metadata": {
    "ExecuteTime": {
     "end_time": "2018-11-14T19:27:53.372292Z",
     "start_time": "2018-11-14T19:27:52.964380Z"
    }
   },
   "outputs": [],
   "source": []
  },
  {
   "cell_type": "markdown",
   "metadata": {},
   "source": [
    "So for a sum of squares, the most likely result would be if all the mismatches were zero, which means that the log-likelihood is 0, and the likelihood, $exp(0)=1$! \n",
    "\n",
    "However, the mismatch might not be 0, due to the added noise. So what we're effectively looking for is a **maximum** in the log-likelihood, or a **minimum** of its negative as a function of $\\vec{p}$:\n",
    "\n",
    "$$\n",
    "\\frac{\\partial (-L(\\vec{p}))}{\\partial \\vec{p}} \\triangleq \\min\n",
    "$$\n",
    "\n",
    "So, we can try our brute force guessing approach by **minimising the cost function given by $L(\\vec{p})$**\n",
    "\n",
    "<div class=\"alert alert-danger\">\n",
    "Write the cost function! Test it possibly shifting one parameter over some range of values\n",
    "</div>"
   ]
  },
  {
   "cell_type": "code",
   "execution_count": null,
   "metadata": {},
   "outputs": [],
   "source": []
  },
  {
   "cell_type": "markdown",
   "metadata": {
    "ExecuteTime": {
     "end_time": "2018-11-14T18:38:20.957145Z",
     "start_time": "2018-11-14T18:38:20.953937Z"
    }
   },
   "source": [
    "The easiest way to obtain the solution is to use numerical optimisation techniques to minimise the cost function. In scipy, there's [a good selection of function optimisers](https://docs.scipy.org/doc/scipy/reference/optimize.html). We'll be looking at **local** optimisers: these will look for a minimum in the vicinity of a user-given starting point, usually by looking at the gradient of the cost function. The main function to consider here is [`minimise`](https://docs.scipy.org/doc/scipy/reference/generated/scipy.optimize.minimize.html#scipy.optimize.minimize). Basically, `minimize` takes a cost function, a starting point, and maybe extra arguments that are passed to the cost function, and uses one of several algorithms to minimise the cost function. We import it with\n",
    "\n",
    "```python\n",
    "    from scipy.optimize import minimize\n",
    "```\n",
    "\n",
    "From the [documentation](https://docs.scipy.org/doc/scipy/reference/generated/scipy.optimize.minimize.html#scipy.optimize.minimize),\n",
    "```python\n",
    "    minimize(fun, x0, args=(), method=None,\n",
    "             jac=None, hess=None, hessp=None,\n",
    "             bounds=None, constraints=(), tol=None,\n",
    "             callback=None, options=None)\n",
    "```\n",
    "\n",
    "Basically, `fun` is the name of the cost function. The first parameter you pass to the cost function has to be an array with the parameters that will be used to calculate the cost. `x0` is the starting point. `args` allows you to add extra parameters that are required for the cost function (in our example, these would be `t, y_obs, passer, sigma_obs`).\n",
    "\n",
    "The `minimize` function returns an object with the \n",
    "\n",
    "1. Value of the function at the minimum,\n",
    "2. The value of the input parameters that attain the minimum,\n",
    "3. A message telling you whether the optimisation succeeded\n",
    "4. The number of iterations (`nit`) and total function evaluations (`nfev`)\n",
    "5. Some diagnostics \n",
    "\n",
    "\n",
    "\n"
   ]
  },
  {
   "cell_type": "code",
   "execution_count": null,
   "metadata": {},
   "outputs": [],
   "source": [
    "from scipy.optimize import minimize"
   ]
  },
  {
   "cell_type": "code",
   "execution_count": null,
   "metadata": {
    "ExecuteTime": {
     "end_time": "2018-11-14T19:08:28.122451Z",
     "start_time": "2018-11-14T19:08:28.082724Z"
    }
   },
   "outputs": [],
   "source": [
    "from scipy.optimize import minimize\n",
    "\n",
    "p0 = np.array([0, 5, 0.01, 90, 0.01, 200])\n",
    "\n",
    "retval = minimize(cost_function, p0, args=(t, yn, passer, 0.6))\n",
    "\n",
    "print(retval)\n",
    "\n",
    "print (\"********************************************\")\n",
    "if retval.success:\n",
    "    print(\"Optimisation successful!\")\n",
    "    print(f\"Value of the function at the minimum: {retval.fun:g}\")\n",
    "    print(f\"Value of the solution: {str(retval.x):s}\")"
   ]
  },
  {
   "cell_type": "markdown",
   "metadata": {},
   "source": [
    "<div class=\"alert alert-danger\">\n",
    "Do some synthetic experiments. For example:\n",
    "<ol>\n",
    "    <li> Change the true parameters and see how the solution tracks the change.</li>\n",
    "    <li> Increase the added variance</li>\n",
    "    <li> Reduce or increase the number of observations</li>\n",
    "</ol>\n",
    "\n",
    "Use these experiments to challenge your understanding of the problem: Try to think what the expected result of these changes is, and write a set of functions that simplify the exploration.\n",
    "</div>\n",
    "\n",
    "\n",
    "\n"
   ]
  },
  {
   "cell_type": "markdown",
   "metadata": {},
   "source": [
    "\n",
    "[<img src=\"images/noun_post_2109127.svg\" width=\"50\" align='right'>](051_Model_Fitting.ipynb)\n",
    "[<img src=\"images/noun_pre_2109128.svg\" width=\"50\" align='right'>](043_Weighted_interpolation.ipynb)\n",
    "\n"
   ]
  }
 ],
 "metadata": {
  "kernelspec": {
   "display_name": "Python [conda env:geog0111-geog0111]",
   "language": "python",
   "name": "conda-env-geog0111-geog0111-py"
  },
  "language_info": {
   "codemirror_mode": {
    "name": "ipython",
    "version": 3
   },
   "file_extension": ".py",
   "mimetype": "text/x-python",
   "name": "python",
   "nbconvert_exporter": "python",
   "pygments_lexer": "ipython3",
   "version": "3.7.8"
  }
 },
 "nbformat": 4,
 "nbformat_minor": 4
}
