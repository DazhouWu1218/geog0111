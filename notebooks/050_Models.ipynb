{
 "cells": [
  {
   "cell_type": "markdown",
   "metadata": {},
   "source": [
    "\n",
    "<img alt='UCL' src=\"images/ucl_logo.png\" align='center'>\n",
    "\n",
    "\n",
    "\n",
    "\n",
    "[<img src=\"images/noun_post_2109127.svg\" width=\"50\" align='right'>](051_Model_Fitting.ipynb)\n",
    "[<img src=\"images/noun_pre_2109128.svg\" width=\"50\" align='right'>](043_Weighted_interpolation.ipynb)\n",
    "\n"
   ]
  },
  {
   "cell_type": "markdown",
   "metadata": {},
   "source": [
    "# 050 Models\n"
   ]
  },
  {
   "cell_type": "markdown",
   "metadata": {},
   "source": [
    "## Introduction\n",
    "\n",
    "In this session, we will consider the idea of a model in (Environmental) Science and discuss some examples. The material in this section brings together a lot of the techniques we have dealt with in previous sessions, so you should make sure you are up to speed with concepts like array processing, graph plotting and writing Python functions and scripts before attempting this.\n",
    "\n",
    "You will need to understand the material in this section to be able to complete the second half of the submitted coursework.\n",
    "\n",
    "## Prerequisites\n",
    "\n",
    "You will need a good understanding of previous topics involving [`np/mgrid`](031_Numpy.ipynb#np.linspace,-np.arange,-np.mgrid) and [`np.newaxis`](032_More_numpy.ipynb#Reconciling-arrays:-np.newaxis). You should by know be familiar with other more basic material. \n"
   ]
  },
  {
   "cell_type": "markdown",
   "metadata": {},
   "source": [
    "## Models \n",
    "\n",
    "We can think of a model as a 'process' box encapsulating our understanding, or a proposal for our understanding, of some process. Two examples we will cover later are:\n",
    "\n",
    "* a descriptive model of vegetation phenology\n",
    "* a model of snow-melt\n",
    "\n",
    "Such models make an *output prediction* will be some variable, or set of variables. For our two example models, these will be:\n",
    "\n",
    "* LAI as a function of time\n",
    "* river flow resulting from snow-melt\n",
    "\n",
    "The **outputs** depend on the mechanics of our model and:\n",
    "\n",
    "* some set of **driving data** (in our two models this will be simply time, and time and temperature, respectively) \n",
    "* some model parameters\n",
    "\n",
    "The model parameters control the operation of the model. These could be related to the type of vegetation for a phenology model, or terms such as the thickness of snowpack in the case of a snow-melt model. Most often, the parameters will describe *states* and *rates*, for example, the current amount of water in a snowpack (state) or the rate at which water is released from the snowpack into runoff (rate)."
   ]
  },
  {
   "cell_type": "markdown",
   "metadata": {},
   "source": [
    "![model](images/parameters1.png)"
   ]
  },
  {
   "cell_type": "markdown",
   "metadata": {},
   "source": [
    "We will generally have access to the driving data for our model, and we will have some set of measurements that correspond to the output, but we may not know the values of the parameters to use."
   ]
  },
  {
   "cell_type": "markdown",
   "metadata": {},
   "source": [
    "![model](images/parameters2.png)"
   ]
  },
  {
   "cell_type": "markdown",
   "metadata": {},
   "source": [
    "How can we use this to provide an estimate of the model parameters? We could make some educated guesses, based on previous experience with the model in different situations ('expert opinion'), and we might also be able to provide reasonable bounds for the parameters, again either based on previous experience with the model or sometimes simply from physical limits (e.g. some parameters cannot be negative). \n",
    "\n",
    "What we really want is a more objective way of estimating the parameters. This involves parameter optimisation, which is a whole field of science. We cannot cover that in this course, but we can introduce some of the main ideas to use in our codes.\n",
    "\n",
    "Before moving on to more 'realistic' models, let's build a simple example model `model` we can learn from. \n",
    "\n",
    "This has two parameters `p[0]` and `p[0]` and a driver that represents time:"
   ]
  },
  {
   "cell_type": "code",
   "execution_count": 1,
   "metadata": {},
   "outputs": [],
   "source": [
    "# simple model \n",
    "def model(driver,param):\n",
    "    '''2-parameter quadratic model with noise'''\n",
    "    return param[0] + param[1] * driver * driver"
   ]
  },
  {
   "cell_type": "markdown",
   "metadata": {},
   "source": [
    "We will generate a dataset `measure` at time samples `tmdriver` to represent our measurements, We generate them with the model with a set of parameters and some additive noise. We will also generate a set of weights for the observations, which we will use to indicate their reliability:"
   ]
  },
  {
   "cell_type": "code",
   "execution_count": 2,
   "metadata": {},
   "outputs": [],
   "source": [
    "import numpy as np\n",
    "\n",
    "# time driver every 4 days for measurement\n",
    "tmdriver = np.arange(0,365,4,dtype=np.int)\n",
    "# generate a pseudo-measurement\n",
    "p0 = np.array([0.4,0.0002])\n",
    "measure = model(tmdriver,p0) + 5*(np.random.random(tmdriver.shape)-0.5)\n",
    "# just make up some weights for this exercise\n",
    "measure_weight = (2 + np.random.random(tmdriver.shape))/4\n",
    "# convert to std for plotting as previously\n",
    "std = 1./np.sqrt(measure_weight) * 1.96"
   ]
  },
  {
   "cell_type": "markdown",
   "metadata": {},
   "source": [
    "Now we forget that we know the parameters, make a guess that they are `[0.3,0.0001]`, and use the model to make a prediction `output`. Note that `output` exists every day, whereas the measurements are only every 4 days."
   ]
  },
  {
   "cell_type": "code",
   "execution_count": 3,
   "metadata": {
    "scrolled": false
   },
   "outputs": [
    {
     "name": "stdout",
     "output_type": "stream",
     "text": [
      "measurements: tmdriver shape (92,)\n",
      "model output: tdriver shape  (365,)\n"
     ]
    },
    {
     "data": {
      "image/png": "[encoded data removed]",
      "text/plain": [
       "<Figure size 720x216 with 1 Axes>"
      ]
     },
     "metadata": {
      "needs_background": "light"
     },
     "output_type": "display_data"
    }
   ],
   "source": [
    "import matplotlib.pyplot as plt\n",
    "\n",
    "# time driver every day\n",
    "tdriver = np.arange(0,365,1,dtype=np.int)\n",
    "# guess parameters\n",
    "p = np.array([0.3,0.0001])\n",
    "output  = model(tdriver,p)\n",
    "\n",
    "\n",
    "# plot\n",
    "fig, axs = plt.subplots(1,1,figsize=(10,3))\n",
    "axs.set_xlim(0,365)\n",
    "axs.plot(tdriver,output,'k',label='modelled values')\n",
    "axs.errorbar(tmdriver,measure,yerr=std,ls='none')\n",
    "axs.plot(tmdriver,measure,'r+',label='measured values')\n",
    "# set legend now\n",
    "axs.legend(loc='best')\n",
    "axs.set_xlabel(f'time / days')\n",
    "\n",
    "print(f'measurements: tmdriver shape {tmdriver.shape}')\n",
    "print(f'model output: tdriver shape  {tdriver.shape}')"
   ]
  },
  {
   "cell_type": "markdown",
   "metadata": {},
   "source": [
    "We can see right away that there is a mis-match between the model outputs and the measurements."
   ]
  },
  {
   "cell_type": "markdown",
   "metadata": {},
   "source": [
    "### discrepancy and optimisation\n",
    "\n",
    "We have a set of *observations* that correspond to the model outputs at some time samples. \n",
    "\n",
    "A simple operation we can do is to compare these then. We might suppose that a set of parameters that provides a lower discrepancy between observations and modelled values (we will often call this error) is *objectively better* than one with a poorer match. In that sense, what we would need to do would be to search for a set of parameters that which has the minimum error. Our search for parameters will be guided by any bounds we set. Then all we need to do is write some computer code that considers different values of the parameters and reports on the best (the optimal) match.\n"
   ]
  },
  {
   "cell_type": "markdown",
   "metadata": {},
   "source": [
    "![model](images/parameters3.png)"
   ]
  },
  {
   "cell_type": "markdown",
   "metadata": {},
   "source": [
    "That is a reasonable approach, and one we will take in these notes. We should be aware that when we do Science however, we need to take into account uncertainty, and also that there might be other constraints we want to put on the problem.\n",
    "\n",
    "Uncertainty manifests itself at all stages of modelling and optimisation: the model itself will be uncertain, because of its nature as an abstraction of some process; the drivers will often be uncertain in their ability to the conditions at the actual place and time we are doing the modelling; and the measurements will be uncertain. We have treated uncertainty in other sections of these notes by applying a weight to observations, and we can take the same approach here. When we calculate error, for instance as the root mean square error between model predictions (output) and measurement, we can weight this to give a weighted error."
   ]
  },
  {
   "cell_type": "markdown",
   "metadata": {},
   "source": [
    "Before we can calculate the (weighted) error, we need to treat the outputs so that they match the time samples of the measurements. We can either match the observations to the measurements, or the measurements to the observations. The best approach with depend on circumstances, but it is often easiest to match the measurements to the observations:"
   ]
  },
  {
   "cell_type": "code",
   "execution_count": 4,
   "metadata": {},
   "outputs": [],
   "source": [
    "# tmdriver time locations for measurements\n",
    "# tdriver time locations for model outputs\n",
    "\n",
    "# reconcile the model outputs \n",
    "# and measurements into same shape\n",
    "# find the indices of the measurements\n",
    "location_array = np.zeros_like(measure,dtype=np.int)\n",
    "# populate location_array with indices of where measurement is\n",
    "for i,t in enumerate(tmdriver):\n",
    "    location = np.where(tdriver == t)\n",
    "    if len(location[0]):\n",
    "        location_array[i] = location[0][0]"
   ]
  },
  {
   "cell_type": "code",
   "execution_count": 5,
   "metadata": {},
   "outputs": [],
   "source": [
    "# now mapping output to sample_output is easy\n",
    "sample_output = output[location_array]"
   ]
  },
  {
   "cell_type": "code",
   "execution_count": 6,
   "metadata": {},
   "outputs": [
    {
     "name": "stdout",
     "output_type": "stream",
     "text": [
      "RMSE: 3.8529648592701515 for parameters [3.e-01 1.e-04]\n"
     ]
    }
   ],
   "source": [
    "# now we can calculate the weighted discrepency \n",
    "error = (sample_output - measure)*measure_weight\n",
    "error2 = error**2\n",
    "rmse = np.sqrt(np.mean(error2))\n",
    "print(f'RMSE: {rmse} for parameters {p}')"
   ]
  },
  {
   "cell_type": "code",
   "execution_count": 7,
   "metadata": {},
   "outputs": [
    {
     "name": "stdout",
     "output_type": "stream",
     "text": [
      "measurements: measure shape (92,)\n",
      "model output: output shape  (365,)\n",
      "sample_output shape          (92,)\n"
     ]
    },
    {
     "data": {
      "image/png": "[encoded data removed]",
      "text/plain": [
       "<Figure size 720x216 with 1 Axes>"
      ]
     },
     "metadata": {
      "needs_background": "light"
     },
     "output_type": "display_data"
    }
   ],
   "source": [
    "# plot\n",
    "fig, axs = plt.subplots(1,1,figsize=(10,3))\n",
    "axs.set_xlim(0,365)\n",
    "axs.plot(tmdriver,sample_output,'r+',label='sampled modelled values')\n",
    "axs.plot(tmdriver,measure,'r+',label='measured values')\n",
    "# plot the discrepencies in orange\n",
    "axs.errorbar(tmdriver,measure,\\\n",
    "             yerr=[measure-measure,sample_output-measure],ls='none',\\\n",
    "             label='error')\n",
    "\n",
    "# set legend now\n",
    "axs.legend(loc='best')\n",
    "axs.set_xlabel(f'time / days')\n",
    "\n",
    "print(f'measurements: measure shape {measure.shape}')\n",
    "print(f'model output: output shape  {output.shape}')\n",
    "print(f'sample_output shape          {sample_output.shape}')"
   ]
  },
  {
   "cell_type": "code",
   "execution_count": 8,
   "metadata": {},
   "outputs": [
    {
     "data": {
      "text/plain": [
       "[<matplotlib.lines.Line2D at 0x7fafe047e790>]"
      ]
     },
     "execution_count": 8,
     "metadata": {},
     "output_type": "execute_result"
    },
    {
     "data": {
      "image/png": "[encoded data removed]",
      "text/plain": [
       "<Figure size 360x360 with 1 Axes>"
      ]
     },
     "metadata": {
      "needs_background": "light"
     },
     "output_type": "display_data"
    }
   ],
   "source": [
    "# scatter plot\n",
    "fig, axs = plt.subplots(1,1,figsize=(5,5))\n",
    "# max value over all\n",
    "maxvalue = np.array([measure,sample_output]).max()\n",
    "axs.set_xlim(0,maxvalue)\n",
    "axs.set_ylim(0,maxvalue)\n",
    "\n",
    "axs.plot(measure,sample_output,'r+')\n",
    "axs.errorbar(measure,sample_output,yerr=std,ls='none')\n",
    "\n",
    "axs.set_ylabel(f'model output')\n",
    "axs.set_xlabel(f'measurement')\n",
    "# 1:1 line\n",
    "axs.plot([0,maxvalue],[0,maxvalue],'k')"
   ]
  },
  {
   "cell_type": "markdown",
   "metadata": {},
   "source": [
    "### Varying the parameters\n",
    "\n",
    "We have seen how, once we have aligned the model outputs and observations, we can calculate a weighted measure if error, RMSE here. So, so some given set of measurements, a model, and a set of model parameters, we can calculate the error:"
   ]
  },
  {
   "cell_type": "markdown",
   "metadata": {},
   "source": [
    "![model](images/parameters4.png)\n",
    "\n",
    "Re-generate the set of measurements:"
   ]
  },
  {
   "cell_type": "code",
   "execution_count": 9,
   "metadata": {},
   "outputs": [],
   "source": [
    "import numpy as np\n",
    "\n",
    "# simple model \n",
    "def model(driver,param):\n",
    "    '''2-parameter quadratic model with noise'''\n",
    "    return param[0] + param[1] * driver * driver\n",
    "\n",
    "# time driver every 4 days for measurement\n",
    "tmdriver = np.arange(0,365,4,dtype=np.int)\n",
    "# generate a pseudo-measurement\n",
    "p0 = np.array([0.4,0.0002])\n",
    "# np.random.random(tmdriver.shape)-0.5 -> zero mean noise\n",
    "measure = model(tmdriver,p0) + 5*(np.random.random(tmdriver.shape)-0.5)\n",
    "# just make up some weights for this exercise\n",
    "measure_weight = (2 + np.random.random(tmdriver.shape))/4\n",
    "# convert to std for plotting as previously\n",
    "std = 1./np.sqrt(measure_weight) * 1.96"
   ]
  },
  {
   "cell_type": "markdown",
   "metadata": {},
   "source": [
    "Recap on the core components so far, but setting the parameters to `numpy` arrays:"
   ]
  },
  {
   "cell_type": "code",
   "execution_count": 10,
   "metadata": {},
   "outputs": [
    {
     "name": "stdout",
     "output_type": "stream",
     "text": [
      "p0 shape:    (1,)\n",
      "p1 shape:    (1,)\n",
      "tdriver shape: (365,)\n",
      "output shape:  (365,)\n"
     ]
    }
   ],
   "source": [
    "\n",
    "p0,p1 = np.array([0.1]),np.array([0.2])\n",
    "tdriver = np.arange(0,365,1,dtype=np.int)\n",
    "output  = model(tdriver,[p0,p1])\n",
    "\n",
    "\n",
    "print(f'p0 shape:    {p0.shape}')\n",
    "print(f'p1 shape:    {p1.shape}')\n",
    "print(f'tdriver shape: {tdriver.shape}')\n",
    "print(f'output shape:  {output.shape}')"
   ]
  },
  {
   "cell_type": "markdown",
   "metadata": {},
   "source": [
    "We will now build a Look-up table (LUT) in parameter space to examine how the RMSE varies as we vary the model parameters.\n",
    "\n",
    "Recall the material we covered in [032_More_numpy](032_More_numpy.ipynb#Reconciling-arrays:-np.newaxis). If we want to use a 2-D grid of shape `(Nxp,Nyp)` for `p0` and `p1`, we will have to make the driver shape `(1,1,365)` and the parameter shapes `(Nxp,Nyp,1)`:"
   ]
  },
  {
   "cell_type": "code",
   "execution_count": 11,
   "metadata": {},
   "outputs": [
    {
     "name": "stdout",
     "output_type": "stream",
     "text": [
      "p0_ext shape:      (11, 11, 1)\n",
      "p1_ext shape:      (11, 11, 1)\n",
      "tdriver_ext shape: (1, 1, 365)\n",
      "output shape:      (11, 11, 365)\n"
     ]
    }
   ],
   "source": [
    "# Use mgrid as previously to define a 2D grid of parameters\n",
    "p0min,p0max,p0step = 0.0,10.0,1\n",
    "p1min,p1max,p1step = 0.0,0.001,0.0001\n",
    "p0,p1 = np.mgrid[p0min:p0max+p0step:p0step,\\\n",
    "                 p1min:p1max+p1step:p1step]\n",
    "\n",
    "p0_ext      = p0[:,:,np.newaxis]\n",
    "p1_ext      = p1[:,:,np.newaxis]\n",
    "tdriver_ext = tdriver[np.newaxis,np.newaxis,:]\n",
    "\n",
    "print(f'p0_ext shape:      {p0_ext.shape}')\n",
    "print(f'p1_ext shape:      {p1_ext.shape}')\n",
    "print(f'tdriver_ext shape: {tdriver_ext.shape}')\n",
    "\n",
    "# we can now call the model with extended arrays\n",
    "output  = model(tdriver_ext,[p0_ext,p1_ext])\n",
    "print(f'output shape:      {output.shape}')"
   ]
  },
  {
   "cell_type": "markdown",
   "metadata": {},
   "source": [
    "To make a comparison with a measurement array, we have to first select time periods in `output` corresponding to the measurements. We have done this above, creating a mask `location_array` of the same dimensions as the measurements:"
   ]
  },
  {
   "cell_type": "code",
   "execution_count": 12,
   "metadata": {},
   "outputs": [
    {
     "name": "stdout",
     "output_type": "stream",
     "text": [
      "location_array shape: (92,)\n",
      "measure shape:        (92,)\n",
      "measure_weight shape: (92,)\n"
     ]
    }
   ],
   "source": [
    "# get measurement mask\n",
    "location_array = np.zeros_like(measure,dtype=np.int)\n",
    "# populate location_array with indices of where measurement is\n",
    "for i,t in enumerate(tmdriver):\n",
    "    location = np.where(tdriver == t)\n",
    "    if len(location[0]):\n",
    "        location_array[i] = location[0][0]\n",
    "        \n",
    "print(f'location_array shape: {location_array.shape}')\n",
    "print(f'measure shape:        {measure.shape}')\n",
    "print(f'measure_weight shape: {measure_weight.shape}')"
   ]
  },
  {
   "cell_type": "markdown",
   "metadata": {},
   "source": [
    "Next, select the outputs (along axis 2) from the modelling that correspond to the measurements:"
   ]
  },
  {
   "cell_type": "code",
   "execution_count": 13,
   "metadata": {},
   "outputs": [
    {
     "name": "stdout",
     "output_type": "stream",
     "text": [
      "output shape:        (11, 11, 365)\n",
      "sample_output shape: (11, 11, 92)\n"
     ]
    }
   ],
   "source": [
    "# now mapping output to sample_output is easy\n",
    "sample_output = output[:,:,location_array]\n",
    "print(f'output shape:        {output.shape}')\n",
    "print(f'sample_output shape: {sample_output.shape}')"
   ]
  },
  {
   "cell_type": "markdown",
   "metadata": {},
   "source": [
    "We need to be able to compare `sample_output` with `measure` and `measure_weight`, so lets do that to align with the parameter grid:"
   ]
  },
  {
   "cell_type": "code",
   "execution_count": 14,
   "metadata": {},
   "outputs": [
    {
     "name": "stdout",
     "output_type": "stream",
     "text": [
      "measure_shape_ext:        (1, 1, 92)\n",
      "measure_weight_ext shape: (1, 1, 92)\n"
     ]
    }
   ],
   "source": [
    "measure_ext        = measure[np.newaxis,np.newaxis,:]\n",
    "measure_weight_ext = measure_weight[np.newaxis,np.newaxis,:]\n",
    "\n",
    "print(f'measure_shape_ext:        {measure_ext.shape}')\n",
    "print(f'measure_weight_ext shape: {measure_weight_ext.shape}')"
   ]
  },
  {
   "cell_type": "markdown",
   "metadata": {},
   "source": [
    "We can now perform element-wise operations involving `measure_ext`, `measure_weight_ext` and `sample_output`:"
   ]
  },
  {
   "cell_type": "code",
   "execution_count": 15,
   "metadata": {},
   "outputs": [
    {
     "name": "stdout",
     "output_type": "stream",
     "text": [
      "error_ext shape: (11, 11, 92)\n"
     ]
    }
   ],
   "source": [
    "error_ext = (sample_output - measure_ext)*measure_weight_ext\n",
    "error_ext = error_ext**2\n",
    "print(f'error_ext shape: {error_ext.shape}')"
   ]
  },
  {
   "cell_type": "markdown",
   "metadata": {},
   "source": [
    "We now want the square root of the mean of this squared error term `error_ext` over time samples (axis 2):"
   ]
  },
  {
   "cell_type": "code",
   "execution_count": 16,
   "metadata": {},
   "outputs": [
    {
     "name": "stdout",
     "output_type": "stream",
     "text": [
      "rmse shape (11, 11)\n",
      "-> rmse\n",
      "[[ 7.72599055  3.97570464  0.95479577  3.87390666  7.62186203 11.40914191\n",
      "  15.20639233 19.00763863 22.81088326 26.61526957 30.42036922]\n",
      " [ 7.26203053  3.52734766  1.06648288  4.33851359  8.09309118 11.88123141\n",
      "  15.67862573 19.47986294 23.28306092 27.08739378 30.89244224]\n",
      " [ 6.82500472  3.14254356  1.46989147  4.84104245  8.58492361 12.36754805\n",
      "  16.16173526 19.96089273 23.76263665 27.56589692 31.37012202]\n",
      " [ 6.42041555  2.84717809  1.99529962  5.37085918  9.09401706 12.86647871\n",
      "  16.65477447 20.45010663 24.24917154 28.05045257 31.85315633]\n",
      " [ 6.05476892  2.67108789  2.56891118  5.92064262  9.61763087 13.37661199\n",
      "  17.15688734 20.94693124 24.74225503 28.54075244 32.34130525]\n",
      " [ 5.73551758  2.63826505  3.16462213  6.48531681 10.15351887 13.89671424\n",
      "  17.66730026 21.45083775 25.24150337 29.03650555 32.83434067]\n",
      " [ 5.47078986  2.75383711  3.77197643  7.06131034 10.69983699 14.42570725\n",
      "  18.18531435 21.96133867 25.74655793 29.53743733 33.33204574]\n",
      " [ 5.26881066  3.00070652  4.38613994  7.64606551 11.25506652 14.96264806\n",
      "  18.71029828 22.47798472 26.25708366 30.04328873 33.83421439]\n",
      " [ 5.1369869   3.34997087  5.00460643  8.23771669 11.81795149 15.50671109\n",
      "  19.24168158 23.00036178 26.77276758 30.55381541 34.34065081]\n",
      " [ 5.08078217  3.77330287  5.62595697  8.83487857 12.38744836 16.05717238\n",
      "  19.77894848 23.52808814 27.29331731 31.06878689 34.85116896]\n",
      " [ 5.10269585  4.24861962  6.24933137  9.436505   12.96268572 16.61339597\n",
      "  20.32163232 24.06081182 27.81845971 31.58798578 35.36559206]]\n",
      "min rmse\n",
      "0.9547957724612166\n",
      "[0] [2]\n",
      "2d parameter grid\n"
     ]
    },
    {
     "data": {
      "image/png": "[encoded data removed]",
      "text/plain": [
       "<Figure size 360x360 with 1 Axes>"
      ]
     },
     "metadata": {
      "needs_background": "light"
     },
     "output_type": "display_data"
    }
   ],
   "source": [
    "rmse = np.sqrt(np.mean(error_ext,axis=2))\n",
    "print(f'rmse shape {rmse.shape}')\n",
    "print(f'-> rmse\\n{rmse}')\n",
    "min_rmse = rmse.min()\n",
    "print(f'min rmse\\n{min_rmse}')\n",
    "\n",
    "# use np.where to find the minimum\n",
    "ix,iy= np.where(rmse == min_rmse)\n",
    "print(ix,iy)\n",
    "\n",
    "fig, axs = plt.subplots(1,1,figsize=(5,5))\n",
    "axs.plot(p0,p1,'+')\n",
    "axs.set_xlabel('p0')\n",
    "axs.set_ylabel('p1')\n",
    "\n",
    "print('2d parameter grid')"
   ]
  },
  {
   "cell_type": "markdown",
   "metadata": {},
   "source": [
    "### Find the optimal parameters\n",
    "\n",
    "Finally, to get the optimal model parameters, we need to identify the index of the minimum RMSE. This is potentially a multi-dimensional grid, so to find the index of the minimum, we first flatten the RMSE and parameter grids:"
   ]
  },
  {
   "cell_type": "code",
   "execution_count": 17,
   "metadata": {},
   "outputs": [
    {
     "name": "stdout",
     "output_type": "stream",
     "text": [
      "flattening changes the shape from (11, 11) to (121,)\n"
     ]
    }
   ],
   "source": [
    "_rmse = rmse.flatten()\n",
    "_p0 = p0.flatten()\n",
    "_p1 = p1.flatten()\n",
    "print(f'flattening changes the shape from {rmse.shape} to {_rmse.shape}')"
   ]
  },
  {
   "cell_type": "markdown",
   "metadata": {},
   "source": [
    "An equivalent operation is to `reshape` the array from `(Nx,Ny)` to `(Nx * Ny)`. Whilst we can do this multiplication explicitly, it is convenient to introduce `np.prod` which calculates the product of the elements in the array (in a similar fashion to the way `np.sum` calculates the sum). We can use:\n",
    "\n",
    "    np.prod(rmse.shape)\n",
    "    \n",
    "to give the flattened dimension, and we use `np.reshape` to do the reshaping:"
   ]
  },
  {
   "cell_type": "code",
   "execution_count": 18,
   "metadata": {},
   "outputs": [
    {
     "name": "stdout",
     "output_type": "stream",
     "text": [
      "flattening this way changes the shape from (11, 11) to (121,)\n"
     ]
    }
   ],
   "source": [
    "_rmse = rmse.reshape(np.prod(rmse.shape))\n",
    "_p0 = p0.reshape(np.prod(p0.shape))\n",
    "_p1 = p1.reshape(np.prod(p1.shape))\n",
    "print(f'flattening this way changes the shape from {rmse.shape} to {_rmse.shape}')"
   ]
  },
  {
   "cell_type": "markdown",
   "metadata": {},
   "source": [
    "The index in the flattened array of the minimum value is found with `np.argmin`:"
   ]
  },
  {
   "cell_type": "code",
   "execution_count": 19,
   "metadata": {},
   "outputs": [
    {
     "name": "stdout",
     "output_type": "stream",
     "text": [
      "index: 2: 0.0,0.0002\n"
     ]
    }
   ],
   "source": [
    "imin = np.argmin(_rmse)\n",
    "print(f'index: {imin}: {_p0[imin]},{_p1[imin]}')"
   ]
  },
  {
   "cell_type": "markdown",
   "metadata": {},
   "source": [
    "To convert the index back to the unflattened array, we can use:"
   ]
  },
  {
   "cell_type": "code",
   "execution_count": 20,
   "metadata": {},
   "outputs": [
    {
     "name": "stdout",
     "output_type": "stream",
     "text": [
      "2-D index is 0,2\n"
     ]
    }
   ],
   "source": [
    "# generate indices\n",
    "ixi,iyi = np.indices(p0.shape)\n",
    "# flatten\n",
    "_ix = ixi.reshape(np.prod(ixi.shape))\n",
    "_iy = iyi.reshape(np.prod(iyi.shape))\n",
    "\n",
    "ix,iy = _ix[imin],_iy[imin]\n",
    "print(f'2-D index is {ix},{iy}')"
   ]
  },
  {
   "cell_type": "markdown",
   "metadata": {},
   "source": [
    "Of the 11 x 11  combinations of parameters we examined, the parameters `[0.0,0.0002]` provide the best fit to the data. We had generated the 'measurements' with:\n",
    "\n",
    "    p0 = np.array([0.4,0.0002])\n",
    "\n",
    "We can find it useful to visualise the RMSE 'error surface' and then plot the measurements and forward model:"
   ]
  },
  {
   "cell_type": "code",
   "execution_count": 21,
   "metadata": {},
   "outputs": [
    {
     "data": {
      "text/plain": [
       "<matplotlib.legend.Legend at 0x7fafe036af50>"
      ]
     },
     "execution_count": 21,
     "metadata": {},
     "output_type": "execute_result"
    },
    {
     "data": {
      "image/png": "[encoded data removed]",
      "text/plain": [
       "<Figure size 360x288 with 2 Axes>"
      ]
     },
     "metadata": {
      "needs_background": "light"
     },
     "output_type": "display_data"
    }
   ],
   "source": [
    "import matplotlib.pyplot as plt\n",
    "# Plot the RMSE values returned from this as an image\n",
    "\n",
    "# plot it\n",
    "fig, axs = plt.subplots(1,1,figsize=(5,4))\n",
    "im = axs.imshow(rmse,interpolation=\"nearest\",\\\n",
    "                vmax=10,cmap=plt.cm.inferno_r)\n",
    "fig.colorbar(im, ax=axs)\n",
    "axs.set_xlabel('p1')\n",
    "axs.set_ylabel('p2')\n",
    "plt.plot([iy],[ix],'r+',label=\"minimum RMSE\")\n",
    "axs.legend(loc='best')"
   ]
  },
  {
   "cell_type": "code",
   "execution_count": 22,
   "metadata": {},
   "outputs": [
    {
     "name": "stdout",
     "output_type": "stream",
     "text": [
      "[0.     0.0002]\n",
      "measurements: tmdriver shape (92,)\n",
      "model output: tdriver shape  (365,)\n"
     ]
    },
    {
     "data": {
      "image/png": "[encoded data removed]",
      "text/plain": [
       "<Figure size 720x216 with 1 Axes>"
      ]
     },
     "metadata": {
      "needs_background": "light"
     },
     "output_type": "display_data"
    }
   ],
   "source": [
    "import matplotlib.pyplot as plt\n",
    "\n",
    "# time driver every day\n",
    "tdriver = np.arange(0,365,1,dtype=np.int)\n",
    "# get the parameters we siolved for\n",
    "p = np.array([_p0[imin],_p1[imin]])\n",
    "print(p)\n",
    "output  = model(tdriver,p)\n",
    "\n",
    "# plot\n",
    "fig, axs = plt.subplots(1,1,figsize=(10,3))\n",
    "axs.set_xlim(0,365)\n",
    "axs.plot(tdriver,output,'k',label='modelled values')\n",
    "axs.errorbar(tmdriver,measure,yerr=std,ls='none')\n",
    "axs.plot(tmdriver,measure,'r+',label='measured values')\n",
    "# set legend now\n",
    "axs.legend(loc='best')\n",
    "axs.set_xlabel(f'time / days')\n",
    "\n",
    "print(f'measurements: tmdriver shape {tmdriver.shape}')\n",
    "print(f'model output: tdriver shape  {tdriver.shape}')"
   ]
  },
  {
   "cell_type": "markdown",
   "metadata": {},
   "source": [
    "The parameter estimation code is effective and quite fast in this case. \n",
    "We are using quite a sparse LUT (121 points) in 2-D, but the model is able to mimic the (pseudo) observations very well, even with rather a quantised LUT. \n",
    "\n",
    "When we plot the RMSE as a function of the model parameters, we confirm \n",
    "the solution found by searching the LUT for the minimum. We notice however that\n",
    "the second of the model parameters can depart considerably from that used originally\n",
    "to generate the pseudo observation. The reason for this is apparent in the RMSE plots:\n",
    "the 'error surface' has a long-narrow valley in this dimension, indicating a high\n",
    "parameter uncertainty.\n",
    "\n",
    "When we forward model using the parameters we solved for, we see that the solution \n",
    "found gives a good fit to the observations, within their error bars. This further informs us\n",
    "that the sensitivity to the second model parameter is quite low. "
   ]
  },
  {
   "cell_type": "markdown",
   "metadata": {},
   "source": [
    "### LUT inversion\n",
    "\n",
    "This approach is called a Look-up table (LUT) inversion. It has the advantage of being quite fast if the total number of samples in the LUT can be kept down in number. This means that the limits to the problem need to be carefully considered: if your LUT inversion produces a supposed optimum parameter value that is on the bounds of the parameter space, then this can often be quite suspect: it may be that you just haven't sampled over a large-enough parameter space. The result is quantised to the LUT spacing if you use the simple approach here, but that will be fine for many applications. This is really only an appropriate method if you have a small number of parameters that you are solving for: i.e. a 1-, 2- or perhaps 3-Dimensional problem. If your model has more parameters, you may have to adopt a multi-pass strategy for parameter searching, or use a method other than LUT inversion."
   ]
  },
  {
   "cell_type": "markdown",
   "metadata": {
    "solution2": "hidden",
    "solution2_first": true
   },
   "source": [
    "#### Exercise 1\n",
    "\n",
    "In a file `lut_RMSE.py` do the following:\n",
    "\n",
    "        import numpy as np\n",
    "        # define the min and max and step for the grid we want\n",
    "        p0min,p0max,p0step = 0.0,10.0,0.05\n",
    "        p1min,p1max,p1step = 0.0,0.001,0.000005\n",
    "\n",
    "        gridp0,gridp1 = np.mgrid[p0min:p0max+p0step:p0step,\\\n",
    "                                 p1min:p1max+p1step:p1step]\n",
    "\n",
    "\n",
    "* Write a function `gen_lut` to return a 2D parameter (Look up table -- LUT) grid using `np.mgrid` as above as `param = [gridp0,gridp1]`\n",
    "\n",
    "        # simple model \n",
    "        def model(driver,param):\n",
    "            '''2-parameter quadratic model with noise'''\n",
    "            return param[0] + param[1] * driver * driver\n",
    "          \n",
    "* Write a function `model` to describe the model we will be using from the code above\n",
    " \n",
    "        location_array = np.zeros_like(measure,dtype=np.int)\n",
    "        # populate location_array with indices of where measurement is\n",
    "        for i,t in enumerate(tmdriver):\n",
    "            location = np.where(tdriver == t)\n",
    "            if len(location[0]):\n",
    "                location_array[i] = location[0][0]\n",
    "\n",
    " * A function `get_location_array` that takes as input:\n",
    " \n",
    "        * tdriver:        array of (Nt,) floats of the day of year on which to do modelling\n",
    "        * measure:        array of (Nm,) floats of measurements over sampled days of the year     \n",
    "        * tmdriver:       array of (Nm,) integers: the days on which the measurements occur \n",
    "         \n",
    "   and returns `location_array` array (Nm,) integers of the days of the measurements\n",
    "            \n",
    "        # code to use\n",
    "        # time driver every 4 days for measurement    \n",
    "        tmdriver = np.arange(0,365,4,dtype=np.int)\n",
    "        # generate a pseudo-measurement\n",
    "        p0 = np.array([0.4,0.0002])\n",
    "        measure = model(tmdriver,p0) + 5*(np.random.random(tmdriver.shape)-0.5)\n",
    "        # just make up some weights for this exercise\n",
    "        measure_weight = (2 + np.random.random(tmdriver.shape))/4\n",
    "        \n",
    "        \n",
    "* Write a function `gen_meas` to generate a pseudo-measurement based on the model and some noise. It should print the value of the parameters used in the model, and return `tmdriver, measure, measure_weight` corresponding to:\n",
    "\n",
    "        * tdriver:        array of (Nt,) floats of the day of year on which to do modelling\n",
    "        * measure:        array of (Nm,) floats of measurements over sampled days of the year\n",
    "        * measure_weight: array of (Nm,) floats of the weights associated with the measurements\n",
    "\n",
    "* Write a function `lut_RMSE` that takes as inputs:\n",
    "\n",
    "        * `param`:          list of `[p0,p1]` with `p0` and `p1` being arrays of shape `(Np0,Np1)` representing a the LUT grid over parameter space\n",
    "        * `tdriver`:         array of (Nt,) floats of the day of year on which to do modelling\n",
    "        * `measure:`        array of (Nm,) floats of measurements over sampled days of the year\n",
    "        * `measure_weight`: array of (Nm,) floats of the weights associated with the measurements\n",
    "        * `tmdriver`:       array of (Nm,) integers: the days on which the measurements occur \n",
    "    \n",
    " That runs the model `model(tdriver,param)`, uses `get_location_array` to sample the model outputs coirresponding to the measurements, and calculates the weighted RMSE between the measurements and the modelled values for each parameter pair, and returns a grid of shape `(Np0,Np1)` values of RMSE associated with each parameter pair.\n",
    " \n",
    " * Write a function `runner()` that \n",
    "    * generates tdriver, the array of (365,) floats of the day of year on which to do modelling\n",
    "    * gets a LUT `param` from `gen_lut`\n",
    "    * gets a pseudo-measurement from `gen_meas`\n",
    "    * gets a 2-D array of RMSE corresponding to the parameter grid\n",
    "    * calculated and prints the value of the parameters corresponding to the minimum RMSE,\n",
    "    * returns the RMSE array, the LUT, and the measurements\n",
    " \n",
    "* Run `runner()` in a notebook\n",
    "* Plot the RMSE values returned from this as an image\n",
    "* Verify that you have identified the minimum RMSE\n",
    "* Set different parameters in `gen_meas` to generate a different pseudo-measurement and repeat the process.\n",
    "* Comment on the results"
   ]
  },
  {
   "cell_type": "code",
   "execution_count": 23,
   "metadata": {
    "solution2": "hidden"
   },
   "outputs": [
    {
     "name": "stdout",
     "output_type": "stream",
     "text": [
      "original parameters: [0.4, 0.0002]\n",
      "min rmse\n",
      "2.235991886229933\n",
      "index: 1045: 0.25,0.0002\n",
      "parameters: 0.25 0.0002\n"
     ]
    }
   ],
   "source": [
    "# ANSWER\n",
    "!geog0111/lut_RMSE.py"
   ]
  },
  {
   "cell_type": "code",
   "execution_count": 24,
   "metadata": {
    "solution2": "hidden"
   },
   "outputs": [
    {
     "name": "stdout",
     "output_type": "stream",
     "text": [
      "original parameters: [0.4, 0.0002]\n",
      "min rmse\n",
      "2.278485659275898\n",
      "index: 1850: 0.45,0.00020500000000000002\n",
      "parameters: 0.45 0.00020500000000000002\n"
     ]
    }
   ],
   "source": [
    "# ANSWER\n",
    "import numpy as np\n",
    "# Run runner() in a notebook\n",
    "from geog0111.lut_RMSE import runner, model, gen_lut\n",
    "RMSE,tdriver,(measure,measure_weight,tmdriver) = runner()\n",
    "gridp0,gridp1 = gen_lut()"
   ]
  },
  {
   "cell_type": "code",
   "execution_count": 25,
   "metadata": {
    "solution2": "hidden"
   },
   "outputs": [
    {
     "ename": "NameError",
     "evalue": "name 'param' is not defined",
     "output_type": "error",
     "traceback": [
      "\u001b[0;31m---------------------------------------------------------------------------\u001b[0m",
      "\u001b[0;31mNameError\u001b[0m                                 Traceback (most recent call last)",
      "\u001b[0;32m<ipython-input-25-1855086062ce>\u001b[0m in \u001b[0;36m<module>\u001b[0;34m\u001b[0m\n\u001b[1;32m      2\u001b[0m \u001b[0;31m# use argmin to find min, but need to flatten/reshape arrays first\u001b[0m\u001b[0;34m\u001b[0m\u001b[0;34m\u001b[0m\u001b[0;34m\u001b[0m\u001b[0m\n\u001b[1;32m      3\u001b[0m \u001b[0m_rmse\u001b[0m \u001b[0;34m=\u001b[0m \u001b[0mRMSE\u001b[0m\u001b[0;34m.\u001b[0m\u001b[0mreshape\u001b[0m\u001b[0;34m(\u001b[0m\u001b[0mnp\u001b[0m\u001b[0;34m.\u001b[0m\u001b[0mprod\u001b[0m\u001b[0;34m(\u001b[0m\u001b[0mRMSE\u001b[0m\u001b[0;34m.\u001b[0m\u001b[0mshape\u001b[0m\u001b[0;34m)\u001b[0m\u001b[0;34m)\u001b[0m\u001b[0;34m\u001b[0m\u001b[0;34m\u001b[0m\u001b[0m\n\u001b[0;32m----> 4\u001b[0;31m \u001b[0m_p0\u001b[0m \u001b[0;34m=\u001b[0m \u001b[0mparam\u001b[0m\u001b[0;34m[\u001b[0m\u001b[0;36m0\u001b[0m\u001b[0;34m]\u001b[0m\u001b[0;34m.\u001b[0m\u001b[0mreshape\u001b[0m\u001b[0;34m(\u001b[0m\u001b[0mnp\u001b[0m\u001b[0;34m.\u001b[0m\u001b[0mprod\u001b[0m\u001b[0;34m(\u001b[0m\u001b[0mparam\u001b[0m\u001b[0;34m[\u001b[0m\u001b[0;36m0\u001b[0m\u001b[0;34m]\u001b[0m\u001b[0;34m.\u001b[0m\u001b[0mshape\u001b[0m\u001b[0;34m)\u001b[0m\u001b[0;34m)\u001b[0m\u001b[0;34m\u001b[0m\u001b[0;34m\u001b[0m\u001b[0m\n\u001b[0m\u001b[1;32m      5\u001b[0m \u001b[0m_p1\u001b[0m \u001b[0;34m=\u001b[0m \u001b[0mparam\u001b[0m\u001b[0;34m[\u001b[0m\u001b[0;36m1\u001b[0m\u001b[0;34m]\u001b[0m\u001b[0;34m.\u001b[0m\u001b[0mreshape\u001b[0m\u001b[0;34m(\u001b[0m\u001b[0mnp\u001b[0m\u001b[0;34m.\u001b[0m\u001b[0mprod\u001b[0m\u001b[0;34m(\u001b[0m\u001b[0mparam\u001b[0m\u001b[0;34m[\u001b[0m\u001b[0;36m1\u001b[0m\u001b[0;34m]\u001b[0m\u001b[0;34m.\u001b[0m\u001b[0mshape\u001b[0m\u001b[0;34m)\u001b[0m\u001b[0;34m)\u001b[0m\u001b[0;34m\u001b[0m\u001b[0;34m\u001b[0m\u001b[0m\n\u001b[1;32m      6\u001b[0m \u001b[0;34m\u001b[0m\u001b[0m\n",
      "\u001b[0;31mNameError\u001b[0m: name 'param' is not defined"
     ]
    }
   ],
   "source": [
    "# confirm\n",
    "# use argmin to find min, but need to flatten/reshape arrays first\n",
    "_rmse = RMSE.reshape(np.prod(RMSE.shape))\n",
    "_p0 = param[0].reshape(np.prod(param[0].shape))\n",
    "_p1 = param[1].reshape(np.prod(param[1].shape))\n",
    "\n",
    "imin = np.argmin(_rmse)\n",
    "\n",
    "print(f'index: {imin}: {_p0[imin]},{_p1[imin]}')\n",
    "ixi,iyi = np.indices(param[0].shape)\n",
    "# flatten\n",
    "_ix = ixi.reshape(np.prod(ixi.shape))\n",
    "_iy = iyi.reshape(np.prod(iyi.shape))\n",
    "ix,iy = _ix[imin],_iy[imin]\n",
    "p = np.array([_p0[imin],_p1[imin]])\n",
    "print(f'parameters: {p[0]} {p[1]}')"
   ]
  },
  {
   "cell_type": "code",
   "execution_count": null,
   "metadata": {
    "solution2": "hidden"
   },
   "outputs": [],
   "source": [
    "import matplotlib.pyplot as plt\n",
    "# Plot the RMSE values returned from this as an image\n",
    "\n",
    "# plot it\n",
    "fig, axs = plt.subplots(1,1,figsize=(10,8))\n",
    "im = axs.imshow(RMSE,interpolation=\"nearest\",\\\n",
    "                vmax=10,cmap=plt.cm.inferno_r)\n",
    "fig.colorbar(im, ax=axs)\n",
    "axs.set_xlabel('p1')\n",
    "axs.set_ylabel('p2')\n",
    "plt.plot([iy],[ix],'r+',label=\"minimum RMSE\")\n",
    "axs.legend(loc='best')"
   ]
  },
  {
   "cell_type": "code",
   "execution_count": null,
   "metadata": {
    "solution2": "hidden"
   },
   "outputs": [],
   "source": [
    "import numpy as np\n",
    "from geog0111.lut_RMSE import gen_meas,model,lut_RMSE\n",
    "\n",
    "# change the original parameters \n",
    "\n",
    "tdriver = np.arange(0,365,1,dtype=np.int)\n",
    "param = gen_lut()\n",
    "tmdriver,measure,measure_weight = gen_meas(p0=[0.0,0.0005])\n",
    "std = 1./np.sqrt(measure_weight) * 1.96\n",
    "RMSE = lut_RMSE(param,tdriver,measure,measure_weight,tmdriver)\n",
    "min_rmse = RMSE.min()\n",
    "ix,iy = np.where(RMSE == min_rmse)\n",
    "print(gridp0[ix,iy],gridp1[ix,iy],RMSE[ix,iy])\n",
    "print(f'min rmse\\n{min_rmse}')\n",
    "fig, axs = plt.subplots(1,1,figsize=(10,8))\n",
    "im = axs.imshow(RMSE,interpolation=\"nearest\",\\\n",
    "                vmax=10,cmap=plt.cm.inferno_r)\n",
    "fig.colorbar(im, ax=axs)\n",
    "axs.set_xlabel('p1')\n",
    "axs.set_ylabel('p2')\n",
    "plt.plot([iy],[ix],'r+',label=\"minimum RMSE\")\n",
    "axs.legend(loc='best')"
   ]
  },
  {
   "cell_type": "code",
   "execution_count": null,
   "metadata": {
    "solution2": "hidden"
   },
   "outputs": [],
   "source": [
    "import matplotlib.pyplot as plt\n",
    "\n",
    "# time driver every day\n",
    "tdriver = np.arange(0,365,1,dtype=np.int)\n",
    "# get the parameters we siolved for\n",
    "p = np.array([gridp0[ix,iy],gridp1[ix,iy]]).flatten()\n",
    "print(p)\n",
    "output  = model(tdriver,p)\n",
    "\n",
    "# plot\n",
    "fig, axs = plt.subplots(1,1,figsize=(10,3))\n",
    "axs.set_xlim(0,365)\n",
    "axs.plot(tdriver,output,'k',label='modelled values')\n",
    "axs.errorbar(tmdriver,measure,yerr=std,ls='none')\n",
    "axs.plot(tmdriver,measure,'r+',label='measured values')\n",
    "# set legend now\n",
    "axs.legend(loc='best')\n",
    "axs.set_xlabel(f'time / days')\n",
    "\n",
    "print(f'measurements: tmdriver shape {tmdriver.shape}')\n",
    "print(f'model output: tdriver shape  {tdriver.shape}')"
   ]
  },
  {
   "cell_type": "code",
   "execution_count": null,
   "metadata": {
    "scrolled": true,
    "solution2": "hidden"
   },
   "outputs": [],
   "source": [
    "# Comment on the results\n",
    "\n",
    "msg = '''\n",
    "We confirm the findings above, but are now able to see the form of the error surface in much greater detail. \n",
    "'''\n",
    "print(msg)"
   ]
  },
  {
   "cell_type": "markdown",
   "metadata": {},
   "source": [
    "## Summary\n",
    "\n",
    "In this notebook, we have discussed some generic aspects of models. We note that they typically have some set of driving data (even if that is just time, as in the example here), and a set of parameters that control the model response. \n",
    "\n",
    "We have seen how we can apply the concepts we learned in the [`numpy`](032_More_numpy.ipynb#032-More-numpy) sessions to build a parameter LUT and rapidly calculate a goodness of fit measure between some set of observations and the model output. We have seen how to use this to provide an estimate of the model parameters. This is known as model calibration. \n",
    "\n",
    "Technically, we have seen how we need to reconcile the dimensions of the parameter LUT and the model outputs in `numpy` using `np.newaxis` so we can calculate the model outputs for all parameters in the LUT efficiently, all at once. We have seen that parameter estimation in this way can be effective, but may be limited to a relatively small-dimensional problem. If we have a larger number of parameters, we may need to devise other strategies for parameter estimation."
   ]
  },
  {
   "cell_type": "markdown",
   "metadata": {},
   "source": [
    "\n",
    "[<img src=\"images/noun_post_2109127.svg\" width=\"50\" align='right'>](051_Model_Fitting.ipynb)\n",
    "[<img src=\"images/noun_pre_2109128.svg\" width=\"50\" align='right'>](043_Weighted_interpolation.ipynb)\n",
    "\n"
   ]
  }
 ],
 "metadata": {
  "kernelspec": {
   "display_name": "Python [conda env:geog0111-geog0111]",
   "language": "python",
   "name": "conda-env-geog0111-geog0111-py"
  },
  "language_info": {
   "codemirror_mode": {
    "name": "ipython",
    "version": 3
   },
   "file_extension": ".py",
   "mimetype": "text/x-python",
   "name": "python",
   "nbconvert_exporter": "python",
   "pygments_lexer": "ipython3",
   "version": "3.7.8"
  }
 },
 "nbformat": 4,
 "nbformat_minor": 4
}
