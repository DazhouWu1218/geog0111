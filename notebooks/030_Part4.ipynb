{
 "cells": [
  {
   "cell_type": "markdown",
   "metadata": {},
   "source": [
    "# Part 4"
   ]
  },
  {
   "cell_type": "markdown",
   "metadata": {},
   "source": [
    "*  [031_GDAL](031_GDAL.ipynb)\n",
    "* [032_MODIS_download](032_MODIS_download.ipynb)\n",
    "* [033_GDAL_stacking_and_interpolating](033_GDAL_stacking_and_interpolating.ipynb)\n",
    "* [034_GDAL_Reconciling_projections.ipynb\n",
    "](034_GDAL_Reconciling_projections.ipynb)\n",
    "* [034_GDAL_masking](034_GDAL_masking.ipynb)"
   ]
  }
 ],
 "metadata": {
  "kernelspec": {
   "display_name": "Python 3",
   "language": "python",
   "name": "python3"
  },
  "language_info": {
   "codemirror_mode": {
    "name": "ipython",
    "version": 3
   },
   "file_extension": ".py",
   "mimetype": "text/x-python",
   "name": "python",
   "nbconvert_exporter": "python",
   "pygments_lexer": "ipython3",
   "version": "3.7.8"
  }
 },
 "nbformat": 4,
 "nbformat_minor": 4
}
