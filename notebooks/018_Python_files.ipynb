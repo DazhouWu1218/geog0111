{
 "cells": [
  {
   "cell_type": "markdown",
   "metadata": {},
   "source": [
    "<img alt='UCL' src=\"images/ucl_logo.png\" align='center'>\n",
    "\n",
    "\n",
    "[<img src=\"images/noun_post_2109127.svg\" width=\"50\" align='right'>](016_Python_for.ipynb)\n",
    "[<img src=\"images/noun_pre_2109128.svg\" width=\"50\" align='right'>](018_Python_xxx.ipynb)\n",
    "\n"
   ]
  },
  {
   "cell_type": "markdown",
   "metadata": {},
   "source": [
    "# 018 Files and other Resources"
   ]
  },
  {
   "cell_type": "markdown",
   "metadata": {},
   "source": [
    "\n",
    "## Introduction\n",
    "\n",
    "\n",
    "\n",
    "### Purpose\n",
    "\n",
    "In this session, we will learn about files and similar resources. We will introduce the standard Python library [`pathlib`](https://docs.python.org/3/library/pathlib.html) which is how we deal with file paths, as well as the local package [gurlpath](geog0111/gurlpath) derived from [`urlpath`](https://github.com/chrono-meter/urlpath) that allows a similar object-oriented approach with files and other objects on the web. We will also cover opening and closing files, and some simple read- and write-operations.\n",
    "\n",
    "\n",
    "\n",
    "### Prerequisites\n",
    "\n",
    "You will need some understanding of the following:\n",
    "\n",
    "\n",
    "* [001 Using Notebooks](001_Notebook_use.ipynb)\n",
    "* [002 Unix](002_Unix.ipynb)\n",
    "* [003 Getting help](003_Help.ipynb)\n",
    "* [010 Variables, comments and print()](010_Python_Introduction.ipynb)\n",
    "* [011 Data types](011_Python_data_types.ipynb) \n",
    "* [012 String formatting](012_Python_strings.ipynb)\n",
    "* [013_Python_string_methods](013_Python_string_methods.ipynb)\n",
    "\n",
    "\n",
    "\n",
    "### Timing\n",
    "\n",
    "The session should take around 40 minutes."
   ]
  },
  {
   "cell_type": "markdown",
   "metadata": {},
   "source": [
    "## Resource location\n",
    "\n",
    "We store information on a computer in files, or file-like resources. We will use the term 'file' below to mean either of these concepts, other than specific issues relating to particular types of file/resource.\n",
    "\n",
    "To get information from files, we need to be able to specify some **address** for the file/resource location, along with some way of interacting with the file. These concepts are captured in the idea of a [URI](https://en.wikipedia.org/wiki/Uniform_Resource_Identifier) (Uniform Resource Indicator). You will most likely have come across the related idea of a [Uniform Resource Locator (URL)](https://en.wikipedia.org/wiki/URL), which is a URL such as [https://www.geog.ucl.ac.uk/people/academic-staff/philip-lewis](https://www.geog.ucl.ac.uk/people/academic-staff/philip-lewis)\n",
    "that gives:\n",
    "\n",
    "* the location of the resource: `people/academic-staff/philip-lewis`\n",
    "* the access and interpretation protocol: [`https`](https://en.wikipedia.org/wiki/HTTPS) (secure [`http`](https://en.wikipedia.org/wiki/Hypertext_Transfer_Protocol))\n",
    "* the network domain name: [`www.geog.ucl.ac.uk`](https://www.geog.ucl.ac.uk)\n",
    "\n",
    "When we visit this URL using an appropriate tool such as a browser, the tool can access and interpret the information in the resource: in this case, interpret the [html code](https://www.w3schools.com/html) in the file pointed to by the URL.\n",
    "\n",
    "Similarly, we will be used to the idea of accessing `files` on the computer. These may be in the local file system, or on some network or cloud storage that might be accessible from the local file system. An example of such a file would be some Python code file such as \n",
    "[`geog0111/helloWorld.py`](http://localhost:8888/edit/notebooks/geog0111/helloWorld.py).\n",
    "\n",
    "The two most convenient Python libraries to use for accessing files are [`pathlib`](https://docs.python.org/3/library/pathlib.html) for file paths, the extension package [`urlpath`](https://github.com/chrono-meter/urlpath) for URLs."
   ]
  },
  {
   "cell_type": "markdown",
   "metadata": {},
   "source": [
    "## `Path`"
   ]
  },
  {
   "cell_type": "markdown",
   "metadata": {},
   "source": [
    "`Path` is part of the `pathlib` package, so in any Python codes, we first must import this into our workspace:"
   ]
  },
  {
   "cell_type": "code",
   "execution_count": 1,
   "metadata": {},
   "outputs": [],
   "source": [
    "from pathlib import Path"
   ]
  },
  {
   "cell_type": "markdown",
   "metadata": {},
   "source": [
    "We may repeat this `import` in the codes below, for illustration purposes. You need only import it once in any file or session though. "
   ]
  },
  {
   "cell_type": "markdown",
   "metadata": {},
   "source": [
    "### `posix`\n",
    "\n",
    "The main class we will use from `pathlib` is `Path`. This provides an object-oriented way of dealing with files and paths, that is portable to any operating system. Recall from [002 Unix](002_Unix.ipynb) that unix-like operating systems use `posix` filenames, separated by forward slash `/` (or just *slash*). Windows uses a backslash `\\`. But *we* want to write Python codes that are generic and shouldn't need to greatly worry about such issues. Using `Path` greatly helps in this regard, though there will always the occasional time we do need to distinguish `posix` and non-`posix` systems.\n",
    "\n"
   ]
  },
  {
   "cell_type": "markdown",
   "metadata": {},
   "source": [
    "### Common `Path` methods"
   ]
  },
  {
   "cell_type": "markdown",
   "metadata": {},
   "source": [
    "We can start with a table of [commonly-used methods](https://stackabuse.com/introduction-to-the-python-pathlib-module/#:~:text=The%20Pathlib%20module%20can%20deal,(usually%20the%20current%20directory).) using `Path` and give their [Unix equivalents](002_Unix.ipynb), most of which we have already learned.\n",
    "\n",
    "|command| unix-equivalent | purpose|\n",
    "|---|---|---|\n",
    "|`Path.cwd()`| `pwd` |Return path object representing the current working directory|\n",
    "|`Path.home()`| `~`| Return path object representing the home directory|\n",
    "|`Path.stat()`| `ls -l`* | return info about the path|\n",
    "|`Path.chmod()`| `chmod` | change file mode and permissions|\n",
    "|`Path.glob(pattern)`| `ls *` | Glob the pattern given in the directory that is represented by the path, yielding matching files of any kind|\n",
    "|`Path.mkdir()`| `mkdir` | to create a new directory at the given path|\n",
    "|`Path.rename()`| `mv` | Rename a file or directory to the given target|\n",
    "|`Path.rmdir()`| `rmdir` | Remove the empty directory|\n",
    "|`Path.unlink()`| `rm` | Remove the file or symbolic link|\n",
    "\n",
    "`*` Really, `Path.stat()` equates to the `unix` command `stat`, but this contains the information we access using `ls -l`."
   ]
  },
  {
   "cell_type": "markdown",
   "metadata": {},
   "source": [
    "Since we are already familiar with most of these commands in `unix`, we can get straight into using them:"
   ]
  },
  {
   "cell_type": "code",
   "execution_count": 2,
   "metadata": {},
   "outputs": [
    {
     "name": "stdout",
     "output_type": "stream",
     "text": [
      "I am in directory /Users/plewis/Documents/GitHub/geog0111/notebooks\n",
      "My home is /Users/plewis\n"
     ]
    }
   ],
   "source": [
    "from pathlib import Path\n",
    "\n",
    "print(f'I am in directory {Path.cwd()}')\n",
    "print(f'My home is {Path.home()}')"
   ]
  },
  {
   "cell_type": "markdown",
   "metadata": {},
   "source": [
    "To keep the filenames generic, we form a filename using `Path()`, so `Path('bin','README')` would refer to the filename `bin/README` on a `posix` system, and `bin/README` on Windows.\n",
    "\n",
    "### File information\n",
    "\n",
    "The file permissions format we are used to from `ls -l` is accessed through `filename.stat().st_mode` but needs to be converted to octal to match to `ls`\n",
    "\n",
    "    oct(filename.stat().st_mode)"
   ]
  },
  {
   "cell_type": "code",
   "execution_count": 3,
   "metadata": {},
   "outputs": [
    {
     "name": "stdout",
     "output_type": "stream",
     "text": [
      "README file is bin/README\n",
      "       size is 16 bytes\n",
      "       mode is 0o100644\n",
      "      owner is plewis\n"
     ]
    }
   ],
   "source": [
    "# similar information to ls -l\n",
    "readme=Path('bin','README')\n",
    "print(f'README file is {readme}')\n",
    "print(f'       size is {readme.stat().st_size} bytes')\n",
    "print(f'       mode is {oct(readme.stat().st_mode)}')\n",
    "print(f'      owner is {readme.owner()}')"
   ]
  },
  {
   "cell_type": "markdown",
   "metadata": {},
   "source": [
    "### glob\n",
    "\n",
    "To use a wildcard (or any pattern) to refer to a list of files, we use `Path.glob()` (or `Path.rglob()` for a recursive list):"
   ]
  },
  {
   "cell_type": "code",
   "execution_count": 4,
   "metadata": {},
   "outputs": [
    {
     "name": "stdout",
     "output_type": "stream",
     "text": [
      "bin/notebook-mkdocs.sh : 0o100644\n",
      "bin/setup.sh : 0o100644\n",
      "bin/notebook-run.sh : 0o100644\n",
      "bin/link-set.sh : 0o100644\n",
      "bin/git-remove-all.sh : 0o100644\n"
     ]
    }
   ],
   "source": [
    "# use glob to get a list of filenames in the directory bin \n",
    "# that end with .sh -> pattern *.sh using a wildcard\n",
    "filenames = Path('bin').glob('*.sh')\n",
    "# loop over the filenames\n",
    "for f in filenames:\n",
    "    print(f'{f} : {oct(readme.stat().st_mode)}')"
   ]
  },
  {
   "cell_type": "markdown",
   "metadata": {
    "solution2": "hidden",
    "solution2_first": true
   },
   "source": [
    "#### Exercise 1\n",
    "\n",
    "* Use `Path` to show the file permissions of all files that end `.sh` in the directory `bin`"
   ]
  },
  {
   "cell_type": "code",
   "execution_count": null,
   "metadata": {
    "solution2": "hidden"
   },
   "outputs": [],
   "source": [
    "# ANSWER\n",
    "# Use Path to show the file permissions of\n",
    "# all files that end .sh in the directory bin\n",
    "\n",
    "# use glob to get a list of filenames in the directory bin \n",
    "# that end with .sh -> pattern *.sh using a wildcard\n",
    "filenames = Path('bin').glob('*.sh')\n",
    "# loop over the filenames\n",
    "for f in filenames:\n",
    "    print(f)"
   ]
  },
  {
   "cell_type": "markdown",
   "metadata": {},
   "source": [
    "### `absolute` `parts` `name` `parent`\n",
    "\n",
    "We can use `Path` to convert filenames between relative and absolute representations using `absolute()` and `relative_to()`:"
   ]
  },
  {
   "cell_type": "code",
   "execution_count": null,
   "metadata": {},
   "outputs": [],
   "source": [
    "print(f'I am in {Path.cwd()}')\n",
    "\n",
    "# define a relative path name\n",
    "readme=Path('bin','README')\n",
    "print(f'original relative name:\\n\\t{readme}')\n",
    "\n",
    "# convert to absolute\n",
    "readme = readme.absolute()\n",
    "print(f'absolute name:\\n\\t{readme}')\n",
    "\n",
    "# now make a relative pathname, \n",
    "# reletive to current working directory\n",
    "readme = readme.relative_to(Path.cwd())\n",
    "print(f'name relative to {Path.cwd()}:\\n\\t{readme}')"
   ]
  },
  {
   "cell_type": "markdown",
   "metadata": {},
   "source": [
    "Quite often we need to split some filename up into its constituent parts. This is achieved with `paths` which gives a list of the file name tree:"
   ]
  },
  {
   "cell_type": "code",
   "execution_count": null,
   "metadata": {},
   "outputs": [],
   "source": [
    "readme=Path('bin','README')\n",
    "print(readme.parts)"
   ]
  },
  {
   "cell_type": "markdown",
   "metadata": {},
   "source": [
    "We could use that to get at the filename `README` from the last item in the list, but a more object-oriented way is to use `name` (and `parent` to get the directory up to that point):"
   ]
  },
  {
   "cell_type": "code",
   "execution_count": null,
   "metadata": {},
   "outputs": [],
   "source": [
    "readme=Path('bin','README')\n",
    "print(f'name   of {readme} is {readme.name}')\n",
    "print(f'parent of {readme} is {readme.parent}')"
   ]
  },
  {
   "cell_type": "markdown",
   "metadata": {
    "solution2": "hidden",
    "solution2_first": true
   },
   "source": [
    "#### Exercise 2\n",
    "\n",
    "* print out the absolute pathname of the directory that `images/ucl.png` is in\n",
    "* print the size of the file in KB to two decimal places\n",
    "\n",
    "You will need to know how many Bytes in a Kilobyte, and how to [format a string to two decimal places](012_Python_strings.ipynb#String-formating)."
   ]
  },
  {
   "cell_type": "markdown",
   "metadata": {},
   "source": [
    "## Reading and writing\n",
    "\n",
    "We can conveniently use `pathlib` to deal with file input and output. The main methods to be aware of are:"
   ]
  },
  {
   "cell_type": "markdown",
   "metadata": {},
   "source": [
    "\n",
    "|command|  purpose|\n",
    "|---|---|\n",
    "|`Path.open()`| open a file and return a file descriptor|\n",
    "|`Path.read_text()`|  read text|\n",
    "|`Path.write_text()`| write text|\n",
    "|`Path.read_bytes()`| read byte data|\n",
    "|`Path.write_bytes()`| write byte data|\n",
    "\n",
    "\n",
    "### `with ... as ...` `Path.open` `yaml` `json`\n",
    "\n",
    "The first of these provides a file descriptor for the open file. This is used to interface to other input/output functions in Python. A typical example of this is reading a configuration file in [`yaml` format](http://zetcode.com/python/yaml/).\n",
    "\n",
    "The usual way of opening a file to get the file descriptor is:\n",
    "\n",
    "    with Path(filename).open('r') as f:\n",
    "       # do some reading with f\n",
    "       pass\n",
    "       \n",
    "\n",
    "We use the form `with ... as ...` here, so that the file descriptor `f` only exists within this construct and the file is automatically closed when we finish. Codes are spaced in inside the construct, as we have seen in `if ...` or `for ... in ...` constructs.\n",
    "\n",
    "Here, we have set the flag `r` within the `open()` statement (this is the default mode). This means that the file will be opened for *reading* only. Alternatives include `w` for writing, or `w+` for appending.\n",
    "\n",
    "In the following example, we use `Path` to open the file [`bin/copy/environment.yml`](bin/copy/environment.yml) and read it using the `yaml` library. This file specifies which packages are loaded in our Python environment. It has a simple ascii format, but since it is a `yaml` file, we should read it with code that interprets the format correctly and safely into a dictionary. This is done using `yaml.safe_load(f)` with `f` an open file descriptor."
   ]
  },
  {
   "cell_type": "code",
   "execution_count": null,
   "metadata": {},
   "outputs": [],
   "source": [
    "import yaml\n",
    "\n",
    "# form the file name\n",
    "yaml_file = Path('bin','copy','environment.yml')\n",
    "\n",
    "with yaml_file.open('r') as f:\n",
    "    env = yaml.safe_load(f)\n",
    "\n",
    "print(f'env is type {type(env)}')\n",
    "print(f'env keys: {env.keys()}')"
   ]
  },
  {
   "cell_type": "markdown",
   "metadata": {},
   "source": [
    "Another common file format for configuration information is [`json`](https://www.json.org/json-en.html). We can use the same form of code as above to write the information in `env` into a `json` format file:"
   ]
  },
  {
   "cell_type": "code",
   "execution_count": null,
   "metadata": {},
   "outputs": [],
   "source": [
    "import json\n",
    "\n",
    "# form the file name\n",
    "json_file = Path('bin','copy','environment.json')\n",
    "\n",
    "with json_file.open('w') as f:\n",
    "    json.dump(env, f)"
   ]
  },
  {
   "cell_type": "markdown",
   "metadata": {},
   "source": [
    "This now exists as [`bin/copy/environment.json`](bin/copy/environment.json)."
   ]
  },
  {
   "cell_type": "markdown",
   "metadata": {},
   "source": [
    "## read and write text\n",
    "\n",
    "To use `Path.write_text()` to write text to a file `work/easy.txt`, we simply do:"
   ]
  },
  {
   "cell_type": "code",
   "execution_count": null,
   "metadata": {},
   "outputs": [],
   "source": [
    "# from https://www.json.org\n",
    "some_text = '''\n",
    "It is easy for humans to read and write.\n",
    "It is easy for machines to parse and generate. \n",
    "'''\n",
    "\n",
    "# set up the filename\n",
    "outfile = Path('work','easy.txt')\n",
    "# write the text\n",
    "nbytes = outfile.write_text(some_text)\n",
    "# print what we did\n",
    "print(f'wrote {nbytes} bytes to {outfile}')"
   ]
  },
  {
   "cell_type": "markdown",
   "metadata": {
    "solution2": "hidden",
    "solution2_first": true
   },
   "source": [
    "#### Exercise 3\n",
    "\n",
    "* Using `Path.read_text()` read the text from the file `work/easy.txt` and print the text returned.\n",
    "* split the text into lines of text using `str.split()` at each newline, and print out the resulting list\n",
    "\n",
    "You learned how to split strings in [013_Python_string_methods](013_Python_string_methods.ipynb#split()-and-join())"
   ]
  },
  {
   "cell_type": "code",
   "execution_count": null,
   "metadata": {
    "solution2": "hidden"
   },
   "outputs": [],
   "source": [
    "# ANSWER\n",
    "# Using Path.read_text() read the text from the file work/easy.txt \n",
    "# and print the text returned.\n",
    "\n",
    "# set up the filename\n",
    "infile = Path('work','easy.txt')\n",
    "# read the text\n",
    "read_text = infile.read_text()\n",
    "\n",
    "# split the text into lines of \n",
    "# text using str.split() at each newline, \n",
    "# and print out the resulting list\n",
    "lines = read_text.split('\\n')\n",
    "print(lines)"
   ]
  },
  {
   "cell_type": "markdown",
   "metadata": {},
   "source": [
    "A similar approach is taken for reading and writing binary data."
   ]
  },
  {
   "cell_type": "markdown",
   "metadata": {},
   "source": [
    "## Reading from a URL"
   ]
  },
  {
   "cell_type": "markdown",
   "metadata": {},
   "source": [
    "The library `gurlpath` is designed to operate in a similar manner to `pathlib` for reading data from URLs. \n",
    "\n",
    "\n",
    "|command|  purpose|\n",
    "|---|---|\n",
    "|`URL.read_text()`|  read text|\n",
    "|`URL.read_bytes()`| read byte data|\n",
    "\n",
    "The object corresponding to `Path` is `URL`:"
   ]
  },
  {
   "cell_type": "code",
   "execution_count": 16,
   "metadata": {},
   "outputs": [],
   "source": [
    "from geog0111.gurlpath import URL\n",
    "url = \"https://www.metoffice.gov.uk/hadobs/hadukp/data/monthly/HadSEEP_monthly_qc.txt\"\n",
    "\n",
    "f = URL(url)"
   ]
  },
  {
   "cell_type": "markdown",
   "metadata": {},
   "source": [
    "We have similar functionality for manipulating filenames, but more limited file information:"
   ]
  },
  {
   "cell_type": "code",
   "execution_count": 17,
   "metadata": {},
   "outputs": [
    {
     "name": "stdout",
     "output_type": "stream",
     "text": [
      "URL https://www.metoffice.gov.uk/hadobs/hadukp/data/monthly/HadSEEP_monthly_qc.txt\n",
      "name   : HadSEEP_monthly_qc.txt\n",
      "parent : https://www.metoffice.gov.uk/hadobs/hadukp/data/monthly\n"
     ]
    }
   ],
   "source": [
    "print(f'URL {f}')\n",
    "print(f'name   : {f.name}')\n",
    "print(f'parent : {f.parent}')"
   ]
  },
  {
   "cell_type": "markdown",
   "metadata": {},
   "source": [
    "It is particularly useful for a simple object-oriented approach to reading text (or e.g. `json`) information from a URL:"
   ]
  },
  {
   "cell_type": "code",
   "execution_count": 18,
   "metadata": {},
   "outputs": [],
   "source": [
    "html_data = f.read_text()"
   ]
  },
  {
   "cell_type": "markdown",
   "metadata": {},
   "source": [
    "If we examine the data on the website [HadSEEP_monthly_qc.txt](https://www.metoffice.gov.uk/hadobs/hadukp/data/monthly/HadSEEP_monthly_qc.txt), we see that the first 3 lines are metedata. The fourth line specifies the data columns, then the rest are datra values, with `-99.9` as invalid.\n",
    "\n"
   ]
  },
  {
   "cell_type": "code",
   "execution_count": 15,
   "metadata": {},
   "outputs": [
    {
     "data": {
      "text/html": [
       "<div>\n",
       "<style scoped>\n",
       "    .dataframe tbody tr th:only-of-type {\n",
       "        vertical-align: middle;\n",
       "    }\n",
       "\n",
       "    .dataframe tbody tr th {\n",
       "        vertical-align: top;\n",
       "    }\n",
       "\n",
       "    .dataframe thead th {\n",
       "        text-align: right;\n",
       "    }\n",
       "</style>\n",
       "<table border=\"1\" class=\"dataframe\">\n",
       "  <thead>\n",
       "    <tr style=\"text-align: right;\">\n",
       "      <th></th>\n",
       "      <th>YEAR</th>\n",
       "      <th>JAN</th>\n",
       "      <th>FEB</th>\n",
       "      <th>MAR</th>\n",
       "      <th>APR</th>\n",
       "      <th>MAY</th>\n",
       "      <th>JUN</th>\n",
       "      <th>JUL</th>\n",
       "      <th>AUG</th>\n",
       "      <th>SEP</th>\n",
       "      <th>OCT</th>\n",
       "      <th>NOV</th>\n",
       "      <th>DEC</th>\n",
       "      <th>ANN</th>\n",
       "    </tr>\n",
       "  </thead>\n",
       "  <tbody>\n",
       "    <tr>\n",
       "      <th>0</th>\n",
       "      <td>1873</td>\n",
       "      <td>87.1</td>\n",
       "      <td>50.4</td>\n",
       "      <td>52.9</td>\n",
       "      <td>19.9</td>\n",
       "      <td>41.1</td>\n",
       "      <td>63.6</td>\n",
       "      <td>53.2</td>\n",
       "      <td>56.4</td>\n",
       "      <td>62.0</td>\n",
       "      <td>86.0</td>\n",
       "      <td>59.4</td>\n",
       "      <td>15.7</td>\n",
       "      <td>647.7</td>\n",
       "    </tr>\n",
       "    <tr>\n",
       "      <th>1</th>\n",
       "      <td>1874</td>\n",
       "      <td>46.8</td>\n",
       "      <td>44.9</td>\n",
       "      <td>15.8</td>\n",
       "      <td>48.4</td>\n",
       "      <td>24.1</td>\n",
       "      <td>49.9</td>\n",
       "      <td>28.3</td>\n",
       "      <td>43.6</td>\n",
       "      <td>79.4</td>\n",
       "      <td>96.1</td>\n",
       "      <td>63.9</td>\n",
       "      <td>52.3</td>\n",
       "      <td>593.5</td>\n",
       "    </tr>\n",
       "    <tr>\n",
       "      <th>2</th>\n",
       "      <td>1875</td>\n",
       "      <td>96.9</td>\n",
       "      <td>39.7</td>\n",
       "      <td>22.9</td>\n",
       "      <td>37.0</td>\n",
       "      <td>39.1</td>\n",
       "      <td>76.1</td>\n",
       "      <td>125.1</td>\n",
       "      <td>40.8</td>\n",
       "      <td>54.7</td>\n",
       "      <td>137.7</td>\n",
       "      <td>106.4</td>\n",
       "      <td>27.1</td>\n",
       "      <td>803.5</td>\n",
       "    </tr>\n",
       "    <tr>\n",
       "      <th>3</th>\n",
       "      <td>1876</td>\n",
       "      <td>31.8</td>\n",
       "      <td>71.9</td>\n",
       "      <td>79.5</td>\n",
       "      <td>63.6</td>\n",
       "      <td>16.5</td>\n",
       "      <td>37.2</td>\n",
       "      <td>22.3</td>\n",
       "      <td>66.3</td>\n",
       "      <td>118.2</td>\n",
       "      <td>34.1</td>\n",
       "      <td>89.0</td>\n",
       "      <td>162.9</td>\n",
       "      <td>793.3</td>\n",
       "    </tr>\n",
       "    <tr>\n",
       "      <th>4</th>\n",
       "      <td>1877</td>\n",
       "      <td>146.0</td>\n",
       "      <td>47.7</td>\n",
       "      <td>56.2</td>\n",
       "      <td>66.4</td>\n",
       "      <td>62.3</td>\n",
       "      <td>24.9</td>\n",
       "      <td>78.5</td>\n",
       "      <td>82.4</td>\n",
       "      <td>38.4</td>\n",
       "      <td>58.1</td>\n",
       "      <td>144.5</td>\n",
       "      <td>54.2</td>\n",
       "      <td>859.6</td>\n",
       "    </tr>\n",
       "  </tbody>\n",
       "</table>\n",
       "</div>"
      ],
      "text/plain": [
       "   YEAR    JAN   FEB   MAR   APR   MAY   JUN    JUL   AUG    SEP    OCT  \\\n",
       "0  1873   87.1  50.4  52.9  19.9  41.1  63.6   53.2  56.4   62.0   86.0   \n",
       "1  1874   46.8  44.9  15.8  48.4  24.1  49.9   28.3  43.6   79.4   96.1   \n",
       "2  1875   96.9  39.7  22.9  37.0  39.1  76.1  125.1  40.8   54.7  137.7   \n",
       "3  1876   31.8  71.9  79.5  63.6  16.5  37.2   22.3  66.3  118.2   34.1   \n",
       "4  1877  146.0  47.7  56.2  66.4  62.3  24.9   78.5  82.4   38.4   58.1   \n",
       "\n",
       "     NOV    DEC    ANN  \n",
       "0   59.4   15.7  647.7  \n",
       "1   63.9   52.3  593.5  \n",
       "2  106.4   27.1  803.5  \n",
       "3   89.0  162.9  793.3  \n",
       "4  144.5   54.2  859.6  "
      ]
     },
     "execution_count": 15,
     "metadata": {},
     "output_type": "execute_result"
    }
   ],
   "source": [
    "import pandas as pd\n",
    "import io\n",
    "c=pd.read_table(io.StringIO(f.read_text()),skiprows=3,na_values=[-99.9],sep=r\"[ ]{1,}\",engine='python')\n",
    "c.head()"
   ]
  },
  {
   "cell_type": "code",
   "execution_count": 150,
   "metadata": {},
   "outputs": [
    {
     "data": {
      "text/plain": [
       "[<matplotlib.lines.Line2D at 0x7fc87314c3d0>]"
      ]
     },
     "execution_count": 150,
     "metadata": {},
     "output_type": "execute_result"
    },
    {
     "data": {
      "image/png": "[encoded data removed]",
      "text/plain": [
       "<Figure size 432x288 with 1 Axes>"
      ]
     },
     "metadata": {
      "needs_background": "light"
     },
     "output_type": "display_data"
    }
   ],
   "source": [
    "import matplotlib.pyplot as plt\n",
    "plt.plot(c['YEAR'],c['JAN'])"
   ]
  },
  {
   "cell_type": "code",
   "execution_count": 118,
   "metadata": {
    "solution2": "hidden"
   },
   "outputs": [
    {
     "ename": "NameError",
     "evalue": "name 'Path' is not defined",
     "output_type": "error",
     "traceback": [
      "\u001b[0;31m---------------------------------------------------------------------------\u001b[0m",
      "\u001b[0;31mNameError\u001b[0m                                 Traceback (most recent call last)",
      "\u001b[0;32m<ipython-input-118-595f63975242>\u001b[0m in \u001b[0;36m<module>\u001b[0;34m\u001b[0m\n\u001b[1;32m      3\u001b[0m \u001b[0;34m\u001b[0m\u001b[0m\n\u001b[1;32m      4\u001b[0m \u001b[0;31m# set up the filename\u001b[0m\u001b[0;34m\u001b[0m\u001b[0;34m\u001b[0m\u001b[0;34m\u001b[0m\u001b[0m\n\u001b[0;32m----> 5\u001b[0;31m \u001b[0minfile\u001b[0m \u001b[0;34m=\u001b[0m \u001b[0mPath\u001b[0m\u001b[0;34m(\u001b[0m\u001b[0;34m'work'\u001b[0m\u001b[0;34m,\u001b[0m\u001b[0;34m'easy.txt'\u001b[0m\u001b[0;34m)\u001b[0m\u001b[0;34m\u001b[0m\u001b[0;34m\u001b[0m\u001b[0m\n\u001b[0m\u001b[1;32m      6\u001b[0m \u001b[0;31m# read the text\u001b[0m\u001b[0;34m\u001b[0m\u001b[0;34m\u001b[0m\u001b[0;34m\u001b[0m\u001b[0m\n\u001b[1;32m      7\u001b[0m \u001b[0mread_text\u001b[0m \u001b[0;34m=\u001b[0m \u001b[0minfile\u001b[0m\u001b[0;34m.\u001b[0m\u001b[0mread_text\u001b[0m\u001b[0;34m(\u001b[0m\u001b[0;34m)\u001b[0m\u001b[0;34m\u001b[0m\u001b[0;34m\u001b[0m\u001b[0m\n",
      "\u001b[0;31mNameError\u001b[0m: name 'Path' is not defined"
     ]
    }
   ],
   "source": [
    "# ANSWER \n",
    "# following from above\n",
    "\n",
    "# set up the filename\n",
    "infile = Path('work','easy.txt')\n",
    "# read the text\n",
    "read_text = infile.read_text()\n",
    "\n",
    "# print what we did\n",
    "print(f'read\\n\"\"\"{read_text}\"\"\"\\nfrom {infile}')"
   ]
  },
  {
   "cell_type": "code",
   "execution_count": 119,
   "metadata": {
    "solution2": "hidden"
   },
   "outputs": [
    {
     "ename": "NameError",
     "evalue": "name 'Path' is not defined",
     "output_type": "error",
     "traceback": [
      "\u001b[0;31m---------------------------------------------------------------------------\u001b[0m",
      "\u001b[0;31mNameError\u001b[0m                                 Traceback (most recent call last)",
      "\u001b[0;32m<ipython-input-119-4ac914f8e21e>\u001b[0m in \u001b[0;36m<module>\u001b[0;34m\u001b[0m\n\u001b[1;32m      6\u001b[0m \u001b[0;34m\u001b[0m\u001b[0m\n\u001b[1;32m      7\u001b[0m \u001b[0;31m# form the file names\u001b[0m\u001b[0;34m\u001b[0m\u001b[0;34m\u001b[0m\u001b[0;34m\u001b[0m\u001b[0m\n\u001b[0;32m----> 8\u001b[0;31m \u001b[0mjson_file\u001b[0m \u001b[0;34m=\u001b[0m \u001b[0mPath\u001b[0m\u001b[0;34m(\u001b[0m\u001b[0;34m'bin'\u001b[0m\u001b[0;34m,\u001b[0m\u001b[0;34m'copy'\u001b[0m\u001b[0;34m,\u001b[0m\u001b[0;34m'environment.json'\u001b[0m\u001b[0;34m)\u001b[0m\u001b[0;34m\u001b[0m\u001b[0;34m\u001b[0m\u001b[0m\n\u001b[0m\u001b[1;32m      9\u001b[0m \u001b[0myaml_file\u001b[0m \u001b[0;34m=\u001b[0m \u001b[0mPath\u001b[0m\u001b[0;34m(\u001b[0m\u001b[0;34m'bin'\u001b[0m\u001b[0;34m,\u001b[0m\u001b[0;34m'copy'\u001b[0m\u001b[0;34m,\u001b[0m\u001b[0;34m'environment.yml'\u001b[0m\u001b[0;34m)\u001b[0m\u001b[0;34m\u001b[0m\u001b[0;34m\u001b[0m\u001b[0m\n\u001b[1;32m     10\u001b[0m \u001b[0;31m# loop and print size\u001b[0m\u001b[0;34m\u001b[0m\u001b[0;34m\u001b[0m\u001b[0;34m\u001b[0m\u001b[0m\n",
      "\u001b[0;31mNameError\u001b[0m: name 'Path' is not defined"
     ]
    }
   ],
   "source": [
    "# ANSWER\n",
    "import json\n",
    "\n",
    "# show the size of the files \n",
    "# bin/copy/environment.json and bin/copy/environment.yml\n",
    "\n",
    "# form the file names\n",
    "json_file = Path('bin','copy','environment.json')\n",
    "yaml_file = Path('bin','copy','environment.yml')\n",
    "# loop and print size\n",
    "for f in [json_file,yaml_file]:\n",
    "    print(f'{f} : {f.stat().st_size} bytes')"
   ]
  },
  {
   "cell_type": "code",
   "execution_count": null,
   "metadata": {
    "solution2": "hidden"
   },
   "outputs": [],
   "source": [
    "# ANSWER\n",
    "\n",
    "# read the information from bin/copy/environment.json using Path and json.load() into a variable called \n",
    "# jenv and print the keys of the dictionary jenv\n",
    "\n",
    "# open file for read\n",
    "with json_file.open('r') as f:\n",
    "    jenv = json.load(f)\n",
    "    \n",
    "print(f'jenv keys: {jenv.keys()}')\n",
    "\n",
    "# use assert to check if the keys are the same\n",
    "assert jenv.keys() == env.keys()\n",
    "print('passed assertion')"
   ]
  },
  {
   "cell_type": "code",
   "execution_count": null,
   "metadata": {
    "solution2": "hidden"
   },
   "outputs": [],
   "source": [
    "# ANSWER \n",
    "\n",
    "# print out the absolute pathname of the \n",
    "# directory that images/ucl.png is in\n",
    "abs_name = Path('images/ucl.png').absolute()\n",
    "print(abs_name)\n",
    "\n",
    "# we want the parent!\n",
    "print(f'the file {abs_name.name} is in {abs_name.parent}')\n",
    "\n",
    "# print the size of the file in bytes\n",
    "print(f'{abs_name.name} has size {abs_name.stat().st_size} bytes')\n",
    "\n",
    "# 1 KB is 1024 Bytes\n",
    "# .2f is 2 d.p. format\n",
    "print(f'{abs_name.name} has size ' +\\\n",
    "      f'{abs_name.stat().st_size/1024:.2f} KB')"
   ]
  },
  {
   "cell_type": "markdown",
   "metadata": {},
   "source": [
    "We will use this idea to make a dictionary of our ENSO dataset, using the items in the header for the keys. In this way, we obtain a  more elegant representation of the dataset, and can refer to items by names (keys) instead of column numbers."
   ]
  },
  {
   "cell_type": "code",
   "execution_count": null,
   "metadata": {},
   "outputs": [],
   "source": [
    "import requests\n",
    "import numpy as np\n",
    "import io\n",
    "\n",
    "# copy the useful data\n",
    "start_head = txt.find('YEAR')\n",
    "start_data = txt.find('1950\\t')\n",
    "stop_data  = txt.find('2018\\t')\n",
    "\n",
    "header = txt[start_head:start_data].split()\n",
    "data = np.loadtxt(io.StringIO(txt[start_data:stop_data]),unpack=True)\n",
    "\n",
    "# use zip to load into a dictionary\n",
    "data_dict = dict(zip(header, data))\n",
    "\n",
    "key = 'MAYJUN'\n",
    "# plot data\n",
    "plt.figure(0,figsize=(12,7))\n",
    "plt.title('ENSO data from {0}'.format(url))\n",
    "plt.plot(data_dict['YEAR'],data_dict[key],label=key)\n",
    "plt.xlabel('year')\n",
    "plt.ylabel('ENSO')\n",
    "plt.legend(loc='best')"
   ]
  },
  {
   "cell_type": "markdown",
   "metadata": {
    "solution2": "hidden",
    "solution2_first": true
   },
   "source": [
    "#### Exercise 1\n",
    "\n",
    "* copy the code above, and modify so that datasets for months `['MAYJUN','JUNJUL','JULAUG']` are plotted on the graph\n",
    "\n",
    "Hint: use a for loop"
   ]
  },
  {
   "cell_type": "code",
   "execution_count": null,
   "metadata": {
    "solution2": "hidden"
   },
   "outputs": [],
   "source": [
    "# do exercise here\n",
    "# ANSWER\n",
    "\n",
    "import requests\n",
    "import numpy as np\n",
    "import io\n",
    "\n",
    "# access dataset as above\n",
    "url = \"http://www.esrl.noaa.gov/psd/enso/mei.old/table.html\"\n",
    "txt = requests.get(url).text\n",
    "\n",
    "# copy the useful data\n",
    "start_head = txt.find('YEAR')\n",
    "start_data = txt.find('1950\\t')\n",
    "stop_data  = txt.find('2018\\t')\n",
    "\n",
    "header = txt[start_head:start_data].split()\n",
    "data = np.loadtxt(io.StringIO(txt[start_data:stop_data]),unpack=True)\n",
    "\n",
    "# use zip to load into a dictionary\n",
    "data_dict = dict(zip(header, data))\n",
    "\n",
    "\n",
    "'''\n",
    "Do the loop here\n",
    "'''\n",
    "for i,key in enumerate(['MAYJUN','JUNJUL','JULAUG']):\n",
    "    # plot data\n",
    "    '''\n",
    "    Use enumeration i as figure number\n",
    "    '''\n",
    "    plt.figure(i,figsize=(12,7))\n",
    "    plt.title('ENSO data from {0}'.format(url))\n",
    "    plt.plot(data_dict['YEAR'],data_dict[key],label=key)\n",
    "    plt.xlabel('year')\n",
    "    plt.ylabel('ENSO')\n",
    "    plt.legend(loc='best')"
   ]
  },
  {
   "cell_type": "markdown",
   "metadata": {},
   "source": [
    "We can also usefully use a dictionary with a printing format statement. In that case, we refer directly to the key in ther format string. This can make printing statements much easier to read. We don;'t directly pass the dictionary to the `fortmat` staterment, but rather `**dict`, where `**dict` means \"treat the key-value pairs in the dictionary as additional named arguments to this function call\".\n",
    "\n",
    "So, in the example:"
   ]
  },
  {
   "cell_type": "code",
   "execution_count": null,
   "metadata": {},
   "outputs": [],
   "source": [
    "import requests\n",
    "import numpy as np\n",
    "import io\n",
    "\n",
    "# access dataset as above\n",
    "url = \"http://www.esrl.noaa.gov/psd/enso/mei/table.html\"\n",
    "txt = requests.get(url).text\n",
    "\n",
    "# copy the useful data\n",
    "start_head = txt.find('YEAR')\n",
    "start_data = txt.find('1950\\t')\n",
    "stop_data  = txt.find('2018\\t')\n",
    "\n",
    "header = txt[start_head:start_data].split()\n",
    "data = np.loadtxt(io.StringIO(txt[start_data:stop_data]),unpack=True)\n",
    "\n",
    "# use zip to load into a dictionary\n",
    "data_dict = dict(zip(header, data))\n",
    "print(data_dict.keys())\n",
    "\n",
    "# print the data for MAYJUN\n",
    "print('data for MAYJUN: {MAYJUN}'.format(**data_dict))"
   ]
  },
  {
   "cell_type": "markdown",
   "metadata": {},
   "source": [
    "The line `print('data for MAYJUN: {MAYJUN}'.format(**data_dict))` is equivalent to writing:\n",
    "\n",
    "    print('data for {MAYJUN}'.format(YEAR=data_dict[YEAR],DECJAN=data_dict[DECJAN], ...))\n",
    "    \n",
    "In this way, we use the keys in the dictionary as keywords to pass to a method."
   ]
  },
  {
   "cell_type": "markdown",
   "metadata": {},
   "source": [
    "Another useful example of such a use of a dictionary is in saving a numpy dataset to file.\n",
    "\n",
    "If the data are numpy arrays in a dictionary as above, we can store the dataset using:\n",
    "\n"
   ]
  },
  {
   "cell_type": "code",
   "execution_count": null,
   "metadata": {},
   "outputs": [],
   "source": [
    "import requests\n",
    "import numpy as np\n",
    "import io\n",
    "\n",
    "# access dataset as above\n",
    "url = \"http://www.esrl.noaa.gov/psd/enso/mei/table.html\"\n",
    "txt = requests.get(url).text\n",
    "\n",
    "# copy the useful data\n",
    "start_head = txt.find('YEAR')\n",
    "start_data = txt.find('1950\\t')\n",
    "stop_data  = txt.find('2018\\t')\n",
    "\n",
    "header = txt[start_head:start_data].split()\n",
    "data = np.loadtxt(io.StringIO(txt[start_data:stop_data]),unpack=True)\n",
    "\n",
    "# use zip to load into a dictionary\n",
    "data_dict = dict(zip(header, data))\n",
    "\n",
    "filename = 'enso_mei.npz'\n",
    "\n",
    "# save the dataset\n",
    "np.savez_compressed(filename,**data_dict)"
   ]
  },
  {
   "cell_type": "markdown",
   "metadata": {},
   "source": [
    "What we load from the file is a dictionary-like object `<class 'numpy.lib.npyio.NpzFile'>`.\n",
    "\n",
    "If needed, we can cast this to a dictionary with `dict()`, but it is generally more efficient to keep the original type."
   ]
  },
  {
   "cell_type": "code",
   "execution_count": null,
   "metadata": {},
   "outputs": [],
   "source": [
    "# load the dataset\n",
    "\n",
    "filename = 'enso_mei.npz'\n",
    "\n",
    "loaded_data = np.load(filename)\n",
    "\n",
    "print(type(loaded_data))\n",
    "\n",
    "# test they are the same using np.array_equal\n",
    "for k in loaded_data.keys():\n",
    "    print('\\t',k,np.array_equal(data_dict[k], loaded_data[k]))"
   ]
  },
  {
   "cell_type": "markdown",
   "metadata": {
    "solution2": "shown",
    "solution2_first": true
   },
   "source": [
    "#### Exercise 2\n",
    "\n",
    "* Using what you have learned above, access the Met Office data file [`https://www.metoffice.gov.uk/hadobs/hadukp/data/monthly/HadSEEP_monthly_qc.txt`](https://www.metoffice.gov.uk/hadobs/hadukp/data/monthly/HadSEEP_monthly_qc.txt) and create a 'data package' in a numpy`.npz` file that has keys of `YEAR` and each month in the year, with associated datasets of Monthly Southeast England precipitation (mm).\n",
    "* confirm that tha data in your `npz` file is the same as in your original dictionary\n",
    "* produce a plot of October rainfall using these data for the years 1900 onwards"
   ]
  },
  {
   "cell_type": "code",
   "execution_count": null,
   "metadata": {
    "solution2": "shown"
   },
   "outputs": [],
   "source": [
    "# do exercise here\n",
    "# ANSWER\n",
    "\n",
    "'''\n",
    "Exploration of dataset shows:\n",
    "\n",
    "\n",
    "Monthly Southeast England precipitation (mm). Daily automated values used after 1996.\n",
    "Wigley & Jones (J.Climatol.,1987), Gregory et al. (Int.J.Clim.,1991)\n",
    "Jones & Conway (Int.J.Climatol.,1997), Alexander & Jones (ASL,2001). Values may change after QC.\n",
    "YEAR   JAN   FEB   MAR   APR   MAY   JUN   JUL   AUG   SEP   OCT   NOV   DEC   ANN\n",
    " 1873  87.1  50.4  52.9  19.9  41.1  63.6  53.2  56.4  62.0  86.0  59.4  15.7  647.7\n",
    " 1874  46.8  44.9  15.8  48.4  24.1  49.9  28.3  43.6  79.4  96.1  63.9  52.3  593.5\n",
    "\n",
    "so we have 3 lines of header\n",
    "then the column titles\n",
    "then the data\n",
    "\n",
    "we can define these as before using\n",
    "\n",
    "txt.find('YEAR')\n",
    "start_data = txt.find('1873')\n",
    "stop_data = None\n",
    "\n",
    "\n",
    "Other than the filenames then, the code\n",
    "is identical\n",
    "'''\n",
    "\n",
    "import requests\n",
    "import numpy as np\n",
    "import io\n",
    "\n",
    "# access dataset as above\n",
    "url = \"https://www.metoffice.gov.uk/hadobs/hadukp/data/monthly/HadSEEP_monthly_qc.txt\"\n",
    "txt = requests.get(url).text\n",
    "\n",
    "# copy the useful data\n",
    "start_head = txt.find('YEAR')\n",
    "start_data = txt.find('1873')\n",
    "stop_data  = None\n",
    "\n",
    "header = txt[start_head:start_data].split()\n",
    "data = np.loadtxt(io.StringIO(txt[start_data:stop_data]),unpack=True)\n",
    "\n",
    "# use zip to load into a dictionary\n",
    "data_dict = dict(zip(header, data))\n",
    "\n",
    "filename = 'HadSEEP_monthly_qc.npz'\n",
    "\n",
    "# save the dataset\n",
    "np.savez_compressed(filename,**data_dict)"
   ]
  },
  {
   "cell_type": "code",
   "execution_count": null,
   "metadata": {
    "solution2": "shown"
   },
   "outputs": [],
   "source": [
    "# ANSWER\n",
    "\n",
    "loaded_data = np.load(filename)\n",
    "\n",
    "print(type(loaded_data))\n",
    "\n",
    "# test they are the same using np.array_equal\n",
    "for k in loaded_data.keys():\n",
    "    print('\\t',k,np.array_equal(data_dict[k], loaded_data[k]))"
   ]
  },
  {
   "cell_type": "code",
   "execution_count": null,
   "metadata": {
    "solution2": "shown"
   },
   "outputs": [],
   "source": [
    "# ANSWER\n",
    "\n",
    "'''\n",
    "October rainfall, 1900+\n",
    "'''\n",
    "\n",
    "year = loaded_data['YEAR']\n",
    "\n",
    "# mask where years match\n",
    "mask = year  >= 1900\n",
    "\n",
    "oct = loaded_data['OCT']\n",
    "\n",
    "# set invalid data points to nan\n",
    "oct[oct<0] = np.nan\n",
    "\n",
    "plt.plot(year[mask],oct[mask])"
   ]
  },
  {
   "cell_type": "markdown",
   "metadata": {},
   "source": [
    "### 1.3.5 Summary\n",
    "\n",
    "In this section, we have extended the types of data we might come across to include groups . We dealt with ordered groups of various types (`tuple`, `list`), and introduced the numpy package for numpy arrays (`np.array`). We saw dictionaries as collections with which we refer to individual items with a key.\n",
    "\n",
    "We learned in the previous section how to pull apart a dataset presented as a string using loops and various using methods and to construct a useful dataset 'by hand' in a list or similar structure. It is useful, when learning to program, to know how to do this.\n",
    "\n",
    "Here, we saw that packages such as numpy provide higher level routines that make reading data easier, and we would generally use these in practice. We saw how we can use `zip()` to help load a dataset from arrays into a dictionary, and also the value of using a dictionary representation when saving numpy files."
   ]
  }
 ],
 "metadata": {
  "kernelspec": {
   "display_name": "Python 3",
   "language": "python",
   "name": "python3"
  },
  "language_info": {
   "codemirror_mode": {
    "name": "ipython",
    "version": 3
   },
   "file_extension": ".py",
   "mimetype": "text/x-python",
   "name": "python",
   "nbconvert_exporter": "python",
   "pygments_lexer": "ipython3",
   "version": "3.7.8"
  },
  "latex_envs": {
   "LaTeX_envs_menu_present": true,
   "autocomplete": true,
   "bibliofile": "biblio.bib",
   "cite_by": "apalike",
   "current_citInitial": 1,
   "eqLabelWithNumbers": true,
   "eqNumInitial": 1,
   "hotkeys": {
    "equation": "Ctrl-E",
    "itemize": "Ctrl-I"
   },
   "labels_anchors": false,
   "latex_user_defs": false,
   "report_style_numbering": false,
   "user_envs_cfg": false
  },
  "toc": {
   "base_numbering": 1,
   "nav_menu": {},
   "number_sections": false,
   "sideBar": false,
   "skip_h1_title": false,
   "title_cell": "Table of Contents",
   "title_sidebar": "Contents",
   "toc_cell": false,
   "toc_position": {
    "height": "calc(100% - 180px)",
    "left": "10px",
    "top": "150px",
    "width": "207px"
   },
   "toc_section_display": false,
   "toc_window_display": false
  },
  "varInspector": {
   "cols": {
    "lenName": 16,
    "lenType": 16,
    "lenVar": 40
   },
   "kernels_config": {
    "python": {
     "delete_cmd_postfix": "",
     "delete_cmd_prefix": "del ",
     "library": "var_list.py",
     "varRefreshCmd": "print(var_dic_list())"
    },
    "r": {
     "delete_cmd_postfix": ") ",
     "delete_cmd_prefix": "rm(",
     "library": "var_list.r",
     "varRefreshCmd": "cat(var_dic_list()) "
    }
   },
   "types_to_exclude": [
    "module",
    "function",
    "builtin_function_or_method",
    "instance",
    "_Feature"
   ],
   "window_display": false
  }
 },
 "nbformat": 4,
 "nbformat_minor": 1
}
