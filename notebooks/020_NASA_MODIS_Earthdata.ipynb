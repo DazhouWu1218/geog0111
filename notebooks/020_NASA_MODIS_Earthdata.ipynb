{
 "cells": [
  {
   "cell_type": "markdown",
   "metadata": {},
   "source": [
    "<img alt='UCL' src=\"images/ucl_logo.png\" align='center'>\n",
    "\n",
    "\n",
    "[<img src=\"images/noun_post_2109127.svg\" width=\"50\" align='right'>](016_Python_for.ipynb)\n",
    "[<img src=\"images/noun_pre_2109128.svg\" width=\"50\" align='right'>](018_Python_xxx.ipynb)\n",
    "\n"
   ]
  },
  {
   "cell_type": "markdown",
   "metadata": {},
   "source": [
    "# NASA MODIS Earthdata\n",
    "\n",
    "\n",
    "## Introduction\n",
    "\n",
    "### Purpose \n",
    "\n",
    "In this notebook, we will use high-level codes from `geog0111` to familiarise ourselves with downloading and interpreting NASA MODIS datasets from [`NASA EarthData`](https://urs.earthdata.nasa.gov). We will also be visualising these data in this notebook.\n",
    "\n",
    "We will be **introducing NASA MODIS land products**, and viewing the MODIS LAI product as an example. This notebook should serve as an introduction to accessing similar products from Earthdata.\n",
    "\n",
    "The aim of the codes here is not to provide an exhaustive interface to MODIS data products, although the same scripts should be useable for most, if not all similar products. Rather, it is to use these high-level codes to easily access and visualise the data to understand their properties. \n",
    "\n",
    "Neither is it to develop or use an [API](https://en.wikipedia.org/wiki/Application_programming_interface) to access the data. If all you want is to get hold of some data product for some defined location and time, then you might use an API such as [Appeears](https://lpdaacsvc.cr.usgs.gov/appeears/).\n",
    "\n",
    "Students who take the [GEOG0111 course](https://github.com/UCL-EO/geog0111) will develop codes along similar lines to this later in the term, so for them, these notes also illustrate some of the things they will be able to do when you have finished this course. For them, we will *look under the bonnet* of such codes, and learn how to develop them. For others, they can use these codes as they stand to access MODIS data via Earthdata."
   ]
  },
  {
   "cell_type": "markdown",
   "metadata": {},
   "source": [
    "### Prerequisites\n",
    "\n",
    "Before you can use the material in this notebook, you will need to register as a user at the [`NASA EarthData`](https://urs.earthdata.nasa.gov/users/new).\n",
    "\n",
    "Once you have done that, make sure you know your `username` and `password` ready for below.\n",
    "\n",
    "The are no assumptions that you know any python code at this point: the use of code should be high enough level that you can easily understand what is going on, and use the constructs shown to modify the codes to your purpose.\n",
    "\n",
    "For completeness, we list the python and other codes below.\n",
    "\n",
    "We do assume that you have basic familiarity with using [Jupyter notebooks](001_Notebook_use.ipynb).\n",
    "\n",
    "You should run through the [Credentials](#Credentials) section below before proceeding further with these notes."
   ]
  },
  {
   "cell_type": "markdown",
   "metadata": {},
   "source": [
    "### Credentials\n",
    "\n",
    "We will store your credentials for [`NASA EarthData`] (https://urs.earthdata.nasa.gov/users/new) to allow easier data downloading. \n",
    "\n",
    "**N.B. using `cylog().login()` is only intended to work with access to NASA Earthdata and to prevent you having to expose your username and password in these notes**.\n",
    "\n",
    "\n",
    "In the `geog0111` library, we have a Python class called `cylog`, written to allow easier persistent interface to NASA download servers.\n",
    "\n",
    "First, we import `cylog` from the `geog0111` library.\n",
    "\n",
    "Run the cell below:"
   ]
  },
  {
   "cell_type": "code",
   "execution_count": 1,
   "metadata": {},
   "outputs": [],
   "source": [
    "try:\n",
    "    from geog0111.cylog import Cylog\n",
    "    from geog0111.nasa_requests import test\n",
    "except:\n",
    "    raise SystemExit(\"Error loading the required uclgeog library\")"
   ]
  },
  {
   "cell_type": "markdown",
   "metadata": {},
   "source": [
    "If this gave an error, there is a problem importing the `geog0111` library and you should get help on this in a support class."
   ]
  },
  {
   "cell_type": "markdown",
   "metadata": {},
   "source": [
    "### Earthdata login\n",
    "\n",
    "Run the cell below, and enter your `username` and `password` if prompted."
   ]
  },
  {
   "cell_type": "code",
   "execution_count": 4,
   "metadata": {},
   "outputs": [
    {
     "name": "stdout",
     "output_type": "stream",
     "text": [
      "None\n",
      "has this worked? True\n"
     ]
    },
    {
     "name": "stderr",
     "output_type": "stream",
     "text": [
      "--> generating key file in /Users/plewis/.cylog\n",
      "--> --> saving key file to /Users/plewis/.cylog/.cylog.npz\n"
     ]
    }
   ],
   "source": [
    "site='https://e4ftl01.cr.usgs.gov'\n",
    "cy = Cylog(site,init=True,verbose=True)\n",
    "\n",
    "# check this has worked\n",
    "print('has this worked?',test())"
   ]
  },
  {
   "cell_type": "code",
   "execution_count": 6,
   "metadata": {},
   "outputs": [
    {
     "name": "stderr",
     "output_type": "stream",
     "text": [
      "--> forcing re-entry of password for https://e4ftl01.cr.usgs.gov\n"
     ]
    },
    {
     "name": "stdout",
     "output_type": "stream",
     "text": [
      "--> user login required for https://e4ftl01.cr.usgs.gov <--\n",
      "Enter your username: lewis0585\n",
      "please type your password········\n",
      "please re-type your password for confirmation········\n",
      "password created\n"
     ]
    },
    {
     "name": "stderr",
     "output_type": "stream",
     "text": [
      "--> ciphering key from key file /Users/plewis/.cylog/.cylog.npz\n",
      "--> --> writing ciphers to file\n",
      "--> --> done writing ciphers to file\n"
     ]
    }
   ],
   "source": [
    "site='https://e4ftl01.cr.usgs.gov'\n",
    "# uncomment this line to force re-entry\n",
    "#done=cy.login(force=True)"
   ]
  },
  {
   "cell_type": "markdown",
   "metadata": {},
   "source": [
    "If you want to force the code to let you re-enter your credentials (e.g. you got it wrong before, or have changed them, or the test fails), then change the call to:\n",
    "\n",
    "    cy = cylog(force=True)\n",
    "    \n",
    "and re-run."
   ]
  },
  {
   "cell_type": "markdown",
   "metadata": {},
   "source": [
    "`cylog` stores your username and password in a file that only you can read. We can use this as a convenient way to pull some NASA MODIS data."
   ]
  },
  {
   "cell_type": "markdown",
   "metadata": {},
   "source": [
    "### Code used\n"
   ]
  },
  {
   "cell_type": "markdown",
   "metadata": {},
   "source": [
    "\n",
    "In the code below, we use the following python constructs:\n",
    "\n",
    "* [`import` modules](https://www.w3schools.com/python/python_modules.asp)\n",
    "* [Error trapping: `try ... except`](https://www.w3schools.com/python/python_try_except.asp#:~:text=The%20try%20block%20lets%20you,the%20try%2D%20and%20except%20blocks.)\n",
    "* [`assert`](https://www.w3schools.com/python/ref_keyword_assert.asp)\n",
    "* [`dictionary`](https://www.w3schools.com/python/python_dictionaries.asp)\n",
    "* [`print()`](https://www.w3schools.com/python/ref_func_print.asp)\n",
    "* [string `format()`](https://www.w3schools.com/python/ref_string_format.asp)\n",
    "* [variables](https://www.w3schools.com/python/python_variables.asp)\n",
    "* [keyword arguments](https://www.w3schools.com/python/gloss_python_function_keyword_arguments.asp)\n",
    "* [np.logical_or](https://numpy.org/doc/stable/reference/generated/numpy.logical_or.html)\n",
    "\n",
    "Their meaning should be quite obvious from their context, but we provide links here to materiual at [https://www.w3schools.com/](https://www.w3schools.com/) should you wish to understand them further here."
   ]
  },
  {
   "cell_type": "markdown",
   "metadata": {},
   "source": [
    "## MODIS LAI product \n",
    "\n",
    "To introduce geospatial processing, we will use a dataset from the MODIS LAI product over the UK. \n",
    "\n",
    "The data product [MOD15](https://modis.gsfc.nasa.gov/data/dataprod/mod15.php) LAI/FPAR has been generated from NASA MODIS sensors Terra and Aqua data since 2002. We are now in dataset collection 6 (the data version to use).\n",
    "\n",
    "    LAI is defined as the one-sided green leaf area per unit ground area in broadleaf canopies and as half the total needle surface area per unit ground area in coniferous canopies. FPAR is the fraction of photosynthetically active radiation (400-700 nm) absorbed by green vegetation. Both variables are used for calculating surface photosynthesis, evapotranspiration, and net primary production, which in turn are used to calculate terrestrial energy, carbon, water cycle processes, and biogeochemistry of vegetation. Algorithm refinements have improved quality of retrievals and consistency with field measurements over all biomes, with a focus on woody vegetation.\n",
    "    \n",
    "We use such data to map and understand about the dynamics of terrestrial vegetation / carbon, for example, for climate studies."
   ]
  },
  {
   "cell_type": "markdown",
   "metadata": {},
   "source": [
    "The raster data are arranged in tiles, indexed by row and column, to cover the globe:\n",
    "\n",
    "\n",
    "![MODIS tiles](https://www.researchgate.net/profile/J_Townshend/publication/220473201/figure/fig5/AS:277546596880390@1443183673583/The-global-MODIS-Sinusoidal-tile-grid.png)\n"
   ]
  },
  {
   "cell_type": "markdown",
   "metadata": {
    "solution2": "hidden",
    "solution2_first": true
   },
   "source": [
    "### Exercise\n",
    "\n",
    "The pattern on the tile names is `hXXvYY` where `XX` is the horizontal coordinate and `YY` the vertical.\n",
    "\n",
    "\n",
    "* use the map above to work out the names of the two tiles that we will need to access data over the UK\n",
    "* set the variable `tiles` to contain these two names in a list\n",
    "\n",
    "For example, for the two tiles covering Madagascar, we would set:\n",
    "\n",
    "    tiles = ['h22v10','h22v11']"
   ]
  },
  {
   "cell_type": "code",
   "execution_count": null,
   "metadata": {
    "solution2": "hidden"
   },
   "outputs": [],
   "source": [
    "# tiles for the UK\n",
    "\n",
    "tiles = ['h17v03', 'h17v04', 'h18v03', 'h18v04']"
   ]
  },
  {
   "cell_type": "markdown",
   "metadata": {},
   "source": [
    "\n",
    "### Accessing NASA MODIS URLs\n",
    "\n",
    "<span class=\"burk\">**Warning: The NASA data servers tend to be down for maintainance on Wednesday morning EST**</span>\n",
    "\n",
    "Although you can access MODIS datasets through the [NASA Earthdata](https://urs.earthdata.nasa.gov/home) interface, there are many occasions that we would want to just automatically pull datasets. As we note above, we could use some existing API for this, such as [Appeears](https://lpdaacsvc.cr.usgs.gov/appeears/), but we are aiming here at being able to ultimately develop codes that do this from a lower-level perspective. \n",
    "\n",
    "Automation has many roles, and is particularly useful when you want a time series of data that might involve many files. For example, for analysing LAI or other variables over space/time) we will want to write code that pulls the time series of data. \n",
    "\n",
    "If you visit the site [https://e4ftl01.cr.usgs.gov/MOTA/MCD15A3H.006](https://e4ftl01.cr.usgs.gov/MOTA/MCD15A3H.006), you will see 'date' style links (e.g. `2018.09.30`) through to sub-directories. \n",
    "\n",
    "In these, e.g. [https://e4ftl01.cr.usgs.gov/MOTA/MCD15A3H.006/2018.09.30/](https://e4ftl01.cr.usgs.gov/MOTA/MCD15A3H.006/2018.09.30/) you will find URLs of a set of files. \n",
    "\n",
    "The files pointed to by the URLs are the MODIS MOD15 4-day composite 500 m LAI/FPAR product [MCD15A3H](https://lpdaac.usgs.gov/dataset_discovery/modis/modis_products_table/mcd15a3h_v006).\n",
    "\n",
    "There are links to several datasets on the page, including 'quicklook files' that are jpeg format images of the datasets, e.g.:\n",
    "\n",
    "![MCD15A3H.A2018273.h17v03](https://e4ftl01.cr.usgs.gov/MOTA/MCD15A3H.006/2018.09.30/BROWSE.MCD15A3H.A2018273.h17v03.006.2018278143630.1.jpg)\n",
    "\n",
    "as well as `xml` files and `hdf` datasets. \n",
    "\n"
   ]
  },
  {
   "cell_type": "markdown",
   "metadata": {},
   "source": [
    "### Data Products\n",
    "\n",
    "If we look at the dataserver we hae specified [https://e4ftl01.cr.usgs.gov](https://e4ftl01.cr.usgs.gov), we will see that a number of sub-directories exist. Each of these 'server directories' points to a different data stream:\n",
    "\n",
    "    [DIR] ASTT/                   2019-08-05 07:54    -   \n",
    "    [DIR] COMMUNITY/              2020-06-02 08:45    -   \n",
    "    [DIR] ECOSTRESS/              2020-04-09 10:30    -   \n",
    "    [DIR] GEDI/                   2020-02-10 09:58    -   \n",
    "    [DIR] MEASURES/               2020-03-17 10:55    -   \n",
    "    [DIR] MOLA/                   2020-06-01 09:20    -   \n",
    "    [DIR] MOLT/                   2020-04-14 08:06    -   \n",
    "    [DIR] MOTA/                   2019-12-27 06:49    -   \n",
    "    [DIR] VIIRS/                  2020-06-23 10:26    -   \n",
    "\n",
    "For example, we might notice [VIIRS](https://e4ftl01.cr.usgs.gov/VIIRS) which takes us to the [VIIRS data products](https://viirsland.gsfc.nasa.gov), or [GEDI](https://e4ftl01.cr.usgs.gov/GEDI) [spaceborne lidar](https://gedi.umd.edu/) data. Each of these data streams will have their own properties that we need to appreciate before using them.\n",
    "\n",
    "### MOTA\n",
    "\n",
    "The URL we have used above, [https://e4ftl01.cr.usgs.gov/MOTA/MCD15A3H.006/2018.09.30/](https://e4ftl01.cr.usgs.gov/MOTA/MCD15A3H.006/2018.09.30/) starts with a call to the server directory `MOTA`, so we can think of `https://e4ftl01.cr.usgs.gov/MOTA` as the base level URL.\n",
    "\n",
    "MOTA refers to combined MODIS Terra and Aqua datasets. Similarly, MOLA and MOLT refer to datasets generated from single MODIS sensors of Aqua and Terra, respectively.\n",
    "\n",
    "The rest of the directory information `MCD15A3H.006/2018.09.30` tells us:\n",
    "\n",
    "* the product name `MCD15A3H`\n",
    "* the product version `006`\n",
    "* the date of the dataset `2018.09.30`\n",
    "\n",
    "There are several ways we could specify the date information. The most 'human readable' is probably `YYYY.MM.DD` as given here. \n",
    "\n",
    "### MODIS filename format\n",
    "\n",
    "If we vist the link to a particular date for this dataset  [https://e4ftl01.cr.usgs.gov/MOTA/MCD15A3H.006/2018.09.30/](https://e4ftl01.cr.usgs.gov/MOTA/MCD15A3H.006/2018.09.30/), we see some files that have the suffix `hdf`.\n",
    "\n",
    "The `hdf` filenames are of the form:\n",
    "\n",
    "    MCD15A3H.A2018273.h35v10.006.2018278143650.hdf\n",
    "    \n",
    "where:\n",
    "\n",
    "* the first field (`MCD15A3H`) gives the product code\n",
    "* the second (`A2018273`) gives the observation date: day of year `273`, `2018` here\n",
    "* the third (`h35v10`) gives the 'MODIS tile' code for the data location\n",
    "* the remaining fields specify the product version number (`006`) and a code representing the processing date.\n",
    "\n",
    "If we look at the [product specification page](https://lpdaac.usgs.gov/products/mcd15a3hv006/) we see that the data product has multiple data layers. In the case of MCD15A3H, this is:\n",
    "\n",
    "|SDS Name\t|Description\t| Units\t|Data Type\t|Fill Value|\tNo Data Value\t|Valid Range|\tScale Factor\n",
    "|:-:|:-:|:-:|:-:|:-:|:-:|:-:|-|\n",
    "| Fpar_500m |\tFraction of Photosynthetically Active Radiation\t|Percent|\t8-bit unsigned integer\t|249 to 255\t|N/A\t|0 to 100\t|0.01\n",
    "|Lai_500m\t|Leaf Area Index|\tm²/m²|\t8-bit unsigned integer|\t249 to 255\t|N/A|\t0 to 100|\t0.1|\n",
    "|FparLai_QC\t|Quality for  FPAR and LAI\t|Class Flag\t|8-bit unsigned integer\t|255|\tN/A\t|0 to 254\t|N/A\n",
    "| FparExtra_QC\t|Extra detail Quality for  FPAR and LAI\t|Class Flag|\t8-bit unsigned integer|\t255\t|N/A\t|0 to 254\t|N/A\n",
    "|FparStdDev_500m|\tStandard deviation of  FPAR\t|Percent|\t8-bit unsigned integer|\t248 to 255\t|N/A|\t0 to 100\t|0.01\n",
    "|LaiStdDev_500m|\tStandard deviation of LAI\t|m²/m²|\t8-bit unsigned integer|\t248 to 255|\tN/A\t|0 to 100\t|0.1\n"
   ]
  },
  {
   "cell_type": "markdown",
   "metadata": {},
   "source": [
    "## Getting and visualising the data\n",
    "\n",
    "### Grid\n",
    "\n",
    "One thing we might need sometimes is to specify the `grid` used by the data product. Mostly, this is just the same as the product name (this is the default in our codes by just setting `grid` to the same as the product name). \n",
    "\n",
    "For the product `MCD15A3H` that we use here though, the grid is `MOD_Grid_MCD15A3H`, so we need to specify this. This issue is something to look out for when you specify a MODIS product you haven't use before. This is not specified in the product user guides or specifications, but you will *mostly* find it the associated [file specifications document](https://ladsweb.modaps.eosdis.nasa.gov/filespec/MODIS/6/MCD15A3H). When you use a new proiduct then, don't forget to check the appropriate [file specifications](https://ladsweb.modaps.eosdis.nasa.gov/filespec/MODIS/6) to find the grid object used!\n",
    "\n",
    "If you can't find it, just try to use the default (set `grid` to `None`).\n",
    "\n",
    "If that fails to return anything useful, the easiest thinbg to do is to examine the SDS datasets in the file itself.\n",
    "\n",
    "For example, lets try using the default grid: "
   ]
  },
  {
   "cell_type": "code",
   "execution_count": null,
   "metadata": {},
   "outputs": [],
   "source": [
    "from uclgeog.process_timeseries import mosaic, visualise\n",
    "# libraries we need\n",
    "\n",
    "#######################\n",
    "# specify what we want\n",
    "# in a dictionary\n",
    "#######################\n",
    "# UK tiles\n",
    "# specify day of year (DOY) and year\n",
    "\n",
    "params = {\n",
    "    'tiles'   :    ['h17v03', 'h17v04', 'h18v03', 'h18v04'],\n",
    "    'doy'     :    1,\n",
    "    'year'    :    2020,\n",
    "    'product' :    'MCD15A3H',\n",
    "    'layer'   :    'Lai_500m',\n",
    "    'grid'    :    None,\n",
    "    'base_url':   'https://e4ftl01.cr.usgs.gov/MOTA'\n",
    "}\n",
    "\n",
    "# check to see if it worked\n",
    "# and trap errors \n",
    "try:\n",
    "    data = mosaic(params)\n",
    "    assert data is not None\n",
    "except AssertionError:\n",
    "    print(\"\\nThis hasn't worked\")\n",
    "else:\n",
    "    print(\"\\nThis worked\")"
   ]
  },
  {
   "cell_type": "markdown",
   "metadata": {},
   "source": [
    "The code exits with the message:\n",
    "    \n",
    "        failed to warp ['HDF4_EOS:EOS_GRID:\"data/MCD15A3H.A2020001.h17v03.006.2020006031702.hdf\":MCD15A3H:Lai_500m', 'HDF4_EOS:EOS_GRID:\"data/MCD15A3H.A2020001.h17v04.006.2020006031910.hdf\":MCD15A3H:Lai_500m', 'HDF4_EOS:EOS_GRID:\"data/MCD15A3H.A2020001.h18v03.006.2020006033540.hdf\":MCD15A3H:Lai_500m', 'HDF4_EOS:EOS_GRID:\"data/MCD15A3H.A2020001.h18v04.006.2020006032422.hdf\":MCD15A3H:Lai_500m'] 2020, 1, ['h17v03', 'h17v04', 'h18v03', 'h18v04'], data/\n",
    "        \n",
    "This is telling us that it has tried to access a dataset\n",
    "\n",
    "    HDF4_EOS:EOS_GRID:\"data/MCD15A3H.A2020001.h17v03.006.2020006031702.hdf\":MCD15A3H:Lai_500m\n",
    " \n",
    "and this is where it has failed.\n",
    "\n",
    "We could use python calls to check what this should be, but we mostly find it easier to use system tool, `gdalinfo` in this case. [`gdal`](https://gdal.org/) is software for geospatial processing that can deal with a wide range of formats. We will make a lot of use of it later on.\n",
    "\n",
    "For now, we can run a system command below to see what the SDS `Lai_500m` looks like in one of the files it has downloaded (we get the filename from the list reported above)."
   ]
  },
  {
   "cell_type": "code",
   "execution_count": null,
   "metadata": {},
   "outputs": [],
   "source": [
    "!gdalinfo data/MCD15A3H.A2020001.h17v03.006.2020006031702.hdf | grep Lai_500m"
   ]
  },
  {
   "cell_type": "markdown",
   "metadata": {},
   "source": [
    "From this, we see that the dataset specification is really \n",
    "\n",
    "    HDF4_EOS:EOS_GRID:\"data/MCD15A3H.A2020001.h17v03.006.2020006031702.hdf\":MOD_Grid_MCD15A3H:Lai_500m\n",
    "    \n",
    "and not what we previously assumed:\n",
    "\n",
    "    HDF4_EOS:EOS_GRID:\"data/MCD15A3H.A2020001.h17v03.006.2020006031702.hdf\":MCD15A3H:Lai_500m\n",
    "\n",
    "We have most of the specification correct, but have used `MCD15A3H:Lai_500m` instead of `MOD_Grid_MCD15A3H:Lai_500m`. Let's fix this now:"
   ]
  },
  {
   "cell_type": "code",
   "execution_count": null,
   "metadata": {},
   "outputs": [],
   "source": [
    "from uclgeog.process_timeseries import mosaic, visualise\n",
    "# libraries we need\n",
    "\n",
    "#######################\n",
    "# specify what we want\n",
    "# in a dictionary\n",
    "#######################\n",
    "# UK tiles\n",
    "# specify day of year (DOY) and year\n",
    "\n",
    "params = {\n",
    "    'tiles'   :    ['h17v03', 'h17v04', 'h18v03', 'h18v04'],\n",
    "    'doy'     :    1,\n",
    "    'year'    :    2020,\n",
    "    'product' :    'MCD15A3H',\n",
    "    'layer'   :    'Lai_500m',\n",
    "    'grid'    :    'MOD_Grid_MCD15A3H',\n",
    "    'base_url':   'https://e4ftl01.cr.usgs.gov/MOTA'\n",
    "\n",
    "}\n",
    "\n",
    "# check to see if it worked\n",
    "# and trap errors \n",
    "try:\n",
    "    data = mosaic(params)\n",
    "    assert data is not None\n",
    "except AssertionError:\n",
    "    print(\"\\nThis hasn't worked\")\n",
    "else:\n",
    "    print(\"\\nThis worked\")"
   ]
  },
  {
   "cell_type": "markdown",
   "metadata": {},
   "source": [
    "### Download\n",
    "\n",
    "So, other than some terms (e.g. version number) we can take as defaults, when we want to access a MODIS product as tile data, we need to specify:\n",
    "\n",
    "* product code\n",
    "* SDS Name (scientific dataset name)\n",
    "* tile(s)\n",
    "* day of year (DOY)\n",
    "* year\n",
    "\n",
    "Now we have some appreciation of the MODIS dataset description requirements, we can use the method `mosaic_and_clip()` in `uclgeog` to download some example datasets:\n",
    "\n",
    "    # UK tiles\n",
    "    tiles = ['h17v03', 'h17v04', 'h18v03', 'h18v04']\n",
    "    # specify day of year (DOY) and year\n",
    "    doy,year = 1,2020\n",
    "    # product\n",
    "    product = 'MCD15A3H'\n",
    "    # SDS\n",
    "    layer = \"Lai_500m\"\n",
    "    # grid\n",
    "    grid = 'MOD_Grid_MCD15A3H'\n",
    "\n",
    "One useful thing we have implemented in `mosaic_and_clip()` is to mosaic data from different tiles together into one contiguous dataset. So, although we will have data specified over four tiles, we will mosaic it together into a single array."
   ]
  },
  {
   "cell_type": "code",
   "execution_count": null,
   "metadata": {},
   "outputs": [],
   "source": [
    "from uclgeog.process_timeseries import mosaic_and_clip, visualise\n",
    "import numpy as np\n",
    "# libraries we need\n",
    "\n",
    "#######################\n",
    "# specify what we want\n",
    "# in a dictionary\n",
    "#######################\n",
    "# UK tiles\n",
    "# specify day of year (DOY) and year\n",
    "\n",
    "params = {\n",
    "    'tiles'   :    ['h17v03', 'h17v04', 'h18v03', 'h18v04'],\n",
    "    'doy'     :    1,\n",
    "    'year'    :    2020,\n",
    "    'product' :    'MCD15A3H',\n",
    "    'layer'   :    'Lai_500m',\n",
    "    'grid'    :    'MOD_Grid_MCD15A3H',\n",
    "    'verbose' :    True,\n",
    "    'base_url':   'https://e4ftl01.cr.usgs.gov/MOTA'\n",
    "}\n",
    "\n",
    "#######################\n",
    "# download and interpret\n",
    "# and mask non-valid numbers by setting to NaN\n",
    "# see data table above\n",
    "#######################\n",
    "try:\n",
    "    data = mosaic(params)\n",
    "    assert data is not None\n",
    "except AssertionError:\n",
    "    print(\"\\nThis hasn't worked\")\n",
    "else:\n",
    "    data = data.astype(float)\n",
    "    data[data>248] = np.nan\n",
    "    #######################\n",
    "    # print some feedback\n",
    "    #######################\n",
    "    print(f'the variable lai contains a dataset of dimension {data.shape}')\n",
    "    print('for product {product} SDS {layer}'.format(**params))\n",
    "    print('for day {doy} of year {year} for tiles {tiles}'.format(**params))\n"
   ]
  },
  {
   "cell_type": "markdown",
   "metadata": {},
   "source": [
    "### Visualise\n",
    "\n",
    "We have now generated a dataset, stored in a variable `lai`. We are likely to want to perform some analysis on this, but we might also like to visualise the dataset.\n",
    "\n",
    "We can do this using a python package [matplotlib](https://matplotlib.org) that we will gain more experience with later.\n",
    "\n",
    "For now, we will simply implement a typical image visualisation, with a dataset title, and scale bar. We will use a method `visualise()` from our `uclgeog` library to do this."
   ]
  },
  {
   "cell_type": "code",
   "execution_count": null,
   "metadata": {},
   "outputs": [],
   "source": [
    "# call visualise\n",
    "title = 'product {product} SDS {layer}\\n'.format(**params) + \\\n",
    "        'for day {doy} of year {year} for tiles {tiles}'.format(**params)\n",
    "# set the max value to 3.0 to be able to see whats going on\n",
    "plot=visualise(data,title=title,vmax=3.0)"
   ]
  },
  {
   "cell_type": "markdown",
   "metadata": {},
   "source": [
    "# Exercises"
   ]
  },
  {
   "cell_type": "markdown",
   "metadata": {
    "solution2": "hidden",
    "solution2_first": true
   },
   "source": [
    "### Exercise: change the year and DOY\n",
    "\n",
    "Using the lines of code above, download and visualise the LAI dataset for a different DOY and year. Remember that it is a 4-day synthesis, so there are only datasets on doy 1,5,9, ...\n",
    "\n",
    "Put comments in your code using `#` to start a comment, to describe what you are doing.\n",
    "\n",
    "You might want to set `verbose` to `True` to get some feedback on what is going on."
   ]
  },
  {
   "cell_type": "code",
   "execution_count": null,
   "metadata": {
    "solution2": "hidden"
   },
   "outputs": [],
   "source": [
    "from uclgeog.process_timeseries import mosaic_and_clip, visualise\n",
    "import numpy as np\n",
    "\n",
    "#######################\n",
    "# location: madagascar\n",
    "#######################\n",
    "params = {\n",
    "    'tiles'   :    ['h17v03', 'h17v04', 'h18v03', 'h18v04'],\n",
    "    'doy'     :    5,\n",
    "    'year'    :    2010,\n",
    "    'product' :    'MCD15A3H',\n",
    "    'layer'   :    'Lai_500m',\n",
    "    'grid'    :    'MOD_Grid_MCD15A3H',\n",
    "    'verbose' :    True,\n",
    "    'base_url':   'https://e4ftl01.cr.usgs.gov/MOTA'\n",
    "}\n",
    "\n",
    "try:\n",
    "    data = mosaic(params)\n",
    "    assert data is not None\n",
    "except AssertionError:\n",
    "    print(\"\\nThis hasn't worked\")\n",
    "else:\n",
    "    data = data.astype(float)\n",
    "    data[data>248] = np.nan\n",
    "    #######################\n",
    "    # call visualise\n",
    "    #######################\n",
    "    title = 'product {product} SDS {layer}\\n'.format(**params) + \\\n",
    "            'for day {doy} of year {year} for tiles {tiles}'.format(**params)\n",
    "    plot=visualise(data,title=title,vmax=3.0)"
   ]
  },
  {
   "cell_type": "code",
   "execution_count": null,
   "metadata": {
    "solution2": "hidden"
   },
   "outputs": [],
   "source": [
    "from uclgeog.process_timeseries import mosaic_and_clip, visualise\n",
    "\n",
    "#######################\n",
    "# doy = 1 + 4 * 20 here\n",
    "#######################\n",
    "params = {\n",
    "    'tiles'  :    ['h17v03', 'h17v04', 'h18v03', 'h18v04'],\n",
    "    'doy'    :    1+4*30,\n",
    "    'year'   :    2020,\n",
    "    'product':    'MCD15A3H',\n",
    "    'layer'  :    'Lai_500m',\n",
    "    'grid'   :    'MOD_Grid_MCD15A3H',\n",
    "    'verbose':    True\n",
    "}\n",
    "\n",
    "#######################\n",
    "# download and interpret\n",
    "#######################\n",
    "# check to see if it worked\n",
    "# and trap errors \n",
    "try:\n",
    "    lai = mosaic(params)\n",
    "    assert lai is not None\n",
    "except:\n",
    "    print(\"\\nThis hasn't worked\")\n",
    "else:\n",
    "    lai = lai.astype(float)\n",
    "    lai[lai>248] = np.nan\n",
    "    #######################\n",
    "    # call visualise\n",
    "    #######################\n",
    "    title = 'product {product} SDS {layer}\\n'.format(**params) + \\\n",
    "            'for day {doy} of year {year} for tiles {tiles}'.format(**params)\n",
    "    plot=visualise(lai,title=title,vmax=3.0)"
   ]
  },
  {
   "cell_type": "markdown",
   "metadata": {
    "solution2": "hidden",
    "solution2_first": true
   },
   "source": [
    "### Exercise: change the location\n",
    "\n",
    "Using the lines of code above, download and visualise the LAI dataset for a different location.\n",
    "\n",
    "You will need to specify the tile or tiles that you wish to use.\n",
    "\n",
    "As before, put comments in your code using `#` to start a comment, to describe what you are doing.\n",
    "\n",
    "You might want to set `verbose` to `True` to get some feedback on what is going on."
   ]
  },
  {
   "cell_type": "code",
   "execution_count": null,
   "metadata": {
    "solution2": "hidden"
   },
   "outputs": [],
   "source": [
    "from uclgeog.process_timeseries import mosaic_and_clip, visualise\n",
    "import numpy as np\n",
    "\n",
    "#######################\n",
    "# location: madagascar\n",
    "#######################\n",
    "params = {\n",
    "    'tiles'   :    ['h22v10','h22v11'],\n",
    "    'doy'     :    5,\n",
    "    'year'    :    2010,\n",
    "    'product' :    'MCD15A3H',\n",
    "    'layer'   :    'Lai_500m',\n",
    "    'grid'    :    'MOD_Grid_MCD15A3H',\n",
    "    'verbose' :    True,\n",
    "    'base_url':   'https://e4ftl01.cr.usgs.gov/MOTA'\n",
    "}\n",
    "try:\n",
    "    data = mosaic(params)\n",
    "    assert data is not None\n",
    "except AssertionError:\n",
    "    print(\"\\nThis hasn't worked\")\n",
    "else:\n",
    "    data = data.astype(float)\n",
    "    data[data>248] = np.nan\n",
    "    #######################\n",
    "    # call visualise\n",
    "    #######################\n",
    "    title = 'product {product} SDS {layer}\\n'.format(**params) + \\\n",
    "            'for day {doy} of year {year} for tiles {tiles}'.format(**params)\n",
    "    plot=visualise(data,title=title,vmax=3.0)"
   ]
  },
  {
   "cell_type": "markdown",
   "metadata": {
    "solution2": "hidden",
    "solution2_first": true
   },
   "source": [
    "### Exercise: change the SDS\n",
    "\n",
    "Using the lines of code above, download and visualise the LAI dataset for a different location. \n",
    "\n",
    "Now, instead of using the data layer `Lai_500m`, visualise another data layer in the LAI dataset. See the table above of [the product specification](https://lpdaac.usgs.gov/products/mcd15a3hv006/) for details."
   ]
  },
  {
   "cell_type": "code",
   "execution_count": null,
   "metadata": {
    "scrolled": true,
    "solution2": "hidden"
   },
   "outputs": [],
   "source": [
    "from uclgeog.process_timeseries import mosaic_and_clip, visualise\n",
    "import numpy as np\n",
    "\n",
    "#######################\n",
    "# location: madagascar\n",
    "#######################\n",
    "\n",
    "params = {\n",
    "    'tiles'   :    ['h22v10','h22v11'],\n",
    "    'doy'     :    5,\n",
    "    'year'    :    2010,\n",
    "    'product' :    'MCD15A3H',\n",
    "    'layer'   :    'FparLai_QC',\n",
    "    'grid'    :    'MOD_Grid_MCD15A3H',\n",
    "    'verbose' :    True,\n",
    "    'base_url':   'https://e4ftl01.cr.usgs.gov/MOTA'\n",
    "}\n",
    "\n",
    "#######################\n",
    "# download and interpret\n",
    "# note the valid range is different\n",
    "# see the product table above\n",
    "#######################\n",
    "\n",
    "try:\n",
    "    data = mosaic(params)\n",
    "    assert data is not None\n",
    "except AssertionError:\n",
    "    print(\"\\nThis hasn't worked\")\n",
    "else:\n",
    "    data = data.astype(float)\n",
    "    data[data>254] = np.nan\n",
    "    #######################\n",
    "    # call visualise\n",
    "    #######################\n",
    "    title = 'product {product} SDS {layer}\\n'.format(**params) + \\\n",
    "            'for day {doy} of year {year} for tiles {tiles}'.format(**params)\n",
    "    plot=visualise(data,title=title)"
   ]
  },
  {
   "cell_type": "markdown",
   "metadata": {
    "solution2": "hidden",
    "solution2_first": true
   },
   "source": [
    "### Exercise: change the product to another on MOTA\n",
    "\n",
    "Using the lines of code above, download and visualise a different MODIS product.\n",
    "\n",
    "You can see the option codes on the server we have been using by [looking in the directory https://e4ftl01.cr.usgs.gov/MOTA](https://e4ftl01.cr.usgs.gov/MOTA).\n",
    "\n",
    "You get get the meanings of the codes from simply googling them, or you can look them up on the [MODIS data product page](https://modis.gsfc.nasa.gov/data/dataprod/)."
   ]
  },
  {
   "cell_type": "code",
   "execution_count": null,
   "metadata": {
    "scrolled": false,
    "solution2": "hidden"
   },
   "outputs": [],
   "source": [
    "from uclgeog.process_timeseries import mosaic_and_clip, visualise\n",
    "import numpy as np\n",
    "\n",
    "#######################\n",
    "# location: madagascar\n",
    "# product MCD64A1 Burned Area\n",
    "# see product page on\n",
    "# https://lpdaac.usgs.gov/products/mcd64a1v006/\n",
    "# we see one of the SDS layers is 'Burn Date'\n",
    "# and that 1 to 366 are valid\n",
    "#\n",
    "# get the grid from \n",
    "# https://ladsweb.modaps.eosdis.nasa.gov/filespec/MODIS/6/MCD64A1\n",
    "#######################\n",
    "params = {\n",
    "    'tiles'   :    ['h22v10'],\n",
    "    'doy'     :    1,\n",
    "    'year'    :    2020,\n",
    "    'product' :    'MCD64A1',\n",
    "    'layer'   :    'Burn Date',\n",
    "    'grid'    :    'MOD_Grid_Monthly_500m_DB_BA',\n",
    "    'verbose' :    True,\n",
    "    'base_url':   'https://e4ftl01.cr.usgs.gov/MOTA'\n",
    "}\n",
    "\n",
    "#######################\n",
    "# download and interpret\n",
    "# note the valid range is different\n",
    "# see the product table above\n",
    "# Use a different variable name: \n",
    "# its not lai any more!\n",
    "#######################\n",
    "try:\n",
    "    data = mosaic(params)\n",
    "    assert data is not None\n",
    "except:\n",
    "    print(\"\\nThis hasn't worked\")\n",
    "else:\n",
    "    data = data.astype(float)\n",
    "    data[np.logical_or(data>366,data<1)] = np.nan\n",
    "    #######################\n",
    "    # call visualise\n",
    "    #######################\n",
    "    title = 'product {product} SDS {layer}\\n'.format(**params) + \\\n",
    "            'for day {doy} of year {year} for tiles {tiles}'.format(**params)\n",
    "    plot=visualise(data,title=title)"
   ]
  },
  {
   "cell_type": "markdown",
   "metadata": {
    "solution2": "hidden",
    "solution2_first": true
   },
   "source": [
    "### Exercise: Snow\n",
    "    \n",
    "The MODIS snow products are on a different server to the one we used above, [`https://n5eil01u.ecs.nsidc.org/MOST`](https://n5eil01u.ecs.nsidc.org/MOST) for MODIS Terra data and [`https://n5eil01u.ecs.nsidc.org/MOSA`](https://n5eil01u.ecs.nsidc.org/MOSA) for MODIS Aqua. Product information is available on the [product website](https://nsidc.org/data/myd10a1). Note that there is not combined Terra and Aqua product.\n",
    "\n",
    "Use the codes above to explore, download, and plot a snow dataset from the `MOD10A1` product."
   ]
  },
  {
   "cell_type": "code",
   "execution_count": null,
   "metadata": {
    "solution2": "hidden"
   },
   "outputs": [],
   "source": [
    "from uclgeog.process_timeseries import mosaic_and_clip, visualise\n",
    "import numpy as np\n",
    "\n",
    "#######################\n",
    "# location: E Europe\n",
    "# product \n",
    "# see product page on\n",
    "# https://nsidc.org/data/MYD10A1/versions/6\n",
    "# 0-100 is valid\n",
    "# NDSI_Snow_Cover\n",
    "# grid is MOD_Grid_Snow_500m\n",
    "#######################\n",
    "params = {\n",
    "    'tiles'   :    ['h19v03'],\n",
    "    'doy'     :    1,\n",
    "    'year'    :    2010,\n",
    "    'product' :    'MOD10A1',\n",
    "    'layer'   :    'NDSI_Snow_Cover',\n",
    "    'grid'    :    'MOD_Grid_Snow_500m',\n",
    "    'verbose' :    True,\n",
    "    'base_url':   'https://n5eil01u.ecs.nsidc.org/MOST'\n",
    "}\n",
    "\n",
    "#######################\n",
    "# download and interpret\n",
    "# note the valid range is different\n",
    "# see the product table above\n",
    "# Use a different variable name: \n",
    "# its not lai any more!\n",
    "#######################\n",
    "try:\n",
    "    data = mosaic(params)\n",
    "    assert data is not None\n",
    "except:\n",
    "    print(\"\\nThis hasn't worked\")\n",
    "else:\n",
    "    data = data.astype(float)\n",
    "    data[np.logical_or(data>100,data<1)] = np.nan\n",
    "    #######################\n",
    "    # call visualise\n",
    "    #######################\n",
    "    title = 'product {product} SDS {layer}\\n'.format(**params) + \\\n",
    "            'for day {doy} of year {year} for tiles {tiles}'.format(**params)\n",
    "    plot=visualise(data,title=title)"
   ]
  },
  {
   "cell_type": "code",
   "execution_count": null,
   "metadata": {
    "scrolled": true,
    "solution2": "hidden"
   },
   "outputs": [],
   "source": [
    "# check for grid info ...\n",
    "!gdalinfo data/MOD10A1.A2010001.h19v03.006.2016083014706.hdf | grep NDSI_Snow_Cover"
   ]
  },
  {
   "cell_type": "markdown",
   "metadata": {
    "solution2": "hidden",
    "solution2_first": true
   },
   "source": [
    "### Exercise: Land Cover\n",
    "    \n",
    "The MODIS land cover product is `MCD12Q1`.\n",
    "\n",
    "Use the codes above to explore, download, and plot a  land cover dataset from the `MCD12Q1` product."
   ]
  },
  {
   "cell_type": "code",
   "execution_count": null,
   "metadata": {
    "scrolled": true,
    "solution2": "hidden"
   },
   "outputs": [],
   "source": [
    "from uclgeog.process_timeseries import mosaic_and_clip, visualise\n",
    "import numpy as np\n",
    "\n",
    "#######################\n",
    "# location: madagascar\n",
    "# product MCD64A1 Burned Area\n",
    "# see product page on\n",
    "# https://lpdaac.usgs.gov/products/mcd12q1v006/\n",
    "# we see one of the SDS layers is 'LC_Type1'\n",
    "# and that 1 to 17 are valid\n",
    "#\n",
    "# get the grid from \n",
    "# https://ladsweb.modaps.eosdis.nasa.gov/filespec/MODIS/6/MCD64A1\n",
    "#######################\n",
    "params = {\n",
    "    'tiles'   :    ['h22v10'],\n",
    "    'doy'     :    1,\n",
    "    'year'    :    2018,\n",
    "    'product' :    'MCD12Q1',\n",
    "    'layer'   :    'LC_Type1',\n",
    "    'grid'    :    'MCD12Q1',\n",
    "    'verbose' :    True,\n",
    "    'base_url':   'https://e4ftl01.cr.usgs.gov/MOTA'\n",
    "}\n",
    "\n",
    "#######################\n",
    "# download and interpret\n",
    "# note the valid range is different\n",
    "# see the product table above\n",
    "# Use a different variable name: \n",
    "# its not lai any more!\n",
    "#######################\n",
    "try:\n",
    "    data = mosaic(params)\n",
    "    assert data is not None\n",
    "except:\n",
    "    print(\"\\nThis hasn't worked\")\n",
    "else:\n",
    "    data = data.astype(float)\n",
    "    data[np.logical_or(data>17,data<1)] = np.nan\n",
    "    #######################\n",
    "    # call visualise\n",
    "    #######################\n",
    "    title = 'product {product} SDS {layer}\\n'.format(**params) + \\\n",
    "            'for day {doy} of year {year} for tiles {tiles}'.format(**params)\n",
    "    plot=visualise(data,title=title)"
   ]
  },
  {
   "cell_type": "code",
   "execution_count": null,
   "metadata": {
    "scrolled": true,
    "solution2": "hidden"
   },
   "outputs": [],
   "source": [
    "from uclgeog.process_timeseries import mosaic_and_clip, visualise\n",
    "\n",
    "#######################\n",
    "# location: madagascar\n",
    "# product MCD12C1 yearly Land cover\n",
    "# see product page on\n",
    "# https://lpdaac.usgs.gov/products/mcd12q1v006/\n",
    "# we see one of the SDS layers is 'Majority_Land_Cover_Type_1'\n",
    "# and that 255 is invalid\n",
    "#\n",
    "# get the grid from \n",
    "# https://ladsweb.modaps.eosdis.nasa.gov/filespec/MODIS/6/MCD12Q1\n",
    "#\n",
    "# Note that date for dataset is 2001.01.01\n",
    "# from https://e4ftl01.cr.usgs.gov/MOTA/MCD12Q1.006/\n",
    "# year 2019 & 2020 not there yet!!\n",
    "#######################\n",
    "params = {\n",
    "    'tiles'  :    ['h22v10'],\n",
    "    'doy'    :    1,\n",
    "    'year'   :    2018,\n",
    "    'product':    'MCD12Q1',\n",
    "    'layer'  :    'LC_Type1',\n",
    "    'grid'   :    None,\n",
    "    'verbose':    True\n",
    "}\n",
    "\n",
    "#######################\n",
    "# download and interpret\n",
    "# note the valid range is different\n",
    "# see the product table above\n",
    "# Use a different variable name: \n",
    "# its not lai any more!\n",
    "#######################\n",
    "try:\n",
    "    data = mosaic(params)\n",
    "    assert data is not None\n",
    "except:\n",
    "    print(\"\\nThis hasn't worked\")\n",
    "else:\n",
    "    data = data.astype(float)\n",
    "    data[data>254] = np.nan\n",
    "    #######################\n",
    "    # call visualise\n",
    "    #######################\n",
    "    title = 'product {product} SDS {layer}\\n'.format(**params) + \\\n",
    "            'for day {doy} of year {year} for tiles {tiles}'.format(**params)\n",
    "    plot=visualise(data,title=title)"
   ]
  },
  {
   "cell_type": "code",
   "execution_count": null,
   "metadata": {
    "solution2": "hidden"
   },
   "outputs": [],
   "source": [
    "from uclgeog.process_timeseries import mosaic_and_clip, visualise\n",
    "\n",
    "#############\n",
    "# FparLai_QC\n",
    "#############\n",
    "\n",
    "#######################\n",
    "# single tile here\n",
    "# for SDS FparLai_QC\n",
    "# note that valid values different here\n",
    "#######################\n",
    "params = {\n",
    "    'tiles'  :    ['h18v03'],\n",
    "    'doy'    :    1+4*30,\n",
    "    'year'   :    2020,\n",
    "    'product':    'MCD15A3H',\n",
    "    'layer'  :    'FparLai_QC',\n",
    "    'verbose':    True\n",
    "}\n",
    "\n",
    "#######################\n",
    "# download and interpret\n",
    "#######################\n",
    "lai = mosaic_and_clip(**params).astype(float)\n",
    "lai[lai>254] = np.nan\n",
    "#######################\n",
    "# call visualise\n",
    "# Don't' set vmax now \n",
    "# as we want to see the \n",
    "# full range of values\n",
    "#######################\n",
    "title = 'product {product} SDS {layer}\\n'.format(**params) + \\\n",
    "        'for day {doy} of year {year} for tiles {tiles}'.format(**params)\n",
    "plot=visualise(lai,title=title)"
   ]
  },
  {
   "cell_type": "markdown",
   "metadata": {},
   "source": [
    "# Summary\n",
    "\n",
    "In these notes, we have introduced the characteristics of MODIS data products, and learned how to specify, access, and display them for a few servers. You will have accessed a number of products under a number of conditions in the exercises, but you are encouraged to explore this further.\n",
    "\n",
    "The main item to do with using data products of this sort, that we haven't covered yet, is the interpretation of Quality Assurance (QA) data. This is often packed information into bits, and can be a little tricky at first. However, as with above, once you have a little familiarisation with a few cases, you will be able to applky this more widely.\n",
    "\n",
    "You should spend some time going through the various links to explore the different datasets, and try out the exercises above for various products. The familiarity you gain from this will help when it comes to building our own codes later on."
   ]
  }
 ],
 "metadata": {
  "gist": {
   "data": {
    "description": "Chapter0_help.ipynb",
    "public": true
   },
   "id": ""
  },
  "hide_input": false,
  "kernelspec": {
   "display_name": "Python 3",
   "language": "python",
   "name": "python3"
  },
  "language_info": {
   "codemirror_mode": {
    "name": "ipython",
    "version": 3
   },
   "file_extension": ".py",
   "mimetype": "text/x-python",
   "name": "python",
   "nbconvert_exporter": "python",
   "pygments_lexer": "ipython3",
   "version": "3.7.8"
  },
  "latex_envs": {
   "LaTeX_envs_menu_present": true,
   "autocomplete": true,
   "bibliofile": "biblio.bib",
   "cite_by": "apalike",
   "current_citInitial": 1,
   "eqLabelWithNumbers": true,
   "eqNumInitial": 1,
   "hotkeys": {
    "equation": "Ctrl-E",
    "itemize": "Ctrl-I"
   },
   "labels_anchors": false,
   "latex_user_defs": false,
   "report_style_numbering": false,
   "user_envs_cfg": false
  },
  "toc": {
   "base_numbering": "1.1",
   "nav_menu": {},
   "number_sections": false,
   "sideBar": true,
   "skip_h1_title": false,
   "title_cell": "Table of Contents",
   "title_sidebar": "Contents",
   "toc_cell": false,
   "toc_position": {
    "height": "calc(100% - 180px)",
    "left": "10px",
    "top": "150px",
    "width": "207px"
   },
   "toc_section_display": true,
   "toc_window_display": false
  },
  "varInspector": {
   "cols": {
    "lenName": 16,
    "lenType": 16,
    "lenVar": 40
   },
   "kernels_config": {
    "python": {
     "delete_cmd_postfix": "",
     "delete_cmd_prefix": "del ",
     "library": "var_list.py",
     "varRefreshCmd": "print(var_dic_list())"
    },
    "r": {
     "delete_cmd_postfix": ") ",
     "delete_cmd_prefix": "rm(",
     "library": "var_list.r",
     "varRefreshCmd": "cat(var_dic_list()) "
    }
   },
   "types_to_exclude": [
    "module",
    "function",
    "builtin_function_or_method",
    "instance",
    "_Feature"
   ],
   "window_display": false
  }
 },
 "nbformat": 4,
 "nbformat_minor": 1
}
