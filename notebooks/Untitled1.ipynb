{
 "cells": [
  {
   "cell_type": "code",
   "execution_count": 3,
   "metadata": {},
   "outputs": [],
   "source": [
    "import sys\n",
    "import gdal\n",
    "from pathlib import Path\n",
    "import datetime\n",
    "import numpy as np\n",
    "\n",
    "year = 2019\n",
    "\n",
    "ayear = datetime.datetime(year+1, 1, 1) - datetime.datetime(year, 1, 1)"
   ]
  },
  {
   "cell_type": "code",
   "execution_count": 1,
   "metadata": {},
   "outputs": [],
   "source": [
    "from geog0111.modis import Modis\n",
    "import numpy as np\n",
    "\n",
    "#######################\n",
    "# specify what we want\n",
    "# in a dictionary\n",
    "#######################\n",
    "# UK tiles\n",
    "# specify day of year (DOY) and year\n",
    "\n",
    "kwargs = {\n",
    "    'tile'      :    ['h17v03', 'h17v04', 'h18v03', 'h18v04'],\n",
    "    'product'   :    'MCD15A3H',  \n",
    "    'sds'       :    'Lai_500m',\n",
    "}\n",
    "\n",
    "modis = Modis(**kwargs)"
   ]
  },
  {
   "cell_type": "code",
   "execution_count": null,
   "metadata": {},
   "outputs": [],
   "source": [
    "year = 2019\n",
    "result = modis.get_year(year,step=4)"
   ]
  },
  {
   "cell_type": "code",
   "execution_count": null,
   "metadata": {},
   "outputs": [],
   "source": []
  },
  {
   "cell_type": "code",
   "execution_count": 132,
   "metadata": {
    "code_folding": []
   },
   "outputs": [
    {
     "ename": "TypeError",
     "evalue": "in method 'BuildVRTInternalNames', argument 3 of type 'GDALBuildVRTOptions *'",
     "output_type": "error",
     "traceback": [
      "\u001b[0;31m---------------------------------------------------------------------------\u001b[0m",
      "\u001b[0;31mTypeError\u001b[0m                                 Traceback (most recent call last)",
      "\u001b[0;32m<ipython-input-132-ce344becf625>\u001b[0m in \u001b[0;36m<module>\u001b[0;34m\u001b[0m\n\u001b[1;32m     13\u001b[0m     \u001b[0mspatial_file\u001b[0m \u001b[0;34m=\u001b[0m \u001b[0;34mf\"{self.local_dir}/data.{self.sds[i]}.\"\u001b[0m \u001b[0;34m+\u001b[0m\u001b[0;31m \u001b[0m\u001b[0;31m\\\u001b[0m\u001b[0;34m\u001b[0m\u001b[0;34m\u001b[0m\u001b[0m\n\u001b[1;32m     14\u001b[0m                      \u001b[0;34mf\"{'_'.join(self.tile)}.{kwargs['year']}.vrt\"\u001b[0m\u001b[0;34m\u001b[0m\u001b[0;34m\u001b[0m\u001b[0m\n\u001b[0;32m---> 15\u001b[0;31m     \u001b[0mg\u001b[0m \u001b[0;34m=\u001b[0m \u001b[0mgdal\u001b[0m\u001b[0;34m.\u001b[0m\u001b[0mBuildVRT\u001b[0m\u001b[0;34m(\u001b[0m\u001b[0mspatial_file\u001b[0m\u001b[0;34m,\u001b[0m\u001b[0mofiles\u001b[0m\u001b[0;34m,\u001b[0m\u001b[0mseparate\u001b[0m\u001b[0;34m=\u001b[0m\u001b[0;32mTrue\u001b[0m\u001b[0;34m,\u001b[0m\u001b[0mbandList\u001b[0m\u001b[0;34m=\u001b[0m\u001b[0mbandlist\u001b[0m\u001b[0;34m)\u001b[0m\u001b[0;34m\u001b[0m\u001b[0;34m\u001b[0m\u001b[0m\n\u001b[0m\u001b[1;32m     16\u001b[0m     \u001b[0mg\u001b[0m\u001b[0;34m.\u001b[0m\u001b[0mFlushCache\u001b[0m\u001b[0;34m(\u001b[0m\u001b[0;34m)\u001b[0m\u001b[0;34m\u001b[0m\u001b[0;34m\u001b[0m\u001b[0m\n\u001b[1;32m     17\u001b[0m     \u001b[0;32mif\u001b[0m \u001b[0;32mnot\u001b[0m \u001b[0mg\u001b[0m\u001b[0;34m:\u001b[0m\u001b[0;34m\u001b[0m\u001b[0;34m\u001b[0m\u001b[0m\n",
      "\u001b[0;32m~/anaconda3/envs/geog0111/lib/python3.7/site-packages/osgeo/gdal.py\u001b[0m in \u001b[0;36mBuildVRT\u001b[0;34m(destName, srcDSOrSrcDSTab, **kwargs)\u001b[0m\n\u001b[1;32m   1293\u001b[0m         \u001b[0;32mreturn\u001b[0m \u001b[0mBuildVRTInternalObjects\u001b[0m\u001b[0;34m(\u001b[0m\u001b[0mdestName\u001b[0m\u001b[0;34m,\u001b[0m \u001b[0msrcDSTab\u001b[0m\u001b[0;34m,\u001b[0m \u001b[0mopts\u001b[0m\u001b[0;34m,\u001b[0m \u001b[0mcallback\u001b[0m\u001b[0;34m,\u001b[0m \u001b[0mcallback_data\u001b[0m\u001b[0;34m)\u001b[0m\u001b[0;34m\u001b[0m\u001b[0;34m\u001b[0m\u001b[0m\n\u001b[1;32m   1294\u001b[0m     \u001b[0;32melse\u001b[0m\u001b[0;34m:\u001b[0m\u001b[0;34m\u001b[0m\u001b[0;34m\u001b[0m\u001b[0m\n\u001b[0;32m-> 1295\u001b[0;31m         \u001b[0;32mreturn\u001b[0m \u001b[0mBuildVRTInternalNames\u001b[0m\u001b[0;34m(\u001b[0m\u001b[0mdestName\u001b[0m\u001b[0;34m,\u001b[0m \u001b[0msrcDSNamesTab\u001b[0m\u001b[0;34m,\u001b[0m \u001b[0mopts\u001b[0m\u001b[0;34m,\u001b[0m \u001b[0mcallback\u001b[0m\u001b[0;34m,\u001b[0m \u001b[0mcallback_data\u001b[0m\u001b[0;34m)\u001b[0m\u001b[0;34m\u001b[0m\u001b[0;34m\u001b[0m\u001b[0m\n\u001b[0m\u001b[1;32m   1296\u001b[0m \u001b[0;34m\u001b[0m\u001b[0m\n\u001b[1;32m   1297\u001b[0m \u001b[0;34m\u001b[0m\u001b[0m\n",
      "\u001b[0;32m~/anaconda3/envs/geog0111/lib/python3.7/site-packages/osgeo/gdal.py\u001b[0m in \u001b[0;36mBuildVRTInternalNames\u001b[0;34m(*args)\u001b[0m\n\u001b[1;32m   3574\u001b[0m \u001b[0;32mdef\u001b[0m \u001b[0mBuildVRTInternalNames\u001b[0m\u001b[0;34m(\u001b[0m\u001b[0;34m*\u001b[0m\u001b[0margs\u001b[0m\u001b[0;34m)\u001b[0m\u001b[0;34m:\u001b[0m\u001b[0;34m\u001b[0m\u001b[0;34m\u001b[0m\u001b[0m\n\u001b[1;32m   3575\u001b[0m     \u001b[0;34m\"\"\"BuildVRTInternalNames(char const * dest, char ** source_filenames, GDALBuildVRTOptions options, GDALProgressFunc callback=0, void * callback_data=None) -> Dataset\"\"\"\u001b[0m\u001b[0;34m\u001b[0m\u001b[0;34m\u001b[0m\u001b[0m\n\u001b[0;32m-> 3576\u001b[0;31m     \u001b[0;32mreturn\u001b[0m \u001b[0m_gdal\u001b[0m\u001b[0;34m.\u001b[0m\u001b[0mBuildVRTInternalNames\u001b[0m\u001b[0;34m(\u001b[0m\u001b[0;34m*\u001b[0m\u001b[0margs\u001b[0m\u001b[0;34m)\u001b[0m\u001b[0;34m\u001b[0m\u001b[0;34m\u001b[0m\u001b[0m\n\u001b[0m\u001b[1;32m   3577\u001b[0m \u001b[0;31m# This file is compatible with both classic and new-style classes.\u001b[0m\u001b[0;34m\u001b[0m\u001b[0;34m\u001b[0m\u001b[0;34m\u001b[0m\u001b[0m\n\u001b[1;32m   3578\u001b[0m \u001b[0;34m\u001b[0m\u001b[0m\n",
      "\u001b[0;31mTypeError\u001b[0m: in method 'BuildVRTInternalNames', argument 3 of type 'GDALBuildVRTOptions *'"
     ]
    }
   ],
   "source": [
    "self = modis\n",
    "kwargs = self.kwargs.copy()\n",
    "kwargs['year']  = f'{year}'\n",
    "sfiles = {}\n",
    "for i,s in enumerate(self.sds):\n",
    "    ofiles = []\n",
    "    bandlist = []\n",
    "    for doy in range(1,30,4):\n",
    "        bandlist.append(f'{str(i):0>2s}')\n",
    "        ifiles = self.stitch_date(year,doy)[i]\n",
    "        ofiles.append(ifiles)\n",
    "    spatial_file = f\"{self.local_dir}/data.{self.sds[i]}.\" + \\\n",
    "                     f\"{'_'.join(self.tile)}.{kwargs['year']}.vrt\"\n",
    "    g = gdal.BuildVRT(spatial_file,ofiles,separate=True,bandList=bandlist)\n",
    "    g.FlushCache()\n",
    "    if not g:\n",
    "        print(f\"problem building dataset for {spatial_file} with {kwargs}\")\n",
    "        "
   ]
  },
  {
   "cell_type": "code",
   "execution_count": 133,
   "metadata": {},
   "outputs": [
    {
     "data": {
      "text/plain": [
       "[]"
      ]
     },
     "execution_count": 133,
     "metadata": {},
     "output_type": "execute_result"
    }
   ],
   "source": [
    "self.stitch_date(year,2)[0]"
   ]
  },
  {
   "cell_type": "code",
   "execution_count": 131,
   "metadata": {},
   "outputs": [
    {
     "name": "stdout",
     "output_type": "stream",
     "text": [
      "01\n"
     ]
    }
   ],
   "source": [
    "i=1\n",
    "print(f'{str(i):0>2s}')"
   ]
  },
  {
   "cell_type": "code",
   "execution_count": null,
   "metadata": {},
   "outputs": [],
   "source": []
  },
  {
   "cell_type": "code",
   "execution_count": 124,
   "metadata": {},
   "outputs": [
    {
     "data": {
      "text/plain": [
       "{'Lai_500m': array([[[nan, nan, nan, ..., nan, 0. , nan],\n",
       "         [nan, nan, nan, ..., 0.1, 0.3, 0.3],\n",
       "         [nan, nan, nan, ..., nan, nan, nan],\n",
       "         ...,\n",
       "         [nan, nan, nan, ..., nan, nan, nan],\n",
       "         [nan, nan, nan, ..., nan, nan, nan],\n",
       "         [nan, nan, nan, ..., nan, nan, nan]],\n",
       " \n",
       "        [[nan, nan, nan, ..., nan, 0. , nan],\n",
       "         [nan, nan, nan, ..., 0. , 0.1, 0.1],\n",
       "         [nan, nan, nan, ..., nan, nan, nan],\n",
       "         ...,\n",
       "         [nan, nan, nan, ..., nan, nan, nan],\n",
       "         [nan, nan, nan, ..., nan, nan, nan],\n",
       "         [nan, nan, nan, ..., nan, nan, nan]],\n",
       " \n",
       "        [[nan, nan, nan, ..., nan, 0.3, nan],\n",
       "         [nan, nan, nan, ..., 0.3, 0.6, 0.5],\n",
       "         [nan, nan, nan, ..., nan, nan, nan],\n",
       "         ...,\n",
       "         [nan, nan, nan, ..., nan, nan, nan],\n",
       "         [nan, nan, nan, ..., nan, nan, nan],\n",
       "         [nan, nan, nan, ..., nan, nan, nan]],\n",
       " \n",
       "        ...,\n",
       " \n",
       "        [[nan, nan, nan, ..., nan, 0.1, nan],\n",
       "         [nan, nan, nan, ..., 0.1, 0.2, 0.2],\n",
       "         [nan, nan, nan, ..., nan, nan, nan],\n",
       "         ...,\n",
       "         [nan, nan, nan, ..., nan, nan, nan],\n",
       "         [nan, nan, nan, ..., nan, nan, nan],\n",
       "         [nan, nan, nan, ..., nan, nan, nan]],\n",
       " \n",
       "        [[nan, nan, nan, ..., nan, 0. , nan],\n",
       "         [nan, nan, nan, ..., 0. , 0. , 0. ],\n",
       "         [nan, nan, nan, ..., nan, nan, nan],\n",
       "         ...,\n",
       "         [nan, nan, nan, ..., nan, nan, nan],\n",
       "         [nan, nan, nan, ..., nan, nan, nan],\n",
       "         [nan, nan, nan, ..., nan, nan, nan]],\n",
       " \n",
       "        [[nan, nan, nan, ..., nan, 0. , nan],\n",
       "         [nan, nan, nan, ..., 0. , 0. , 0. ],\n",
       "         [nan, nan, nan, ..., nan, nan, nan],\n",
       "         ...,\n",
       "         [nan, nan, nan, ..., nan, nan, nan],\n",
       "         [nan, nan, nan, ..., nan, nan, nan],\n",
       "         [nan, nan, nan, ..., nan, nan, nan]]])}"
      ]
     },
     "execution_count": 124,
     "metadata": {},
     "output_type": "execute_result"
    }
   ],
   "source": [
    "       \n",
    "        \n",
    "    data = np.array([g.GetRasterBand(i).ReadAsArray() for i in range(1,len(g.GetFileList()))])\n",
    "    b = g.GetRasterBand(1)\n",
    "    sfiles[s] = data * b.GetScale() + b.GetOffset()\n",
    "    sfiles[s][data>248] = np.nan"
   ]
  },
  {
   "cell_type": "code",
   "execution_count": 122,
   "metadata": {},
   "outputs": [
    {
     "data": {
      "text/plain": [
       "<bound method Band.GetScale of <osgeo.gdal.Band; proxy of <Swig Object of type 'GDALRasterBandShadow *' at 0x7f84d185b600> >>"
      ]
     },
     "execution_count": 122,
     "metadata": {},
     "output_type": "execute_result"
    }
   ],
   "source": [
    "b.GetScale"
   ]
  },
  {
   "cell_type": "code",
   "execution_count": 121,
   "metadata": {},
   "outputs": [],
   "source": [
    "data = np.array([g.GetRasterBand(i).ReadAsArray() for i in range(1,len(g.GetFileList()))])"
   ]
  },
  {
   "cell_type": "code",
   "execution_count": 117,
   "metadata": {},
   "outputs": [
    {
     "data": {
      "text/plain": [
       "(8, 4800, 4800)"
      ]
     },
     "execution_count": 117,
     "metadata": {},
     "output_type": "execute_result"
    }
   ],
   "source": [
    "np.array(data).shape"
   ]
  },
  {
   "cell_type": "code",
   "execution_count": 105,
   "metadata": {},
   "outputs": [
    {
     "data": {
      "text/plain": [
       "array([[254, 254, 254, ..., 254,   0, 254],\n",
       "       [254, 254, 254, ...,   1,   3,   3],\n",
       "       [254, 254, 254, ..., 254, 254, 254],\n",
       "       ...,\n",
       "       [254, 254, 254, ..., 254, 254, 254],\n",
       "       [254, 254, 254, ..., 254, 254, 254],\n",
       "       [254, 254, 254, ..., 254, 254, 254]], dtype=uint8)"
      ]
     },
     "execution_count": 105,
     "metadata": {},
     "output_type": "execute_result"
    }
   ],
   "source": [
    "b.ReadAsArray()"
   ]
  },
  {
   "cell_type": "code",
   "execution_count": 70,
   "metadata": {},
   "outputs": [
    {
     "data": {
      "text/plain": [
       "'work/data.Lai_500m.h17v03_h17v04_h18v03_h18v04.2019.vrt'"
      ]
     },
     "execution_count": 70,
     "metadata": {},
     "output_type": "execute_result"
    }
   ],
   "source": [
    "sfiles[0]"
   ]
  },
  {
   "cell_type": "code",
   "execution_count": 62,
   "metadata": {},
   "outputs": [
    {
     "name": "stdout",
     "output_type": "stream",
     "text": [
      "<VRTDataset rasterXSize=\"4800\" rasterYSize=\"4800\">\r\n",
      "  <SRS dataAxisToSRSAxisMapping=\"1,2\">PROJCS[\"unnamed\",GEOGCS[\"Unknown datum based upon the custom spheroid\",DATUM[\"Not specified (based on custom spheroid)\",SPHEROID[\"Custom spheroid\",6371007.181,0]],PRIMEM[\"Greenwich\",0],UNIT[\"degree\",0.0174532925199433,AUTHORITY[\"EPSG\",\"9122\"]]],PROJECTION[\"Sinusoidal\"],PARAMETER[\"longitude_of_center\",0],PARAMETER[\"false_easting\",0],PARAMETER[\"false_northing\",0],UNIT[\"Meter\",1],AXIS[\"Easting\",EAST],AXIS[\"Northing\",NORTH]]</SRS>\r\n",
      "  <GeoTransform> -1.1119505196670000e+06,  4.6331271652791662e+02,  0.0000000000000000e+00,  6.6717031179999998e+06,  0.0000000000000000e+00, -4.6331271652770829e+02</GeoTransform>\r\n",
      "  <VRTRasterBand dataType=\"Byte\" band=\"1\">\r\n",
      "    <NoDataValue>255</NoDataValue>\r\n",
      "    <Scale>0.1</Scale>\r\n",
      "    <ComplexSource>\r\n",
      "      <SourceFilename relativeToVRT=\"1\">data.Lai_500m.h17v03_h17v04_h18v03_h18v04.2019.01.01.vrt</SourceFilename>\r\n",
      "      <SourceBand>1</SourceBand>\r\n",
      "      <SourceProperties RasterXSize=\"4800\" RasterYSize=\"4800\" DataType=\"Byte\" BlockXSize=\"128\" BlockYSize=\"128\" />\r\n",
      "      <SrcRect xOff=\"0\" yOff=\"0\" xSize=\"4800\" ySize=\"4800\" />\r\n",
      "      <DstRect xOff=\"0\" yOff=\"0\" xSize=\"4800\" ySize=\"4800\" />\r\n",
      "      <NODATA>255</NODATA>\r\n",
      "    </ComplexSource>\r\n",
      "  </VRTRasterBand>\r\n",
      "  <VRTRasterBand dataType=\"Byte\" band=\"2\">\r\n",
      "    <NoDataValue>255</NoDataValue>\r\n",
      "    <Scale>0.1</Scale>\r\n",
      "    <ComplexSource>\r\n",
      "      <SourceFilename relativeToVRT=\"1\">data.Lai_500m.h17v03_h17v04_h18v03_h18v04.2019.01.05.vrt</SourceFilename>\r\n",
      "      <SourceBand>1</SourceBand>\r\n",
      "      <SourceProperties RasterXSize=\"4800\" RasterYSize=\"4800\" DataType=\"Byte\" BlockXSize=\"128\" BlockYSize=\"128\" />\r\n",
      "      <SrcRect xOff=\"0\" yOff=\"0\" xSize=\"4800\" ySize=\"4800\" />\r\n",
      "      <DstRect xOff=\"0\" yOff=\"0\" xSize=\"4800\" ySize=\"4800\" />\r\n",
      "      <NODATA>255</NODATA>\r\n",
      "    </ComplexSource>\r\n",
      "  </VRTRasterBand>\r\n",
      "  <VRTRasterBand dataType=\"Byte\" band=\"3\">\r\n",
      "    <NoDataValue>255</NoDataValue>\r\n",
      "    <Scale>0.1</Scale>\r\n",
      "    <ComplexSource>\r\n",
      "      <SourceFilename relativeToVRT=\"1\">data.Lai_500m.h17v03_h17v04_h18v03_h18v04.2019.01.09.vrt</SourceFilename>\r\n",
      "      <SourceBand>1</SourceBand>\r\n",
      "      <SourceProperties RasterXSize=\"4800\" RasterYSize=\"4800\" DataType=\"Byte\" BlockXSize=\"128\" BlockYSize=\"128\" />\r\n",
      "      <SrcRect xOff=\"0\" yOff=\"0\" xSize=\"4800\" ySize=\"4800\" />\r\n",
      "      <DstRect xOff=\"0\" yOff=\"0\" xSize=\"4800\" ySize=\"4800\" />\r\n",
      "      <NODATA>255</NODATA>\r\n",
      "    </ComplexSource>\r\n",
      "  </VRTRasterBand>\r\n",
      "  <VRTRasterBand dataType=\"Byte\" band=\"4\">\r\n",
      "    <NoDataValue>255</NoDataValue>\r\n",
      "    <Scale>0.1</Scale>\r\n",
      "    <ComplexSource>\r\n",
      "      <SourceFilename relativeToVRT=\"1\">data.Lai_500m.h17v03_h17v04_h18v03_h18v04.2019.01.13.vrt</SourceFilename>\r\n",
      "      <SourceBand>1</SourceBand>\r\n",
      "      <SourceProperties RasterXSize=\"4800\" RasterYSize=\"4800\" DataType=\"Byte\" BlockXSize=\"128\" BlockYSize=\"128\" />\r\n",
      "      <SrcRect xOff=\"0\" yOff=\"0\" xSize=\"4800\" ySize=\"4800\" />\r\n",
      "      <DstRect xOff=\"0\" yOff=\"0\" xSize=\"4800\" ySize=\"4800\" />\r\n",
      "      <NODATA>255</NODATA>\r\n",
      "    </ComplexSource>\r\n",
      "  </VRTRasterBand>\r\n",
      "  <VRTRasterBand dataType=\"Byte\" band=\"5\">\r\n",
      "    <NoDataValue>255</NoDataValue>\r\n",
      "    <Scale>0.1</Scale>\r\n",
      "    <ComplexSource>\r\n",
      "      <SourceFilename relativeToVRT=\"1\">data.Lai_500m.h17v03_h17v04_h18v03_h18v04.2019.01.17.vrt</SourceFilename>\r\n",
      "      <SourceBand>1</SourceBand>\r\n",
      "      <SourceProperties RasterXSize=\"4800\" RasterYSize=\"4800\" DataType=\"Byte\" BlockXSize=\"128\" BlockYSize=\"128\" />\r\n",
      "      <SrcRect xOff=\"0\" yOff=\"0\" xSize=\"4800\" ySize=\"4800\" />\r\n",
      "      <DstRect xOff=\"0\" yOff=\"0\" xSize=\"4800\" ySize=\"4800\" />\r\n",
      "      <NODATA>255</NODATA>\r\n",
      "    </ComplexSource>\r\n",
      "  </VRTRasterBand>\r\n",
      "  <VRTRasterBand dataType=\"Byte\" band=\"6\">\r\n",
      "    <NoDataValue>255</NoDataValue>\r\n",
      "    <Scale>0.1</Scale>\r\n",
      "    <ComplexSource>\r\n",
      "      <SourceFilename relativeToVRT=\"1\">data.Lai_500m.h17v03_h17v04_h18v03_h18v04.2019.01.21.vrt</SourceFilename>\r\n",
      "      <SourceBand>1</SourceBand>\r\n",
      "      <SourceProperties RasterXSize=\"4800\" RasterYSize=\"4800\" DataType=\"Byte\" BlockXSize=\"128\" BlockYSize=\"128\" />\r\n",
      "      <SrcRect xOff=\"0\" yOff=\"0\" xSize=\"4800\" ySize=\"4800\" />\r\n",
      "      <DstRect xOff=\"0\" yOff=\"0\" xSize=\"4800\" ySize=\"4800\" />\r\n",
      "      <NODATA>255</NODATA>\r\n",
      "    </ComplexSource>\r\n",
      "  </VRTRasterBand>\r\n",
      "  <VRTRasterBand dataType=\"Byte\" band=\"7\">\r\n",
      "    <NoDataValue>255</NoDataValue>\r\n",
      "    <Scale>0.1</Scale>\r\n",
      "    <ComplexSource>\r\n",
      "      <SourceFilename relativeToVRT=\"1\">data.Lai_500m.h17v03_h17v04_h18v03_h18v04.2019.01.25.vrt</SourceFilename>\r\n",
      "      <SourceBand>1</SourceBand>\r\n",
      "      <SourceProperties RasterXSize=\"4800\" RasterYSize=\"4800\" DataType=\"Byte\" BlockXSize=\"128\" BlockYSize=\"128\" />\r\n",
      "      <SrcRect xOff=\"0\" yOff=\"0\" xSize=\"4800\" ySize=\"4800\" />\r\n",
      "      <DstRect xOff=\"0\" yOff=\"0\" xSize=\"4800\" ySize=\"4800\" />\r\n",
      "      <NODATA>255</NODATA>\r\n",
      "    </ComplexSource>\r\n",
      "  </VRTRasterBand>\r\n",
      "  <VRTRasterBand dataType=\"Byte\" band=\"8\">\r\n",
      "    <NoDataValue>255</NoDataValue>\r\n",
      "    <Scale>0.1</Scale>\r\n",
      "    <ComplexSource>\r\n",
      "      <SourceFilename relativeToVRT=\"1\">data.Lai_500m.h17v03_h17v04_h18v03_h18v04.2019.01.29.vrt</SourceFilename>\r\n",
      "      <SourceBand>1</SourceBand>\r\n",
      "      <SourceProperties RasterXSize=\"4800\" RasterYSize=\"4800\" DataType=\"Byte\" BlockXSize=\"128\" BlockYSize=\"128\" />\r\n",
      "      <SrcRect xOff=\"0\" yOff=\"0\" xSize=\"4800\" ySize=\"4800\" />\r\n",
      "      <DstRect xOff=\"0\" yOff=\"0\" xSize=\"4800\" ySize=\"4800\" />\r\n",
      "      <NODATA>255</NODATA>\r\n",
      "    </ComplexSource>\r\n",
      "  </VRTRasterBand>\r\n",
      "</VRTDataset>\r\n"
     ]
    }
   ],
   "source": [
    "!cat work/data.Lai_500m.h17v03_h17v04_h18v03_h18v04.2019.vrt"
   ]
  },
  {
   "cell_type": "code",
   "execution_count": 22,
   "metadata": {},
   "outputs": [
    {
     "name": "stdout",
     "output_type": "stream",
     "text": [
      "-rw-r--r--  1 plewis  staff  3071 17 Sep 18:13 work/data.Lai_500m.h17v03_h17v04_h18v03_h18v04.2019.01.01.vrt\r\n",
      "-rw-r--r--  1 plewis  staff  3071 17 Sep 18:13 work/data.Lai_500m.h17v03_h17v04_h18v03_h18v04.2019.01.05.vrt\r\n",
      "-rw-r--r--  1 plewis  staff  3071 17 Sep 18:13 work/data.Lai_500m.h17v03_h17v04_h18v03_h18v04.2019.01.09.vrt\r\n",
      "-rw-r--r--  1 plewis  staff  3071 17 Sep 18:04 work/data.Lai_500m.h17v03_h17v04_h18v03_h18v04.2019.01.13.vrt\r\n",
      "-rw-r--r--  1 plewis  staff  3071 17 Sep 18:05 work/data.Lai_500m.h17v03_h17v04_h18v03_h18v04.2019.01.17.vrt\r\n",
      "-rw-r--r--  1 plewis  staff  3071 17 Sep 18:06 work/data.Lai_500m.h17v03_h17v04_h18v03_h18v04.2019.01.21.vrt\r\n",
      "-rw-r--r--  1 plewis  staff  3071 17 Sep 18:08 work/data.Lai_500m.h17v03_h17v04_h18v03_h18v04.2019.01.25.vrt\r\n",
      "-rw-r--r--  1 plewis  staff  3071 17 Sep 18:09 work/data.Lai_500m.h17v03_h17v04_h18v03_h18v04.2019.01.29.vrt\r\n",
      "-rw-r--r--  1 plewis  staff  3071 17 Sep 18:10 work/data.Lai_500m.h17v03_h17v04_h18v03_h18v04.2019.02.02.vrt\r\n",
      "-rw-r--r--  1 plewis  staff  3071 17 Sep 18:11 work/data.Lai_500m.h17v03_h17v04_h18v03_h18v04.2019.02.06.vrt\r\n",
      "-rw-r--r--  1 plewis  staff  3071 17 Sep 18:13 work/data.Lai_500m.h17v03_h17v04_h18v03_h18v04.2019.02.10.vrt\r\n",
      "-rw-r--r--  1 plewis  staff  3071 17 Sep 17:52 work/data.Lai_500m.h17v03_h17v04_h18v03_h18v04.2019.03.22.vrt\r\n"
     ]
    }
   ],
   "source": [
    "!ls -l work/data.Lai_500m.h17v03_h17v04_h18v03_h18v04.2019.*.vrt"
   ]
  },
  {
   "cell_type": "code",
   "execution_count": null,
   "metadata": {},
   "outputs": [],
   "source": []
  }
 ],
 "metadata": {
  "kernelspec": {
   "display_name": "Python 3",
   "language": "python",
   "name": "python3"
  },
  "language_info": {
   "codemirror_mode": {
    "name": "ipython",
    "version": 3
   },
   "file_extension": ".py",
   "mimetype": "text/x-python",
   "name": "python",
   "nbconvert_exporter": "python",
   "pygments_lexer": "ipython3",
   "version": "3.7.8"
  }
 },
 "nbformat": 4,
 "nbformat_minor": 4
}
