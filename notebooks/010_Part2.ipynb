{
 "cells": [
  {
   "cell_type": "markdown",
   "metadata": {},
   "source": [
    "# Part 2"
   ]
  },
  {
   "cell_type": "markdown",
   "metadata": {},
   "source": [
    "*  [010 Python Introduction](010_Python_Introduction.ipynb)\n",
    "* [011 Python data types](011_Python_data_types.ipynb)\n",
    "* [012 Python strings](012_Python_strings.ipynb)\n",
    "* [013 Python string methods](013_Python_string_methods.ipynb)\n",
    "* [014 Python groups](014_Python_groups.ipynb)\n",
    "* [015_Python_control](015_Python_control.ipynb)\n",
    "* [016_Python_for](016_Python_for.ipynb)\n",
    "* [017_Functions](017_Functions.ipynb)\n",
    "* [018_Running_Python](018_Running_Python.ipynb)\n"
   ]
  }
 ],
 "metadata": {
  "kernelspec": {
   "display_name": "Python 3",
   "language": "python",
   "name": "python3"
  },
  "language_info": {
   "codemirror_mode": {
    "name": "ipython",
    "version": 3
   },
   "file_extension": ".py",
   "mimetype": "text/x-python",
   "name": "python",
   "nbconvert_exporter": "python",
   "pygments_lexer": "ipython3",
   "version": "3.7.8"
  }
 },
 "nbformat": 4,
 "nbformat_minor": 4
}
