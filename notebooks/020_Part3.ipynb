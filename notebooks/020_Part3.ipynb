{
 "cells": [
  {
   "cell_type": "markdown",
   "metadata": {},
   "source": [
    "# Part 3"
   ]
  },
  {
   "cell_type": "markdown",
   "metadata": {},
   "source": [
    "*  [021_Python_files](021_Python_files.ipynb)\n",
    "*  [022_Read_files](022_Read_files.ipynb)\n",
    "* [023_Pandas_and_plotting](022_Pandas_and_plotting.ipynb)\n",
    "* [024_NASA_MODIS_Earthdata](023_NASA_MODIS_Earthdata.ipynb)\n",
    "* [025_GoogleEarthEngine](025_GoogleEarthEngine.ipynb)\n",
    "* [026_Numpy_matplotlib](026_Numpy_matplotlib.ipynb)"
   ]
  }
 ],
 "metadata": {
  "kernelspec": {
   "display_name": "Python 3",
   "language": "python",
   "name": "python3"
  },
  "language_info": {
   "codemirror_mode": {
    "name": "ipython",
    "version": 3
   },
   "file_extension": ".py",
   "mimetype": "text/x-python",
   "name": "python",
   "nbconvert_exporter": "python",
   "pygments_lexer": "ipython3",
   "version": "3.7.8"
  }
 },
 "nbformat": 4,
 "nbformat_minor": 4
}
