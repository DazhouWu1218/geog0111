{
 "cells": [
  {
   "cell_type": "markdown",
   "metadata": {},
   "source": [
    "<img alt='UCL' src=\"images/ucl_logo.png\" align='center'>\n",
    "\n",
    "\n",
    "[<img src=\"images/noun_post_2109127.svg\" width=\"50\" align='right'>](032_GDAL_mosaicing_and_masking.ipynb)\n",
    "[<img src=\"images/noun_pre_2109128.svg\" width=\"50\" align='right'>](030_NASA_MODIS_Earthdata.ipynb)\n",
    "\n"
   ]
  },
  {
   "cell_type": "markdown",
   "metadata": {},
   "source": [
    "# 031 Manipulating data: `numpy`\n"
   ]
  },
  {
   "cell_type": "markdown",
   "metadata": {},
   "source": [
    "## Purpose\n",
    "\n",
    "\n",
    "While Python has a rich set of modules and data types by default, for numerical computing you'll be using two main libraries that conform the backbone of the [Python scientific stack](https://scipy.org/about.html). These libraries implement a great deal of functionality related to mathematical operations and efficient computations on large data volumes. These libraries are [`numpy`](http://numpy.org) and [`scipy`](http://scipy.org). `numpy`, which we will concentrate on in this section, deals with efficient arrays, similar to lists, that simplify many common processing operations. Of course, just doing calculations isn't much fun if you can't plot some results. To do this, we use the [`matplotlib`](http://matplotlib.org) library that we have seen in previous sessions.\n",
    "\n",
    "\n",
    "### Prerequisites\n",
    "\n",
    "You will need some understanding of the following:\n",
    "\n",
    "\n",
    "* [001 Using Notebooks](001_Notebook_use.ipynb)\n",
    "* [003 Getting help](003_Help.ipynb)\n",
    "* [010 Variables, comments and print()](010_Python_Introduction.ipynb)\n",
    "* [011 Data types](011_Python_data_types.ipynb) \n",
    "* [012 String formatting](012_Python_strings.ipynb)\n",
    "* [013_Python_string_methods](013_Python_string_methods.ipynb)\n",
    "* [020_Python_files](020_Python_files.ipynb)\n",
    "* [021 Streams](021_Streams.ipynb)\n",
    "* [022 Read write files](022_Read_write_files.ipynb)\n",
    "* [023 Plotting](023_Plotting.ipynb)\n",
    "* [024_Image_display](024_Image_display.ipynb)\n",
    "* [030_NASA_MODIS_Earthdata](030_NASA_MODIS_Earthdata.ipynb)"
   ]
  },
  {
   "cell_type": "markdown",
   "metadata": {},
   "source": [
    "\n",
    "## `numpy`\n",
    "\n",
    "### Introduction to arrays\n",
    "\n",
    "You import the `numpy` library using\n",
    "\n",
    "    import numpy as np\n",
    "    \n",
    "This means that all the functionality of `numpy` is accessed by the prefix `np.`: e.g. `np.array`. The main element of `numpy` is the numpy array. \n",
    "\n",
    "An array is in some ways like the [list object we have seen before](014_Python_groups.ipynb#list), but unlike a list, all the elements are of the same type, for example floating point numbers. Further, the range of things we can do with a `numpy` list is much greater than with the basic list."
   ]
  },
  {
   "cell_type": "code",
   "execution_count": 1,
   "metadata": {
    "ExecuteTime": {
     "end_time": "2018-09-26T16:26:31.395372Z",
     "start_time": "2018-09-26T16:26:31.387781Z"
    }
   },
   "outputs": [
    {
     "name": "stdout",
     "output_type": "stream",
     "text": [
      "--> Array with 5 ones:\n",
      "[1. 1. 1. 1. 1.]\n",
      "--> type of array:\n",
      "<class 'numpy.ndarray'>\n",
      "--> Array started from a list of integers:\n",
      "[1 2 3 4]\n",
      "--> Array started from a list of floats (some implicit):\n",
      "[1. 2. 3. 4.]\n"
     ]
    }
   ],
   "source": [
    "import numpy as np  # Import the numpy library\n",
    "\n",
    "# Example 1\n",
    "# An array with 5 ones\n",
    "arr = np.ones(5)\n",
    "print(f'--> Array with 5 ones:\\n{arr}')\n",
    "\n",
    "# type\n",
    "print(f'--> type of array:\\n{type(arr)}')\n",
    "assert type(arr) == np.ndarray\n",
    "\n",
    "# Example 2\n",
    "arr = np.array([1, 2, 3, 4])\n",
    "print(f'--> Array started from a list of integers:\\n{arr}')\n",
    "\n",
    "# Example 3\n",
    "# An array started from a list of numbers, what's the difference??\n",
    "arr = np.array([1., 2, 3, 4])\n",
    "print(f'--> Array started from a list of floats (some implicit):\\n{arr}')\n"
   ]
  },
  {
   "cell_type": "markdown",
   "metadata": {},
   "source": [
    "In the example above we have generated an array where all the elements are `1.0`, using [`np.ones`](https://docs.scipy.org/doc/numpy/reference/generated/numpy.ones.html), and then we have been able to generate arrays from lists using the [`np.array`](https://docs.scipy.org/doc/numpy/reference/generated/numpy.array.html) function. The difference between the 2nd and 3rd examples is that in the 2nd example, all the elements of the list are integers, and in the 3rd example, one is a floating point number. `numpy` automatically makes the array floating point by converting the integers to floating point numbers.\n",
    "\n"
   ]
  },
  {
   "cell_type": "markdown",
   "metadata": {},
   "source": [
    "We saw in an [earlier session](011_Python_data_types.ipynb#Conversion-between-data-types) how we could convert a floating point number to integer with:\n"
   ]
  },
  {
   "cell_type": "code",
   "execution_count": 2,
   "metadata": {},
   "outputs": [
    {
     "name": "stdout",
     "output_type": "stream",
     "text": [
      "float version: 10.5\n",
      "int version  : 10\n"
     ]
    }
   ],
   "source": [
    "float_version = 10.5\n",
    "print(f'float version: {float_version}')\n",
    "\n",
    "# convert individual number to int\n",
    "int_version = int(float_version)\n",
    "print(f'int version  : {int_version}')"
   ]
  },
  {
   "cell_type": "markdown",
   "metadata": {},
   "source": [
    "We can similarly convert between numpy data types (where appropriate) with `np.astype()`:"
   ]
  },
  {
   "cell_type": "code",
   "execution_count": 3,
   "metadata": {},
   "outputs": [
    {
     "name": "stdout",
     "output_type": "stream",
     "text": [
      "float version: [1. 2. 3. 4.]\n",
      "int version  : [1 2 3 4]\n"
     ]
    }
   ],
   "source": [
    "# An array started from a list of numbers, what's the difference??\n",
    "float_version = np.array([1., 2., 3., 4.])\n",
    "print(f'float version: {float_version}')\n",
    "\n",
    "# convert whole array to int\n",
    "int_version = float_version.astype(np.int)\n",
    "print(f'int version  : {int_version}')"
   ]
  },
  {
   "cell_type": "markdown",
   "metadata": {},
   "source": [
    "### Array arithmetic\n",
    "\n",
    "What else can we do with arrays? Perhaps the most significant thing is that can efficiently operate all array elements without loops, by treating the array as an object:"
   ]
  },
  {
   "cell_type": "code",
   "execution_count": 4,
   "metadata": {},
   "outputs": [
    {
     "name": "stdout",
     "output_type": "stream",
     "text": [
      "2 x [1. 1. 1. 1. 1. 1. 1. 1. 1. 1.] \n",
      "  = [2. 2. 2. 2. 2. 2. 2. 2. 2. 2.]\n"
     ]
    }
   ],
   "source": [
    "arr = np.ones(10)\n",
    "print(f'2 x {arr} \\n  = {2 * arr}')"
   ]
  },
  {
   "cell_type": "markdown",
   "metadata": {},
   "source": [
    "`numpy` is clever enough to figure out that the 2 multiplying the array is applied to all elements of the array, and returns an array of the same size as `arr` with the elements of `arr` multiplied by 2. We can also multiply two arrays of the same size. So let's create an array with the numbers 0 to 9 and one with the numbers 9 to 0 and do a times table:"
   ]
  },
  {
   "cell_type": "code",
   "execution_count": 5,
   "metadata": {},
   "outputs": [
    {
     "name": "stdout",
     "output_type": "stream",
     "text": [
      "[9 9 9 9 9 9 9 9 9 9]\n",
      "[ 1  2  3  4  5  6  7  8  9 10]\n",
      "[ 9 18 27 36 45 54 63 72 81 90]\n"
     ]
    }
   ],
   "source": [
    "arr1 = 9 * np.ones(10).astype(np.int)\n",
    "arr2 = np.arange(1, 11)  # arange gives an array from 1 to 11, 11 not included\n",
    "\n",
    "print(arr1)\n",
    "print(arr2)\n",
    "\n",
    "print(arr1 * arr2)"
   ]
  },
  {
   "cell_type": "markdown",
   "metadata": {
    "solution2": "hidden",
    "solution2_first": true
   },
   "source": [
    "#### Exercise 1\n",
    "\n",
    "* Using code similar to the above and a `for` loop, write the times tables for 2 to 10. The solution you're looking for should look a bit like this:\n",
    "\n",
    "        [ 2  4  6  8 10 12 14 16 18 20]\n",
    "        [ 3  6  9 12 15 18 21 24 27 30]\n",
    "        [ 4  8 12 16 20 24 28 32 36 40]\n",
    "        [ 5 10 15 20 25 30 35 40 45 50]\n",
    "        [ 6 12 18 24 30 36 42 48 54 60]\n",
    "        [ 7 14 21 28 35 42 49 56 63 70]\n",
    "        [ 8 16 24 32 40 48 56 64 72 80]\n",
    "        [ 9 18 27 36 45 54 63 72 81 90]\n",
    "        [ 10  20  30  40  50  60  70  80  90 100]"
   ]
  },
  {
   "cell_type": "code",
   "execution_count": 6,
   "metadata": {
    "scrolled": true,
    "solution2": "hidden"
   },
   "outputs": [
    {
     "name": "stdout",
     "output_type": "stream",
     "text": [
      "\n",
      "Using code similar to the above and a `for` loop, \n",
      "write the times tables for 2 to 10. \n",
      "The solution you're looking for should look a bit like this:\n",
      "\n",
      "        [ 2  4  6  8 10 12 14 16 18 20]\n",
      "        [ 3  6  9 12 15 18 21 24 27 30]\n",
      "        [ 4  8 12 16 20 24 28 32 36 40]\n",
      "        [ 5 10 15 20 25 30 35 40 45 50]\n",
      "        [ 6 12 18 24 30 36 42 48 54 60]\n",
      "        [ 7 14 21 28 35 42 49 56 63 70]\n",
      "        [ 8 16 24 32 40 48 56 64 72 80]\n",
      "        [ 9 18 27 36 45 54 63 72 81 90]\n",
      "        [ 10  20  30  40  50  60  70  80  90 100]\n",
      "\n",
      " 1 x . -> [1 1 1 1 1 1 1 1 1 1]\n",
      " 2 x . -> [2 2 2 2 2 2 2 2 2 2]\n",
      " 3 x . -> [3 3 3 3 3 3 3 3 3 3]\n",
      " 4 x . -> [4 4 4 4 4 4 4 4 4 4]\n",
      " 5 x . -> [5 5 5 5 5 5 5 5 5 5]\n",
      " 6 x . -> [6 6 6 6 6 6 6 6 6 6]\n",
      " 7 x . -> [7 7 7 7 7 7 7 7 7 7]\n",
      " 8 x . -> [8 8 8 8 8 8 8 8 8 8]\n",
      " 9 x . -> [9 9 9 9 9 9 9 9 9 9]\n",
      "10 x . -> [10 10 10 10 10 10 10 10 10 10]\n"
     ]
    }
   ],
   "source": [
    "# ANSWER\n",
    "# dont forget to import numpy\n",
    "import numpy as np\n",
    "\n",
    "msg = '''\n",
    "Using code similar to the above and a `for` loop, \n",
    "write the times tables for 2 to 10. \n",
    "The solution you're looking for should look a bit like this:\n",
    "\n",
    "        [ 2  4  6  8 10 12 14 16 18 20]\n",
    "        [ 3  6  9 12 15 18 21 24 27 30]\n",
    "        [ 4  8 12 16 20 24 28 32 36 40]\n",
    "        [ 5 10 15 20 25 30 35 40 45 50]\n",
    "        [ 6 12 18 24 30 36 42 48 54 60]\n",
    "        [ 7 14 21 28 35 42 49 56 63 70]\n",
    "        [ 8 16 24 32 40 48 56 64 72 80]\n",
    "        [ 9 18 27 36 45 54 63 72 81 90]\n",
    "        [ 10  20  30  40  50  60  70  80  90 100]\n",
    "'''\n",
    "print(msg)\n",
    "\n",
    "# set up the core array as integers\n",
    "arr1 = np.ones(10).astype(int)\n",
    "\n",
    "# for over 2 to 10\n",
    "for n in np.arange(1,11):\n",
    "    print(f'{n:2d} x . -> {arr1*n}')"
   ]
  },
  {
   "cell_type": "markdown",
   "metadata": {},
   "source": [
    "We can get a tuple of the array shape with `array.shape`.\n",
    "\n",
    "If the arrays are of the same shape, you can do standard operations between them **element-wise**:"
   ]
  },
  {
   "cell_type": "code",
   "execution_count": 7,
   "metadata": {},
   "outputs": [
    {
     "name": "stdout",
     "output_type": "stream",
     "text": [
      "[27. 36. 45. 54.]\n",
      "[ 90. 160. 250. 360.]\n",
      "Array shapes:\n",
      "arr1: (4,)\n",
      "arr2: (4,)\n"
     ]
    }
   ],
   "source": [
    "arr1 = np.array([3, 4, 5, 6.])\n",
    "arr2 = np.array([30, 40, 50, 60.])\n",
    "\n",
    "print(arr2 - arr1)\n",
    "print(arr1 * arr2)\n",
    "\n",
    "print(\"Array shapes:\")\n",
    "print(f\"arr1: {arr1.shape}\")\n",
    "print(f\"arr2: {arr2.shape}\")"
   ]
  },
  {
   "cell_type": "markdown",
   "metadata": {},
   "source": [
    "The `numpy` documenation is huge. There's an [user's guide](https://docs.scipy.org/doc/numpy/user/index.html), as well as a reference to all the [contents of the library](https://docs.scipy.org/doc/numpy/reference/index.html). There's even [a tutorial availabe](https://docs.scipy.org/doc/numpy/user/quickstart.html) if you get bored with this one.\n",
    "\n",
    "### More detail on `numpy.arrays` \n",
    "\n",
    "So far, we have seen a 1D array, which is the equivalent to a vector. But arrays can have more dimensions: a 2D array would be equivalent to a matrix (or an image, with rows and columns), and a 3D array would be a volume split into voxels, as seen below\n",
    "\n",
    "\n",
    "[![numpy arrays](images/1*Ikn1J6siiiCSk4ivYUhdgw.png)](https://cdn-images-1.medium.com/max/1120/1*Ikn1J6siiiCSk4ivYUhdgw.png)\n",
    "\n",
    "\n",
    "So a 1D array has one axis, a 2D array has 2 axes, a 3D array 3, and so on. The `shape` of the array provides a tuple with the number of elements along each axis. Let's see this with some generally useful array creation options:"
   ]
  },
  {
   "cell_type": "code",
   "execution_count": 8,
   "metadata": {},
   "outputs": [
    {
     "name": "stdout",
     "output_type": "stream",
     "text": [
      "3*5 array:\n",
      "[[ 0  1  2  3  4]\n",
      " [ 5  6  7  8  9]\n",
      " [10 11 12 13 14]]\n",
      "2*3 array:\n",
      "[[1.5 2.  3. ]\n",
      " [4.  5.  6. ]]\n"
     ]
    }
   ],
   "source": [
    "# Create a 2D array from a list of rows. \n",
    "# Note that the 3 rows have the same number of elements!\n",
    "arr1 = np.array([[0,  1,  2,  3,  4],\\\n",
    "                 [5,  6,  7,  8,  9],\\\n",
    "                 [10, 11, 12, 13, 14]])\n",
    "\n",
    "# A 2D array from a list of tuples.\n",
    "# We're specifically asking for floating point numbers\n",
    "arr2 = np.array([(1.5, 2, 3),\\\n",
    "                 (4  , 5, 6)], dtype=np.float)\n",
    "print(\"3*5 array:\")\n",
    "print(arr1)\n",
    "print(\"2*3 array:\")\n",
    "print(arr2)"
   ]
  },
  {
   "cell_type": "markdown",
   "metadata": {},
   "source": [
    "### Array creators\n",
    "\n",
    "Quite often, we will want to initialise an array to be all the same number. The methods for doing this as 0,1 in `numpy` are `np.zeros()` and `np.ones()` respectively.\n",
    "\n",
    "We specify the shape of the array we want with an appropriate tuple.\n",
    "\n",
    "We can specify the data type of the array with the keyword `dtype=np.int` (for integer). This would have the same effect as using `array.astype(np.int)` as above, but is shorter, clearer and neater. "
   ]
  },
  {
   "cell_type": "code",
   "execution_count": 9,
   "metadata": {},
   "outputs": [
    {
     "name": "stdout",
     "output_type": "stream",
     "text": [
      "3*4 array of 0s\n",
      "[[0. 0. 0. 0.]\n",
      " [0. 0. 0. 0.]\n",
      " [0. 0. 0. 0.]]\n",
      "2*3*4 array of 1s (integers)\n",
      "[[[1 1 1 1]\n",
      "  [1 1 1 1]\n",
      "  [1 1 1 1]]\n",
      "\n",
      " [[1 1 1 1]\n",
      "  [1 1 1 1]\n",
      "  [1 1 1 1]]]\n"
     ]
    }
   ],
   "source": [
    "# Creates a 3*4 array of 0s\n",
    "arr = np.zeros((3, 4))\n",
    "print(\"3*4 array of 0s\")\n",
    "print(arr)\n",
    "\n",
    "# Creates a 2x3x4 array of int 1's\n",
    "print(\"2*3*4 array of 1s (integers)\")\n",
    "arr = np.ones((2, 3, 4), dtype=np.int)\n",
    "print(arr)"
   ]
  },
  {
   "cell_type": "markdown",
   "metadata": {},
   "source": [
    "A similar useful set of functions are `np.ones_like` and `np.zeros_like`. These create a copy of an array, with the values set to 1 or 0 respectively:"
   ]
  },
  {
   "cell_type": "code",
   "execution_count": 10,
   "metadata": {},
   "outputs": [
    {
     "name": "stdout",
     "output_type": "stream",
     "text": [
      "base:\n",
      "[[1 2 3]\n",
      " [4 7 0]]\n",
      "z:\n",
      "[[0 0 0]\n",
      " [0 0 0]]\n"
     ]
    }
   ],
   "source": [
    "base = np.array([[1,2,3],[4,7,0]])\n",
    "print(f'base:\\n{base}')\n",
    "\n",
    "z = np.zeros_like(base)\n",
    "print(f'z:\\n{z}')"
   ]
  },
  {
   "cell_type": "markdown",
   "metadata": {},
   "source": [
    "### Indexing arrays\n",
    "\n",
    "We can refer to a particular value within an array with a tuple describing an index. \n",
    "\n",
    "For example:"
   ]
  },
  {
   "cell_type": "code",
   "execution_count": 11,
   "metadata": {},
   "outputs": [
    {
     "name": "stdout",
     "output_type": "stream",
     "text": [
      "13\n"
     ]
    }
   ],
   "source": [
    "import numpy as np\n",
    "\n",
    "arr = np.array([[0,  1,  2,  3,  4],\\\n",
    "                 [5,  6,  7,  8,  9],\\\n",
    "                 [10, 11, 12, 13, 14]])\n",
    "\n",
    "# row 2, column 3\n",
    "# so index is (2,3)\n",
    "print(arr[2,3])"
   ]
  },
  {
   "cell_type": "markdown",
   "metadata": {},
   "source": [
    "In the example above, the index was implicitly a tuple, but we can also be explicit:"
   ]
  },
  {
   "cell_type": "code",
   "execution_count": 12,
   "metadata": {},
   "outputs": [
    {
     "name": "stdout",
     "output_type": "stream",
     "text": [
      "13\n"
     ]
    }
   ],
   "source": [
    "# row 2, column 3\n",
    "# so index is (2,3)\n",
    "# make an index tuple\n",
    "index = (2,3)\n",
    "print(arr[index])"
   ]
  },
  {
   "cell_type": "markdown",
   "metadata": {},
   "source": [
    "If we want to refer to a set of indices, we can use a 2D index tuple:"
   ]
  },
  {
   "cell_type": "code",
   "execution_count": 13,
   "metadata": {},
   "outputs": [
    {
     "name": "stdout",
     "output_type": "stream",
     "text": [
      "shape is (3, 5)\n",
      "data:\n",
      "[[ 0  1  2  3  4]\n",
      " [ 5  6  7  8  9]\n",
      " [10 11 12 13 14]]\n",
      "values at ((2, 0, 1), (3, 4, 1)) are [13  4  6]\n"
     ]
    }
   ],
   "source": [
    "import numpy as np\n",
    "\n",
    "arr = np.array([[0,  1,  2,  3,  4],\\\n",
    "                 [5,  6,  7,  8,  9],\\\n",
    "                 [10, 11, 12, 13, 14]])\n",
    "\n",
    "print(f'shape is {arr.shape}')\n",
    "# make sure we dont index outside of this shape!\n",
    "# row 2, column 3\n",
    "# row 0, column 4\n",
    "# row 1, column 2\n",
    "\n",
    "# so 2D index is ((2,0,1),(3,4,1))\n",
    "# make an index tuple\n",
    "print(f'data:\\n{arr}')\n",
    "index = ((2,0,1),(3,4,1))\n",
    "print(f'values at {index} are {arr[index]}')"
   ]
  },
  {
   "cell_type": "markdown",
   "metadata": {},
   "source": [
    "We will see below that there are other options for referring to elements of an array, but this 2D tuple of indices is important in showing how to select individual elements from an array."
   ]
  },
  {
   "cell_type": "markdown",
   "metadata": {
    "solution2": "hidden",
    "solution2_first": true
   },
   "source": [
    "#### Exercise 2\n",
    "\n",
    "* write a function that does the following:\n",
    "    * create a 2-D tuple called `indices` containing the integers `((0, 1, 2, 3, 4),(5, 6, 7, 8, 9))`\n",
    "    * create a 2-D numpy array called `data` of shape `(5,10)`, data type `int`, initialised with zero\n",
    "    * set the value of `data[r,c]` to be `1` for each of the 5 row,column pairs specified in `indices`.\n",
    "    * return the data array\n",
    "* print out the result returned\n",
    "\n",
    "The result should look like:\n",
    "\n",
    "    [[0 0 0 0 0 1 0 0 0 0]\n",
    "     [0 0 0 0 0 0 1 0 0 0]\n",
    "     [0 0 0 0 0 0 0 1 0 0]\n",
    "     [0 0 0 0 0 0 0 0 1 0]\n",
    "     [0 0 0 0 0 0 0 0 0 1]]\n",
    "\n",
    "**Hint**: You could use a `for` loop, but what does `data[indices]` give?"
   ]
  },
  {
   "cell_type": "code",
   "execution_count": 14,
   "metadata": {
    "solution2": "hidden"
   },
   "outputs": [
    {
     "name": "stdout",
     "output_type": "stream",
     "text": [
      "indices ->\n",
      "((0, 1, 2, 3, 4), (5, 6, 7, 8, 9))\n",
      "data       ->\n",
      "[[0 0 0 0 0 0 0 0 0 0]\n",
      " [0 0 0 0 0 0 0 0 0 0]\n",
      " [0 0 0 0 0 0 0 0 0 0]\n",
      " [0 0 0 0 0 0 0 0 0 0]\n",
      " [0 0 0 0 0 0 0 0 0 0]]\n",
      "data.shape -> (5, 10)\n",
      "data now   ->\n",
      "[[0 0 0 0 0 1 0 0 0 0]\n",
      " [0 0 0 0 0 0 1 0 0 0]\n",
      " [0 0 0 0 0 0 0 1 0 0]\n",
      " [0 0 0 0 0 0 0 0 1 0]\n",
      " [0 0 0 0 0 0 0 0 0 1]]\n"
     ]
    }
   ],
   "source": [
    "# ANSWER 1\n",
    "\n",
    "# write a function that does the following:\n",
    "\n",
    "# First we will test out the statements we want\n",
    "\n",
    "# create a 2-D tuple called indices containing the \n",
    "# integers ((0, 1, 2, 3, 4),(5, 6, 7, 8, 9))\n",
    "indices = ((0, 1, 2, 3, 4),(5, 6, 7, 8, 9))\n",
    "print(f'indices ->\\n{indices}')\n",
    "\n",
    "# create a 2-D numpy array called data \n",
    "# of shape (5,10), data type int, initialised with zero\n",
    "data = np.zeros((5,10),dtype=np.int)\n",
    "print(f'data       ->\\n{data}')\n",
    "print(f'data.shape -> {data.shape}')\n",
    "\n",
    "# set the value of data[r,c] to be 1 \n",
    "# for each of the 5 row,column pairs specified in indices.\n",
    "data[indices] = 1\n",
    "print(f'data now   ->\\n{data}')\n",
    "\n",
    "# return the data array\n",
    "# print out the result returned\n",
    "\n"
   ]
  },
  {
   "cell_type": "code",
   "execution_count": 15,
   "metadata": {
    "solution2": "hidden"
   },
   "outputs": [
    {
     "name": "stdout",
     "output_type": "stream",
     "text": [
      "[[0 0 0 0 0 1 0 0 0 0]\n",
      " [0 0 0 0 0 0 1 0 0 0]\n",
      " [0 0 0 0 0 0 0 1 0 0]\n",
      " [0 0 0 0 0 0 0 0 1 0]\n",
      " [0 0 0 0 0 0 0 0 0 1]]\n"
     ]
    }
   ],
   "source": [
    "# ANSWER 2\n",
    "\n",
    "# write a function that does the following:\n",
    "\n",
    "def doit():\n",
    "    '''\n",
    "    return (5,10) zero-value integer array \n",
    "    with ((0, 1, 2, 3, 4),(5, 6, 7, 8, 9))\n",
    "    set to 1\n",
    "    '''\n",
    "    # create a 2-D tuple called indices containing the \n",
    "    # integers ((0, 1, 2, 3, 4),(5, 6, 7, 8, 9))\n",
    "    indices = ((0, 1, 2, 3, 4),(5, 6, 7, 8, 9))\n",
    "    \n",
    "    # create a 2-D numpy array called data \n",
    "    # of shape (5,10), data type int, initialised with zero\n",
    "    data = np.zeros((5,10),dtype=np.int)\n",
    "\n",
    "    # set the value of data[r,c] to be 1 \n",
    "    # for each of the 5 row,column pairs specified in indices.\n",
    "    data[indices] = 1\n",
    "    \n",
    "    # return the data array\n",
    "    return data\n",
    "\n",
    "# print out the result returned\n",
    "print(doit())\n"
   ]
  },
  {
   "cell_type": "markdown",
   "metadata": {
    "solution2": "hidden",
    "solution2_first": true
   },
   "source": [
    "#### Exercise 3\n",
    "\n",
    "* write a more flexible version of you function above where `indices`, the value you want to set (`1` above) and the desired shape of `data` are specified through function keyword arguments (e.g. `indices=((0, 1, 2, 3, 4),(5, 6, 7, 8, 9)),value=1`) with the shape set as a required argument.\n",
    "\n"
   ]
  },
  {
   "cell_type": "code",
   "execution_count": 16,
   "metadata": {
    "solution2": "hidden"
   },
   "outputs": [
    {
     "name": "stdout",
     "output_type": "stream",
     "text": [
      "set_value((5,5))\n",
      "->\n",
      "[[0 0 0 0 0]\n",
      " [0 0 0 0 0]\n",
      " [0 0 0 0 0]\n",
      " [0 0 0 0 0]\n",
      " [0 0 0 0 0]]\n",
      "set_value((4,6),value=1,indices=((1,2,3),(0,1,2)))\n",
      "->\n",
      " [[0 0 0 0 0 0]\n",
      " [1 0 0 0 0 0]\n",
      " [0 1 0 0 0 0]\n",
      " [0 0 1 0 0 0]]\n"
     ]
    }
   ],
   "source": [
    "# ANSWER 3\n",
    "\n",
    "# write a more flexible version of you function \n",
    "# above where `indices`, the value you want to \n",
    "# set (`1` above) and the desired shape of `data` \n",
    "# are specified through function keyword arguments \n",
    "# (e.g. `indices=((0, 1, 2, 3, 4),(5, 6, 7, 8, 9)),\n",
    "# value=1`) with the shape set as a required argument.\n",
    "\n",
    "'''\n",
    "set_value\n",
    "'''\n",
    "def set_value(shape,indices=None,\\\n",
    "         value=0):\n",
    "    '''\n",
    "    return zero-value integer array of shape shape\n",
    "    with indices set to value\n",
    "    \n",
    "    arguments:\n",
    "        shape.  : desired array shape\n",
    "    \n",
    "    keywords:\n",
    "        indices : tuple of indices to set. default None\n",
    "        value   : integer value to set. default 0\n",
    "    '''\n",
    "    # create a 2-D numpy array called data \n",
    "    # of shape , data type int, initialised with zero\n",
    "    data = np.zeros(shape,dtype=np.int)\n",
    "\n",
    "    # set the value of data[r,c] to be 1 \n",
    "    # for each of the 5 row,column pairs specified in indices.\n",
    "    data[indices] = value\n",
    "    \n",
    "    # return the data array\n",
    "    return data\n",
    "\n",
    "# print out the result returned\n",
    "print(f'set_value((5,5))\\n->\\n{set_value((5,5))}')\n",
    "print(f'set_value((4,6),value=1,indices=((1,2,3),(0,1,2)))\\n->\\n',\\\n",
    "      f'{set_value((4,6),value=1,indices=((1,2,3),(0,1,2)))}')\n"
   ]
  },
  {
   "cell_type": "markdown",
   "metadata": {},
   "source": [
    "### `np.linspace`, `np.arange`\n",
    "\n",
    "As well as initialising arrays with the same number as above, we often also want to initialise with common data patterns. This includes simple integer ranges `(start, stop, step)` in a similar fashion to [slicing we saw earlier](013_Python_string_methods.ipynb#slice).\n",
    "\n",
    "For example:\n",
    "\n",
    "    np.arange(start, stop, step)\n",
    "    \n",
    "will produce a list of integer numbers from `start` to `stop` in steps of `step`. It is similar to the [`range` function we have seen perviously](016_Python_for.ipynb#range()).\n",
    "\n",
    "We will introduce the function `np.linspace(start, stop, nsamp)` that creates an array of equally-spaced numbers according to the pattern `(start, stop, nsamp)`."
   ]
  },
  {
   "cell_type": "code",
   "execution_count": 17,
   "metadata": {},
   "outputs": [
    {
     "name": "stdout",
     "output_type": "stream",
     "text": [
      "1D array of numbers from 0 to 2 in increments of 0.3\n",
      "arr of shape (7,):\n",
      "\t[0.  0.3 0.6 0.9 1.2 1.5 1.8]\n",
      "array of shape (9,) numbers equally spaced from 0 to 34:\n",
      "\t[ 0.    4.25  8.5  12.75 17.   21.25 25.5  29.75 34.  ]\n"
     ]
    },
    {
     "data": {
      "text/plain": [
       "array([34.  , 29.75, 25.5 , 21.25, 17.  , 12.75,  8.5 ,  4.25,  0.  ])"
      ]
     },
     "execution_count": 17,
     "metadata": {},
     "output_type": "execute_result"
    }
   ],
   "source": [
    "# array creators\n",
    "\n",
    "print(\"1D array of numbers from 0 to 2 in increments of 0.3\")\n",
    "start = 0\n",
    "stop = 2.0\n",
    "step = 0.3\n",
    "\n",
    "arr = np.arange(start, stop, step)\n",
    "print(f'arr of shape {arr.shape}:\\n\\t{arr}')\n",
    "\n",
    "start = 0\n",
    "stop = 34\n",
    "nsamp = 9\n",
    "arr = np.linspace(start, stop, nsamp)\n",
    "print(\n",
    "    f\"array of shape {arr.shape} numbers equally spaced from {start} to {stop}:\\n\\t{arr}\")\n",
    "\n",
    "np.linspace(stop, start, 9)"
   ]
  },
  {
   "cell_type": "markdown",
   "metadata": {
    "solution2": "hidden",
    "solution2_first": true
   },
   "source": [
    "#### Exercise 4\n",
    "\n",
    "* print an array of integer numbers from 100 to 1\n",
    "* print an array with 9 numbers equally spaced between 100 and 1\n",
    "\n",
    "Hint: what value of skip would be appropriate here? what about `start` and `stop`?"
   ]
  },
  {
   "cell_type": "code",
   "execution_count": 18,
   "metadata": {
    "solution2": "hidden"
   },
   "outputs": [
    {
     "name": "stdout",
     "output_type": "stream",
     "text": [
      "[100  99  98  97  96  95  94  93  92  91  90  89  88  87  86  85  84  83\n",
      "  82  81  80  79  78  77  76  75  74  73  72  71  70  69  68  67  66  65\n",
      "  64  63  62  61  60  59  58  57  56  55  54  53  52  51  50  49  48  47\n",
      "  46  45  44  43  42  41  40  39  38  37  36  35  34  33  32  31  30  29\n",
      "  28  27  26  25  24  23  22  21  20  19  18  17  16  15  14  13  12  11\n",
      "  10   9   8   7   6   5   4   3   2   1]\n",
      "[100  99  98  97  96  95  94  93  92  91  90  89  88  87  86  85  84  83\n",
      "  82  81  80  79  78  77  76  75  74  73  72  71  70  69  68  67  66  65\n",
      "  64  63  62  61  60  59  58  57  56  55  54  53  52  51  50  49  48  47\n",
      "  46  45  44  43  42  41  40  39  38  37  36  35  34  33  32  31  30  29\n",
      "  28  27  26  25  24  23  22  21  20  19  18  17  16  15  14  13  12  11\n",
      "  10   9   8   7   6   5   4   3   2]\n",
      "[100.     87.625  75.25   62.875  50.5    38.125  25.75   13.375   1.   ]\n"
     ]
    }
   ],
   "source": [
    "# ANSWER\n",
    "import numpy as np\n",
    "# print an array of integer numbers from 100 to 1\n",
    "print(np.linspace(100,1,100,dtype=np.int))\n",
    "# OR use np.arange\n",
    "print(np.arange(100,1,-1))\n",
    "\n",
    "# print an array with 9 numbers equally spaced between 100 and 1\n",
    "print(np.linspace(100,1,9))"
   ]
  },
  {
   "cell_type": "markdown",
   "metadata": {},
   "source": [
    "## Summary statistics\n",
    "\n",
    "Below are some representative arithmetic operations that you can use on arrays. Remember that they happen **elementwise** (i.e. to the whole array):"
   ]
  },
  {
   "cell_type": "code",
   "execution_count": 19,
   "metadata": {},
   "outputs": [
    {
     "name": "stdout",
     "output_type": "stream",
     "text": [
      "[0 1 2 3]^2 = [0 1 4 9]\n",
      "\n",
      "assuming in radians,\n",
      "10*sin([20 30 40 50]) = [ 9.12945251 -9.88031624  7.4511316  -2.62374854]\n",
      "\n",
      "Some useful numpy array methods for summary statistics...\n",
      "\n",
      "Find the maximum of an array: a.max():   50\n",
      "Find the minimum of an array: a.min():   20\n",
      "Find the sum of an array: a.sum():       140\n",
      "Find the mean of an array: a.mean():     35.00\n",
      "Find the std dev of an array: a.std():   11.18\n"
     ]
    }
   ],
   "source": [
    "# initialise some numbers\n",
    "b = np.arange(4)\n",
    "print(f'{b}^2 = {b**2}\\n')\n",
    "\n",
    "a = np.array([20, 30, 40, 50])\n",
    "print(f\"assuming in radians,\\n10*sin({a}) = {10 * np.sin(a)}\")\n",
    "\n",
    "print(\"\\nSome useful numpy array methods for summary statistics...\\n\")\n",
    "print(f\"Find the maximum of an array: a.max():   {a.max()}\")\n",
    "print(f\"Find the minimum of an array: a.min():   {a.min()}\")\n",
    "print(f\"Find the sum of an array: a.sum():       {a.sum()}\")\n",
    "print(f\"Find the mean of an array: a.mean():     {a.mean(): >5.2f}\")\n",
    "print(f\"Find the std dev of an array: a.std():   {a.std() : >5.2f}\")"
   ]
  },
  {
   "cell_type": "code",
   "execution_count": 20,
   "metadata": {},
   "outputs": [
    {
     "name": "stdout",
     "output_type": "stream",
     "text": [
      "sqrt(11.180339887498949) should equal 11.180339887498949\n"
     ]
    }
   ],
   "source": [
    "# variance and standard deviation:\n",
    "#\n",
    "# try var and see if it is the same as std * std\n",
    "var = a.var()\n",
    "std = a.std()\n",
    "\n",
    "# use np.sqrt for square root\n",
    "print(f'sqrt({np.sqrt(var)}) should equal {std}')"
   ]
  },
  {
   "cell_type": "markdown",
   "metadata": {},
   "source": [
    "### `np.loadtxt`\n",
    "\n",
    "Let's access an interesting dataset on the frequency of satellite launches to illustrate this.\n",
    "\n",
    "[![SpaceX landing](images/giphy.gif)](https://media.giphy.com/media/26DNbCqVfLJbYrXIA/giphy.gif)"
   ]
  },
  {
   "cell_type": "markdown",
   "metadata": {},
   "source": [
    "The library code `geog0111.nsat` accesses a database at [https://www.n2yo.com](https://www.n2yo.com) and gets a table satellite launch data.\n",
    "\n",
    "Data from this is stored in the datafile [data/satellites-1957-2021.gz](data/satellites-1957-2021.gz). This is a compressed text file.\n",
    "\n",
    "We can use `np.loadtxt` to read files of this nature into numpy arrays in a similar way to how we [read into panadas](021_Streams.ipynb#Reading-data-into-pandas). If the dataset is not `CSV` but simply a whitespaced text file, it is often easier to use `np.loadtxt` than `pandas`.\n",
    "\n",
    "In the case of this dataset, we wish to interpret the launch counts as integers, so we convert the data we read to integers."
   ]
  },
  {
   "cell_type": "code",
   "execution_count": 21,
   "metadata": {},
   "outputs": [
    {
     "name": "stdout",
     "output_type": "stream",
     "text": [
      "(12, 64)\n"
     ]
    }
   ],
   "source": [
    "import numpy as np\n",
    "\n",
    "filename = 'data/satellites-1957-2021.gz'\n",
    "data=np.loadtxt(filename).astype(np.int)\n",
    "\n",
    "# shape of data\n",
    "print(data.shape)"
   ]
  },
  {
   "cell_type": "markdown",
   "metadata": {},
   "source": [
    "The dataset dimensions are to `(month,year)`. Indices into the array are zero-based, so we can relate month number (1 being January) and year number to index `(i,j)` through:\n",
    "\n",
    "    i = month - 1\n",
    "    j = year - 1957\n",
    "    \n",
    "We can print some summary statistics:"
   ]
  },
  {
   "cell_type": "code",
   "execution_count": 22,
   "metadata": {},
   "outputs": [
    {
     "name": "stdout",
     "output_type": "stream",
     "text": [
      "data shape (12, 64)\n",
      "some summary statistics over the period 1957 to 2021:\n",
      "The total number of launches is 45689\n",
      "The mean number of launches is  59.49 per month\n"
     ]
    }
   ],
   "source": [
    "print(f'data shape {data.shape}')\n",
    "\n",
    "print(f'some summary statistics over the period 1957 to 2021:')\n",
    "print(f'The total number of launches is {data.sum()}')\n",
    "print(f'The mean number of launches is {data.mean() : .2f} per month')"
   ]
  },
  {
   "cell_type": "markdown",
   "metadata": {},
   "source": [
    "### slicing\n",
    "\n",
    "We have seen [above](026_Numpy.ipynb#Indexing-arrays) how we can provide a tuple of indices to access particular array elements. Often we want to access 'blocks' of an array. A set of indices would be inefficient for that. Instead, we use the idea of slices `(from:to:step)` that we have come across before for [strings](013_Python_string_methods.ipynb#slice) . Remember that `to` is \"up to but not including\" the to number.\n",
    "\n",
    "If we specify `:` or `::` in the slice, it means we take the defaults for `(from:to:step)`. If we specify only one number, that is `from`. If we specify two, it is `from:to`.\n",
    "\n",
    "So:\n",
    "\n",
    "    data[0]\n",
    "    \n",
    "is the data for month index 0 (January), `data[1]` for February etc. Or:\n",
    "\n",
    "    data[0:2]\n",
    "   \n",
    "is the data for month index 0 (January) **and** 1 (February)  etc. \n",
    "\n",
    "We can get more specific statistics then such as:"
   ]
  },
  {
   "cell_type": "code",
   "execution_count": 23,
   "metadata": {},
   "outputs": [
    {
     "name": "stdout",
     "output_type": "stream",
     "text": [
      "mean launches in month 0: 33.95\n",
      "max  launches in month 0: 237\n"
     ]
    }
   ],
   "source": [
    "import numpy as np\n",
    "\n",
    "filename = 'data/satellites-1957-2021.gz'\n",
    "data=np.loadtxt(filename).astype(np.int)\n",
    "\n",
    "print(f'mean launches in month 0: {data[0].mean() :.2f}')\n",
    "print(f'max  launches in month 0: {data[0].max()}')"
   ]
  },
  {
   "cell_type": "markdown",
   "metadata": {},
   "source": [
    "We can refer to items in the second dimension of the array, by using a code for *all* values of the first dimension. So:\n",
    "\n",
    "    data[:,0]\n",
    "    \n",
    "refers to all elements in dimension 0 (i.e. all months here) by only year 0 (1957)."
   ]
  },
  {
   "cell_type": "code",
   "execution_count": 24,
   "metadata": {},
   "outputs": [
    {
     "name": "stdout",
     "output_type": "stream",
     "text": [
      "mean launches in year 1957: 3\n",
      "max  launches in year 1957: 2\n"
     ]
    }
   ],
   "source": [
    "print(f'mean launches in year 1957: {data[:,0].sum()}')\n",
    "print(f'max  launches in year 1957: {data[:,0].max()}')"
   ]
  },
  {
   "cell_type": "markdown",
   "metadata": {
    "solution2": "hidden",
    "solution2_first": true
   },
   "source": [
    "#### Exercise 5\n",
    "\n",
    "* Print out the total number of launches per month, for each month.\n",
    "* Print out the total number of launches per year, for the years 2010 to 2020 inclusive"
   ]
  },
  {
   "cell_type": "code",
   "execution_count": 25,
   "metadata": {
    "solution2": "hidden"
   },
   "outputs": [
    {
     "name": "stdout",
     "output_type": "stream",
     "text": [
      "2173 launches in month 0\n",
      "3745 launches in month 1\n",
      "2895 launches in month 2\n",
      "3183 launches in month 3\n",
      "6606 launches in month 4\n",
      "5772 launches in month 5\n",
      "3279 launches in month 6\n",
      "2481 launches in month 7\n",
      "4402 launches in month 8\n",
      "4035 launches in month 9\n",
      "3273 launches in month 10\n",
      "3845 launches in month 11\n"
     ]
    }
   ],
   "source": [
    "# ANSWER\n",
    "import numpy as np\n",
    "\n",
    "filename = 'data/satellites-1957-2021.gz'\n",
    "data=np.loadtxt(filename).astype(np.int)\n",
    "\n",
    "# Print out the total number of launches \n",
    "# per month, for each month.\n",
    "# use sum() to sum over data[m] and loop over m\n",
    "# get length of m from data.shape[0]\n",
    "for m in range(data.shape[0]):\n",
    "    print(f'{data[m].sum()} launches in month {m}')"
   ]
  },
  {
   "cell_type": "code",
   "execution_count": 26,
   "metadata": {
    "solution2": "hidden"
   },
   "outputs": [
    {
     "name": "stdout",
     "output_type": "stream",
     "text": [
      "373 launches in year 2010\n",
      "315 launches in year 2011\n",
      "435 launches in year 2012\n",
      "352 launches in year 2013\n",
      "355 launches in year 2014\n",
      "335 launches in year 2015\n",
      "308 launches in year 2016\n",
      "512 launches in year 2017\n",
      "741 launches in year 2018\n",
      "735 launches in year 2019\n",
      "922 launches in year 2020\n"
     ]
    }
   ],
   "source": [
    "# ANSWER\n",
    "import numpy as np\n",
    "\n",
    "filename = 'data/satellites-1957-2021.gz'\n",
    "data=np.loadtxt(filename).astype(np.int)\n",
    "\n",
    "# Print out the total number of launches \n",
    "# per year, for the years 2010 to 2020\n",
    "# use sum() to sum over data[y] and loop over y\n",
    "# translate year to index by subtracting 1957\n",
    "\n",
    "# its best to be explicit about this\n",
    "# this answer more clearly relates to the qn\n",
    "years = np.arange(2010,2020+1) - 1957\n",
    "for y in years:\n",
    "    print(f'{data[:,y].sum()} launches in year {y+1957}')\n"
   ]
  },
  {
   "cell_type": "markdown",
   "metadata": {},
   "source": [
    "### axis\n",
    "\n",
    "Whilst it is perfectly possibly to loop over one dimension of an array and calculate statistics over the other dimension, it is not very [Pythonic](https://docs.python-guide.org/writing/style/) to do it that way. \n",
    "\n",
    "Instead. we can specify the array axes over which we want the operation to occur.\n",
    "\n",
    "For example, in our satellite launch dataset, the dimension 0 is month index and the dimension 1 is year index. To calculate the mean over all years then, we apply the `mean` function to axis 1:"
   ]
  },
  {
   "cell_type": "code",
   "execution_count": 27,
   "metadata": {},
   "outputs": [
    {
     "data": {
      "text/plain": [
       "array([ 33.953125,  58.515625,  45.234375,  49.734375, 103.21875 ,\n",
       "        90.1875  ,  51.234375,  38.765625,  68.78125 ,  63.046875,\n",
       "        51.140625,  60.078125])"
      ]
     },
     "execution_count": 27,
     "metadata": {},
     "output_type": "execute_result"
    }
   ],
   "source": [
    "import numpy as np\n",
    "\n",
    "filename = 'data/satellites-1957-2021.gz'\n",
    "data=np.loadtxt(filename).astype(np.int)\n",
    "\n",
    "# mean over all months\n",
    "data.mean(axis=1)"
   ]
  },
  {
   "cell_type": "markdown",
   "metadata": {},
   "source": [
    "This is much more convenient than the loop we did above. The axis keyword is widely used in `numpy`, and you can apply most operations over one or more axis. "
   ]
  },
  {
   "cell_type": "markdown",
   "metadata": {
    "solution2": "hidden",
    "solution2_first": true
   },
   "source": [
    "#### Exercise 6\n",
    "\n",
    "* Plot the total number of satellite launches per year, as a function of year\n",
    "\n",
    "You will need to remember how to [plot line graphs](023_Plotting.ipynb#Plotting-Graphs)"
   ]
  },
  {
   "cell_type": "code",
   "execution_count": 28,
   "metadata": {
    "solution2": "hidden"
   },
   "outputs": [
    {
     "data": {
      "text/plain": [
       "Text(0.5, 0, 'year')"
      ]
     },
     "execution_count": 28,
     "metadata": {},
     "output_type": "execute_result"
    },
    {
     "data": {
      "image/png": "[encoded data removed]",
      "text/plain": [
       "<Figure size 864x288 with 1 Axes>"
      ]
     },
     "metadata": {
      "needs_background": "light"
     },
     "output_type": "display_data"
    }
   ],
   "source": [
    "# ANSWER\n",
    "\n",
    "import numpy as np\n",
    "import matplotlib.pyplot as plt\n",
    "\n",
    "filename = 'data/satellites-1957-2021.gz'\n",
    "data=np.loadtxt(filename).astype(np.int)\n",
    "\n",
    "# total for all years, so sum over all months (axis 0)\n",
    "n = data.sum(axis=0)\n",
    "# clean way to do years\n",
    "years = np.arange(1957,1957+data.shape[1])\n",
    "\n",
    "name = f'Number of satellite launches per year {years[0]} to {years[-1]}'\n",
    "\n",
    "# plot size \n",
    "x_size,y_size = 12,4\n",
    "fig, axs = plt.subplots(1,1,figsize=(x_size,y_size))\n",
    "fig.suptitle(name)\n",
    "# plot y-data and set the label\n",
    "axs.plot(years,n)\n",
    "# set x-limits to get a neat graph\n",
    "axs.set_xlim(years[0],years[-1])\n",
    "\n",
    "axs.set_ylabel(f'Number of launches')\n",
    "# x-label\n",
    "axs.set_xlabel(f'year')"
   ]
  },
  {
   "cell_type": "code",
   "execution_count": 29,
   "metadata": {
    "solution2": "hidden"
   },
   "outputs": [
    {
     "name": "stdout",
     "output_type": "stream",
     "text": [
      "2173 launches in month index 0\n",
      "3745 launches in month index 1\n",
      "2895 launches in month index 2\n",
      "3183 launches in month index 3\n",
      "6606 launches in month index 4\n",
      "5772 launches in month index 5\n",
      "3279 launches in month index 6\n",
      "2481 launches in month index 7\n",
      "4402 launches in month index 8\n",
      "4035 launches in month index 9\n",
      "3273 launches in month index 10\n",
      "3845 launches in month index 11\n"
     ]
    }
   ],
   "source": [
    "# ANSWER\n",
    "# Print out the total number of \n",
    "# launches per month, for each month.\n",
    "\n",
    "# use sum for total\n",
    "# we can use data.shape[0] for the size of the 1st dimension\n",
    "for m in range(data.shape[0]):\n",
    "    print(f'{data[m].sum()} launches in month index {m}')\n",
    "    "
   ]
  },
  {
   "cell_type": "code",
   "execution_count": 30,
   "metadata": {
    "solution2": "hidden"
   },
   "outputs": [
    {
     "name": "stdout",
     "output_type": "stream",
     "text": [
      "373 launches in year 2010\n",
      "315 launches in year 2011\n",
      "435 launches in year 2012\n",
      "352 launches in year 2013\n",
      "355 launches in year 2014\n",
      "335 launches in year 2015\n",
      "308 launches in year 2016\n",
      "512 launches in year 2017\n",
      "741 launches in year 2018\n",
      "735 launches in year 2019\n",
      "922 launches in year 2020\n"
     ]
    }
   ],
   "source": [
    "# ANSWER\n",
    "# Print out the total number of \n",
    "# launches per year, for the years 2010 to 2020 inclusive\n",
    "\n",
    "# use sum for total\n",
    "for y in range(2010,2020+1):\n",
    "    # y is a year, but we need index\n",
    "    j = y - 1957\n",
    "    print(f'{data[:,j].sum()} launches in year {y}')"
   ]
  },
  {
   "cell_type": "markdown",
   "metadata": {},
   "source": [
    "### `argmin`, `argmax` and masking\n",
    "\n",
    "Whilst we have generated some initial summary statistics on the dataset, it's not really enough to give us a good idea of the data characteristics.\n",
    "\n",
    "To do that, we want to be able to ask somewhat more complex questions of the data, such as:\n",
    "\n",
    "* which *year* has the most/least launches? \n",
    "* which month do most launches happen in? \n",
    "* which month in which year had the most launches? \n",
    "* which years had more than 100 launches?\n",
    "\n",
    "Whilst we could do some of these with loops and slicing, we expect a more convenient approach for `numpy`.\n",
    "\n",
    "To be able to address these, we need some new concepts:\n",
    "\n",
    "* methods `argmin()` and `argmax()` that provide the *index* where the min/max occurs\n",
    "* masking out array elements that meet some condition\n",
    "\n",
    "The first set of these, `argmin()` and `argmax()` are straightforward to visualise and use:"
   ]
  },
  {
   "cell_type": "code",
   "execution_count": 31,
   "metadata": {},
   "outputs": [
    {
     "name": "stdout",
     "output_type": "stream",
     "text": [
      "the year with most   launches was 1999 with 4195\n",
      "the year with fewest launches was 1957 with 3\n"
     ]
    }
   ],
   "source": [
    "import numpy as np\n",
    "\n",
    "# read data as before\n",
    "filename = 'data/satellites-1957-2021.gz'\n",
    "data=np.loadtxt(filename).astype(np.int)\n",
    "\n",
    "# sum the data over all months (axis 0)\n",
    "sum_per_year = data.sum(axis=0)\n",
    "# Construct an array of years\n",
    "year_array = 1957 + np.arange(data.shape[1])\n",
    "\n",
    "# Find the location (year) with **most** launches\n",
    "# Find the index of sum_per_year with highest number (argmmax)\n",
    "imax = np.argmax(sum_per_year)\n",
    "\n",
    "# Find the location (year) with **least** launches\n",
    "# Find the index of sum_per_year with lowest number (argmmax)\n",
    "imin = np.argmin(sum_per_year)\n",
    "\n",
    "print(f'the year with most   launches was',\\\n",
    "      f'{year_array[imax]} with {sum_per_year[imax]}')\n",
    "print(f'the year with fewest launches was',\\\n",
    "      f'{year_array[imin]} with {sum_per_year[imin]}')"
   ]
  },
  {
   "cell_type": "markdown",
   "metadata": {
    "solution2": "hidden",
    "solution2_first": true
   },
   "source": [
    "#### Exercise 7\n",
    "\n",
    "* Write code to print the months with highest and lowest number of launches"
   ]
  },
  {
   "cell_type": "code",
   "execution_count": 32,
   "metadata": {
    "solution2": "hidden"
   },
   "outputs": [
    {
     "name": "stdout",
     "output_type": "stream",
     "text": [
      "the month with most   launches was 5 with 6606\n",
      "the month with fewest launches was 1 with 2173\n"
     ]
    }
   ],
   "source": [
    "import numpy as np\n",
    "# ANSWER\n",
    "# Write code to print the months with \n",
    "# highest and lowest number of launches\n",
    "\n",
    "# read data as before\n",
    "filename = 'data/satellites-1957-2021.gz'\n",
    "data=np.loadtxt(filename).astype(np.int)\n",
    "\n",
    "# sum the data over all years (axis 1)\n",
    "sum_per_month = data.sum(axis=1)\n",
    "# Construct an array of months\n",
    "month_array = 1 + np.arange(data.shape[0])\n",
    "\n",
    "# Find the location (month) with **most** launches\n",
    "# Find the index of sum_per_month with highest number (argmmax)\n",
    "imax = np.argmax(sum_per_month)\n",
    "\n",
    "# Find the location (month) with **least** launches\n",
    "# Find the index of sum_per_month with lowest number (argmmax)\n",
    "imin = np.argmin(sum_per_month)\n",
    "\n",
    "print(f'the month with most   launches was',\\\n",
    "      f'{month_array[imax]} with {sum_per_month[imax]}')\n",
    "print(f'the month with fewest launches was',\\\n",
    "      f'{month_array[imin]} with {sum_per_month[imin]}')"
   ]
  },
  {
   "cell_type": "markdown",
   "metadata": {},
   "source": [
    "In section [011_Python_data_types](011_Python_data_types.ipynb#Data-types:-bool) we came across the boolean (binary) data type that can take the states `True` or `False`.\n",
    "\n",
    "Boolean arrays in `numpy` are important in the efficient use of arrays, as they can act as a mask on an array. \n",
    "\n",
    "For example:"
   ]
  },
  {
   "cell_type": "markdown",
   "metadata": {},
   "source": [
    "The form of filtering above (`high = sum_per_year >= 1000`) produces a numpy array of the same shape as that operated on (`sum_per_year` here) of `bool` data type.  It has entries of `True` where the condition is met, and `False` where it is not met."
   ]
  },
  {
   "cell_type": "code",
   "execution_count": 33,
   "metadata": {},
   "outputs": [
    {
     "name": "stdout",
     "output_type": "stream",
     "text": [
      "[False False False False False False False False  True False False False\n",
      " False False False False False False  True  True False False False False\n",
      "  True False False False False  True  True False False False False False\n",
      "  True  True False False False False  True False False False False False\n",
      " False  True False False False False False False False False False False\n",
      " False False False False]\n"
     ]
    }
   ],
   "source": [
    "import numpy as np\n",
    "\n",
    "# read data as before\n",
    "filename = 'data/satellites-1957-2021.gz'\n",
    "data=np.loadtxt(filename).astype(np.int)\n",
    "# sum over all months (axis 0)\n",
    "sum_per_year = data.sum(axis=0)\n",
    "\n",
    "high = sum_per_year >= 1000\n",
    "print(high)"
   ]
  },
  {
   "cell_type": "markdown",
   "metadata": {},
   "source": [
    "We can think of this logical array as a 'data mask' that we use to select (filter) entries:"
   ]
  },
  {
   "cell_type": "code",
   "execution_count": 34,
   "metadata": {},
   "outputs": [
    {
     "name": "stdout",
     "output_type": "stream",
     "text": [
      "years with 1000 or more launches [1965 1975 1976 1981 1986 1987 1993 1994 1999 2006]\n"
     ]
    }
   ],
   "source": [
    "# form the data mask\n",
    "high = (sum_per_year >= 1000)\n",
    "# form an attau of years\n",
    "years = 1957 + np.arange(data.shape[1])\n",
    "# select only elements where mask is True\n",
    "print(f'years with 1000 or more launches {years[high]}')"
   ]
  },
  {
   "cell_type": "markdown",
   "metadata": {},
   "source": [
    "We can apply logical operators to boolean arrays:"
   ]
  },
  {
   "cell_type": "code",
   "execution_count": 35,
   "metadata": {},
   "outputs": [
    {
     "name": "stdout",
     "output_type": "stream",
     "text": [
      "[ True  True  True  True  True  True  True  True False  True  True  True\n",
      "  True  True  True  True  True  True False False  True  True  True  True\n",
      " False  True  True  True  True False False  True  True  True  True  True\n",
      " False False  True  True  True  True False  True  True  True  True  True\n",
      "  True False  True  True  True  True  True  True  True  True  True  True\n",
      "  True  True  True  True]\n"
     ]
    }
   ],
   "source": [
    "low = np.logical_not(high)\n",
    "print(low)"
   ]
  },
  {
   "cell_type": "markdown",
   "metadata": {},
   "source": [
    "including combinations of logical arrays. \n",
    "\n",
    "Suppose we want to know the years after the year 2000 that have 1000 or greater launches. We can form two boolean arrays:\n",
    "    \n",
    "    years > 2000\n",
    "    sum_per_year >= 1000\n",
    "    \n",
    "Since these arrays are of the same shape, we can combine them element-wise:"
   ]
  },
  {
   "cell_type": "code",
   "execution_count": 36,
   "metadata": {},
   "outputs": [
    {
     "name": "stdout",
     "output_type": "stream",
     "text": [
      "[2006]\n"
     ]
    }
   ],
   "source": [
    "c1 = (years > 2000)\n",
    "c2 = (sum_per_year >= 1000)\n",
    "combined = np.logical_and(c1,c2)\n",
    "print(years[combined])"
   ]
  },
  {
   "cell_type": "markdown",
   "metadata": {},
   "source": [
    "### `where`\n",
    "\n",
    "Sometimes, instead of just applying the filter as above, we want to know the indices of the filtered values.\n",
    "\n",
    "To do this, we can use the `np.where()` method. This takes a `bool` array as its argument (such as our data masks or other conditions) and returns a tuple of the indices where this is set `True`. \n",
    "\n",
    "As an example, lets find month, year pairs where the number of launches is greater than 500. \n",
    "\n",
    "For a final flourish, we load the dataset into `pandas` to print it in a table:"
   ]
  },
  {
   "cell_type": "code",
   "execution_count": 37,
   "metadata": {},
   "outputs": [
    {
     "data": {
      "text/html": [
       "<div>\n",
       "<style scoped>\n",
       "    .dataframe tbody tr th:only-of-type {\n",
       "        vertical-align: middle;\n",
       "    }\n",
       "\n",
       "    .dataframe tbody tr th {\n",
       "        vertical-align: top;\n",
       "    }\n",
       "\n",
       "    .dataframe thead th {\n",
       "        text-align: right;\n",
       "    }\n",
       "</style>\n",
       "<table border=\"1\" class=\"dataframe\">\n",
       "  <thead>\n",
       "    <tr style=\"text-align: right;\">\n",
       "      <th></th>\n",
       "      <th>month</th>\n",
       "      <th>year</th>\n",
       "    </tr>\n",
       "  </thead>\n",
       "  <tbody>\n",
       "    <tr>\n",
       "      <th>0</th>\n",
       "      <td>2</td>\n",
       "      <td>1986</td>\n",
       "    </tr>\n",
       "    <tr>\n",
       "      <th>1</th>\n",
       "      <td>5</td>\n",
       "      <td>1994</td>\n",
       "    </tr>\n",
       "    <tr>\n",
       "      <th>2</th>\n",
       "      <td>5</td>\n",
       "      <td>1999</td>\n",
       "    </tr>\n",
       "    <tr>\n",
       "      <th>3</th>\n",
       "      <td>6</td>\n",
       "      <td>1981</td>\n",
       "    </tr>\n",
       "    <tr>\n",
       "      <th>4</th>\n",
       "      <td>6</td>\n",
       "      <td>1993</td>\n",
       "    </tr>\n",
       "    <tr>\n",
       "      <th>5</th>\n",
       "      <td>6</td>\n",
       "      <td>2006</td>\n",
       "    </tr>\n",
       "    <tr>\n",
       "      <th>6</th>\n",
       "      <td>7</td>\n",
       "      <td>1976</td>\n",
       "    </tr>\n",
       "    <tr>\n",
       "      <th>7</th>\n",
       "      <td>9</td>\n",
       "      <td>1997</td>\n",
       "    </tr>\n",
       "  </tbody>\n",
       "</table>\n",
       "</div>"
      ],
      "text/plain": [
       "   month  year\n",
       "0      2  1986\n",
       "1      5  1994\n",
       "2      5  1999\n",
       "3      6  1981\n",
       "4      6  1993\n",
       "5      6  2006\n",
       "6      7  1976\n",
       "7      9  1997"
      ]
     },
     "execution_count": 37,
     "metadata": {},
     "output_type": "execute_result"
    }
   ],
   "source": [
    "# find month, year where launches > 500\n",
    "import numpy as np\n",
    "import pandas as pd\n",
    "\n",
    "# read data as before\n",
    "filename = 'data/satellites-1957-2021.gz'\n",
    "data=np.loadtxt(filename).astype(np.int)\n",
    "\n",
    "month_index,year_index = np.where(data > 500)\n",
    "# This gives array indices\n",
    "\n",
    "# convert index to real month and year\n",
    "# and *transpose* (swap rows and columns)\n",
    "# using .T\n",
    "high_launches = np.array([month_index+1,year_index+1957]).T\n",
    "\n",
    "# load into pandas data frame \n",
    "df = pd.DataFrame(high_launches,columns=['month','year'])\n",
    "df"
   ]
  },
  {
   "cell_type": "markdown",
   "metadata": {},
   "source": [
    "So `np.where()` is one way  we can derive a set of tuples such as those we saw [above](026_Numpy.ipynb#Indexing-arrays)."
   ]
  },
  {
   "cell_type": "markdown",
   "metadata": {
    "solution2": "hidden",
    "solution2_first": true
   },
   "source": [
    "#### Exercise 8\n",
    "\n",
    "Recall from [previous sections](025_NASA_MODIS_Earthdata.ipynb#MOTA) how to retrieve a MODIS LAI dataset for a particular date. Recall also values of greater than 100 are invalid, and that a scaling of 0.1 should be applied to the LAI.\n",
    "\n",
    "* Load a MODIS LAI dataset SDS `Lai_500m` for tile `h17v03` day of year 41, 2019. \n",
    "* Call the 2D array `data` and confirm that it has a shape (2400, 2400)\n",
    "* build a mask called `mask` of invalid pixels \n",
    "* print the percentage of invalid pixels to 2 decimal places (hint: sum with `sum`)\n",
    "* scale the data array as appropriate to obtain LAI\n",
    "* set invalid data values to 'not a number' `np.nan`\n",
    "* display the resulting image"
   ]
  },
  {
   "cell_type": "code",
   "execution_count": 38,
   "metadata": {
    "solution2": "hidden"
   },
   "outputs": [
    {
     "name": "stdout",
     "output_type": "stream",
     "text": [
      " 77.22% invalid pixels\n"
     ]
    }
   ],
   "source": [
    "# ANSWER\n",
    "from geog0111.modis import Modis\n",
    "# Load a MODIS LAI dataset SDS \n",
    "# `Lai_500m` for tile `h17v03` day of year 41, 2019\n",
    "kwargs = {\n",
    "    'tile'      :    ['h17v03'],\n",
    "    'product'   :    'MCD15A3H',\n",
    "    'sds'       :    'Lai_500m',\n",
    "}\n",
    "modis = Modis(**kwargs)\n",
    "# specify day of year (DOY) and year\n",
    "data_MCD15A3H = modis.get_data(2019,doy=1+4*10)\n",
    "\n",
    "# Call the 2D array `data` and \n",
    "# confirm that it has a shape (2400, 2400)\n",
    "data = data_MCD15A3H['Lai_500m']\n",
    "assert data.shape == (2400,2400)\n",
    "\n",
    "# build a mask called `mask` of invalid pixels\n",
    "mask = (data > 100)\n",
    "\n",
    "# count how many invalid pixels there are (`sum`)\n",
    "perc = 100 * mask.sum()/(mask.shape[0] * mask.shape[1])\n",
    "print(f'{perc : .2f}% invalid pixels')\n",
    "\n",
    "# scale the data array as appropriate to obtain LAI\n",
    "data = data * 0.1\n",
    "\n",
    "# set invalid data values to 'not a number' np.nan\n",
    "data[mask] = np.nan"
   ]
  },
  {
   "cell_type": "code",
   "execution_count": 39,
   "metadata": {
    "scrolled": true,
    "solution2": "hidden"
   },
   "outputs": [
    {
     "data": {
      "text/plain": [
       "<matplotlib.colorbar.Colorbar at 0x7f29c1ccf950>"
      ]
     },
     "execution_count": 39,
     "metadata": {},
     "output_type": "execute_result"
    },
    {
     "data": {
      "image/png": "[encoded data removed]",
      "text/plain": [
       "<Figure size 1152x576 with 2 Axes>"
      ]
     },
     "metadata": {
      "needs_background": "light"
     },
     "output_type": "display_data"
    }
   ],
   "source": [
    "import matplotlib.pyplot as plt\n",
    "\n",
    "fig, axs = plt.subplots(1,1,figsize=(16,8))\n",
    "# plot image data: use vmin and vmax to set limits\n",
    "im = axs.imshow(data,vmax=10,interpolation=None)\n",
    "fig.colorbar(im, ax=axs)\n"
   ]
  },
  {
   "cell_type": "markdown",
   "metadata": {},
   "source": [
    "### Summary\n",
    "\n",
    "In this section, you have been introduced to the `numpy` package and more detail on arrays. The big advantages of `numpy` are that you can easily perform array operators (such as adding two arrays together), and that `numpy` has a large number of useful functions for manipulating N-dimensional data in array form. This makes it particularly appropriate for raster geospatial data processing.\n",
    "\n",
    "We have seen how to create various forms of array (e.g. `np.ones()`, `np.arange()`), how to calculate some basic statistics (`min()`, `max()` etc), and finding the array index where some pattern occurs (e.g. `argmin()`, `argsort()` or `where()`) and how to generate and use masks for selecting data. "
   ]
  },
  {
   "cell_type": "markdown",
   "metadata": {},
   "source": [
    "\n",
    "[<img src=\"images/noun_post_2109127.svg\" width=\"50\" align='right'>](032_GDAL_mosaicing_and_masking.ipynb)\n",
    "[<img src=\"images/noun_pre_2109128.svg\" width=\"50\" align='right'>](030_NASA_MODIS_Earthdata.ipynb)\n",
    "\n"
   ]
  }
 ],
 "metadata": {
  "kernelspec": {
   "display_name": "Python [conda env:geog0111-geog0111]",
   "language": "python",
   "name": "conda-env-geog0111-geog0111-py"
  },
  "language_info": {
   "codemirror_mode": {
    "name": "ipython",
    "version": 3
   },
   "file_extension": ".py",
   "mimetype": "text/x-python",
   "name": "python",
   "nbconvert_exporter": "python",
   "pygments_lexer": "ipython3",
   "version": "3.7.8"
  },
  "latex_envs": {
   "LaTeX_envs_menu_present": true,
   "autoclose": false,
   "autocomplete": true,
   "bibliofile": "biblio.bib",
   "cite_by": "apalike",
   "current_citInitial": 1,
   "eqLabelWithNumbers": true,
   "eqNumInitial": 1,
   "hotkeys": {
    "equation": "Ctrl-E",
    "itemize": "Ctrl-I"
   },
   "labels_anchors": false,
   "latex_user_defs": false,
   "report_style_numbering": false,
   "user_envs_cfg": false
  },
  "toc": {
   "base_numbering": 1,
   "nav_menu": {},
   "number_sections": false,
   "sideBar": true,
   "skip_h1_title": false,
   "title_cell": "Table of Contents",
   "title_sidebar": "Contents",
   "toc_cell": true,
   "toc_position": {
    "height": "438px",
    "left": "10px",
    "top": "150px",
    "width": "165px"
   },
   "toc_section_display": true,
   "toc_window_display": true
  },
  "varInspector": {
   "cols": {
    "lenName": 16,
    "lenType": 16,
    "lenVar": 40
   },
   "kernels_config": {
    "python": {
     "delete_cmd_postfix": "",
     "delete_cmd_prefix": "del ",
     "library": "var_list.py",
     "varRefreshCmd": "print(var_dic_list())"
    },
    "r": {
     "delete_cmd_postfix": ") ",
     "delete_cmd_prefix": "rm(",
     "library": "var_list.r",
     "varRefreshCmd": "cat(var_dic_list()) "
    }
   },
   "types_to_exclude": [
    "module",
    "function",
    "builtin_function_or_method",
    "instance",
    "_Feature"
   ],
   "window_display": false
  }
 },
 "nbformat": 4,
 "nbformat_minor": 4
}
