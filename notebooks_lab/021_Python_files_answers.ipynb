{
 "cells": [
  {
   "cell_type": "markdown",
   "metadata": {},
   "source": [
    "## 021 Files and other Resources : Answers to exercises"
   ]
  },
  {
   "cell_type": "markdown",
   "metadata": {},
   "source": [
    "##### Exercise 1\n",
    "\n",
    "There is a file called `environment.yml` in the directory `copy`.ipynb_checkpoints/\n",
    "\n",
    "* use `Path` to generate the a variable `copy_dir` containing the pathname of the `copy` directory\n",
    "* create a variable `env_file` which adds add the file `environment.yml` to this \n",
    "* check to see if the file exists"
   ]
  },
  {
   "cell_type": "code",
   "execution_count": 7,
   "metadata": {},
   "outputs": [
    {
     "name": "stdout",
     "output_type": "stream",
     "text": [
      "Does copy/environment.yml exist? True\n"
     ]
    }
   ],
   "source": [
    "# ANSWER\n",
    "\n",
    "# There is a file called environment.yml \n",
    "# in the directory copy.ipynb_checkpoints/\n",
    "\n",
    "# use `Path` to generate the a variable `copy_dir` \n",
    "# containing the pathname of the `copy` directory\n",
    "copy_dir = Path('copy')\n",
    "\n",
    "# create a variable `env_file` which adds add the file \n",
    "# `environment.yml` to this \n",
    "env_file = Path(copy_dir,'environment.yml')\n",
    "# or\n",
    "env_file = copy_dir/'environment.yml'\n",
    "\n",
    "# check to see if the file exists\n",
    "print(f'Does {env_file} exist? {env_file.exists()}')"
   ]
  },
  {
   "cell_type": "markdown",
   "metadata": {},
   "source": [
    "##### Exercise 2\n",
    "\n",
    "* Use `Path` to show the file permissions of all files that end `.sh` in the directory `bin`"
   ]
  },
  {
   "cell_type": "code",
   "execution_count": 1,
   "metadata": {},
   "outputs": [
    {
     "ename": "NameError",
     "evalue": "name 'Path' is not defined",
     "output_type": "error",
     "traceback": [
      "\u001b[0;31m---------------------------------------------------------------------------\u001b[0m",
      "\u001b[0;31mNameError\u001b[0m                                 Traceback (most recent call last)",
      "\u001b[0;32m<ipython-input-1-0127f4245e30>\u001b[0m in \u001b[0;36m<module>\u001b[0;34m\u001b[0m\n\u001b[1;32m      5\u001b[0m \u001b[0;31m# use glob to get a list of filenames in the directory bin\u001b[0m\u001b[0;34m\u001b[0m\u001b[0;34m\u001b[0m\u001b[0;34m\u001b[0m\u001b[0m\n\u001b[1;32m      6\u001b[0m \u001b[0;31m# that end with .sh -> pattern *.sh using a wildcard\u001b[0m\u001b[0;34m\u001b[0m\u001b[0;34m\u001b[0m\u001b[0;34m\u001b[0m\u001b[0m\n\u001b[0;32m----> 7\u001b[0;31m \u001b[0mfilenames\u001b[0m \u001b[0;34m=\u001b[0m \u001b[0mPath\u001b[0m\u001b[0;34m(\u001b[0m\u001b[0;34m'bin'\u001b[0m\u001b[0;34m)\u001b[0m\u001b[0;34m.\u001b[0m\u001b[0mglob\u001b[0m\u001b[0;34m(\u001b[0m\u001b[0;34m'*.sh'\u001b[0m\u001b[0;34m)\u001b[0m\u001b[0;34m\u001b[0m\u001b[0;34m\u001b[0m\u001b[0m\n\u001b[0m\u001b[1;32m      8\u001b[0m \u001b[0;31m# loop over the filenames\u001b[0m\u001b[0;34m\u001b[0m\u001b[0;34m\u001b[0m\u001b[0;34m\u001b[0m\u001b[0m\n\u001b[1;32m      9\u001b[0m \u001b[0;32mfor\u001b[0m \u001b[0mf\u001b[0m \u001b[0;32min\u001b[0m \u001b[0mfilenames\u001b[0m\u001b[0;34m:\u001b[0m\u001b[0;34m\u001b[0m\u001b[0;34m\u001b[0m\u001b[0m\n",
      "\u001b[0;31mNameError\u001b[0m: name 'Path' is not defined"
     ]
    }
   ],
   "source": [
    "# ANSWER\n",
    "# Use Path to show the file permissions of\n",
    "# all files that end .sh in the directory bin\n",
    "\n",
    "# use glob to get a list of filenames in the directory bin \n",
    "# that end with .sh -> pattern *.sh using a wildcard\n",
    "filenames = Path('bin').glob('*.sh')\n",
    "# loop over the filenames\n",
    "for f in filenames:\n",
    "    print(f)"
   ]
  },
  {
   "cell_type": "markdown",
   "metadata": {},
   "source": [
    "##### Exercise 3\n",
    "\n",
    "* print out the absolute pathname of the directory that `images/ucl.png` is in\n",
    "* check that the file exists\n",
    "* if it does, print the size of the file in KB to two decimal places\n",
    "\n",
    "You will need to know how many Bytes in a Kilobyte, and how to [format a string to two decimal places](012_Python_strings.ipynb#String-formating). You will also need to remember how to use [`if` statements](015_Python_control.ipynb#Comparison-Operators-and-if)."
   ]
  },
  {
   "cell_type": "code",
   "execution_count": 17,
   "metadata": {},
   "outputs": [
    {
     "name": "stdout",
     "output_type": "stream",
     "text": [
      "The directory ucl.png is in is: /Users/plewis/Documents/GitHub/geog0111/notebooks/images\n",
      "file size 1956 Bytes ->  1.91 KB\n"
     ]
    }
   ],
   "source": [
    "# ANSWER\n",
    "\n",
    "# print out the absolute pathname of the \n",
    "# directory that images/ucl.png is in\n",
    "ucl = Path('images','ucl.png')\n",
    "\n",
    "# use absolute and parent\n",
    "# Use name to show how that is helpful\n",
    "print(f'The directory {ucl.name} is in is: {ucl.absolute().parent}')\n",
    "\n",
    "# check that the file exists\n",
    "# if it does ...\n",
    "if ucl.exists():\n",
    "    # print the size of the file in KB to two decimal places\n",
    "\n",
    "    # from above, use stat().st_size\n",
    "    size_in_bytes = ucl.stat().st_size\n",
    "    # 1024 Bytes -> 1 KB\n",
    "    size_in_KB = size_in_bytes/1024\n",
    "    # 2 dp -> : .2f\n",
    "    print(f'file size {size_in_bytes} Bytes -> {size_in_KB : .2f} KB')\n",
    "else:\n",
    "    print(f'file does not exist')"
   ]
  },
  {
   "cell_type": "code",
   "execution_count": 18,
   "metadata": {},
   "outputs": [
    {
     "name": "stdout",
     "output_type": "stream",
     "text": [
      "['', 'It is easy for humans to read and write.', 'It is easy for machines to parse and generate. ', '']\n"
     ]
    }
   ],
   "source": [
    "# ANSWER\n",
    "# Using Path.read_text() read the text from the file work/easy.txt \n",
    "# and print the text returned.\n",
    "\n",
    "# set up the filename\n",
    "infile = Path('work','easy.txt')\n",
    "# read the text\n",
    "read_text = infile.read_text()\n",
    "\n",
    "# split the text into lines of \n",
    "# text using str.split() at each newline, \n",
    "# and print out the resulting list\n",
    "lines = read_text.split('\\n')\n",
    "print(lines)"
   ]
  },
  {
   "cell_type": "markdown",
   "metadata": {},
   "source": [
    "##### Exercise 4\n",
    "\n",
    "* create a `URL` object for the file `table.html` in the directory `psd/enso/mei/` on the site `http://www.esrl.noaa.gov/`.\n",
    "* print out the url and check it is `table.html`"
   ]
  },
  {
   "cell_type": "code",
   "execution_count": 21,
   "metadata": {},
   "outputs": [
    {
     "name": "stdout",
     "output_type": "stream",
     "text": [
      "http://www.esrl.noaa.gov/psd/enso/mei/table.html\n",
      "passed\n"
     ]
    }
   ],
   "source": [
    "# ANSWER\n",
    "\n",
    "# create a URL object for the file table.html \n",
    "# in the directory psd/enso/mei/ on the site \n",
    "# http://www.esrl.noaa.gov/.\n",
    "\n",
    "site = 'http://www.esrl.noaa.gov/'\n",
    "site_dir = 'psd/enso/mei'\n",
    "site_file = 'table.html'\n",
    "url = URL(site,site_dir,site_file)\n",
    "\n",
    "# print out the url and check it is table.html\n",
    "print(url)\n",
    "assert url.name == site_file\n",
    "print('passed')"
   ]
  },
  {
   "cell_type": "code",
   "execution_count": 23,
   "metadata": {},
   "outputs": [
    {
     "name": "stdout",
     "output_type": "stream",
     "text": [
      "bin/copy/environment.json : 791 bytes\n",
      "bin/copy/environment.yml : 856 bytes\n"
     ]
    }
   ],
   "source": [
    "# ANSWER\n",
    "import json\n",
    "\n",
    "# show the size of the files \n",
    "# bin/copy/environment.json and bin/copy/environment.yml\n",
    "\n",
    "# form the file names\n",
    "json_file = Path('bin','copy','environment.json')\n",
    "yaml_file = Path('bin','copy','environment.yml')\n",
    "# loop and print size\n",
    "for f in [json_file,yaml_file]:\n",
    "    print(f'{f} : {f.stat().st_size} bytes')"
   ]
  },
  {
   "cell_type": "code",
   "execution_count": 26,
   "metadata": {},
   "outputs": [],
   "source": [
    "from geog0111.gurlpath import URL\n",
    "\n",
    "# ANSWER\n",
    "\n",
    "# write a function called `modis_dataset` \n",
    "# with arguments corresponding to the settings above\n",
    "#\n",
    "# the function should return the URL objects of \n",
    "# the NASA datasets specified by your arguments\n",
    "#\n",
    "def modis_dataset(product, tile, year, month, day,\n",
    "                  verbose=False,\n",
    "                  site='https://e4ftl01.cr.usgs.gov'):\n",
    "    '''\n",
    "    Get URL object list for NASA MODIS products\n",
    "    for the specified product, tile, year, month, day\n",
    "    \n",
    "    Positional Arguments:\n",
    "     \n",
    "    product : str e.g. 'MCD15A3H'\n",
    "    tile    : str e.g. 'h08v06'\n",
    "    year    : str valid 2000-present\n",
    "    month   : str 01-12\n",
    "    day     : str 01-(28,29,30,31)\n",
    "    \n",
    "    Keyword Arguments:\n",
    "    \n",
    "    site     =  'https://e4ftl01.cr.usgs.gov'\n",
    "    verbose  =  False\n",
    "    '''\n",
    "    # you should put some tests in\n",
    "    site_dir = f'MOTA/{product}.006/{year}.{month}.{day}'\n",
    "\n",
    "    site_file = f'*.{tile}*.hdf'\n",
    "\n",
    "    url = URL(site,site_dir)\n",
    "    hdf_urls = url.glob(site_file,verbose=verbose)\n",
    "    return hdf_urls "
   ]
  },
  {
   "cell_type": "code",
   "execution_count": 27,
   "metadata": {},
   "outputs": [
    {
     "name": "stderr",
     "output_type": "stream",
     "text": [
      "--> wildcards in: ['*.h08v06*.hdf']\n",
      "--> level 0/1 : *.h08v06*.hdf\n",
      "--> trying https://e4ftl01.cr.usgs.gov/MOTA/MCD15A3H.006/2020.06.01\n"
     ]
    },
    {
     "name": "stdout",
     "output_type": "stream",
     "text": [
      "MCD15A3H.A2020153.h08v06.006.2020160231732.hdf : True\n"
     ]
    }
   ],
   "source": [
    "# ANSWER 1\n",
    "# run a test of your function, and check that \n",
    "# the file pointed to in the URL exists and is accessible\n",
    "\n",
    "args = ['MCD15A3H','h08v06','2020','06', '01']\n",
    "hdf_urls = modis_dataset(*args,verbose=True)\n",
    "# test if exist\n",
    "for u in hdf_urls:\n",
    "    print(f'{u.name} : {u.exists()}')"
   ]
  },
  {
   "cell_type": "code",
   "execution_count": 28,
   "metadata": {},
   "outputs": [
    {
     "name": "stderr",
     "output_type": "stream",
     "text": [
      "--> wildcards in: ['*.h08v06*.hdf']\n",
      "--> level 0/1 : *.h08v06*.hdf\n",
      "--> trying https://e4ftl01.cr.usgs.gov/MOTA/MCD15A3H.006/2020.06.1\n"
     ]
    }
   ],
   "source": [
    "# ANSWER 2\n",
    "# run a test of your function, and check that \n",
    "# mis-specify date and see that it fails\n",
    "# use '1' instead of '01'\n",
    "\n",
    "args = ['MCD15A3H','h08v06','2020','06', '1']\n",
    "hdf_urls = modis_dataset(*args,verbose=True)\n",
    "# test if exist\n",
    "for u in hdf_urls:\n",
    "    print(f'{u.name} : {u.exists()}')"
   ]
  },
  {
   "cell_type": "code",
   "execution_count": 29,
   "metadata": {},
   "outputs": [
    {
     "name": "stderr",
     "output_type": "stream",
     "text": [
      "--> wildcards in: ['2020.06.*' '*.h08v06*.hdf']\n",
      "--> level 0/2 : 2020.06.*\n",
      "--> trying https://e4ftl01.cr.usgs.gov/MOTA/MCD15A3H.006\n",
      "--> level 1/2 : *.h08v06*.hdf\n",
      "--> trying https://e4ftl01.cr.usgs.gov/MOTA/MCD15A3H.006/2020.06.01\n",
      "--> trying https://e4ftl01.cr.usgs.gov/MOTA/MCD15A3H.006/2020.06.05\n",
      "--> trying https://e4ftl01.cr.usgs.gov/MOTA/MCD15A3H.006/2020.06.09\n",
      "--> trying https://e4ftl01.cr.usgs.gov/MOTA/MCD15A3H.006/2020.06.13\n",
      "--> trying https://e4ftl01.cr.usgs.gov/MOTA/MCD15A3H.006/2020.06.17\n",
      "--> trying https://e4ftl01.cr.usgs.gov/MOTA/MCD15A3H.006/2020.06.21\n",
      "--> trying https://e4ftl01.cr.usgs.gov/MOTA/MCD15A3H.006/2020.06.25\n",
      "--> trying https://e4ftl01.cr.usgs.gov/MOTA/MCD15A3H.006/2020.06.29\n"
     ]
    },
    {
     "name": "stdout",
     "output_type": "stream",
     "text": [
      "MCD15A3H.A2020153.h08v06.006.2020160231732.hdf : True\n",
      "MCD15A3H.A2020157.h08v06.006.2020162035120.hdf : True\n",
      "MCD15A3H.A2020161.h08v06.006.2020167041028.hdf : True\n",
      "MCD15A3H.A2020165.h08v06.006.2020170044117.hdf : True\n",
      "MCD15A3H.A2020169.h08v06.006.2020174041553.hdf : True\n",
      "MCD15A3H.A2020173.h08v06.006.2020178032155.hdf : True\n",
      "MCD15A3H.A2020177.h08v06.006.2020182190226.hdf : True\n",
      "MCD15A3H.A2020181.h08v06.006.2020188194909.hdf : True\n"
     ]
    }
   ],
   "source": [
    "# ANSWER 3\n",
    "# what happens if you use a wildcard for the date?\n",
    "args = ['MCD15A3H','h08v06','2020','06', '*']\n",
    "hdf_urls = modis_dataset(*args,verbose=True)\n",
    "# test if exist\n",
    "for u in hdf_urls:\n",
    "    print(f'{u.name} : {u.exists()}')"
   ]
  },
  {
   "cell_type": "code",
   "execution_count": 30,
   "metadata": {},
   "outputs": [
    {
     "name": "stdout",
     "output_type": "stream",
     "text": [
      "\n",
      "what happens if you use a wildcard for the date?\n",
      "\n",
      "It accepts wildcards for anywhere in the directory path.\n",
      "This is very useful for gathering datasets!\n",
      "\n"
     ]
    }
   ],
   "source": [
    "# ANSWER 4\n",
    "msg = '''\n",
    "what happens if you use a wildcard for the date?\n",
    "\n",
    "It accepts wildcards for anywhere in the directory path.\n",
    "This is very useful for gathering datasets!\n",
    "'''\n",
    "print(msg)"
   ]
  }
 ],
 "metadata": {
  "kernelspec": {
   "display_name": "Python 3",
   "language": "python",
   "name": "python3"
  },
  "language_info": {
   "codemirror_mode": {
    "name": "ipython",
    "version": 3
   },
   "file_extension": ".py",
   "mimetype": "text/x-python",
   "name": "python",
   "nbconvert_exporter": "python",
   "pygments_lexer": "ipython3",
   "version": "3.7.8"
  },
  "latex_envs": {
   "LaTeX_envs_menu_present": true,
   "autocomplete": true,
   "bibliofile": "biblio.bib",
   "cite_by": "apalike",
   "current_citInitial": 1,
   "eqLabelWithNumbers": true,
   "eqNumInitial": 1,
   "hotkeys": {
    "equation": "Ctrl-E",
    "itemize": "Ctrl-I"
   },
   "labels_anchors": false,
   "latex_user_defs": false,
   "report_style_numbering": false,
   "user_envs_cfg": false
  },
  "toc": {
   "base_numbering": 1,
   "nav_menu": {},
   "number_sections": false,
   "sideBar": false,
   "skip_h1_title": false,
   "title_cell": "Table of Contents",
   "title_sidebar": "Contents",
   "toc_cell": false,
   "toc_position": {
    "height": "calc(100% - 180px)",
    "left": "10px",
    "top": "150px",
    "width": "207px"
   },
   "toc_section_display": false,
   "toc_window_display": false
  },
  "varInspector": {
   "cols": {
    "lenName": 16,
    "lenType": 16,
    "lenVar": 40
   },
   "kernels_config": {
    "python": {
     "delete_cmd_postfix": "",
     "delete_cmd_prefix": "del ",
     "library": "var_list.py",
     "varRefreshCmd": "print(var_dic_list())"
    },
    "r": {
     "delete_cmd_postfix": ") ",
     "delete_cmd_prefix": "rm(",
     "library": "var_list.r",
     "varRefreshCmd": "cat(var_dic_list()) "
    }
   },
   "types_to_exclude": [
    "module",
    "function",
    "builtin_function_or_method",
    "instance",
    "_Feature"
   ],
   "window_display": false
  }
 },
 "nbformat": 4,
 "nbformat_minor": 1
}
