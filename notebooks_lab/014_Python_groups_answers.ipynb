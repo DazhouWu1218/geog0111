{
 "cells": [
  {
   "cell_type": "markdown",
   "metadata": {},
   "source": [
    "# 014 Groups : Answers to exercises"
   ]
  },
  {
   "cell_type": "markdown",
   "metadata": {},
   "source": [
    "#### Exercise 1\n",
    "\n",
    "* create a tuple called `t` that contains the integers `1` to `5` inclusive\n",
    "* print out the value of `t`\n",
    "* use the tuple to set variables `a1`,`a2`,`a3`,`a4`,`a5`\n",
    "* print  `a1`,`a2`,`a3`,`a4`,`a5`"
   ]
  },
  {
   "cell_type": "code",
   "execution_count": 4,
   "metadata": {},
   "outputs": [
    {
     "name": "stdout",
     "output_type": "stream",
     "text": [
      "(1, 2, 3, 4, 5)\n",
      "1 2 3 4 5\n"
     ]
    }
   ],
   "source": [
    "# ANSWER\n",
    "# create a tuple called t that contains the integers 1 to 5 inclusive\n",
    "t = (1,2,3,4,5)\n",
    "\n",
    "# print out the value of t\n",
    "print(t)\n",
    "\n",
    "# use the tuple to set variables a1,a2,a3,a4,a5\n",
    "a1,a2,a3,a4,a5 = t\n",
    "print(a1,a2,a3,a4,a5)"
   ]
  },
  {
   "cell_type": "markdown",
   "metadata": {},
   "source": [
    "#### Exercise 2\n",
    "\n",
    "* copy the code to a new code block below, and test that this works with lists, as well as tuples"
   ]
  },
  {
   "cell_type": "code",
   "execution_count": 8,
   "metadata": {},
   "outputs": [
    {
     "name": "stdout",
     "output_type": "stream",
     "text": [
      "the index of 4 in (2, 8, 4, 32, 16) is 2\n",
      "the length of the <class 'tuple'> (2, 8, 4, 32, 16) is 5\n"
     ]
    }
   ],
   "source": [
    "# ANSWER\n",
    "\n",
    "# copy the code to the block below, and test that this works with lists, as well as tuples\n",
    "\n",
    "# use tuple\n",
    "l0 = (2,8,4,32,16)\n",
    "\n",
    "# print the index of the item integer 4 \n",
    "# in the tuple / list\n",
    "\n",
    "item_number = 4\n",
    "\n",
    "# Note the dot . here\n",
    "# as index is a method of the class list\n",
    "ind  = l0.index(item_number)\n",
    "\n",
    "# notice that this is different\n",
    "# as len() is not a list method, but \n",
    "# does operatate on lists/tuples\n",
    "# Note: do not use len as a variable name!\n",
    "llen = len(l0)\n",
    "\n",
    "print(f'the index of {item_number} in {l0} is {ind}')\n",
    "print(f'the length of the {type(l0)} {l0} is {llen}')"
   ]
  },
  {
   "cell_type": "markdown",
   "metadata": {},
   "source": [
    "#### Exercise 3\n",
    "\n",
    "* set a list called `l0` with `l0 = [2,8,4,32,16]`\n",
    "* find the index of the integer 16 in the tuple/list\n",
    "* what is the index of the first item?\n",
    "* what is the length of the tuple/list?\n",
    "* what is the index of the last item?"
   ]
  },
  {
   "cell_type": "code",
   "execution_count": 9,
   "metadata": {},
   "outputs": [
    {
     "name": "stdout",
     "output_type": "stream",
     "text": [
      "index of 16 in [2, 8, 4, 32, 16] is 4\n",
      "index of 2 in [2, 8, 4, 32, 16] is 0\n",
      "length of [2, 8, 4, 32, 16] is 5\n",
      "index of 16 in [2, 8, 4, 32, 16] is 4\n",
      "index of 16 in [2, 8, 4, 32, 16] is 4\n"
     ]
    }
   ],
   "source": [
    "# ANSWER\n",
    "\n",
    "# set a list called l0 with l0 = [2,8,4,32,16]\n",
    "l0 = [2,8,4,32,16]\n",
    "\n",
    "# find the index of the integer 16 in the tuple/list\n",
    "value = 16\n",
    "print(f'index of {value} in {l0} is {l0.index(value)}')\n",
    "\n",
    "# what is the index of the first item?\n",
    "value = l0[0]\n",
    "print(f'index of {value} in {l0} is {l0.index(value)}')\n",
    "\n",
    "# what is the length of the tuple/list?\n",
    "print(f'length of {l0} is {len(l0)}')\n",
    "\n",
    "# what is the index of the last item?\n",
    "last_item = len(l0) - 1\n",
    "value = l0[last_item]\n",
    "print(f'index of {value} in {l0} is {l0.index(value)}')\n",
    "\n",
    "# or simply use -1l, rememberimg that we can index -ve\n",
    "value = l0[-1]\n",
    "print(f'index of {value} in {l0} is {l0.index(value)}')"
   ]
  },
  {
   "cell_type": "markdown",
   "metadata": {},
   "source": [
    "#### Exercise 4\n",
    "\n",
    "* set a list called `l0` with `l0 = [2,8,4,32,16]`\n",
    "* find the index of `16` in this list\n",
    "* use this insert the number `128` between the entries for `32` and `16`\n",
    "* take a copy of `l0`, call it `l0_test` and insert the string `'hello world'` at index `-2`\n",
    "* what positive index number could we have used in place of `-2` here?\n",
    "* why?"
   ]
  },
  {
   "cell_type": "code",
   "execution_count": 13,
   "metadata": {
    "scrolled": true
   },
   "outputs": [
    {
     "name": "stdout",
     "output_type": "stream",
     "text": [
      "[2, 8, 4, 32, 128, 16]\n",
      "[2, 8, 4, 32, 'hello world', 128, 16]\n",
      "[2, 8, 4, 32, 'hello world', 128, 16]\n",
      "\n",
      "since the length of l0 is 6 (when we copy it)\n",
      "then -2 corresponds to the +ve index 6-2 = 4\n",
      "\n"
     ]
    }
   ],
   "source": [
    "# ANSWER\n",
    "\n",
    "# set a list called `l0` with `l0 = [2,8,4,32,16]`\n",
    "l0 = [2,8,4,32,16]\n",
    "\n",
    "\n",
    "# find the index of `16` in this list\n",
    "index_16 = l0.index(16)\n",
    "\n",
    "# insert the number `128` between the entries for `32` and `16`\n",
    "l0.insert(index_16,128)\n",
    "print(l0)\n",
    "\n",
    "# take a copy of `l0`, call it `l0_test` \n",
    "# and insert the string `'hello world'` at index `-2`\n",
    "l1 = l0.copy()\n",
    "l1.insert(-2,'hello world')\n",
    "print(l1)\n",
    "\n",
    "# what positive index number could we have used in place of `-2` here\n",
    "# the answer is 4\n",
    "l1 = l0.copy()\n",
    "l1.insert(4,'hello world')\n",
    "print(l1)\n",
    "\n",
    "# why?\n",
    "msg = '''\n",
    "since the length of l0 is 6 (when we copy it)\n",
    "then -2 corresponds to the +ve index 6-2 = 4\n",
    "'''\n",
    "print(msg)"
   ]
  },
  {
   "cell_type": "markdown",
   "metadata": {},
   "source": [
    "#### Exercise 5\n",
    "\n",
    "* create a list called `months` with the names of the months of the year\n",
    "* create a list called `ndays` with the number of days in each month (for this year)\n",
    "* confirm that the two lists have the same length (12)\n",
    "* Use these two lists to make a dictionary called `days_in_month` with the key as month name and value as the number of days in that month.\n",
    "* print out the dictionary and confirm it is as expected\n",
    "* set a variable `m` to be the name of a month\n",
    "* using `m` and your dictionary, print out the number of days in month `m`"
   ]
  },
  {
   "cell_type": "code",
   "execution_count": 21,
   "metadata": {},
   "outputs": [
    {
     "name": "stdout",
     "output_type": "stream",
     "text": [
      "length of months: 12\n",
      "length of ndays:  12\n",
      "{'January': 31, 'February': 29, 'March': 31, 'April': 30, 'May': 31, 'June': 30, 'July': 31, 'August': 31, 'September': 30, 'October': 31, 'November': 30, 'December': 31}\n",
      "The number of days in January is 31\n"
     ]
    }
   ],
   "source": [
    "# ANSWER\n",
    "# create a list called `months` with the names of the months of the year\n",
    "months = [\"January\",\"February\",\"March\",\"April\",\"May\",\\\n",
    "         \"June\",\"July\",\"August\",\"September\",\"October\",\\\n",
    "         \"November\",\"December\"]\n",
    "# create a list called `ndays` with the number of days in each month (for this year)\n",
    "ndays = [31,29,31,30,31,30,31,31,30,31,30,31]\n",
    "\n",
    "# confirm that the two lists have the same length (12)\n",
    "print(f'length of months: {len(months)}')\n",
    "print(f'length of ndays:  {len(ndays)}')\n",
    "\n",
    "# Use these two lists to make a dictionary called `days_in_month` \n",
    "# with the key as month name and value as the number of days in that month.\n",
    "days_in_month = dict(zip(months,ndays))\n",
    "\n",
    "# print out the dictionary and confirm it is as expected\n",
    "print(days_in_month)\n",
    "\n",
    "# set a variable `m` to be the name of a month\n",
    "m = 'January'\n",
    "print(f'The number of days in {m} is {days_in_month[m]}')"
   ]
  }
 ],
 "metadata": {
  "kernelspec": {
   "display_name": "Python [conda env:geog0111-geog0111]",
   "language": "python",
   "name": "conda-env-geog0111-geog0111-py"
  },
  "language_info": {
   "codemirror_mode": {
    "name": "ipython",
    "version": 3
   },
   "file_extension": ".py",
   "mimetype": "text/x-python",
   "name": "python",
   "nbconvert_exporter": "python",
   "pygments_lexer": "ipython3",
   "version": "3.7.8"
  },
  "latex_envs": {
   "LaTeX_envs_menu_present": true,
   "autocomplete": true,
   "bibliofile": "biblio.bib",
   "cite_by": "apalike",
   "current_citInitial": 1,
   "eqLabelWithNumbers": true,
   "eqNumInitial": 1,
   "hotkeys": {
    "equation": "Ctrl-E",
    "itemize": "Ctrl-I"
   },
   "labels_anchors": false,
   "latex_user_defs": false,
   "report_style_numbering": false,
   "user_envs_cfg": false
  },
  "nbTranslate": {
   "displayLangs": [
    "*"
   ],
   "hotkey": "alt-t",
   "langInMainMenu": true,
   "sourceLang": "en",
   "targetLang": "fr",
   "useGoogleTranslate": true
  },
  "toc": {
   "base_numbering": 1,
   "nav_menu": {},
   "number_sections": false,
   "sideBar": false,
   "skip_h1_title": false,
   "title_cell": "Table of Contents",
   "title_sidebar": "Contents",
   "toc_cell": false,
   "toc_position": {
    "height": "calc(100% - 180px)",
    "left": "10px",
    "top": "150px",
    "width": "165px"
   },
   "toc_section_display": true,
   "toc_window_display": false
  },
  "varInspector": {
   "cols": {
    "lenName": 16,
    "lenType": 16,
    "lenVar": 40
   },
   "kernels_config": {
    "python": {
     "delete_cmd_postfix": "",
     "delete_cmd_prefix": "del ",
     "library": "var_list.py",
     "varRefreshCmd": "print(var_dic_list())"
    },
    "r": {
     "delete_cmd_postfix": ") ",
     "delete_cmd_prefix": "rm(",
     "library": "var_list.r",
     "varRefreshCmd": "cat(var_dic_list()) "
    }
   },
   "types_to_exclude": [
    "module",
    "function",
    "builtin_function_or_method",
    "instance",
    "_Feature"
   ],
   "window_display": false
  }
 },
 "nbformat": 4,
 "nbformat_minor": 4
}
