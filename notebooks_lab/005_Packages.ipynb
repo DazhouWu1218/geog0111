{
 "cells": [
  {
   "cell_type": "markdown",
   "metadata": {},
   "source": [
    "## 005 Packages"
   ]
  },
  {
   "cell_type": "markdown",
   "metadata": {},
   "source": [
    "### Introduction\n",
    "\n",
    "\n",
    "#### Purpose\n",
    "\n",
    "In this session, we will learn about importing packages into our code. We will also learn how to install `conda` and `pip` packages.\n",
    "\n",
    "\n",
    "#### Prerequisites\n",
    "\n",
    "You will need some understanding of the following:\n",
    "\n",
    "\n",
    "* [001 Using Notebooks](001_Notebook_use.ipynb)\n",
    "\n",
    "\n",
    "#### Timing\n",
    "\n",
    "The session should take around 10 minutes."
   ]
  },
  {
   "cell_type": "markdown",
   "metadata": {},
   "source": [
    "### `import`\n",
    "\n",
    "Python comes with a good deal of built-in functionality, and that is what we have mainly been using to date. Often though, we need to classes or functions from other packages. Provided these packages are installed in our distribution, we can use them.\n",
    "\n",
    "The system you should have setup for you includes the packages listed in [`environment.yml`](copy/environment.yml).\n",
    "\n",
    "When we want to use a non-standard Python package, we must first import it into our codebase. This is done with the `import` directive, e.g.:\n",
    "\n",
    "    import yaml\n",
    "    \n",
    "to import a library called `yaml`. We can then access some function `XX` functions in the package as `yaml.XX`. "
   ]
  },
  {
   "cell_type": "code",
   "execution_count": 1,
   "metadata": {},
   "outputs": [
    {
     "name": "stdout",
     "output_type": "stream",
     "text": [
      "Help on function safe_load in module yaml:\n",
      "\n",
      "safe_load(stream)\n",
      "    Parse the first YAML document in a stream\n",
      "    and produce the corresponding Python object.\n",
      "    \n",
      "    Resolve only basic YAML tags. This is known\n",
      "    to be safe for untrusted input.\n",
      "\n"
     ]
    }
   ],
   "source": [
    "import yaml\n",
    "\n",
    "help(yaml.safe_load)"
   ]
  },
  {
   "cell_type": "markdown",
   "metadata": {},
   "source": [
    "Recall from [Python Introduction](010_Python_Introduction.ipynb) that classes start with a capital letter. So, if we see a variable in `Python such as `path`, we recognise that as a class.\n",
    "\n",
    "Sometimes we wish to only import certain functions or sub-packages. This is done with the `from` directive. For example to import the class `Path` from the package `pathlib`\n"
   ]
  },
  {
   "cell_type": "code",
   "execution_count": 2,
   "metadata": {},
   "outputs": [],
   "source": [
    "from pathlib import Path"
   ]
  },
  {
   "cell_type": "markdown",
   "metadata": {},
   "source": [
    "The class `Path` is now available directly as `Path`, whereas if we had imported it as:\n",
    "\n",
    "    import pathlib\n",
    "    \n",
    "we would have needed to refer to it as `pathlib.Path`. This will over-ride any current definition of the class `Path` in the current code, so be careful not to over-ride things you don't mean to."
   ]
  },
  {
   "cell_type": "markdown",
   "metadata": {},
   "source": [
    "### `conda` and `pip`\n",
    "\n",
    "\n",
    "The Python code you are using is from the [Anaconda](https://docs.anaconda.com/) distribution, and has a package manager [`conda`](https://docs.conda.io/en/latest/). \n",
    "\n",
    "\n",
    "You can access `conda` commands in the notebook with the `%conda` directive. For example, to list the environments available to you, run:"
   ]
  },
  {
   "cell_type": "code",
   "execution_count": 3,
   "metadata": {},
   "outputs": [
    {
     "name": "stdout",
     "output_type": "stream",
     "text": [
      "# conda environments:\n",
      "#\n",
      "base                     /Users/plewis/anaconda3\n",
      "geog0111              *  /Users/plewis/anaconda3/envs/geog0111\n",
      "small                    /Users/plewis/anaconda3/envs/small\n",
      "\n",
      "\n",
      "Note: you may need to restart the kernel to use updated packages.\n"
     ]
    }
   ],
   "source": [
    "%conda env list"
   ]
  },
  {
   "cell_type": "markdown",
   "metadata": {},
   "source": [
    "The environment you are using will be given with a `*`, along with its location on the file system. It may be either user-owned, in which case it will be somewhere in your own file space, or system-wide. If it is user-owned"
   ]
  },
  {
   "cell_type": "markdown",
   "metadata": {},
   "source": [
    "If you want to see if a particular package and particular version exists in your distribution, e.g. `gdal`, you can check with:"
   ]
  },
  {
   "cell_type": "code",
   "execution_count": 4,
   "metadata": {},
   "outputs": [
    {
     "name": "stdout",
     "output_type": "stream",
     "text": [
      "Loading channels: done\n",
      "# Name                       Version           Build  Channel             \n",
      "gdal                           3.0.2  py27hbe65578_0  pkgs/main           \n",
      "gdal                           3.0.2  py36hbe65578_0  pkgs/main           \n",
      "gdal                           3.0.2  py37hbe65578_0  pkgs/main           \n",
      "\n",
      "Note: you may need to restart the kernel to use updated packages.\n"
     ]
    }
   ],
   "source": [
    "%conda search -f gdal=3.0.2"
   ]
  },
  {
   "cell_type": "markdown",
   "metadata": {},
   "source": [
    "If you don't want to specify the version, just leave off the `=3.0.2` part."
   ]
  },
  {
   "cell_type": "markdown",
   "metadata": {},
   "source": [
    "If a package you need doesn't exist, you can [search for it on the anaconda site](https://anaconda.org/search?q=gdal). \n",
    "If it exists as a conda package, you can install it with `conda install`:\n",
    "\n",
    "    %conda install gdal\n",
    "    \n",
    "We will not run this now, as it can take some time to complete, but be aware that this is how to install `conda` packages. In any case, if you are using a system-wide environment, you will not be able to modify the distribution.\n",
    "\n",
    "Some packages only exist as [`pip` distributions](https://pypi.org/). Before taking a `pip` package, you should make sure that no equivalent anaconda package exists. But in case you need to, you can use:\n",
    "\n",
    "    %pip install urlpath\n",
    "    \n",
    "to install a pip package. You should check that the package will be suitable for your operating system before installing. Use `--user` to do a user install."
   ]
  },
  {
   "cell_type": "code",
   "execution_count": 5,
   "metadata": {},
   "outputs": [
    {
     "name": "stdout",
     "output_type": "stream",
     "text": [
      "Requirement already satisfied: urlpath in /Users/plewis/anaconda3/envs/geog0111/lib/python3.7/site-packages (1.1.7)\n",
      "Requirement already satisfied: requests in /Users/plewis/anaconda3/envs/geog0111/lib/python3.7/site-packages (from urlpath) (2.24.0)\n",
      "Requirement already satisfied: chardet<4,>=3.0.2 in /Users/plewis/anaconda3/envs/geog0111/lib/python3.7/site-packages (from requests->urlpath) (3.0.4)\n",
      "Requirement already satisfied: idna<3,>=2.5 in /Users/plewis/anaconda3/envs/geog0111/lib/python3.7/site-packages (from requests->urlpath) (2.10)\n",
      "Requirement already satisfied: certifi>=2017.4.17 in /Users/plewis/anaconda3/envs/geog0111/lib/python3.7/site-packages (from requests->urlpath) (2020.6.20)\n",
      "Requirement already satisfied: urllib3!=1.25.0,!=1.25.1,<1.26,>=1.21.1 in /Users/plewis/anaconda3/envs/geog0111/lib/python3.7/site-packages (from requests->urlpath) (1.25.10)\n",
      "Note: you may need to restart the kernel to use updated packages.\n"
     ]
    }
   ],
   "source": [
    "%pip install urlpath --user"
   ]
  },
  {
   "cell_type": "markdown",
   "metadata": {},
   "source": [
    "### Summary\n",
    "\n",
    "In this section, we have learned how to import packages using `import` and `from`. We have seen how to check if a package exists in our conda distribution, and how we can install `conda` and `pip` packages if we need to."
   ]
  }
 ],
 "metadata": {
  "kernelspec": {
   "display_name": "Python 3",
   "language": "python",
   "name": "python3"
  },
  "language_info": {
   "codemirror_mode": {
    "name": "ipython",
    "version": 3
   },
   "file_extension": ".py",
   "mimetype": "text/x-python",
   "name": "python",
   "nbconvert_exporter": "python",
   "pygments_lexer": "ipython3",
   "version": "3.7.8"
  }
 },
 "nbformat": 4,
 "nbformat_minor": 4
}
