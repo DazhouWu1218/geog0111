{
 "cells": [
  {
   "cell_type": "markdown",
   "metadata": {},
   "source": [
    "# 021 Read and Write: Streams : Answers to exercises"
   ]
  },
  {
   "cell_type": "markdown",
   "metadata": {},
   "source": [
    "#### Exercise 1\n",
    "\n",
    "* write code to read from the json-format file `bin/copy/environment.json` into a dictionary called `json_data`.\n",
    "* print out the dictionary keys.\n",
    "* print the file size of the json-format file in KB to two decimal places."
   ]
  },
  {
   "cell_type": "code",
   "execution_count": 5,
   "metadata": {},
   "outputs": [
    {
     "name": "stdout",
     "output_type": "stream",
     "text": [
      "dict_keys(['name', 'channels', 'dependencies'])\n",
      "file bin/copy/environment.json size  0.78\n"
     ]
    }
   ],
   "source": [
    "# ANSWER\n",
    "# write code to read from the json-format file \n",
    "# bin/copy/environment.json \n",
    "# into a dictionary called json_data.\n",
    "json_file = Path('bin/copy/environment.json')\n",
    "\n",
    "# use with ... as ... as we have been shown\n",
    "with json_file.open('r') as f:\n",
    "    json_data = json.load(f)\n",
    "    \n",
    "# print out the dictionary keys.\n",
    "print(json_data.keys())\n",
    "\n",
    "# print the file size of the \n",
    "# json-format file in KB to two decimal places.\n",
    "print(f'file {json_file} size {json_file.stat().st_size / 1024 : .2f}')"
   ]
  },
  {
   "cell_type": "markdown",
   "metadata": {},
   "source": [
    "#### Exercise 2\n",
    "\n",
    "The file [2276931.csv](https://raw.githubusercontent.com/UCL-EO/geog0111/master/data/2276931.csv) contains precipitation data for an [NOAA weather station](https://www.ncdc.noaa.gov/cdo-web/datasets#GSOY) `HAVANA 4.2 SW, FL US` for the year 2020 to date.\n",
    "\n",
    "The dataset URL is:\n",
    "\n",
    "https://raw.githubusercontent.com/UCL-EO/geog0111/master/data/2276931.csv\n",
    "\n",
    "* Inspect the file to discover any issues you must account for.\n",
    "* Read the file into `pandas` using `url.open('r')`.\n",
    "* print the first 5 lines of data"
   ]
  },
  {
   "cell_type": "code",
   "execution_count": 8,
   "metadata": {},
   "outputs": [
    {
     "name": "stdout",
     "output_type": "stream",
     "text": [
      "\n",
      "Inspect the file to discover any issues you must account for.\n",
      "\n",
      "The file is straightforward CVS format, with the first column\n",
      "the data column titles\n",
      "\n"
     ]
    },
    {
     "data": {
      "text/html": [
       "<div>\n",
       "<style scoped>\n",
       "    .dataframe tbody tr th:only-of-type {\n",
       "        vertical-align: middle;\n",
       "    }\n",
       "\n",
       "    .dataframe tbody tr th {\n",
       "        vertical-align: top;\n",
       "    }\n",
       "\n",
       "    .dataframe thead th {\n",
       "        text-align: right;\n",
       "    }\n",
       "</style>\n",
       "<table border=\"1\" class=\"dataframe\">\n",
       "  <thead>\n",
       "    <tr style=\"text-align: right;\">\n",
       "      <th></th>\n",
       "      <th>STATION</th>\n",
       "      <th>NAME</th>\n",
       "      <th>DATE</th>\n",
       "      <th>PRCP</th>\n",
       "      <th>SNOW</th>\n",
       "    </tr>\n",
       "  </thead>\n",
       "  <tbody>\n",
       "    <tr>\n",
       "      <th>0</th>\n",
       "      <td>US1FLGD0002</td>\n",
       "      <td>HAVANA 4.2 SW, FL US</td>\n",
       "      <td>2020-01-01</td>\n",
       "      <td>0.00</td>\n",
       "      <td>0.0</td>\n",
       "    </tr>\n",
       "    <tr>\n",
       "      <th>1</th>\n",
       "      <td>US1FLGD0002</td>\n",
       "      <td>HAVANA 4.2 SW, FL US</td>\n",
       "      <td>2020-01-02</td>\n",
       "      <td>0.00</td>\n",
       "      <td>0.0</td>\n",
       "    </tr>\n",
       "    <tr>\n",
       "      <th>2</th>\n",
       "      <td>US1FLGD0002</td>\n",
       "      <td>HAVANA 4.2 SW, FL US</td>\n",
       "      <td>2020-01-03</td>\n",
       "      <td>0.00</td>\n",
       "      <td>0.0</td>\n",
       "    </tr>\n",
       "    <tr>\n",
       "      <th>3</th>\n",
       "      <td>US1FLGD0002</td>\n",
       "      <td>HAVANA 4.2 SW, FL US</td>\n",
       "      <td>2020-01-04</td>\n",
       "      <td>0.98</td>\n",
       "      <td>NaN</td>\n",
       "    </tr>\n",
       "    <tr>\n",
       "      <th>4</th>\n",
       "      <td>US1FLGD0002</td>\n",
       "      <td>HAVANA 4.2 SW, FL US</td>\n",
       "      <td>2020-01-05</td>\n",
       "      <td>0.00</td>\n",
       "      <td>0.0</td>\n",
       "    </tr>\n",
       "  </tbody>\n",
       "</table>\n",
       "</div>"
      ],
      "text/plain": [
       "       STATION                  NAME        DATE  PRCP  SNOW\n",
       "0  US1FLGD0002  HAVANA 4.2 SW, FL US  2020-01-01  0.00   0.0\n",
       "1  US1FLGD0002  HAVANA 4.2 SW, FL US  2020-01-02  0.00   0.0\n",
       "2  US1FLGD0002  HAVANA 4.2 SW, FL US  2020-01-03  0.00   0.0\n",
       "3  US1FLGD0002  HAVANA 4.2 SW, FL US  2020-01-04  0.98   NaN\n",
       "4  US1FLGD0002  HAVANA 4.2 SW, FL US  2020-01-05  0.00   0.0"
      ]
     },
     "execution_count": 8,
     "metadata": {},
     "output_type": "execute_result"
    }
   ],
   "source": [
    "# ANSWER\n",
    "msg = '''\n",
    "Inspect the file to discover any issues you must account for.\n",
    "\n",
    "The file is straightforward CVS format, with the first column\n",
    "the data column titles\n",
    "'''\n",
    "print(msg)\n",
    "\n",
    "import pandas as pd\n",
    "from geog0111.gurlpath import URL\n",
    "\n",
    "site = 'https://raw.githubusercontent.com'\n",
    "site_dir = '/UCL-EO/geog0111/master/data'\n",
    "site_file = '2276931.csv'\n",
    "\n",
    "# form the URL\n",
    "url = URL(site,site_dir,site_file)\n",
    "\n",
    "# Read the file into pandas using url.open('r').\n",
    "df=pd.read_csv(url.open('r'))\n",
    "\n",
    "# print the first 5 lines of data\n",
    "df.head(5)"
   ]
  },
  {
   "cell_type": "code",
   "execution_count": 9,
   "metadata": {},
   "outputs": [
    {
     "name": "stdout",
     "output_type": "stream",
     "text": [
      "/Users/plewis/Documents/GitHub/geog0111/notebooks/images/ucl.png\n",
      "the file ucl.png is in /Users/plewis/Documents/GitHub/geog0111/notebooks/images\n",
      "ucl.png has size 1956 bytes\n",
      "ucl.png has size 1.91 KB\n",
      "the size of data read is 1956 bytes ->  1.91 KB\n"
     ]
    }
   ],
   "source": [
    "# ANSWER \n",
    "\n",
    "# print out the absolute pathname of the \n",
    "# directory that images/ucl.png is in\n",
    "abs_name = Path('images/ucl.png').absolute()\n",
    "print(abs_name)\n",
    "\n",
    "# we want the parent!\n",
    "print(f'the file {abs_name.name} is in {abs_name.parent}')\n",
    "\n",
    "# print the size of the file in bytes without reading the datafile. \n",
    "print(f'{abs_name.name} has size {abs_name.stat().st_size} bytes')\n",
    "\n",
    "# 1 KB is 1024 Bytes\n",
    "# .2f is 2 d.p. format\n",
    "print(f'{abs_name.name} has size ' +\\\n",
    "      f'{abs_name.stat().st_size/1024:.2f} KB')\n",
    "\n",
    "# read the datafile, and check you get the same data size\n",
    "dataset = abs_name.read_bytes()\n",
    "# size\n",
    "s = len(dataset)\n",
    "print(f'the size of data read is {s} bytes -> {s/1024 : .2f} KB')"
   ]
  }
 ],
 "metadata": {
  "kernelspec": {
   "display_name": "Python 3",
   "language": "python",
   "name": "python3"
  },
  "language_info": {
   "codemirror_mode": {
    "name": "ipython",
    "version": 3
   },
   "file_extension": ".py",
   "mimetype": "text/x-python",
   "name": "python",
   "nbconvert_exporter": "python",
   "pygments_lexer": "ipython3",
   "version": "3.7.8"
  },
  "latex_envs": {
   "LaTeX_envs_menu_present": true,
   "autocomplete": true,
   "bibliofile": "biblio.bib",
   "cite_by": "apalike",
   "current_citInitial": 1,
   "eqLabelWithNumbers": true,
   "eqNumInitial": 1,
   "hotkeys": {
    "equation": "Ctrl-E",
    "itemize": "Ctrl-I"
   },
   "labels_anchors": false,
   "latex_user_defs": false,
   "report_style_numbering": false,
   "user_envs_cfg": false
  },
  "toc": {
   "base_numbering": 1,
   "nav_menu": {},
   "number_sections": false,
   "sideBar": false,
   "skip_h1_title": false,
   "title_cell": "Table of Contents",
   "title_sidebar": "Contents",
   "toc_cell": false,
   "toc_position": {
    "height": "calc(100% - 180px)",
    "left": "10px",
    "top": "150px",
    "width": "207px"
   },
   "toc_section_display": false,
   "toc_window_display": false
  },
  "varInspector": {
   "cols": {
    "lenName": 16,
    "lenType": 16,
    "lenVar": 40
   },
   "kernels_config": {
    "python": {
     "delete_cmd_postfix": "",
     "delete_cmd_prefix": "del ",
     "library": "var_list.py",
     "varRefreshCmd": "print(var_dic_list())"
    },
    "r": {
     "delete_cmd_postfix": ") ",
     "delete_cmd_prefix": "rm(",
     "library": "var_list.r",
     "varRefreshCmd": "cat(var_dic_list()) "
    }
   },
   "types_to_exclude": [
    "module",
    "function",
    "builtin_function_or_method",
    "instance",
    "_Feature"
   ],
   "window_display": false
  }
 },
 "nbformat": 4,
 "nbformat_minor": 1
}
