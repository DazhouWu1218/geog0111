{
 "cells": [
  {
   "cell_type": "markdown",
   "metadata": {},
   "source": [
    "# 002 Some basic UNIX : Answers to exercises"
   ]
  },
  {
   "cell_type": "markdown",
   "metadata": {},
   "source": [
    "### Exercise\n",
    "\n",
    "* Create a file `work/newfile.dat` using touch and check the new file size.\n",
    "* Create a file `work/newfile.dat` using cat and check the new file size.\n",
    "* Use the menu item `File -> Open` to edit the file you have created and print the new file size\n",
    "* Use `cat` to show the new file content\n",
    "* delete the file"
   ]
  },
  {
   "cell_type": "code",
   "execution_count": 89,
   "metadata": {},
   "outputs": [
    {
     "name": "stdout",
     "output_type": "stream",
     "text": [
      "-rw-r--r--  1 plewis  staff  73  7 Sep 15:08 work/newfile.dat\n"
     ]
    }
   ],
   "source": [
    "%%bash\n",
    "# ANSWER\n",
    "# Create a file `work/newfile.dat` using touch and check the new file size.\n",
    "touch work/newfile.dat\n",
    "ls -l work/newfile.dat"
   ]
  },
  {
   "cell_type": "code",
   "execution_count": 90,
   "metadata": {},
   "outputs": [
    {
     "name": "stdout",
     "output_type": "stream",
     "text": [
      "-rw-r--r--  1 plewis  staff  73  7 Sep 15:08 work/newfile.dat\n"
     ]
    }
   ],
   "source": [
    "%%bash\n",
    "# ANSWER\n",
    "# Create a file `work/newfile.dat` using cat and check the new file size.\n",
    "cat << EOF > work/newfile.dat\n",
    "\n",
    "# this will go into the file\n",
    "hello world - this is some text in a file\n",
    "\n",
    "EOF\n",
    "ls -l work/newfile.dat"
   ]
  },
  {
   "cell_type": "code",
   "execution_count": 91,
   "metadata": {},
   "outputs": [
    {
     "name": "stdout",
     "output_type": "stream",
     "text": [
      "-rw-r--r--  1 plewis  staff  73  7 Sep 15:08 work/newfile.dat\n",
      "\n",
      "# this will go into the file\n",
      "hello world - this is some text in a file\n",
      "\n"
     ]
    }
   ],
   "source": [
    "%%bash\n",
    "# ANSWER\n",
    "# Use the menu item File -> Open to edit the \n",
    "# file you have created and print the new file size\n",
    "# --> do interactively <--\n",
    "ls -l work/newfile.dat\n",
    "\n",
    "# Use cat to show the new file content\n",
    "cat work/newfile.dat"
   ]
  },
  {
   "cell_type": "code",
   "execution_count": 93,
   "metadata": {},
   "outputs": [],
   "source": [
    "%%bash\n",
    "# ANSWER\n",
    "# delete the file\n",
    "rm work/newfile.dat"
   ]
  },
  {
   "cell_type": "markdown",
   "metadata": {},
   "source": [
    "## Unix\n",
    "\n",
    "### Exercise\n",
    "\n",
    "Using the `unix` commands and ideas from above:\n",
    "\n",
    "* show a listing of the files in the relative directory `geog0111` that start with the letter `f`\n",
    "* interpret the file permissions and sizes of the files in there"
   ]
  },
  {
   "cell_type": "code",
   "execution_count": 107,
   "metadata": {},
   "outputs": [
    {
     "name": "stdout",
     "output_type": "stream",
     "text": [
      "-rw-r--r--  1 plewis  staff   2.2K  6 Sep 22:34 geog0111/fire_practical_model.py\n",
      "-rw-r--r--  1 plewis  staff   4.3K  6 Sep 22:34 geog0111/fire_practical_satellite.py\n",
      "-rw-r--r--  1 plewis  staff   1.9K  6 Sep 22:34 geog0111/fire_practical_telecon.py\n"
     ]
    }
   ],
   "source": [
    "%%bash\n",
    "# ANSWER\n",
    "# show a listing of the files in the relative \n",
    "# directory geog0111 that start with the letter f\n",
    "# so\n",
    "#     geog0111/f*\n",
    "ls -lh geog0111/f*\n",
    "\n",
    "# interpret the file permissions and sizes of the files in there\n",
    "# the file sizes are 2.2KB, 4.3KB and 1.9KB respectively\n",
    "# the file permissions are all 644, so, read and write for the user, \n",
    "# and only read for others"
   ]
  }
 ],
 "metadata": {
  "kernelspec": {
   "display_name": "Python 3",
   "language": "python",
   "name": "python3"
  },
  "language_info": {
   "codemirror_mode": {
    "name": "ipython",
    "version": 3
   },
   "file_extension": ".py",
   "mimetype": "text/x-python",
   "name": "python",
   "nbconvert_exporter": "python",
   "pygments_lexer": "ipython3",
   "version": "3.7.8"
  },
  "latex_envs": {
   "LaTeX_envs_menu_present": true,
   "autocomplete": true,
   "bibliofile": "biblio.bib",
   "cite_by": "apalike",
   "current_citInitial": 1,
   "eqLabelWithNumbers": true,
   "eqNumInitial": 1,
   "hotkeys": {
    "equation": "Ctrl-E",
    "itemize": "Ctrl-I"
   },
   "labels_anchors": false,
   "latex_user_defs": false,
   "report_style_numbering": false,
   "user_envs_cfg": false
  },
  "toc": {
   "base_numbering": 1,
   "nav_menu": {},
   "number_sections": false,
   "sideBar": false,
   "skip_h1_title": false,
   "title_cell": "Table of Contents",
   "title_sidebar": "Contents",
   "toc_cell": false,
   "toc_position": {
    "height": "calc(100% - 180px)",
    "left": "10px",
    "top": "150px",
    "width": "207px"
   },
   "toc_section_display": false,
   "toc_window_display": false
  },
  "varInspector": {
   "cols": {
    "lenName": 16,
    "lenType": 16,
    "lenVar": 40
   },
   "kernels_config": {
    "python": {
     "delete_cmd_postfix": "",
     "delete_cmd_prefix": "del ",
     "library": "var_list.py",
     "varRefreshCmd": "print(var_dic_list())"
    },
    "r": {
     "delete_cmd_postfix": ") ",
     "delete_cmd_prefix": "rm(",
     "library": "var_list.r",
     "varRefreshCmd": "cat(var_dic_list()) "
    }
   },
   "types_to_exclude": [
    "module",
    "function",
    "builtin_function_or_method",
    "instance",
    "_Feature"
   ],
   "window_display": false
  }
 },
 "nbformat": 4,
 "nbformat_minor": 1
}
