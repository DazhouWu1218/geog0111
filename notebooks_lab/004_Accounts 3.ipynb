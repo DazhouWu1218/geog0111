{
 "cells": [
  {
   "cell_type": "markdown",
   "metadata": {},
   "source": [
    "# Accounts and logins"
   ]
  },
  {
   "cell_type": "markdown",
   "metadata": {},
   "source": [
    "## login and password\n",
    "\n",
    "Some web resources require you to use a login and password. In any publicly available files (like these notebooks) we do not want to expose sensitive information such information.\n",
    "\n",
    "To that in these notes we can make use of stored passwords and usernames using the local [cylog](geog0111/cylog.py) package. \n",
    "\n",
    "Information is encrypted in a user read-only file in your home directory (mode `400`) and accessed through the `Cylog`  `login` function."
   ]
  },
  {
   "cell_type": "code",
   "execution_count": 2,
   "metadata": {},
   "outputs": [
    {
     "name": "stdout",
     "output_type": "stream",
     "text": [
      "Help on function login in module geog0111.cylog:\n",
      "\n",
      "login(self, site=False, force=False)\n",
      "    Reads encrypted information from ~/{dest_path}/.cylog.npz\n",
      "    \n",
      "    Keyword arguments\n",
      "    ----------\n",
      "    site = False (so self.site is default)\n",
      "           string of anchor URL for site to associate with username and\n",
      "           password\n",
      "    force = False\n",
      "           force password re-entry for site\n",
      "    \n",
      "    Returns\n",
      "    --------\n",
      "    A tuple containing plain text (username,password) for (site or self.site)\n",
      "\n"
     ]
    }
   ],
   "source": [
    "from geog0111.cylog import Cylog\n",
    "help(Cylog.login)"
   ]
  },
  {
   "cell_type": "markdown",
   "metadata": {},
   "source": [
    "https://e4ftl01.cr.usgs.gov\n",
    "   "
   ]
  },
  {
   "cell_type": "markdown",
   "metadata": {},
   "source": [
    "https://urs.earthdata.nasa.gov/users/new"
   ]
  },
  {
   "cell_type": "code",
   "execution_count": 6,
   "metadata": {},
   "outputs": [],
   "source": [
    "from geog0111.gurlpath import URL\n",
    "# ping small (1.3 M) test file\n",
    "site='https://e4ftl01.cr.usgs.gov/'\n",
    "test_dir='MOLA/MYD11_L2.006/2002.07.04'\n",
    "test_file='MYD11_L2*0325*.hdf'\n",
    "# this glob interprets the wildcards to get at a suitable test file\n",
    "url = URL(site,test_dir).glob(test_file,verbose=False)[0]\n",
    "# test ping returns True\n",
    "assert url.ping(verbose=False) == True"
   ]
  },
  {
   "cell_type": "code",
   "execution_count": null,
   "metadata": {},
   "outputs": [],
   "source": []
  },
  {
   "cell_type": "code",
   "execution_count": null,
   "metadata": {},
   "outputs": [],
   "source": []
  }
 ],
 "metadata": {
  "kernelspec": {
   "display_name": "Python 3",
   "language": "python",
   "name": "python3"
  },
  "language_info": {
   "codemirror_mode": {
    "name": "ipython",
    "version": 3
   },
   "file_extension": ".py",
   "mimetype": "text/x-python",
   "name": "python",
   "nbconvert_exporter": "python",
   "pygments_lexer": "ipython3",
   "version": "3.7.8"
  }
 },
 "nbformat": 4,
 "nbformat_minor": 4
}
