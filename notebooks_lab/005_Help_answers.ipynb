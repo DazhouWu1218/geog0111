{
 "cells": [
  {
   "cell_type": "markdown",
   "metadata": {},
   "source": [
    "# 005 Help : Answers to exercises"
   ]
  },
  {
   "cell_type": "markdown",
   "metadata": {},
   "source": [
    "#### Exercise\n",
    "\n",
    "* Read through the help information for list, above.\n",
    "* In a new cell, create lists called `alist` and `blist`:\n",
    "\n",
    "        alist = ['one','three','two']\n",
    "        blist = ['four','six','zero']\n",
    "    \n",
    "* print the lists with:\n",
    "\n",
    "        print(alist,blist)\n",
    "    \n",
    "Using the help information, work out how to:\n",
    "\n",
    "* extend `alist` with `blist` to create `['one','three','two','four','six','zero']`. N.B. This is not quite the same as our use of `append()` above.\n",
    "* sort the new `alist` into **alpabetical order** and print the results\n"
   ]
  },
  {
   "cell_type": "code",
   "execution_count": 4,
   "metadata": {
    "ExecuteTime": {
     "end_time": "2020-07-22T08:38:21.816823Z",
     "start_time": "2020-07-22T08:38:21.812055Z"
    },
    "scrolled": true
   },
   "outputs": [
    {
     "name": "stdout",
     "output_type": "stream",
     "text": [
      "['one', 'three', 'two'] ['four', 'six', 'zero']\n",
      "extended ['one', 'three', 'two', 'four', 'six', 'zero']\n",
      "sorted ['four', 'one', 'six', 'three', 'two', 'zero']\n"
     ]
    }
   ],
   "source": [
    "# ANSWERS\n",
    "alist = ['one', 'three', 'two']\n",
    "blist = ['four', 'six', 'zero']\n",
    "print(alist, blist)\n",
    "\n",
    "# join: \n",
    "# extend(self, iterable, /)\n",
    "#      Extend list by appending elements from the iterable.\n",
    "alist.extend(blist)\n",
    "print(\"extended\", alist)\n",
    "\n",
    "# sort\n",
    "# sort(self, /, *, key=None, reverse=False)\n",
    "#       Stable sort *IN PLACE*.\n",
    "alist.sort()\n",
    "print(\"sorted\", alist)"
   ]
  },
  {
   "cell_type": "markdown",
   "metadata": {},
   "source": [
    "#### Exercise\n",
    "\n",
    "* Create a code cell below\n",
    "* Create a variable called `alist` containing a list of numbers (not in order)\n",
    "* Print `alist`\n",
    "* Create a variable called `blist` containing another list of numbers (not in order)\n",
    "* Print `blist`\n",
    "* Join the list `blist` to `alist` using the in-place method `.extend()`\n",
    "* Print `alist`\n",
    "* reverse `alist` \n",
    "* print alist\n",
    "* What advantages and disadvantages do you think in-place methods have?"
   ]
  },
  {
   "cell_type": "code",
   "execution_count": 7,
   "metadata": {},
   "outputs": [
    {
     "name": "stdout",
     "output_type": "stream",
     "text": [
      "[4, 5, -3, 7]\n",
      "[1, 2, 0, -1]\n",
      "[4, 5, -3, 7, 1, 2, 0, -1]\n",
      "[-1, 0, 2, 1, 7, -3, 5, 4]\n",
      "\n",
      "What advantages and disadvantages do you think in-place methods have?\n",
      "\n",
      " Using the in-place methods like sort and reverse are memory efficient:\n",
      " we do not need to create new variables with the result of the sorting\n",
      " or reverseing etc. \n",
      " The downside is that you need to be careful when using them:\n",
      " Don't make the mistake of using the returned value as this\n",
      " will be 0 if the operation was successful.\n",
      " As an example, we might think that\n",
      "\n",
      "    alist.sort().reverse()\n",
      " \n",
      " would work, but it wont, because alist.sort() returns 0\n",
      " then the second operation we attempt is 0.reverse() which\n",
      " is meaningless and will fail. Rather, we ust do:\n",
      "    \n",
      "    alist.sort()\n",
      "    alist.reverse()\n",
      "\n",
      " as separate operations\n",
      " \n"
     ]
    }
   ],
   "source": [
    "# ANSWERS\n",
    "# Create a variable called `alist` containing a list of numbers (not in order)\n",
    "alist = [4,5,-3,7]\n",
    "# Print `alist`\n",
    "print(alist)\n",
    "\n",
    "# Create a variable called `blist` containing another list of numbers (not in order)\n",
    "blist = [1,2,0,-1]\n",
    "# Print `blist`\n",
    "print(blist)\n",
    "\n",
    "# Join the list `blist` to `alist` using the in-place method `.extend()`\n",
    "alist.extend(blist)\n",
    "# Print `alist`\n",
    "print(alist)\n",
    "\n",
    "# reverse `alist` \n",
    "alist.reverse()\n",
    "# print alist\n",
    "print(alist)\n",
    "\n",
    "info='''\n",
    "What advantages and disadvantages do you think in-place methods have?\n",
    "\n",
    " Using the in-place methods like sort and reverse are memory efficient:\n",
    " we do not need to create new variables with the result of the sorting\n",
    " or reverseing etc. \n",
    " The downside is that you need to be careful when using them:\n",
    " Don't make the mistake of using the returned value as this\n",
    " will be 0 if the operation was successful.\n",
    " As an example, we might think that\n",
    "\n",
    "    alist.sort().reverse()\n",
    " \n",
    " would work, but it wont, because alist.sort() returns 0\n",
    " then the second operation we attempt is 0.reverse() which\n",
    " is meaningless and will fail. Rather, we ust do:\n",
    "    \n",
    "    alist.sort()\n",
    "    alist.reverse()\n",
    "\n",
    " as separate operations\n",
    " '''\n",
    "print(info)"
   ]
  },
  {
   "cell_type": "markdown",
   "metadata": {},
   "source": [
    "#### Exercise\n",
    "\n",
    "* Create a code cell below and assign the variable `my_var` the value of `10` (hint: `my_var = 10`)\n",
    "* Run `dir()` again and confirm that `my_var` now appears in the list\n"
   ]
  },
  {
   "cell_type": "code",
   "execution_count": 14,
   "metadata": {
    "scrolled": true
   },
   "outputs": [
    {
     "name": "stdout",
     "output_type": "stream",
     "text": [
      "['In', 'Out', '_', '__', '___', '__builtin__', '__builtins__', '__doc__', '__loader__', '__name__', '__package__', '__spec__', '_dh', '_i', '_i1', '_i10', '_i11', '_i12', '_i13', '_i14', '_i2', '_i3', '_i4', '_i5', '_i6', '_i7', '_i8', '_i9', '_ih', '_ii', '_iii', '_oh', 'alist', 'blist', 'clist', 'exit', 'get_ipython', 'info', 'my_var', 'quit']\n",
      "\n",
      "I can see my_var in the list printed out\n",
      "\n"
     ]
    }
   ],
   "source": [
    "# ANSWER\n",
    "# Create a code cell below and assign the variable my_var the value of 10 (hint: my_var = 10)\n",
    "my_var = 10\n",
    "\n",
    "# Run dir() again \n",
    "print(dir())\n",
    "\n",
    "# confirm that my_var now appears in the list\n",
    "msg = '''\n",
    "I can see my_var in the list printed out\n",
    "'''\n",
    "print(msg)"
   ]
  },
  {
   "cell_type": "markdown",
   "metadata": {},
   "source": [
    "#### Exercise\n",
    "\n",
    "* Print the value of `my_var` using `print(my_var)`\n",
    "* Print the value of `my_var` using `print(locals()['my_var'])`\n",
    "* confirm that they give the same answer"
   ]
  },
  {
   "cell_type": "code",
   "execution_count": 15,
   "metadata": {},
   "outputs": [
    {
     "name": "stdout",
     "output_type": "stream",
     "text": [
      "10\n",
      "10\n",
      "\n",
      "I can see they are the same\n",
      "\n"
     ]
    }
   ],
   "source": [
    "# ANSWER\n",
    "# Print the value of my_var using print(my_var)\n",
    "print(my_var)\n",
    "\n",
    "# Print the value of my_var using print(locals()['my_var'])\n",
    "print(locals()['my_var'])\n",
    "\n",
    "# confirm that they give the same answer\n",
    "msg = '''\n",
    "I can see they are the same\n",
    "'''\n",
    "print(msg)"
   ]
  },
  {
   "cell_type": "markdown",
   "metadata": {},
   "source": [
    "### Learning new things\n",
    "\n",
    "Let's use that knowledge to learn something new:\n",
    "\n",
    "* Use online material from [https://www.w3schools.com](https://www.w3schools.com/python) or elsewhere to learn the basics of `for` loops.\n",
    "\n",
    "#### Exercise\n",
    "\n",
    "* Find help for the class `range` to understand how to use this to generate a sequence of integers from 10 to 1 in steps of -1\n",
    "* Use what you have learned to write a `for` loop below that counts backwards from 10 to 0"
   ]
  },
  {
   "cell_type": "code",
   "execution_count": 20,
   "metadata": {
    "scrolled": false
   },
   "outputs": [
    {
     "name": "stdout",
     "output_type": "stream",
     "text": [
      "10\n",
      "9\n",
      "8\n",
      "7\n",
      "6\n",
      "5\n",
      "4\n",
      "3\n",
      "2\n",
      "1\n"
     ]
    }
   ],
   "source": [
    "# ANSWER\n",
    "# Use what you have learned to write a \n",
    "# `for` loop below that counts backwards from 10 to 0\n",
    "\n",
    "for i in range(10,0,-1):\n",
    "    print(i)"
   ]
  }
 ],
 "metadata": {
  "gist": {
   "data": {
    "description": "Chapter0_help.ipynb",
    "public": true
   },
   "id": ""
  },
  "hide_input": false,
  "kernelspec": {
   "display_name": "Python 3",
   "language": "python",
   "name": "python3"
  },
  "language_info": {
   "codemirror_mode": {
    "name": "ipython",
    "version": 3
   },
   "file_extension": ".py",
   "mimetype": "text/x-python",
   "name": "python",
   "nbconvert_exporter": "python",
   "pygments_lexer": "ipython3",
   "version": "3.7.8"
  },
  "latex_envs": {
   "LaTeX_envs_menu_present": true,
   "autocomplete": true,
   "bibliofile": "biblio.bib",
   "cite_by": "apalike",
   "current_citInitial": 1,
   "eqLabelWithNumbers": true,
   "eqNumInitial": 1,
   "hotkeys": {
    "equation": "Ctrl-E",
    "itemize": "Ctrl-I"
   },
   "labels_anchors": false,
   "latex_user_defs": false,
   "report_style_numbering": false,
   "user_envs_cfg": false
  },
  "toc": {
   "base_numbering": "1.1",
   "nav_menu": {},
   "number_sections": false,
   "sideBar": true,
   "skip_h1_title": false,
   "title_cell": "Table of Contents",
   "title_sidebar": "Contents",
   "toc_cell": false,
   "toc_position": {
    "height": "calc(100% - 180px)",
    "left": "10px",
    "top": "150px",
    "width": "207px"
   },
   "toc_section_display": true,
   "toc_window_display": false
  },
  "varInspector": {
   "cols": {
    "lenName": 16,
    "lenType": 16,
    "lenVar": 40
   },
   "kernels_config": {
    "python": {
     "delete_cmd_postfix": "",
     "delete_cmd_prefix": "del ",
     "library": "var_list.py",
     "varRefreshCmd": "print(var_dic_list())"
    },
    "r": {
     "delete_cmd_postfix": ") ",
     "delete_cmd_prefix": "rm(",
     "library": "var_list.r",
     "varRefreshCmd": "cat(var_dic_list()) "
    }
   },
   "types_to_exclude": [
    "module",
    "function",
    "builtin_function_or_method",
    "instance",
    "_Feature"
   ],
   "window_display": false
  }
 },
 "nbformat": 4,
 "nbformat_minor": 1
}
